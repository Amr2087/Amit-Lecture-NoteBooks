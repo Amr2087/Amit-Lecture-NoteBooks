{
 "cells": [
  {
   "cell_type": "code",
   "execution_count": 1,
   "metadata": {
    "collapsed": true
   },
   "outputs": [],
   "source": [
    "import pandas as pd\n",
    "import numpy as np\n",
    "import metrics"
   ]
  },
  {
   "cell_type": "code",
   "execution_count": 2,
   "outputs": [],
   "source": [
    "dataset = pd.read_csv('data/house_kaggle.csv')"
   ],
   "metadata": {
    "collapsed": false
   }
  },
  {
   "cell_type": "code",
   "execution_count": 3,
   "outputs": [
    {
     "data": {
      "text/plain": "        Id  MSSubClass MSZoning  LotFrontage  LotArea Street Alley LotShape  \\\n0        1          60       RL         65.0     8450   Pave   NaN      Reg   \n1        2          20       RL         80.0     9600   Pave   NaN      Reg   \n2        3          60       RL         68.0    11250   Pave   NaN      IR1   \n3        4          70       RL         60.0     9550   Pave   NaN      IR1   \n4        5          60       RL         84.0    14260   Pave   NaN      IR1   \n...    ...         ...      ...          ...      ...    ...   ...      ...   \n1455  1456          60       RL         62.0     7917   Pave   NaN      Reg   \n1456  1457          20       RL         85.0    13175   Pave   NaN      Reg   \n1457  1458          70       RL         66.0     9042   Pave   NaN      Reg   \n1458  1459          20       RL         68.0     9717   Pave   NaN      Reg   \n1459  1460          20       RL         75.0     9937   Pave   NaN      Reg   \n\n     LandContour Utilities  ... PoolArea PoolQC  Fence MiscFeature MiscVal  \\\n0            Lvl    AllPub  ...        0    NaN    NaN         NaN       0   \n1            Lvl    AllPub  ...        0    NaN    NaN         NaN       0   \n2            Lvl    AllPub  ...        0    NaN    NaN         NaN       0   \n3            Lvl    AllPub  ...        0    NaN    NaN         NaN       0   \n4            Lvl    AllPub  ...        0    NaN    NaN         NaN       0   \n...          ...       ...  ...      ...    ...    ...         ...     ...   \n1455         Lvl    AllPub  ...        0    NaN    NaN         NaN       0   \n1456         Lvl    AllPub  ...        0    NaN  MnPrv         NaN       0   \n1457         Lvl    AllPub  ...        0    NaN  GdPrv        Shed    2500   \n1458         Lvl    AllPub  ...        0    NaN    NaN         NaN       0   \n1459         Lvl    AllPub  ...        0    NaN    NaN         NaN       0   \n\n     MoSold YrSold  SaleType  SaleCondition  SalePrice  \n0         2   2008        WD         Normal     208500  \n1         5   2007        WD         Normal     181500  \n2         9   2008        WD         Normal     223500  \n3         2   2006        WD        Abnorml     140000  \n4        12   2008        WD         Normal     250000  \n...     ...    ...       ...            ...        ...  \n1455      8   2007        WD         Normal     175000  \n1456      2   2010        WD         Normal     210000  \n1457      5   2010        WD         Normal     266500  \n1458      4   2010        WD         Normal     142125  \n1459      6   2008        WD         Normal     147500  \n\n[1460 rows x 81 columns]",
      "text/html": "<div>\n<style scoped>\n    .dataframe tbody tr th:only-of-type {\n        vertical-align: middle;\n    }\n\n    .dataframe tbody tr th {\n        vertical-align: top;\n    }\n\n    .dataframe thead th {\n        text-align: right;\n    }\n</style>\n<table border=\"1\" class=\"dataframe\">\n  <thead>\n    <tr style=\"text-align: right;\">\n      <th></th>\n      <th>Id</th>\n      <th>MSSubClass</th>\n      <th>MSZoning</th>\n      <th>LotFrontage</th>\n      <th>LotArea</th>\n      <th>Street</th>\n      <th>Alley</th>\n      <th>LotShape</th>\n      <th>LandContour</th>\n      <th>Utilities</th>\n      <th>...</th>\n      <th>PoolArea</th>\n      <th>PoolQC</th>\n      <th>Fence</th>\n      <th>MiscFeature</th>\n      <th>MiscVal</th>\n      <th>MoSold</th>\n      <th>YrSold</th>\n      <th>SaleType</th>\n      <th>SaleCondition</th>\n      <th>SalePrice</th>\n    </tr>\n  </thead>\n  <tbody>\n    <tr>\n      <th>0</th>\n      <td>1</td>\n      <td>60</td>\n      <td>RL</td>\n      <td>65.0</td>\n      <td>8450</td>\n      <td>Pave</td>\n      <td>NaN</td>\n      <td>Reg</td>\n      <td>Lvl</td>\n      <td>AllPub</td>\n      <td>...</td>\n      <td>0</td>\n      <td>NaN</td>\n      <td>NaN</td>\n      <td>NaN</td>\n      <td>0</td>\n      <td>2</td>\n      <td>2008</td>\n      <td>WD</td>\n      <td>Normal</td>\n      <td>208500</td>\n    </tr>\n    <tr>\n      <th>1</th>\n      <td>2</td>\n      <td>20</td>\n      <td>RL</td>\n      <td>80.0</td>\n      <td>9600</td>\n      <td>Pave</td>\n      <td>NaN</td>\n      <td>Reg</td>\n      <td>Lvl</td>\n      <td>AllPub</td>\n      <td>...</td>\n      <td>0</td>\n      <td>NaN</td>\n      <td>NaN</td>\n      <td>NaN</td>\n      <td>0</td>\n      <td>5</td>\n      <td>2007</td>\n      <td>WD</td>\n      <td>Normal</td>\n      <td>181500</td>\n    </tr>\n    <tr>\n      <th>2</th>\n      <td>3</td>\n      <td>60</td>\n      <td>RL</td>\n      <td>68.0</td>\n      <td>11250</td>\n      <td>Pave</td>\n      <td>NaN</td>\n      <td>IR1</td>\n      <td>Lvl</td>\n      <td>AllPub</td>\n      <td>...</td>\n      <td>0</td>\n      <td>NaN</td>\n      <td>NaN</td>\n      <td>NaN</td>\n      <td>0</td>\n      <td>9</td>\n      <td>2008</td>\n      <td>WD</td>\n      <td>Normal</td>\n      <td>223500</td>\n    </tr>\n    <tr>\n      <th>3</th>\n      <td>4</td>\n      <td>70</td>\n      <td>RL</td>\n      <td>60.0</td>\n      <td>9550</td>\n      <td>Pave</td>\n      <td>NaN</td>\n      <td>IR1</td>\n      <td>Lvl</td>\n      <td>AllPub</td>\n      <td>...</td>\n      <td>0</td>\n      <td>NaN</td>\n      <td>NaN</td>\n      <td>NaN</td>\n      <td>0</td>\n      <td>2</td>\n      <td>2006</td>\n      <td>WD</td>\n      <td>Abnorml</td>\n      <td>140000</td>\n    </tr>\n    <tr>\n      <th>4</th>\n      <td>5</td>\n      <td>60</td>\n      <td>RL</td>\n      <td>84.0</td>\n      <td>14260</td>\n      <td>Pave</td>\n      <td>NaN</td>\n      <td>IR1</td>\n      <td>Lvl</td>\n      <td>AllPub</td>\n      <td>...</td>\n      <td>0</td>\n      <td>NaN</td>\n      <td>NaN</td>\n      <td>NaN</td>\n      <td>0</td>\n      <td>12</td>\n      <td>2008</td>\n      <td>WD</td>\n      <td>Normal</td>\n      <td>250000</td>\n    </tr>\n    <tr>\n      <th>...</th>\n      <td>...</td>\n      <td>...</td>\n      <td>...</td>\n      <td>...</td>\n      <td>...</td>\n      <td>...</td>\n      <td>...</td>\n      <td>...</td>\n      <td>...</td>\n      <td>...</td>\n      <td>...</td>\n      <td>...</td>\n      <td>...</td>\n      <td>...</td>\n      <td>...</td>\n      <td>...</td>\n      <td>...</td>\n      <td>...</td>\n      <td>...</td>\n      <td>...</td>\n      <td>...</td>\n    </tr>\n    <tr>\n      <th>1455</th>\n      <td>1456</td>\n      <td>60</td>\n      <td>RL</td>\n      <td>62.0</td>\n      <td>7917</td>\n      <td>Pave</td>\n      <td>NaN</td>\n      <td>Reg</td>\n      <td>Lvl</td>\n      <td>AllPub</td>\n      <td>...</td>\n      <td>0</td>\n      <td>NaN</td>\n      <td>NaN</td>\n      <td>NaN</td>\n      <td>0</td>\n      <td>8</td>\n      <td>2007</td>\n      <td>WD</td>\n      <td>Normal</td>\n      <td>175000</td>\n    </tr>\n    <tr>\n      <th>1456</th>\n      <td>1457</td>\n      <td>20</td>\n      <td>RL</td>\n      <td>85.0</td>\n      <td>13175</td>\n      <td>Pave</td>\n      <td>NaN</td>\n      <td>Reg</td>\n      <td>Lvl</td>\n      <td>AllPub</td>\n      <td>...</td>\n      <td>0</td>\n      <td>NaN</td>\n      <td>MnPrv</td>\n      <td>NaN</td>\n      <td>0</td>\n      <td>2</td>\n      <td>2010</td>\n      <td>WD</td>\n      <td>Normal</td>\n      <td>210000</td>\n    </tr>\n    <tr>\n      <th>1457</th>\n      <td>1458</td>\n      <td>70</td>\n      <td>RL</td>\n      <td>66.0</td>\n      <td>9042</td>\n      <td>Pave</td>\n      <td>NaN</td>\n      <td>Reg</td>\n      <td>Lvl</td>\n      <td>AllPub</td>\n      <td>...</td>\n      <td>0</td>\n      <td>NaN</td>\n      <td>GdPrv</td>\n      <td>Shed</td>\n      <td>2500</td>\n      <td>5</td>\n      <td>2010</td>\n      <td>WD</td>\n      <td>Normal</td>\n      <td>266500</td>\n    </tr>\n    <tr>\n      <th>1458</th>\n      <td>1459</td>\n      <td>20</td>\n      <td>RL</td>\n      <td>68.0</td>\n      <td>9717</td>\n      <td>Pave</td>\n      <td>NaN</td>\n      <td>Reg</td>\n      <td>Lvl</td>\n      <td>AllPub</td>\n      <td>...</td>\n      <td>0</td>\n      <td>NaN</td>\n      <td>NaN</td>\n      <td>NaN</td>\n      <td>0</td>\n      <td>4</td>\n      <td>2010</td>\n      <td>WD</td>\n      <td>Normal</td>\n      <td>142125</td>\n    </tr>\n    <tr>\n      <th>1459</th>\n      <td>1460</td>\n      <td>20</td>\n      <td>RL</td>\n      <td>75.0</td>\n      <td>9937</td>\n      <td>Pave</td>\n      <td>NaN</td>\n      <td>Reg</td>\n      <td>Lvl</td>\n      <td>AllPub</td>\n      <td>...</td>\n      <td>0</td>\n      <td>NaN</td>\n      <td>NaN</td>\n      <td>NaN</td>\n      <td>0</td>\n      <td>6</td>\n      <td>2008</td>\n      <td>WD</td>\n      <td>Normal</td>\n      <td>147500</td>\n    </tr>\n  </tbody>\n</table>\n<p>1460 rows × 81 columns</p>\n</div>"
     },
     "execution_count": 3,
     "metadata": {},
     "output_type": "execute_result"
    }
   ],
   "source": [
    "dataset"
   ],
   "metadata": {
    "collapsed": false
   }
  },
  {
   "cell_type": "code",
   "execution_count": 4,
   "outputs": [
    {
     "data": {
      "text/plain": "                Id   MSSubClass  LotFrontage        LotArea  OverallQual  \\\ncount  1460.000000  1460.000000  1201.000000    1460.000000  1460.000000   \nmean    730.500000    56.897260    70.049958   10516.828082     6.099315   \nstd     421.610009    42.300571    24.284752    9981.264932     1.382997   \nmin       1.000000    20.000000    21.000000    1300.000000     1.000000   \n25%     365.750000    20.000000    59.000000    7553.500000     5.000000   \n50%     730.500000    50.000000    69.000000    9478.500000     6.000000   \n75%    1095.250000    70.000000    80.000000   11601.500000     7.000000   \nmax    1460.000000   190.000000   313.000000  215245.000000    10.000000   \n\n       OverallCond    YearBuilt  YearRemodAdd   MasVnrArea   BsmtFinSF1  ...  \\\ncount  1460.000000  1460.000000   1460.000000  1452.000000  1460.000000  ...   \nmean      5.575342  1971.267808   1984.865753   103.685262   443.639726  ...   \nstd       1.112799    30.202904     20.645407   181.066207   456.098091  ...   \nmin       1.000000  1872.000000   1950.000000     0.000000     0.000000  ...   \n25%       5.000000  1954.000000   1967.000000     0.000000     0.000000  ...   \n50%       5.000000  1973.000000   1994.000000     0.000000   383.500000  ...   \n75%       6.000000  2000.000000   2004.000000   166.000000   712.250000  ...   \nmax       9.000000  2010.000000   2010.000000  1600.000000  5644.000000  ...   \n\n        WoodDeckSF  OpenPorchSF  EnclosedPorch    3SsnPorch  ScreenPorch  \\\ncount  1460.000000  1460.000000    1460.000000  1460.000000  1460.000000   \nmean     94.244521    46.660274      21.954110     3.409589    15.060959   \nstd     125.338794    66.256028      61.119149    29.317331    55.757415   \nmin       0.000000     0.000000       0.000000     0.000000     0.000000   \n25%       0.000000     0.000000       0.000000     0.000000     0.000000   \n50%       0.000000    25.000000       0.000000     0.000000     0.000000   \n75%     168.000000    68.000000       0.000000     0.000000     0.000000   \nmax     857.000000   547.000000     552.000000   508.000000   480.000000   \n\n          PoolArea       MiscVal       MoSold       YrSold      SalePrice  \ncount  1460.000000   1460.000000  1460.000000  1460.000000    1460.000000  \nmean      2.758904     43.489041     6.321918  2007.815753  180921.195890  \nstd      40.177307    496.123024     2.703626     1.328095   79442.502883  \nmin       0.000000      0.000000     1.000000  2006.000000   34900.000000  \n25%       0.000000      0.000000     5.000000  2007.000000  129975.000000  \n50%       0.000000      0.000000     6.000000  2008.000000  163000.000000  \n75%       0.000000      0.000000     8.000000  2009.000000  214000.000000  \nmax     738.000000  15500.000000    12.000000  2010.000000  755000.000000  \n\n[8 rows x 38 columns]",
      "text/html": "<div>\n<style scoped>\n    .dataframe tbody tr th:only-of-type {\n        vertical-align: middle;\n    }\n\n    .dataframe tbody tr th {\n        vertical-align: top;\n    }\n\n    .dataframe thead th {\n        text-align: right;\n    }\n</style>\n<table border=\"1\" class=\"dataframe\">\n  <thead>\n    <tr style=\"text-align: right;\">\n      <th></th>\n      <th>Id</th>\n      <th>MSSubClass</th>\n      <th>LotFrontage</th>\n      <th>LotArea</th>\n      <th>OverallQual</th>\n      <th>OverallCond</th>\n      <th>YearBuilt</th>\n      <th>YearRemodAdd</th>\n      <th>MasVnrArea</th>\n      <th>BsmtFinSF1</th>\n      <th>...</th>\n      <th>WoodDeckSF</th>\n      <th>OpenPorchSF</th>\n      <th>EnclosedPorch</th>\n      <th>3SsnPorch</th>\n      <th>ScreenPorch</th>\n      <th>PoolArea</th>\n      <th>MiscVal</th>\n      <th>MoSold</th>\n      <th>YrSold</th>\n      <th>SalePrice</th>\n    </tr>\n  </thead>\n  <tbody>\n    <tr>\n      <th>count</th>\n      <td>1460.000000</td>\n      <td>1460.000000</td>\n      <td>1201.000000</td>\n      <td>1460.000000</td>\n      <td>1460.000000</td>\n      <td>1460.000000</td>\n      <td>1460.000000</td>\n      <td>1460.000000</td>\n      <td>1452.000000</td>\n      <td>1460.000000</td>\n      <td>...</td>\n      <td>1460.000000</td>\n      <td>1460.000000</td>\n      <td>1460.000000</td>\n      <td>1460.000000</td>\n      <td>1460.000000</td>\n      <td>1460.000000</td>\n      <td>1460.000000</td>\n      <td>1460.000000</td>\n      <td>1460.000000</td>\n      <td>1460.000000</td>\n    </tr>\n    <tr>\n      <th>mean</th>\n      <td>730.500000</td>\n      <td>56.897260</td>\n      <td>70.049958</td>\n      <td>10516.828082</td>\n      <td>6.099315</td>\n      <td>5.575342</td>\n      <td>1971.267808</td>\n      <td>1984.865753</td>\n      <td>103.685262</td>\n      <td>443.639726</td>\n      <td>...</td>\n      <td>94.244521</td>\n      <td>46.660274</td>\n      <td>21.954110</td>\n      <td>3.409589</td>\n      <td>15.060959</td>\n      <td>2.758904</td>\n      <td>43.489041</td>\n      <td>6.321918</td>\n      <td>2007.815753</td>\n      <td>180921.195890</td>\n    </tr>\n    <tr>\n      <th>std</th>\n      <td>421.610009</td>\n      <td>42.300571</td>\n      <td>24.284752</td>\n      <td>9981.264932</td>\n      <td>1.382997</td>\n      <td>1.112799</td>\n      <td>30.202904</td>\n      <td>20.645407</td>\n      <td>181.066207</td>\n      <td>456.098091</td>\n      <td>...</td>\n      <td>125.338794</td>\n      <td>66.256028</td>\n      <td>61.119149</td>\n      <td>29.317331</td>\n      <td>55.757415</td>\n      <td>40.177307</td>\n      <td>496.123024</td>\n      <td>2.703626</td>\n      <td>1.328095</td>\n      <td>79442.502883</td>\n    </tr>\n    <tr>\n      <th>min</th>\n      <td>1.000000</td>\n      <td>20.000000</td>\n      <td>21.000000</td>\n      <td>1300.000000</td>\n      <td>1.000000</td>\n      <td>1.000000</td>\n      <td>1872.000000</td>\n      <td>1950.000000</td>\n      <td>0.000000</td>\n      <td>0.000000</td>\n      <td>...</td>\n      <td>0.000000</td>\n      <td>0.000000</td>\n      <td>0.000000</td>\n      <td>0.000000</td>\n      <td>0.000000</td>\n      <td>0.000000</td>\n      <td>0.000000</td>\n      <td>1.000000</td>\n      <td>2006.000000</td>\n      <td>34900.000000</td>\n    </tr>\n    <tr>\n      <th>25%</th>\n      <td>365.750000</td>\n      <td>20.000000</td>\n      <td>59.000000</td>\n      <td>7553.500000</td>\n      <td>5.000000</td>\n      <td>5.000000</td>\n      <td>1954.000000</td>\n      <td>1967.000000</td>\n      <td>0.000000</td>\n      <td>0.000000</td>\n      <td>...</td>\n      <td>0.000000</td>\n      <td>0.000000</td>\n      <td>0.000000</td>\n      <td>0.000000</td>\n      <td>0.000000</td>\n      <td>0.000000</td>\n      <td>0.000000</td>\n      <td>5.000000</td>\n      <td>2007.000000</td>\n      <td>129975.000000</td>\n    </tr>\n    <tr>\n      <th>50%</th>\n      <td>730.500000</td>\n      <td>50.000000</td>\n      <td>69.000000</td>\n      <td>9478.500000</td>\n      <td>6.000000</td>\n      <td>5.000000</td>\n      <td>1973.000000</td>\n      <td>1994.000000</td>\n      <td>0.000000</td>\n      <td>383.500000</td>\n      <td>...</td>\n      <td>0.000000</td>\n      <td>25.000000</td>\n      <td>0.000000</td>\n      <td>0.000000</td>\n      <td>0.000000</td>\n      <td>0.000000</td>\n      <td>0.000000</td>\n      <td>6.000000</td>\n      <td>2008.000000</td>\n      <td>163000.000000</td>\n    </tr>\n    <tr>\n      <th>75%</th>\n      <td>1095.250000</td>\n      <td>70.000000</td>\n      <td>80.000000</td>\n      <td>11601.500000</td>\n      <td>7.000000</td>\n      <td>6.000000</td>\n      <td>2000.000000</td>\n      <td>2004.000000</td>\n      <td>166.000000</td>\n      <td>712.250000</td>\n      <td>...</td>\n      <td>168.000000</td>\n      <td>68.000000</td>\n      <td>0.000000</td>\n      <td>0.000000</td>\n      <td>0.000000</td>\n      <td>0.000000</td>\n      <td>0.000000</td>\n      <td>8.000000</td>\n      <td>2009.000000</td>\n      <td>214000.000000</td>\n    </tr>\n    <tr>\n      <th>max</th>\n      <td>1460.000000</td>\n      <td>190.000000</td>\n      <td>313.000000</td>\n      <td>215245.000000</td>\n      <td>10.000000</td>\n      <td>9.000000</td>\n      <td>2010.000000</td>\n      <td>2010.000000</td>\n      <td>1600.000000</td>\n      <td>5644.000000</td>\n      <td>...</td>\n      <td>857.000000</td>\n      <td>547.000000</td>\n      <td>552.000000</td>\n      <td>508.000000</td>\n      <td>480.000000</td>\n      <td>738.000000</td>\n      <td>15500.000000</td>\n      <td>12.000000</td>\n      <td>2010.000000</td>\n      <td>755000.000000</td>\n    </tr>\n  </tbody>\n</table>\n<p>8 rows × 38 columns</p>\n</div>"
     },
     "execution_count": 4,
     "metadata": {},
     "output_type": "execute_result"
    }
   ],
   "source": [
    "dataset.describe()"
   ],
   "metadata": {
    "collapsed": false
   }
  },
  {
   "cell_type": "code",
   "execution_count": 5,
   "outputs": [
    {
     "data": {
      "text/plain": "          Columns  n_uniques  \\\n0              Id       1460   \n1      MSSubClass         15   \n2        MSZoning          5   \n3     LotFrontage        110   \n4         LotArea       1073   \n..            ...        ...   \n76         MoSold         12   \n77         YrSold          5   \n78       SaleType          9   \n79  SaleCondition          6   \n80      SalePrice        663   \n\n                                               unique   dtypes  NULLS  \n0   [1, 2, 3, 4, 5, 6, 7, 8, 9, 10, 11, 12, 13, 14...    int64      0  \n1   [60, 20, 70, 50, 190, 45, 90, 120, 30, 85, 80,...    int64      0  \n2                           [RL, RM, C (all), FV, RH]   object      0  \n3   [65.0, 80.0, 68.0, 60.0, 84.0, 85.0, 75.0, nan...  float64    259  \n4   [8450, 9600, 11250, 9550, 14260, 14115, 10084,...    int64      0  \n..                                                ...      ...    ...  \n76            [2, 5, 9, 12, 10, 8, 11, 4, 1, 7, 3, 6]    int64      0  \n77                     [2008, 2007, 2006, 2009, 2010]    int64      0  \n78  [WD, New, COD, ConLD, ConLI, CWD, ConLw, Con, ...   object      0  \n79  [Normal, Abnorml, Partial, AdjLand, Alloca, Fa...   object      0  \n80  [208500, 181500, 223500, 140000, 250000, 14300...    int64      0  \n\n[81 rows x 5 columns]",
      "text/html": "<div>\n<style scoped>\n    .dataframe tbody tr th:only-of-type {\n        vertical-align: middle;\n    }\n\n    .dataframe tbody tr th {\n        vertical-align: top;\n    }\n\n    .dataframe thead th {\n        text-align: right;\n    }\n</style>\n<table border=\"1\" class=\"dataframe\">\n  <thead>\n    <tr style=\"text-align: right;\">\n      <th></th>\n      <th>Columns</th>\n      <th>n_uniques</th>\n      <th>unique</th>\n      <th>dtypes</th>\n      <th>NULLS</th>\n    </tr>\n  </thead>\n  <tbody>\n    <tr>\n      <th>0</th>\n      <td>Id</td>\n      <td>1460</td>\n      <td>[1, 2, 3, 4, 5, 6, 7, 8, 9, 10, 11, 12, 13, 14...</td>\n      <td>int64</td>\n      <td>0</td>\n    </tr>\n    <tr>\n      <th>1</th>\n      <td>MSSubClass</td>\n      <td>15</td>\n      <td>[60, 20, 70, 50, 190, 45, 90, 120, 30, 85, 80,...</td>\n      <td>int64</td>\n      <td>0</td>\n    </tr>\n    <tr>\n      <th>2</th>\n      <td>MSZoning</td>\n      <td>5</td>\n      <td>[RL, RM, C (all), FV, RH]</td>\n      <td>object</td>\n      <td>0</td>\n    </tr>\n    <tr>\n      <th>3</th>\n      <td>LotFrontage</td>\n      <td>110</td>\n      <td>[65.0, 80.0, 68.0, 60.0, 84.0, 85.0, 75.0, nan...</td>\n      <td>float64</td>\n      <td>259</td>\n    </tr>\n    <tr>\n      <th>4</th>\n      <td>LotArea</td>\n      <td>1073</td>\n      <td>[8450, 9600, 11250, 9550, 14260, 14115, 10084,...</td>\n      <td>int64</td>\n      <td>0</td>\n    </tr>\n    <tr>\n      <th>...</th>\n      <td>...</td>\n      <td>...</td>\n      <td>...</td>\n      <td>...</td>\n      <td>...</td>\n    </tr>\n    <tr>\n      <th>76</th>\n      <td>MoSold</td>\n      <td>12</td>\n      <td>[2, 5, 9, 12, 10, 8, 11, 4, 1, 7, 3, 6]</td>\n      <td>int64</td>\n      <td>0</td>\n    </tr>\n    <tr>\n      <th>77</th>\n      <td>YrSold</td>\n      <td>5</td>\n      <td>[2008, 2007, 2006, 2009, 2010]</td>\n      <td>int64</td>\n      <td>0</td>\n    </tr>\n    <tr>\n      <th>78</th>\n      <td>SaleType</td>\n      <td>9</td>\n      <td>[WD, New, COD, ConLD, ConLI, CWD, ConLw, Con, ...</td>\n      <td>object</td>\n      <td>0</td>\n    </tr>\n    <tr>\n      <th>79</th>\n      <td>SaleCondition</td>\n      <td>6</td>\n      <td>[Normal, Abnorml, Partial, AdjLand, Alloca, Fa...</td>\n      <td>object</td>\n      <td>0</td>\n    </tr>\n    <tr>\n      <th>80</th>\n      <td>SalePrice</td>\n      <td>663</td>\n      <td>[208500, 181500, 223500, 140000, 250000, 14300...</td>\n      <td>int64</td>\n      <td>0</td>\n    </tr>\n  </tbody>\n</table>\n<p>81 rows × 5 columns</p>\n</div>"
     },
     "execution_count": 5,
     "metadata": {},
     "output_type": "execute_result"
    }
   ],
   "source": [
    "metrics.data_info(dataset)"
   ],
   "metadata": {
    "collapsed": false
   }
  },
  {
   "cell_type": "code",
   "execution_count": 6,
   "outputs": [],
   "source": [
    "dataset.drop(['Id'], axis=1, inplace=True)"
   ],
   "metadata": {
    "collapsed": false
   }
  },
  {
   "cell_type": "code",
   "execution_count": 7,
   "outputs": [
    {
     "data": {
      "text/plain": "60.0     143\n70.0      70\n80.0      69\n50.0      57\n75.0      53\n        ... \n137.0      1\n141.0      1\n38.0       1\n140.0      1\n46.0       1\nName: LotFrontage, Length: 110, dtype: int64"
     },
     "execution_count": 7,
     "metadata": {},
     "output_type": "execute_result"
    }
   ],
   "source": [
    "dataset.LotFrontage.value_counts()"
   ],
   "metadata": {
    "collapsed": false
   }
  },
  {
   "cell_type": "code",
   "execution_count": 8,
   "outputs": [],
   "source": [
    "dataset.LotFrontage.fillna(0, inplace=True)"
   ],
   "metadata": {
    "collapsed": false
   }
  },
  {
   "cell_type": "code",
   "execution_count": 9,
   "outputs": [],
   "source": [
    "dataset.Alley.fillna('no_alley', inplace=True)"
   ],
   "metadata": {
    "collapsed": false
   }
  },
  {
   "cell_type": "code",
   "execution_count": 10,
   "outputs": [],
   "source": [
    "bs = ['BsmtQual', 'BsmtCond', 'BsmtExposure', 'BsmtFinType1','BsmtFinType2']"
   ],
   "metadata": {
    "collapsed": false
   }
  },
  {
   "cell_type": "code",
   "execution_count": 11,
   "outputs": [],
   "source": [
    "for col in bs:\n",
    "    dataset[col].fillna('no_bsmt', inplace=True)"
   ],
   "metadata": {
    "collapsed": false
   }
  },
  {
   "cell_type": "code",
   "execution_count": 12,
   "outputs": [],
   "source": [
    "dataset.Electrical.fillna(dataset.Electrical.mode()[0], inplace=True)"
   ],
   "metadata": {
    "collapsed": false
   }
  },
  {
   "cell_type": "code",
   "execution_count": 13,
   "outputs": [],
   "source": [
    "for i in range(len(dataset)):\n",
    "    if dataset.Fireplaces[i] == 0:\n",
    "        dataset.loc[i,'FireplaceQu'] = 'Nofireplaces'"
   ],
   "metadata": {
    "collapsed": false
   }
  },
  {
   "cell_type": "code",
   "execution_count": 14,
   "outputs": [
    {
     "data": {
      "text/plain": "          Columns  n_uniques  \\\n0      MSSubClass         15   \n1        MSZoning          5   \n2     LotFrontage        111   \n3         LotArea       1073   \n4          Street          2   \n..            ...        ...   \n75         MoSold         12   \n76         YrSold          5   \n77       SaleType          9   \n78  SaleCondition          6   \n79      SalePrice        663   \n\n                                               unique   dtypes  NULLS  \n0   [60, 20, 70, 50, 190, 45, 90, 120, 30, 85, 80,...    int64      0  \n1                           [RL, RM, C (all), FV, RH]   object      0  \n2   [65.0, 80.0, 68.0, 60.0, 84.0, 85.0, 75.0, 0.0...  float64      0  \n3   [8450, 9600, 11250, 9550, 14260, 14115, 10084,...    int64      0  \n4                                        [Pave, Grvl]   object      0  \n..                                                ...      ...    ...  \n75            [2, 5, 9, 12, 10, 8, 11, 4, 1, 7, 3, 6]    int64      0  \n76                     [2008, 2007, 2006, 2009, 2010]    int64      0  \n77  [WD, New, COD, ConLD, ConLI, CWD, ConLw, Con, ...   object      0  \n78  [Normal, Abnorml, Partial, AdjLand, Alloca, Fa...   object      0  \n79  [208500, 181500, 223500, 140000, 250000, 14300...    int64      0  \n\n[80 rows x 5 columns]",
      "text/html": "<div>\n<style scoped>\n    .dataframe tbody tr th:only-of-type {\n        vertical-align: middle;\n    }\n\n    .dataframe tbody tr th {\n        vertical-align: top;\n    }\n\n    .dataframe thead th {\n        text-align: right;\n    }\n</style>\n<table border=\"1\" class=\"dataframe\">\n  <thead>\n    <tr style=\"text-align: right;\">\n      <th></th>\n      <th>Columns</th>\n      <th>n_uniques</th>\n      <th>unique</th>\n      <th>dtypes</th>\n      <th>NULLS</th>\n    </tr>\n  </thead>\n  <tbody>\n    <tr>\n      <th>0</th>\n      <td>MSSubClass</td>\n      <td>15</td>\n      <td>[60, 20, 70, 50, 190, 45, 90, 120, 30, 85, 80,...</td>\n      <td>int64</td>\n      <td>0</td>\n    </tr>\n    <tr>\n      <th>1</th>\n      <td>MSZoning</td>\n      <td>5</td>\n      <td>[RL, RM, C (all), FV, RH]</td>\n      <td>object</td>\n      <td>0</td>\n    </tr>\n    <tr>\n      <th>2</th>\n      <td>LotFrontage</td>\n      <td>111</td>\n      <td>[65.0, 80.0, 68.0, 60.0, 84.0, 85.0, 75.0, 0.0...</td>\n      <td>float64</td>\n      <td>0</td>\n    </tr>\n    <tr>\n      <th>3</th>\n      <td>LotArea</td>\n      <td>1073</td>\n      <td>[8450, 9600, 11250, 9550, 14260, 14115, 10084,...</td>\n      <td>int64</td>\n      <td>0</td>\n    </tr>\n    <tr>\n      <th>4</th>\n      <td>Street</td>\n      <td>2</td>\n      <td>[Pave, Grvl]</td>\n      <td>object</td>\n      <td>0</td>\n    </tr>\n    <tr>\n      <th>...</th>\n      <td>...</td>\n      <td>...</td>\n      <td>...</td>\n      <td>...</td>\n      <td>...</td>\n    </tr>\n    <tr>\n      <th>75</th>\n      <td>MoSold</td>\n      <td>12</td>\n      <td>[2, 5, 9, 12, 10, 8, 11, 4, 1, 7, 3, 6]</td>\n      <td>int64</td>\n      <td>0</td>\n    </tr>\n    <tr>\n      <th>76</th>\n      <td>YrSold</td>\n      <td>5</td>\n      <td>[2008, 2007, 2006, 2009, 2010]</td>\n      <td>int64</td>\n      <td>0</td>\n    </tr>\n    <tr>\n      <th>77</th>\n      <td>SaleType</td>\n      <td>9</td>\n      <td>[WD, New, COD, ConLD, ConLI, CWD, ConLw, Con, ...</td>\n      <td>object</td>\n      <td>0</td>\n    </tr>\n    <tr>\n      <th>78</th>\n      <td>SaleCondition</td>\n      <td>6</td>\n      <td>[Normal, Abnorml, Partial, AdjLand, Alloca, Fa...</td>\n      <td>object</td>\n      <td>0</td>\n    </tr>\n    <tr>\n      <th>79</th>\n      <td>SalePrice</td>\n      <td>663</td>\n      <td>[208500, 181500, 223500, 140000, 250000, 14300...</td>\n      <td>int64</td>\n      <td>0</td>\n    </tr>\n  </tbody>\n</table>\n<p>80 rows × 5 columns</p>\n</div>"
     },
     "execution_count": 14,
     "metadata": {},
     "output_type": "execute_result"
    }
   ],
   "source": [
    "metrics.data_info(dataset)"
   ],
   "metadata": {
    "collapsed": false
   }
  },
  {
   "cell_type": "code",
   "execution_count": 15,
   "outputs": [],
   "source": [
    "dataset['MasVnrArea'].fillna('no_MasVnr',inplace=True)"
   ],
   "metadata": {
    "collapsed": false
   }
  },
  {
   "cell_type": "code",
   "execution_count": 16,
   "outputs": [],
   "source": [
    "dataset['GarageYrBlt'] =pd.to_numeric(dataset['GarageYrBlt'], errors='coerce')"
   ],
   "metadata": {
    "collapsed": false
   }
  },
  {
   "cell_type": "code",
   "execution_count": 17,
   "outputs": [],
   "source": [
    "grg = ['GarageType', 'GarageYrBlt', 'GarageFinish','GarageArea','GarageQual','GarageCond']\n",
    "for col in grg:\n",
    "    dataset[col].fillna('no_garage', inplace=True)"
   ],
   "metadata": {
    "collapsed": false
   }
  },
  {
   "cell_type": "code",
   "execution_count": 18,
   "outputs": [],
   "source": [
    "dataset.PoolQC.fillna('no_pool', inplace=True)"
   ],
   "metadata": {
    "collapsed": false
   }
  },
  {
   "cell_type": "code",
   "execution_count": 19,
   "outputs": [],
   "source": [
    "dataset.Fence.fillna('no_fence', inplace=True)"
   ],
   "metadata": {
    "collapsed": false
   }
  },
  {
   "cell_type": "code",
   "execution_count": 20,
   "outputs": [],
   "source": [
    "for i in range(len(dataset)):\n",
    "    if dataset.MiscVal[i] == 0:\n",
    "        dataset.loc[i,'MiscFeature'] = 'no_misc'"
   ],
   "metadata": {
    "collapsed": false
   }
  },
  {
   "cell_type": "code",
   "execution_count": 21,
   "outputs": [
    {
     "data": {
      "text/plain": "          Columns  n_uniques  \\\n0      MSSubClass         15   \n1        MSZoning          5   \n2     LotFrontage        111   \n3         LotArea       1073   \n4          Street          2   \n..            ...        ...   \n75         MoSold         12   \n76         YrSold          5   \n77       SaleType          9   \n78  SaleCondition          6   \n79      SalePrice        663   \n\n                                               unique   dtypes  NULLS  \n0   [60, 20, 70, 50, 190, 45, 90, 120, 30, 85, 80,...    int64      0  \n1                           [RL, RM, C (all), FV, RH]   object      0  \n2   [65.0, 80.0, 68.0, 60.0, 84.0, 85.0, 75.0, 0.0...  float64      0  \n3   [8450, 9600, 11250, 9550, 14260, 14115, 10084,...    int64      0  \n4                                        [Pave, Grvl]   object      0  \n..                                                ...      ...    ...  \n75            [2, 5, 9, 12, 10, 8, 11, 4, 1, 7, 3, 6]    int64      0  \n76                     [2008, 2007, 2006, 2009, 2010]    int64      0  \n77  [WD, New, COD, ConLD, ConLI, CWD, ConLw, Con, ...   object      0  \n78  [Normal, Abnorml, Partial, AdjLand, Alloca, Fa...   object      0  \n79  [208500, 181500, 223500, 140000, 250000, 14300...    int64      0  \n\n[80 rows x 5 columns]",
      "text/html": "<div>\n<style scoped>\n    .dataframe tbody tr th:only-of-type {\n        vertical-align: middle;\n    }\n\n    .dataframe tbody tr th {\n        vertical-align: top;\n    }\n\n    .dataframe thead th {\n        text-align: right;\n    }\n</style>\n<table border=\"1\" class=\"dataframe\">\n  <thead>\n    <tr style=\"text-align: right;\">\n      <th></th>\n      <th>Columns</th>\n      <th>n_uniques</th>\n      <th>unique</th>\n      <th>dtypes</th>\n      <th>NULLS</th>\n    </tr>\n  </thead>\n  <tbody>\n    <tr>\n      <th>0</th>\n      <td>MSSubClass</td>\n      <td>15</td>\n      <td>[60, 20, 70, 50, 190, 45, 90, 120, 30, 85, 80,...</td>\n      <td>int64</td>\n      <td>0</td>\n    </tr>\n    <tr>\n      <th>1</th>\n      <td>MSZoning</td>\n      <td>5</td>\n      <td>[RL, RM, C (all), FV, RH]</td>\n      <td>object</td>\n      <td>0</td>\n    </tr>\n    <tr>\n      <th>2</th>\n      <td>LotFrontage</td>\n      <td>111</td>\n      <td>[65.0, 80.0, 68.0, 60.0, 84.0, 85.0, 75.0, 0.0...</td>\n      <td>float64</td>\n      <td>0</td>\n    </tr>\n    <tr>\n      <th>3</th>\n      <td>LotArea</td>\n      <td>1073</td>\n      <td>[8450, 9600, 11250, 9550, 14260, 14115, 10084,...</td>\n      <td>int64</td>\n      <td>0</td>\n    </tr>\n    <tr>\n      <th>4</th>\n      <td>Street</td>\n      <td>2</td>\n      <td>[Pave, Grvl]</td>\n      <td>object</td>\n      <td>0</td>\n    </tr>\n    <tr>\n      <th>...</th>\n      <td>...</td>\n      <td>...</td>\n      <td>...</td>\n      <td>...</td>\n      <td>...</td>\n    </tr>\n    <tr>\n      <th>75</th>\n      <td>MoSold</td>\n      <td>12</td>\n      <td>[2, 5, 9, 12, 10, 8, 11, 4, 1, 7, 3, 6]</td>\n      <td>int64</td>\n      <td>0</td>\n    </tr>\n    <tr>\n      <th>76</th>\n      <td>YrSold</td>\n      <td>5</td>\n      <td>[2008, 2007, 2006, 2009, 2010]</td>\n      <td>int64</td>\n      <td>0</td>\n    </tr>\n    <tr>\n      <th>77</th>\n      <td>SaleType</td>\n      <td>9</td>\n      <td>[WD, New, COD, ConLD, ConLI, CWD, ConLw, Con, ...</td>\n      <td>object</td>\n      <td>0</td>\n    </tr>\n    <tr>\n      <th>78</th>\n      <td>SaleCondition</td>\n      <td>6</td>\n      <td>[Normal, Abnorml, Partial, AdjLand, Alloca, Fa...</td>\n      <td>object</td>\n      <td>0</td>\n    </tr>\n    <tr>\n      <th>79</th>\n      <td>SalePrice</td>\n      <td>663</td>\n      <td>[208500, 181500, 223500, 140000, 250000, 14300...</td>\n      <td>int64</td>\n      <td>0</td>\n    </tr>\n  </tbody>\n</table>\n<p>80 rows × 5 columns</p>\n</div>"
     },
     "execution_count": 21,
     "metadata": {},
     "output_type": "execute_result"
    }
   ],
   "source": [
    "metrics.data_info(dataset)"
   ],
   "metadata": {
    "collapsed": false
   }
  },
  {
   "cell_type": "code",
   "execution_count": 22,
   "outputs": [],
   "source": [
    "from sklearn.preprocessing import LabelEncoder\n",
    "le = LabelEncoder()"
   ],
   "metadata": {
    "collapsed": false
   }
  },
  {
   "cell_type": "code",
   "execution_count": 23,
   "outputs": [],
   "source": [
    "# for col in dataset.columns:\n",
    "#     if dataset[col].dtype == 'object':\n",
    "#         if dataset[col].nunique() <= 3:\n",
    "#             dataset[col] = le.fit_transform(dataset[col])"
   ],
   "metadata": {
    "collapsed": false
   }
  },
  {
   "cell_type": "code",
   "execution_count": 24,
   "outputs": [],
   "source": [
    "dataset = pd.get_dummies(dataset, drop_first=True)"
   ],
   "metadata": {
    "collapsed": false
   }
  },
  {
   "cell_type": "code",
   "execution_count": 25,
   "outputs": [
    {
     "data": {
      "text/plain": "                   Columns  n_uniques  \\\n0               MSSubClass         15   \n1              LotFrontage        111   \n2                  LotArea       1073   \n3              OverallQual         10   \n4              OverallCond          9   \n..                     ...        ...   \n677  SaleCondition_AdjLand          2   \n678   SaleCondition_Alloca          2   \n679   SaleCondition_Family          2   \n680   SaleCondition_Normal          2   \n681  SaleCondition_Partial          2   \n\n                                                unique   dtypes  NULLS  \n0    [60, 20, 70, 50, 190, 45, 90, 120, 30, 85, 80,...    int64      0  \n1    [65.0, 80.0, 68.0, 60.0, 84.0, 85.0, 75.0, 0.0...  float64      0  \n2    [8450, 9600, 11250, 9550, 14260, 14115, 10084,...    int64      0  \n3                      [7, 6, 8, 5, 9, 4, 10, 3, 1, 2]    int64      0  \n4                          [5, 8, 6, 7, 4, 2, 3, 9, 1]    int64      0  \n..                                                 ...      ...    ...  \n677                                             [0, 1]    uint8      0  \n678                                             [0, 1]    uint8      0  \n679                                             [0, 1]    uint8      0  \n680                                             [1, 0]    uint8      0  \n681                                             [0, 1]    uint8      0  \n\n[682 rows x 5 columns]",
      "text/html": "<div>\n<style scoped>\n    .dataframe tbody tr th:only-of-type {\n        vertical-align: middle;\n    }\n\n    .dataframe tbody tr th {\n        vertical-align: top;\n    }\n\n    .dataframe thead th {\n        text-align: right;\n    }\n</style>\n<table border=\"1\" class=\"dataframe\">\n  <thead>\n    <tr style=\"text-align: right;\">\n      <th></th>\n      <th>Columns</th>\n      <th>n_uniques</th>\n      <th>unique</th>\n      <th>dtypes</th>\n      <th>NULLS</th>\n    </tr>\n  </thead>\n  <tbody>\n    <tr>\n      <th>0</th>\n      <td>MSSubClass</td>\n      <td>15</td>\n      <td>[60, 20, 70, 50, 190, 45, 90, 120, 30, 85, 80,...</td>\n      <td>int64</td>\n      <td>0</td>\n    </tr>\n    <tr>\n      <th>1</th>\n      <td>LotFrontage</td>\n      <td>111</td>\n      <td>[65.0, 80.0, 68.0, 60.0, 84.0, 85.0, 75.0, 0.0...</td>\n      <td>float64</td>\n      <td>0</td>\n    </tr>\n    <tr>\n      <th>2</th>\n      <td>LotArea</td>\n      <td>1073</td>\n      <td>[8450, 9600, 11250, 9550, 14260, 14115, 10084,...</td>\n      <td>int64</td>\n      <td>0</td>\n    </tr>\n    <tr>\n      <th>3</th>\n      <td>OverallQual</td>\n      <td>10</td>\n      <td>[7, 6, 8, 5, 9, 4, 10, 3, 1, 2]</td>\n      <td>int64</td>\n      <td>0</td>\n    </tr>\n    <tr>\n      <th>4</th>\n      <td>OverallCond</td>\n      <td>9</td>\n      <td>[5, 8, 6, 7, 4, 2, 3, 9, 1]</td>\n      <td>int64</td>\n      <td>0</td>\n    </tr>\n    <tr>\n      <th>...</th>\n      <td>...</td>\n      <td>...</td>\n      <td>...</td>\n      <td>...</td>\n      <td>...</td>\n    </tr>\n    <tr>\n      <th>677</th>\n      <td>SaleCondition_AdjLand</td>\n      <td>2</td>\n      <td>[0, 1]</td>\n      <td>uint8</td>\n      <td>0</td>\n    </tr>\n    <tr>\n      <th>678</th>\n      <td>SaleCondition_Alloca</td>\n      <td>2</td>\n      <td>[0, 1]</td>\n      <td>uint8</td>\n      <td>0</td>\n    </tr>\n    <tr>\n      <th>679</th>\n      <td>SaleCondition_Family</td>\n      <td>2</td>\n      <td>[0, 1]</td>\n      <td>uint8</td>\n      <td>0</td>\n    </tr>\n    <tr>\n      <th>680</th>\n      <td>SaleCondition_Normal</td>\n      <td>2</td>\n      <td>[1, 0]</td>\n      <td>uint8</td>\n      <td>0</td>\n    </tr>\n    <tr>\n      <th>681</th>\n      <td>SaleCondition_Partial</td>\n      <td>2</td>\n      <td>[0, 1]</td>\n      <td>uint8</td>\n      <td>0</td>\n    </tr>\n  </tbody>\n</table>\n<p>682 rows × 5 columns</p>\n</div>"
     },
     "execution_count": 25,
     "metadata": {},
     "output_type": "execute_result"
    }
   ],
   "source": [
    "metrics.data_info(dataset)"
   ],
   "metadata": {
    "collapsed": false
   }
  },
  {
   "cell_type": "code",
   "execution_count": 26,
   "outputs": [],
   "source": [
    "X = dataset.drop(['SalePrice'], axis=1).values\n",
    "y = dataset['SalePrice'].values"
   ],
   "metadata": {
    "collapsed": false
   }
  },
  {
   "cell_type": "code",
   "execution_count": 27,
   "outputs": [],
   "source": [
    "from sklearn.feature_selection import VarianceThreshold"
   ],
   "metadata": {
    "collapsed": false
   }
  },
  {
   "cell_type": "code",
   "execution_count": 28,
   "outputs": [
    {
     "data": {
      "text/plain": "Index(['MSSubClass', 'LotFrontage', 'LotArea', 'OverallQual', 'OverallCond',\n       'YearBuilt', 'YearRemodAdd', 'BsmtFinSF1', 'BsmtFinSF2', 'BsmtUnfSF',\n       'TotalBsmtSF', '1stFlrSF', '2ndFlrSF', 'LowQualFinSF', 'GrLivArea',\n       'BsmtFullBath', 'FullBath', 'HalfBath', 'BedroomAbvGr', 'TotRmsAbvGrd',\n       'Fireplaces', 'GarageCars', 'GarageArea', 'WoodDeckSF', 'OpenPorchSF',\n       'EnclosedPorch', '3SsnPorch', 'ScreenPorch', 'PoolArea', 'MiscVal',\n       'MoSold', 'YrSold', 'LotShape_IR3', 'LotConfig_FR3',\n       'HouseStyle_1.5Unf', 'HouseStyle_2.5Unf', 'Exterior1st_Stucco',\n       'Exterior2nd_Stucco', 'Exterior2nd_Wd Shng', 'MasVnrType_BrkFace',\n       'ExterQual_Fa', 'ExterQual_Gd', 'ExterCond_TA', 'Foundation_CBlock',\n       'BsmtQual_Fa', 'BsmtQual_Gd', 'BsmtExposure_Mn', 'BsmtFinType1_BLQ',\n       'BsmtFinType1_Rec', 'HeatingQC_Po', 'KitchenQual_Fa', 'KitchenQual_Gd',\n       'FireplaceQu_Gd', 'FireplaceQu_TA', 'GarageYrBlt_no_garage',\n       'GarageFinish_RFn'],\n      dtype='object')"
     },
     "execution_count": 28,
     "metadata": {},
     "output_type": "execute_result"
    }
   ],
   "source": [
    "columns = dataset.columns[:-1]\n",
    "columns\n",
    "v = VarianceThreshold(threshold=0.2)\n",
    "v.fit(X,y)\n",
    "v.get_support()\n",
    "columns[v.get_support()]"
   ],
   "metadata": {
    "collapsed": false
   }
  },
  {
   "cell_type": "code",
   "execution_count": 29,
   "outputs": [],
   "source": [
    "columns = columns.tolist()"
   ],
   "metadata": {
    "collapsed": false
   }
  },
  {
   "cell_type": "code",
   "execution_count": 42,
   "outputs": [
    {
     "data": {
      "text/plain": "681"
     },
     "execution_count": 42,
     "metadata": {},
     "output_type": "execute_result"
    }
   ],
   "source": [
    "len(columns)"
   ],
   "metadata": {
    "collapsed": false
   }
  },
  {
   "cell_type": "code",
   "execution_count": 30,
   "outputs": [
    {
     "data": {
      "text/plain": "      MSSubClass  LotFrontage  LotArea  OverallQual  OverallCond  YearBuilt  \\\n0             60         65.0     8450            7            5       2003   \n1             20         80.0     9600            6            8       1976   \n2             60         68.0    11250            7            5       2001   \n3             70         60.0     9550            7            5       1915   \n4             60         84.0    14260            8            5       2000   \n...          ...          ...      ...          ...          ...        ...   \n1455          60         62.0     7917            6            5       1999   \n1456          20         85.0    13175            6            6       1978   \n1457          70         66.0     9042            7            9       1941   \n1458          20         68.0     9717            5            6       1950   \n1459          20         75.0     9937            5            6       1965   \n\n      YearRemodAdd  BsmtFinSF1  BsmtFinSF2  BsmtUnfSF  ...  SaleType_ConLD  \\\n0             2003         706           0        150  ...               0   \n1             1976         978           0        284  ...               0   \n2             2002         486           0        434  ...               0   \n3             1970         216           0        540  ...               0   \n4             2000         655           0        490  ...               0   \n...            ...         ...         ...        ...  ...             ...   \n1455          2000           0           0        953  ...               0   \n1456          1988         790         163        589  ...               0   \n1457          2006         275           0        877  ...               0   \n1458          1996          49        1029          0  ...               0   \n1459          1965         830         290        136  ...               0   \n\n      SaleType_ConLI  SaleType_ConLw  SaleType_New  SaleType_Oth  SaleType_WD  \\\n0                  0               0             0             0            1   \n1                  0               0             0             0            1   \n2                  0               0             0             0            1   \n3                  0               0             0             0            1   \n4                  0               0             0             0            1   \n...              ...             ...           ...           ...          ...   \n1455               0               0             0             0            1   \n1456               0               0             0             0            1   \n1457               0               0             0             0            1   \n1458               0               0             0             0            1   \n1459               0               0             0             0            1   \n\n      SaleCondition_AdjLand  SaleCondition_Alloca  SaleCondition_Family  \\\n0                         0                     0                     0   \n1                         0                     0                     0   \n2                         0                     0                     0   \n3                         0                     0                     0   \n4                         0                     0                     0   \n...                     ...                   ...                   ...   \n1455                      0                     0                     0   \n1456                      0                     0                     0   \n1457                      0                     0                     0   \n1458                      0                     0                     0   \n1459                      0                     0                     0   \n\n      SaleCondition_Normal  \n0                        1  \n1                        1  \n2                        1  \n3                        0  \n4                        1  \n...                    ...  \n1455                     1  \n1456                     1  \n1457                     1  \n1458                     1  \n1459                     1  \n\n[1460 rows x 681 columns]",
      "text/html": "<div>\n<style scoped>\n    .dataframe tbody tr th:only-of-type {\n        vertical-align: middle;\n    }\n\n    .dataframe tbody tr th {\n        vertical-align: top;\n    }\n\n    .dataframe thead th {\n        text-align: right;\n    }\n</style>\n<table border=\"1\" class=\"dataframe\">\n  <thead>\n    <tr style=\"text-align: right;\">\n      <th></th>\n      <th>MSSubClass</th>\n      <th>LotFrontage</th>\n      <th>LotArea</th>\n      <th>OverallQual</th>\n      <th>OverallCond</th>\n      <th>YearBuilt</th>\n      <th>YearRemodAdd</th>\n      <th>BsmtFinSF1</th>\n      <th>BsmtFinSF2</th>\n      <th>BsmtUnfSF</th>\n      <th>...</th>\n      <th>SaleType_ConLD</th>\n      <th>SaleType_ConLI</th>\n      <th>SaleType_ConLw</th>\n      <th>SaleType_New</th>\n      <th>SaleType_Oth</th>\n      <th>SaleType_WD</th>\n      <th>SaleCondition_AdjLand</th>\n      <th>SaleCondition_Alloca</th>\n      <th>SaleCondition_Family</th>\n      <th>SaleCondition_Normal</th>\n    </tr>\n  </thead>\n  <tbody>\n    <tr>\n      <th>0</th>\n      <td>60</td>\n      <td>65.0</td>\n      <td>8450</td>\n      <td>7</td>\n      <td>5</td>\n      <td>2003</td>\n      <td>2003</td>\n      <td>706</td>\n      <td>0</td>\n      <td>150</td>\n      <td>...</td>\n      <td>0</td>\n      <td>0</td>\n      <td>0</td>\n      <td>0</td>\n      <td>0</td>\n      <td>1</td>\n      <td>0</td>\n      <td>0</td>\n      <td>0</td>\n      <td>1</td>\n    </tr>\n    <tr>\n      <th>1</th>\n      <td>20</td>\n      <td>80.0</td>\n      <td>9600</td>\n      <td>6</td>\n      <td>8</td>\n      <td>1976</td>\n      <td>1976</td>\n      <td>978</td>\n      <td>0</td>\n      <td>284</td>\n      <td>...</td>\n      <td>0</td>\n      <td>0</td>\n      <td>0</td>\n      <td>0</td>\n      <td>0</td>\n      <td>1</td>\n      <td>0</td>\n      <td>0</td>\n      <td>0</td>\n      <td>1</td>\n    </tr>\n    <tr>\n      <th>2</th>\n      <td>60</td>\n      <td>68.0</td>\n      <td>11250</td>\n      <td>7</td>\n      <td>5</td>\n      <td>2001</td>\n      <td>2002</td>\n      <td>486</td>\n      <td>0</td>\n      <td>434</td>\n      <td>...</td>\n      <td>0</td>\n      <td>0</td>\n      <td>0</td>\n      <td>0</td>\n      <td>0</td>\n      <td>1</td>\n      <td>0</td>\n      <td>0</td>\n      <td>0</td>\n      <td>1</td>\n    </tr>\n    <tr>\n      <th>3</th>\n      <td>70</td>\n      <td>60.0</td>\n      <td>9550</td>\n      <td>7</td>\n      <td>5</td>\n      <td>1915</td>\n      <td>1970</td>\n      <td>216</td>\n      <td>0</td>\n      <td>540</td>\n      <td>...</td>\n      <td>0</td>\n      <td>0</td>\n      <td>0</td>\n      <td>0</td>\n      <td>0</td>\n      <td>1</td>\n      <td>0</td>\n      <td>0</td>\n      <td>0</td>\n      <td>0</td>\n    </tr>\n    <tr>\n      <th>4</th>\n      <td>60</td>\n      <td>84.0</td>\n      <td>14260</td>\n      <td>8</td>\n      <td>5</td>\n      <td>2000</td>\n      <td>2000</td>\n      <td>655</td>\n      <td>0</td>\n      <td>490</td>\n      <td>...</td>\n      <td>0</td>\n      <td>0</td>\n      <td>0</td>\n      <td>0</td>\n      <td>0</td>\n      <td>1</td>\n      <td>0</td>\n      <td>0</td>\n      <td>0</td>\n      <td>1</td>\n    </tr>\n    <tr>\n      <th>...</th>\n      <td>...</td>\n      <td>...</td>\n      <td>...</td>\n      <td>...</td>\n      <td>...</td>\n      <td>...</td>\n      <td>...</td>\n      <td>...</td>\n      <td>...</td>\n      <td>...</td>\n      <td>...</td>\n      <td>...</td>\n      <td>...</td>\n      <td>...</td>\n      <td>...</td>\n      <td>...</td>\n      <td>...</td>\n      <td>...</td>\n      <td>...</td>\n      <td>...</td>\n      <td>...</td>\n    </tr>\n    <tr>\n      <th>1455</th>\n      <td>60</td>\n      <td>62.0</td>\n      <td>7917</td>\n      <td>6</td>\n      <td>5</td>\n      <td>1999</td>\n      <td>2000</td>\n      <td>0</td>\n      <td>0</td>\n      <td>953</td>\n      <td>...</td>\n      <td>0</td>\n      <td>0</td>\n      <td>0</td>\n      <td>0</td>\n      <td>0</td>\n      <td>1</td>\n      <td>0</td>\n      <td>0</td>\n      <td>0</td>\n      <td>1</td>\n    </tr>\n    <tr>\n      <th>1456</th>\n      <td>20</td>\n      <td>85.0</td>\n      <td>13175</td>\n      <td>6</td>\n      <td>6</td>\n      <td>1978</td>\n      <td>1988</td>\n      <td>790</td>\n      <td>163</td>\n      <td>589</td>\n      <td>...</td>\n      <td>0</td>\n      <td>0</td>\n      <td>0</td>\n      <td>0</td>\n      <td>0</td>\n      <td>1</td>\n      <td>0</td>\n      <td>0</td>\n      <td>0</td>\n      <td>1</td>\n    </tr>\n    <tr>\n      <th>1457</th>\n      <td>70</td>\n      <td>66.0</td>\n      <td>9042</td>\n      <td>7</td>\n      <td>9</td>\n      <td>1941</td>\n      <td>2006</td>\n      <td>275</td>\n      <td>0</td>\n      <td>877</td>\n      <td>...</td>\n      <td>0</td>\n      <td>0</td>\n      <td>0</td>\n      <td>0</td>\n      <td>0</td>\n      <td>1</td>\n      <td>0</td>\n      <td>0</td>\n      <td>0</td>\n      <td>1</td>\n    </tr>\n    <tr>\n      <th>1458</th>\n      <td>20</td>\n      <td>68.0</td>\n      <td>9717</td>\n      <td>5</td>\n      <td>6</td>\n      <td>1950</td>\n      <td>1996</td>\n      <td>49</td>\n      <td>1029</td>\n      <td>0</td>\n      <td>...</td>\n      <td>0</td>\n      <td>0</td>\n      <td>0</td>\n      <td>0</td>\n      <td>0</td>\n      <td>1</td>\n      <td>0</td>\n      <td>0</td>\n      <td>0</td>\n      <td>1</td>\n    </tr>\n    <tr>\n      <th>1459</th>\n      <td>20</td>\n      <td>75.0</td>\n      <td>9937</td>\n      <td>5</td>\n      <td>6</td>\n      <td>1965</td>\n      <td>1965</td>\n      <td>830</td>\n      <td>290</td>\n      <td>136</td>\n      <td>...</td>\n      <td>0</td>\n      <td>0</td>\n      <td>0</td>\n      <td>0</td>\n      <td>0</td>\n      <td>1</td>\n      <td>0</td>\n      <td>0</td>\n      <td>0</td>\n      <td>1</td>\n    </tr>\n  </tbody>\n</table>\n<p>1460 rows × 681 columns</p>\n</div>"
     },
     "execution_count": 30,
     "metadata": {},
     "output_type": "execute_result"
    }
   ],
   "source": [
    "X_new = dataset.loc[:,columns]\n",
    "X_new"
   ],
   "metadata": {
    "collapsed": false
   }
  },
  {
   "cell_type": "code",
   "execution_count": 31,
   "outputs": [],
   "source": [
    "from sklearn.model_selection import train_test_split\n",
    "X_train,X_test,y_train,y_test = train_test_split(X_new,y,test_size=0.3,random_state=0)"
   ],
   "metadata": {
    "collapsed": false
   }
  },
  {
   "cell_type": "code",
   "execution_count": 32,
   "outputs": [],
   "source": [
    "# from sklearn.preprocessing import StandardScaler\n",
    "# sc = StandardScaler()\n",
    "# X_train = sc.fit_transform(X_train)\n",
    "# X_test = sc.transform(X_test)"
   ],
   "metadata": {
    "collapsed": false
   }
  },
  {
   "cell_type": "code",
   "execution_count": 33,
   "outputs": [],
   "source": [
    "# from sklearn.decomposition import PCA\n",
    "# pca = PCA(n_components=18)\n",
    "# pca.fit(X)\n",
    "# X_pca = pca.transform(X)"
   ],
   "metadata": {
    "collapsed": false
   }
  },
  {
   "cell_type": "code",
   "execution_count": 34,
   "outputs": [],
   "source": [
    "# from sklearn.ensemble import RandomForestRegressor\n",
    "# model = RandomForestRegressor(n_estimators=1000,max_depth=25)\n",
    "# model.fit(X_train,y_train)"
   ],
   "metadata": {
    "collapsed": false
   }
  },
  {
   "cell_type": "code",
   "execution_count": 35,
   "outputs": [
    {
     "data": {
      "text/plain": "Lasso(alpha=0.5)"
     },
     "execution_count": 35,
     "metadata": {},
     "output_type": "execute_result"
    }
   ],
   "source": [
    "from sklearn.linear_model import Lasso\n",
    "model = Lasso(alpha=0.5)\n",
    "model.fit(X_train,y_train)"
   ],
   "metadata": {
    "collapsed": false
   }
  },
  {
   "cell_type": "code",
   "execution_count": 36,
   "outputs": [
    {
     "data": {
      "text/plain": "0.9999999999996404"
     },
     "execution_count": 36,
     "metadata": {},
     "output_type": "execute_result"
    }
   ],
   "source": [
    "model.score(X_test,y_test)"
   ],
   "metadata": {
    "collapsed": false
   }
  },
  {
   "cell_type": "code",
   "execution_count": 37,
   "outputs": [
    {
     "data": {
      "text/plain": "0.9999999999996373"
     },
     "execution_count": 37,
     "metadata": {},
     "output_type": "execute_result"
    }
   ],
   "source": [
    "model.score(X_train,y_train)"
   ],
   "metadata": {
    "collapsed": false
   }
  },
  {
   "cell_type": "code",
   "execution_count": 38,
   "outputs": [],
   "source": [
    "y_pred = model.predict(X_test)"
   ],
   "metadata": {
    "collapsed": false
   }
  },
  {
   "cell_type": "code",
   "execution_count": 39,
   "outputs": [],
   "source": [
    "y_pred_train = model.predict(X_train)"
   ],
   "metadata": {
    "collapsed": false
   }
  },
  {
   "cell_type": "code",
   "execution_count": 40,
   "outputs": [
    {
     "name": "stdout",
     "output_type": "stream",
     "text": [
      "Train R2 Score: 0.9999999999996373\n",
      "Train Mean Squared Error: 0.002212193291860131\n",
      "Train Accuracy: 0.9999999999996373\n"
     ]
    }
   ],
   "source": [
    "metrics.Regression.train(y_train,y_pred_train)"
   ],
   "metadata": {
    "collapsed": false
   }
  },
  {
   "cell_type": "code",
   "execution_count": 41,
   "outputs": [
    {
     "name": "stdout",
     "output_type": "stream",
     "text": [
      "R2 Score: 0.9999999999996404\n",
      "Mean Squared Error: 0.0024411495912877923\n",
      "Accuracy: 0.9999999999996404\n"
     ]
    }
   ],
   "source": [
    "metrics.Regression.test(y_test,y_pred)"
   ],
   "metadata": {
    "collapsed": false
   }
  },
  {
   "cell_type": "code",
   "execution_count": 41,
   "outputs": [],
   "source": [],
   "metadata": {
    "collapsed": false
   }
  }
 ],
 "metadata": {
  "kernelspec": {
   "display_name": "Python 3",
   "language": "python",
   "name": "python3"
  },
  "language_info": {
   "codemirror_mode": {
    "name": "ipython",
    "version": 2
   },
   "file_extension": ".py",
   "mimetype": "text/x-python",
   "name": "python",
   "nbconvert_exporter": "python",
   "pygments_lexer": "ipython2",
   "version": "2.7.6"
  }
 },
 "nbformat": 4,
 "nbformat_minor": 0
}
