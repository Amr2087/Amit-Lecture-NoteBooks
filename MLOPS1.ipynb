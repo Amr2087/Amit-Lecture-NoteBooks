{
 "cells": [
  {
   "cell_type": "markdown",
   "id": "2c44fd61-8841-4fec-a8b9-f117ee730a1d",
   "metadata": {},
   "source": [
    "## import Liberaries"
   ]
  },
  {
   "cell_type": "code",
   "execution_count": 4,
   "id": "b6e3a67c-183f-4524-b331-8952a37afe38",
   "metadata": {
    "ExecuteTime": {
     "start_time": "2023-04-14T11:50:13.893196Z",
     "end_time": "2023-04-14T11:50:15.317678Z"
    }
   },
   "outputs": [],
   "source": [
    "import pandas as pd \n",
    "import matplotlib.pyplot as plt \n",
    "import seaborn as sns \n",
    "import numpy as np \n",
    "import warnings\n",
    "warnings.filterwarnings('ignore')"
   ]
  },
  {
   "cell_type": "code",
   "execution_count": 5,
   "id": "678170e7-ade0-4e94-a360-022e85e75d80",
   "metadata": {
    "ExecuteTime": {
     "start_time": "2023-04-14T11:50:13.918012Z",
     "end_time": "2023-04-14T11:50:15.319677Z"
    }
   },
   "outputs": [
    {
     "data": {
      "text/plain": "  Booking_ID  no_of_adults  no_of_children  no_of_weekend_nights  \\\n0   INN00001             2               0                     1   \n1   INN00002             2               0                     2   \n2   INN00003             1               0                     2   \n3   INN00004             2               0                     0   \n4   INN00005             2               0                     1   \n\n   no_of_week_nights type_of_meal_plan  required_car_parking_space  \\\n0                  2       Meal Plan 1                           0   \n1                  3      Not Selected                           0   \n2                  1       Meal Plan 1                           0   \n3                  2       Meal Plan 1                           0   \n4                  1      Not Selected                           0   \n\n  room_type_reserved  lead_time  arrival_year  arrival_month  arrival_date  \\\n0        Room_Type 1        224          2017             10             2   \n1        Room_Type 1          5          2018             11             6   \n2        Room_Type 1          1          2018              2            28   \n3        Room_Type 1        211          2018              5            20   \n4        Room_Type 1         48          2018              4            11   \n\n  market_segment_type  repeated_guest  no_of_previous_cancellations  \\\n0             Offline               0                             0   \n1              Online               0                             0   \n2              Online               0                             0   \n3              Online               0                             0   \n4              Online               0                             0   \n\n   no_of_previous_bookings_not_canceled  avg_price_per_room  \\\n0                                     0               65.00   \n1                                     0              106.68   \n2                                     0               60.00   \n3                                     0              100.00   \n4                                     0               94.50   \n\n   no_of_special_requests booking_status  \n0                       0   Not_Canceled  \n1                       1   Not_Canceled  \n2                       0       Canceled  \n3                       0       Canceled  \n4                       0       Canceled  ",
      "text/html": "<div>\n<style scoped>\n    .dataframe tbody tr th:only-of-type {\n        vertical-align: middle;\n    }\n\n    .dataframe tbody tr th {\n        vertical-align: top;\n    }\n\n    .dataframe thead th {\n        text-align: right;\n    }\n</style>\n<table border=\"1\" class=\"dataframe\">\n  <thead>\n    <tr style=\"text-align: right;\">\n      <th></th>\n      <th>Booking_ID</th>\n      <th>no_of_adults</th>\n      <th>no_of_children</th>\n      <th>no_of_weekend_nights</th>\n      <th>no_of_week_nights</th>\n      <th>type_of_meal_plan</th>\n      <th>required_car_parking_space</th>\n      <th>room_type_reserved</th>\n      <th>lead_time</th>\n      <th>arrival_year</th>\n      <th>arrival_month</th>\n      <th>arrival_date</th>\n      <th>market_segment_type</th>\n      <th>repeated_guest</th>\n      <th>no_of_previous_cancellations</th>\n      <th>no_of_previous_bookings_not_canceled</th>\n      <th>avg_price_per_room</th>\n      <th>no_of_special_requests</th>\n      <th>booking_status</th>\n    </tr>\n  </thead>\n  <tbody>\n    <tr>\n      <th>0</th>\n      <td>INN00001</td>\n      <td>2</td>\n      <td>0</td>\n      <td>1</td>\n      <td>2</td>\n      <td>Meal Plan 1</td>\n      <td>0</td>\n      <td>Room_Type 1</td>\n      <td>224</td>\n      <td>2017</td>\n      <td>10</td>\n      <td>2</td>\n      <td>Offline</td>\n      <td>0</td>\n      <td>0</td>\n      <td>0</td>\n      <td>65.00</td>\n      <td>0</td>\n      <td>Not_Canceled</td>\n    </tr>\n    <tr>\n      <th>1</th>\n      <td>INN00002</td>\n      <td>2</td>\n      <td>0</td>\n      <td>2</td>\n      <td>3</td>\n      <td>Not Selected</td>\n      <td>0</td>\n      <td>Room_Type 1</td>\n      <td>5</td>\n      <td>2018</td>\n      <td>11</td>\n      <td>6</td>\n      <td>Online</td>\n      <td>0</td>\n      <td>0</td>\n      <td>0</td>\n      <td>106.68</td>\n      <td>1</td>\n      <td>Not_Canceled</td>\n    </tr>\n    <tr>\n      <th>2</th>\n      <td>INN00003</td>\n      <td>1</td>\n      <td>0</td>\n      <td>2</td>\n      <td>1</td>\n      <td>Meal Plan 1</td>\n      <td>0</td>\n      <td>Room_Type 1</td>\n      <td>1</td>\n      <td>2018</td>\n      <td>2</td>\n      <td>28</td>\n      <td>Online</td>\n      <td>0</td>\n      <td>0</td>\n      <td>0</td>\n      <td>60.00</td>\n      <td>0</td>\n      <td>Canceled</td>\n    </tr>\n    <tr>\n      <th>3</th>\n      <td>INN00004</td>\n      <td>2</td>\n      <td>0</td>\n      <td>0</td>\n      <td>2</td>\n      <td>Meal Plan 1</td>\n      <td>0</td>\n      <td>Room_Type 1</td>\n      <td>211</td>\n      <td>2018</td>\n      <td>5</td>\n      <td>20</td>\n      <td>Online</td>\n      <td>0</td>\n      <td>0</td>\n      <td>0</td>\n      <td>100.00</td>\n      <td>0</td>\n      <td>Canceled</td>\n    </tr>\n    <tr>\n      <th>4</th>\n      <td>INN00005</td>\n      <td>2</td>\n      <td>0</td>\n      <td>1</td>\n      <td>1</td>\n      <td>Not Selected</td>\n      <td>0</td>\n      <td>Room_Type 1</td>\n      <td>48</td>\n      <td>2018</td>\n      <td>4</td>\n      <td>11</td>\n      <td>Online</td>\n      <td>0</td>\n      <td>0</td>\n      <td>0</td>\n      <td>94.50</td>\n      <td>0</td>\n      <td>Canceled</td>\n    </tr>\n  </tbody>\n</table>\n</div>"
     },
     "execution_count": 5,
     "metadata": {},
     "output_type": "execute_result"
    }
   ],
   "source": [
    "data=pd.read_csv('data/Hotel Reservations.csv')\n",
    "data.head()"
   ]
  },
  {
   "cell_type": "code",
   "execution_count": 6,
   "id": "25ff8a26-701f-4491-a101-cd1028d616e0",
   "metadata": {
    "ExecuteTime": {
     "start_time": "2023-04-14T11:50:14.146231Z",
     "end_time": "2023-04-14T11:50:15.319677Z"
    }
   },
   "outputs": [],
   "source": [
    "data.drop('Booking_ID',axis=1,inplace=True)"
   ]
  },
  {
   "cell_type": "code",
   "execution_count": 7,
   "id": "c7fb3d14-92ae-4182-9e05-88fca0d0caad",
   "metadata": {
    "ExecuteTime": {
     "start_time": "2023-04-14T11:50:14.174574Z",
     "end_time": "2023-04-14T11:50:15.320679Z"
    }
   },
   "outputs": [
    {
     "data": {
      "text/plain": "10275"
     },
     "execution_count": 7,
     "metadata": {},
     "output_type": "execute_result"
    }
   ],
   "source": [
    "#check duplicates\n",
    "data.duplicated().sum()"
   ]
  },
  {
   "cell_type": "code",
   "execution_count": 8,
   "id": "982e4aa2-5193-4c6e-b385-eb70517d1a2c",
   "metadata": {
    "ExecuteTime": {
     "start_time": "2023-04-14T11:50:14.239863Z",
     "end_time": "2023-04-14T11:50:15.320679Z"
    }
   },
   "outputs": [
    {
     "data": {
      "text/plain": "(36275, 18)"
     },
     "execution_count": 8,
     "metadata": {},
     "output_type": "execute_result"
    }
   ],
   "source": [
    "data.shape"
   ]
  },
  {
   "cell_type": "code",
   "execution_count": 9,
   "id": "59985618-0bcd-4c2c-9bee-d3325354988a",
   "metadata": {
    "ExecuteTime": {
     "start_time": "2023-04-14T11:50:14.253390Z",
     "end_time": "2023-04-14T11:50:15.320679Z"
    }
   },
   "outputs": [],
   "source": [
    "data.drop_duplicates(inplace=True)"
   ]
  },
  {
   "cell_type": "code",
   "execution_count": 10,
   "id": "8e2c3386-607c-4d48-af59-cd07f1e52f73",
   "metadata": {
    "ExecuteTime": {
     "start_time": "2023-04-14T11:50:14.316338Z",
     "end_time": "2023-04-14T11:50:15.320679Z"
    }
   },
   "outputs": [
    {
     "data": {
      "text/plain": "Int64Index([    0,     1,     2,     3,     4,     5,     6,     7,     8,\n                9,\n            ...\n            36260, 36262, 36264, 36265, 36266, 36269, 36270, 36271, 36272,\n            36273],\n           dtype='int64', length=26000)"
     },
     "execution_count": 10,
     "metadata": {},
     "output_type": "execute_result"
    }
   ],
   "source": [
    "data.index"
   ]
  },
  {
   "cell_type": "code",
   "execution_count": 11,
   "id": "d7bae82d-4e35-4659-9ca1-57e78d069909",
   "metadata": {
    "ExecuteTime": {
     "start_time": "2023-04-14T11:50:14.334411Z",
     "end_time": "2023-04-14T11:50:15.321680Z"
    }
   },
   "outputs": [
    {
     "data": {
      "text/plain": "   index  no_of_adults  no_of_children  no_of_weekend_nights  \\\n0      0             2               0                     1   \n1      1             2               0                     2   \n2      2             1               0                     2   \n3      3             2               0                     0   \n4      4             2               0                     1   \n\n   no_of_week_nights type_of_meal_plan  required_car_parking_space  \\\n0                  2       Meal Plan 1                           0   \n1                  3      Not Selected                           0   \n2                  1       Meal Plan 1                           0   \n3                  2       Meal Plan 1                           0   \n4                  1      Not Selected                           0   \n\n  room_type_reserved  lead_time  arrival_year  arrival_month  arrival_date  \\\n0        Room_Type 1        224          2017             10             2   \n1        Room_Type 1          5          2018             11             6   \n2        Room_Type 1          1          2018              2            28   \n3        Room_Type 1        211          2018              5            20   \n4        Room_Type 1         48          2018              4            11   \n\n  market_segment_type  repeated_guest  no_of_previous_cancellations  \\\n0             Offline               0                             0   \n1              Online               0                             0   \n2              Online               0                             0   \n3              Online               0                             0   \n4              Online               0                             0   \n\n   no_of_previous_bookings_not_canceled  avg_price_per_room  \\\n0                                     0               65.00   \n1                                     0              106.68   \n2                                     0               60.00   \n3                                     0              100.00   \n4                                     0               94.50   \n\n   no_of_special_requests booking_status  \n0                       0   Not_Canceled  \n1                       1   Not_Canceled  \n2                       0       Canceled  \n3                       0       Canceled  \n4                       0       Canceled  ",
      "text/html": "<div>\n<style scoped>\n    .dataframe tbody tr th:only-of-type {\n        vertical-align: middle;\n    }\n\n    .dataframe tbody tr th {\n        vertical-align: top;\n    }\n\n    .dataframe thead th {\n        text-align: right;\n    }\n</style>\n<table border=\"1\" class=\"dataframe\">\n  <thead>\n    <tr style=\"text-align: right;\">\n      <th></th>\n      <th>index</th>\n      <th>no_of_adults</th>\n      <th>no_of_children</th>\n      <th>no_of_weekend_nights</th>\n      <th>no_of_week_nights</th>\n      <th>type_of_meal_plan</th>\n      <th>required_car_parking_space</th>\n      <th>room_type_reserved</th>\n      <th>lead_time</th>\n      <th>arrival_year</th>\n      <th>arrival_month</th>\n      <th>arrival_date</th>\n      <th>market_segment_type</th>\n      <th>repeated_guest</th>\n      <th>no_of_previous_cancellations</th>\n      <th>no_of_previous_bookings_not_canceled</th>\n      <th>avg_price_per_room</th>\n      <th>no_of_special_requests</th>\n      <th>booking_status</th>\n    </tr>\n  </thead>\n  <tbody>\n    <tr>\n      <th>0</th>\n      <td>0</td>\n      <td>2</td>\n      <td>0</td>\n      <td>1</td>\n      <td>2</td>\n      <td>Meal Plan 1</td>\n      <td>0</td>\n      <td>Room_Type 1</td>\n      <td>224</td>\n      <td>2017</td>\n      <td>10</td>\n      <td>2</td>\n      <td>Offline</td>\n      <td>0</td>\n      <td>0</td>\n      <td>0</td>\n      <td>65.00</td>\n      <td>0</td>\n      <td>Not_Canceled</td>\n    </tr>\n    <tr>\n      <th>1</th>\n      <td>1</td>\n      <td>2</td>\n      <td>0</td>\n      <td>2</td>\n      <td>3</td>\n      <td>Not Selected</td>\n      <td>0</td>\n      <td>Room_Type 1</td>\n      <td>5</td>\n      <td>2018</td>\n      <td>11</td>\n      <td>6</td>\n      <td>Online</td>\n      <td>0</td>\n      <td>0</td>\n      <td>0</td>\n      <td>106.68</td>\n      <td>1</td>\n      <td>Not_Canceled</td>\n    </tr>\n    <tr>\n      <th>2</th>\n      <td>2</td>\n      <td>1</td>\n      <td>0</td>\n      <td>2</td>\n      <td>1</td>\n      <td>Meal Plan 1</td>\n      <td>0</td>\n      <td>Room_Type 1</td>\n      <td>1</td>\n      <td>2018</td>\n      <td>2</td>\n      <td>28</td>\n      <td>Online</td>\n      <td>0</td>\n      <td>0</td>\n      <td>0</td>\n      <td>60.00</td>\n      <td>0</td>\n      <td>Canceled</td>\n    </tr>\n    <tr>\n      <th>3</th>\n      <td>3</td>\n      <td>2</td>\n      <td>0</td>\n      <td>0</td>\n      <td>2</td>\n      <td>Meal Plan 1</td>\n      <td>0</td>\n      <td>Room_Type 1</td>\n      <td>211</td>\n      <td>2018</td>\n      <td>5</td>\n      <td>20</td>\n      <td>Online</td>\n      <td>0</td>\n      <td>0</td>\n      <td>0</td>\n      <td>100.00</td>\n      <td>0</td>\n      <td>Canceled</td>\n    </tr>\n    <tr>\n      <th>4</th>\n      <td>4</td>\n      <td>2</td>\n      <td>0</td>\n      <td>1</td>\n      <td>1</td>\n      <td>Not Selected</td>\n      <td>0</td>\n      <td>Room_Type 1</td>\n      <td>48</td>\n      <td>2018</td>\n      <td>4</td>\n      <td>11</td>\n      <td>Online</td>\n      <td>0</td>\n      <td>0</td>\n      <td>0</td>\n      <td>94.50</td>\n      <td>0</td>\n      <td>Canceled</td>\n    </tr>\n  </tbody>\n</table>\n</div>"
     },
     "execution_count": 11,
     "metadata": {},
     "output_type": "execute_result"
    }
   ],
   "source": [
    "data.reset_index(inplace=True)\n",
    "data.head()"
   ]
  },
  {
   "cell_type": "code",
   "execution_count": 12,
   "id": "370aa3f1-2223-47a4-b88f-a53c281678b0",
   "metadata": {
    "ExecuteTime": {
     "start_time": "2023-04-14T11:50:14.381814Z",
     "end_time": "2023-04-14T11:50:15.321680Z"
    }
   },
   "outputs": [],
   "source": [
    "data.drop('index',inplace=True,axis=1)"
   ]
  },
  {
   "cell_type": "code",
   "execution_count": 13,
   "id": "19c880ee-1e6f-439e-92d7-cbd71e40b0f8",
   "metadata": {
    "ExecuteTime": {
     "start_time": "2023-04-14T11:50:14.410416Z",
     "end_time": "2023-04-14T11:50:15.321680Z"
    }
   },
   "outputs": [
    {
     "data": {
      "text/plain": "   no_of_adults  no_of_children  no_of_weekend_nights  no_of_week_nights  \\\n0             2               0                     1                  2   \n1             2               0                     2                  3   \n2             1               0                     2                  1   \n3             2               0                     0                  2   \n4             2               0                     1                  1   \n\n  type_of_meal_plan  required_car_parking_space room_type_reserved  lead_time  \\\n0       Meal Plan 1                           0        Room_Type 1        224   \n1      Not Selected                           0        Room_Type 1          5   \n2       Meal Plan 1                           0        Room_Type 1          1   \n3       Meal Plan 1                           0        Room_Type 1        211   \n4      Not Selected                           0        Room_Type 1         48   \n\n   arrival_year  arrival_month  arrival_date market_segment_type  \\\n0          2017             10             2             Offline   \n1          2018             11             6              Online   \n2          2018              2            28              Online   \n3          2018              5            20              Online   \n4          2018              4            11              Online   \n\n   repeated_guest  no_of_previous_cancellations  \\\n0               0                             0   \n1               0                             0   \n2               0                             0   \n3               0                             0   \n4               0                             0   \n\n   no_of_previous_bookings_not_canceled  avg_price_per_room  \\\n0                                     0               65.00   \n1                                     0              106.68   \n2                                     0               60.00   \n3                                     0              100.00   \n4                                     0               94.50   \n\n   no_of_special_requests booking_status  \n0                       0   Not_Canceled  \n1                       1   Not_Canceled  \n2                       0       Canceled  \n3                       0       Canceled  \n4                       0       Canceled  ",
      "text/html": "<div>\n<style scoped>\n    .dataframe tbody tr th:only-of-type {\n        vertical-align: middle;\n    }\n\n    .dataframe tbody tr th {\n        vertical-align: top;\n    }\n\n    .dataframe thead th {\n        text-align: right;\n    }\n</style>\n<table border=\"1\" class=\"dataframe\">\n  <thead>\n    <tr style=\"text-align: right;\">\n      <th></th>\n      <th>no_of_adults</th>\n      <th>no_of_children</th>\n      <th>no_of_weekend_nights</th>\n      <th>no_of_week_nights</th>\n      <th>type_of_meal_plan</th>\n      <th>required_car_parking_space</th>\n      <th>room_type_reserved</th>\n      <th>lead_time</th>\n      <th>arrival_year</th>\n      <th>arrival_month</th>\n      <th>arrival_date</th>\n      <th>market_segment_type</th>\n      <th>repeated_guest</th>\n      <th>no_of_previous_cancellations</th>\n      <th>no_of_previous_bookings_not_canceled</th>\n      <th>avg_price_per_room</th>\n      <th>no_of_special_requests</th>\n      <th>booking_status</th>\n    </tr>\n  </thead>\n  <tbody>\n    <tr>\n      <th>0</th>\n      <td>2</td>\n      <td>0</td>\n      <td>1</td>\n      <td>2</td>\n      <td>Meal Plan 1</td>\n      <td>0</td>\n      <td>Room_Type 1</td>\n      <td>224</td>\n      <td>2017</td>\n      <td>10</td>\n      <td>2</td>\n      <td>Offline</td>\n      <td>0</td>\n      <td>0</td>\n      <td>0</td>\n      <td>65.00</td>\n      <td>0</td>\n      <td>Not_Canceled</td>\n    </tr>\n    <tr>\n      <th>1</th>\n      <td>2</td>\n      <td>0</td>\n      <td>2</td>\n      <td>3</td>\n      <td>Not Selected</td>\n      <td>0</td>\n      <td>Room_Type 1</td>\n      <td>5</td>\n      <td>2018</td>\n      <td>11</td>\n      <td>6</td>\n      <td>Online</td>\n      <td>0</td>\n      <td>0</td>\n      <td>0</td>\n      <td>106.68</td>\n      <td>1</td>\n      <td>Not_Canceled</td>\n    </tr>\n    <tr>\n      <th>2</th>\n      <td>1</td>\n      <td>0</td>\n      <td>2</td>\n      <td>1</td>\n      <td>Meal Plan 1</td>\n      <td>0</td>\n      <td>Room_Type 1</td>\n      <td>1</td>\n      <td>2018</td>\n      <td>2</td>\n      <td>28</td>\n      <td>Online</td>\n      <td>0</td>\n      <td>0</td>\n      <td>0</td>\n      <td>60.00</td>\n      <td>0</td>\n      <td>Canceled</td>\n    </tr>\n    <tr>\n      <th>3</th>\n      <td>2</td>\n      <td>0</td>\n      <td>0</td>\n      <td>2</td>\n      <td>Meal Plan 1</td>\n      <td>0</td>\n      <td>Room_Type 1</td>\n      <td>211</td>\n      <td>2018</td>\n      <td>5</td>\n      <td>20</td>\n      <td>Online</td>\n      <td>0</td>\n      <td>0</td>\n      <td>0</td>\n      <td>100.00</td>\n      <td>0</td>\n      <td>Canceled</td>\n    </tr>\n    <tr>\n      <th>4</th>\n      <td>2</td>\n      <td>0</td>\n      <td>1</td>\n      <td>1</td>\n      <td>Not Selected</td>\n      <td>0</td>\n      <td>Room_Type 1</td>\n      <td>48</td>\n      <td>2018</td>\n      <td>4</td>\n      <td>11</td>\n      <td>Online</td>\n      <td>0</td>\n      <td>0</td>\n      <td>0</td>\n      <td>94.50</td>\n      <td>0</td>\n      <td>Canceled</td>\n    </tr>\n  </tbody>\n</table>\n</div>"
     },
     "execution_count": 13,
     "metadata": {},
     "output_type": "execute_result"
    }
   ],
   "source": [
    "data.head()"
   ]
  },
  {
   "cell_type": "code",
   "execution_count": 14,
   "id": "30f3f558-3504-4c0b-b21d-1cfdff13a440",
   "metadata": {
    "ExecuteTime": {
     "start_time": "2023-04-14T11:50:14.439501Z",
     "end_time": "2023-04-14T11:50:15.321680Z"
    }
   },
   "outputs": [],
   "source": [
    "def column_info(data):\n",
    "    cols=[]\n",
    "    dtypes=[]\n",
    "    n_uniques=[]\n",
    "    v_uniques=[]\n",
    "    null_per=[]\n",
    "    \n",
    "    for col in data.columns:\n",
    "        cols.append(col)\n",
    "        dtypes.append(data[col].dtype)\n",
    "        v_uniques.append(data[col].unique())\n",
    "        n_uniques.append(data[col].nunique())\n",
    "        null_per.append(data[col].isna().sum()/len(data))\n",
    "        \n",
    "    return pd.DataFrame({'column':cols,'dtype':dtypes,'unique values':v_uniques,'n_unique':n_uniques,'null per':null_per})\n"
   ]
  },
  {
   "cell_type": "code",
   "execution_count": 15,
   "id": "453d080c-6f00-4adf-833d-45947feb6382",
   "metadata": {
    "ExecuteTime": {
     "start_time": "2023-04-14T11:50:14.459572Z",
     "end_time": "2023-04-14T11:50:15.349169Z"
    }
   },
   "outputs": [
    {
     "data": {
      "text/plain": "                                  column    dtype  \\\n0                           no_of_adults    int64   \n1                         no_of_children    int64   \n2                   no_of_weekend_nights    int64   \n3                      no_of_week_nights    int64   \n4                      type_of_meal_plan   object   \n5             required_car_parking_space    int64   \n6                     room_type_reserved   object   \n7                              lead_time    int64   \n8                           arrival_year    int64   \n9                          arrival_month    int64   \n10                          arrival_date    int64   \n11                   market_segment_type   object   \n12                        repeated_guest    int64   \n13          no_of_previous_cancellations    int64   \n14  no_of_previous_bookings_not_canceled    int64   \n15                    avg_price_per_room  float64   \n16                no_of_special_requests    int64   \n17                        booking_status   object   \n\n                                        unique values  n_unique  null per  \n0                                     [2, 1, 3, 0, 4]         5       0.0  \n1                                 [0, 2, 1, 3, 10, 9]         6       0.0  \n2                            [1, 2, 0, 4, 3, 6, 5, 7]         8       0.0  \n3   [2, 3, 1, 4, 5, 0, 10, 6, 11, 7, 15, 9, 13, 8,...        18       0.0  \n4   [Meal Plan 1, Not Selected, Meal Plan 2, Meal ...         4       0.0  \n5                                              [0, 1]         2       0.0  \n6   [Room_Type 1, Room_Type 4, Room_Type 2, Room_T...         7       0.0  \n7   [224, 5, 1, 211, 48, 346, 34, 83, 121, 44, 0, ...       352       0.0  \n8                                        [2017, 2018]         2       0.0  \n9             [10, 11, 2, 5, 4, 9, 12, 7, 6, 8, 3, 1]        12       0.0  \n10  [2, 6, 28, 20, 11, 13, 15, 26, 18, 30, 5, 10, ...        31       0.0  \n11  [Offline, Online, Corporate, Aviation, Complem...         5       0.0  \n12                                             [0, 1]         2       0.0  \n13                      [0, 3, 1, 2, 11, 4, 5, 13, 6]         9       0.0  \n14  [0, 5, 1, 3, 4, 12, 19, 2, 15, 17, 7, 20, 16, ...        59       0.0  \n15  [65.0, 106.68, 60.0, 100.0, 94.5, 115.0, 107.5...      3930       0.0  \n16                                 [0, 1, 3, 2, 4, 5]         6       0.0  \n17                           [Not_Canceled, Canceled]         2       0.0  ",
      "text/html": "<div>\n<style scoped>\n    .dataframe tbody tr th:only-of-type {\n        vertical-align: middle;\n    }\n\n    .dataframe tbody tr th {\n        vertical-align: top;\n    }\n\n    .dataframe thead th {\n        text-align: right;\n    }\n</style>\n<table border=\"1\" class=\"dataframe\">\n  <thead>\n    <tr style=\"text-align: right;\">\n      <th></th>\n      <th>column</th>\n      <th>dtype</th>\n      <th>unique values</th>\n      <th>n_unique</th>\n      <th>null per</th>\n    </tr>\n  </thead>\n  <tbody>\n    <tr>\n      <th>0</th>\n      <td>no_of_adults</td>\n      <td>int64</td>\n      <td>[2, 1, 3, 0, 4]</td>\n      <td>5</td>\n      <td>0.0</td>\n    </tr>\n    <tr>\n      <th>1</th>\n      <td>no_of_children</td>\n      <td>int64</td>\n      <td>[0, 2, 1, 3, 10, 9]</td>\n      <td>6</td>\n      <td>0.0</td>\n    </tr>\n    <tr>\n      <th>2</th>\n      <td>no_of_weekend_nights</td>\n      <td>int64</td>\n      <td>[1, 2, 0, 4, 3, 6, 5, 7]</td>\n      <td>8</td>\n      <td>0.0</td>\n    </tr>\n    <tr>\n      <th>3</th>\n      <td>no_of_week_nights</td>\n      <td>int64</td>\n      <td>[2, 3, 1, 4, 5, 0, 10, 6, 11, 7, 15, 9, 13, 8,...</td>\n      <td>18</td>\n      <td>0.0</td>\n    </tr>\n    <tr>\n      <th>4</th>\n      <td>type_of_meal_plan</td>\n      <td>object</td>\n      <td>[Meal Plan 1, Not Selected, Meal Plan 2, Meal ...</td>\n      <td>4</td>\n      <td>0.0</td>\n    </tr>\n    <tr>\n      <th>5</th>\n      <td>required_car_parking_space</td>\n      <td>int64</td>\n      <td>[0, 1]</td>\n      <td>2</td>\n      <td>0.0</td>\n    </tr>\n    <tr>\n      <th>6</th>\n      <td>room_type_reserved</td>\n      <td>object</td>\n      <td>[Room_Type 1, Room_Type 4, Room_Type 2, Room_T...</td>\n      <td>7</td>\n      <td>0.0</td>\n    </tr>\n    <tr>\n      <th>7</th>\n      <td>lead_time</td>\n      <td>int64</td>\n      <td>[224, 5, 1, 211, 48, 346, 34, 83, 121, 44, 0, ...</td>\n      <td>352</td>\n      <td>0.0</td>\n    </tr>\n    <tr>\n      <th>8</th>\n      <td>arrival_year</td>\n      <td>int64</td>\n      <td>[2017, 2018]</td>\n      <td>2</td>\n      <td>0.0</td>\n    </tr>\n    <tr>\n      <th>9</th>\n      <td>arrival_month</td>\n      <td>int64</td>\n      <td>[10, 11, 2, 5, 4, 9, 12, 7, 6, 8, 3, 1]</td>\n      <td>12</td>\n      <td>0.0</td>\n    </tr>\n    <tr>\n      <th>10</th>\n      <td>arrival_date</td>\n      <td>int64</td>\n      <td>[2, 6, 28, 20, 11, 13, 15, 26, 18, 30, 5, 10, ...</td>\n      <td>31</td>\n      <td>0.0</td>\n    </tr>\n    <tr>\n      <th>11</th>\n      <td>market_segment_type</td>\n      <td>object</td>\n      <td>[Offline, Online, Corporate, Aviation, Complem...</td>\n      <td>5</td>\n      <td>0.0</td>\n    </tr>\n    <tr>\n      <th>12</th>\n      <td>repeated_guest</td>\n      <td>int64</td>\n      <td>[0, 1]</td>\n      <td>2</td>\n      <td>0.0</td>\n    </tr>\n    <tr>\n      <th>13</th>\n      <td>no_of_previous_cancellations</td>\n      <td>int64</td>\n      <td>[0, 3, 1, 2, 11, 4, 5, 13, 6]</td>\n      <td>9</td>\n      <td>0.0</td>\n    </tr>\n    <tr>\n      <th>14</th>\n      <td>no_of_previous_bookings_not_canceled</td>\n      <td>int64</td>\n      <td>[0, 5, 1, 3, 4, 12, 19, 2, 15, 17, 7, 20, 16, ...</td>\n      <td>59</td>\n      <td>0.0</td>\n    </tr>\n    <tr>\n      <th>15</th>\n      <td>avg_price_per_room</td>\n      <td>float64</td>\n      <td>[65.0, 106.68, 60.0, 100.0, 94.5, 115.0, 107.5...</td>\n      <td>3930</td>\n      <td>0.0</td>\n    </tr>\n    <tr>\n      <th>16</th>\n      <td>no_of_special_requests</td>\n      <td>int64</td>\n      <td>[0, 1, 3, 2, 4, 5]</td>\n      <td>6</td>\n      <td>0.0</td>\n    </tr>\n    <tr>\n      <th>17</th>\n      <td>booking_status</td>\n      <td>object</td>\n      <td>[Not_Canceled, Canceled]</td>\n      <td>2</td>\n      <td>0.0</td>\n    </tr>\n  </tbody>\n</table>\n</div>"
     },
     "execution_count": 15,
     "metadata": {},
     "output_type": "execute_result"
    }
   ],
   "source": [
    "column_info(data)"
   ]
  },
  {
   "cell_type": "code",
   "execution_count": 16,
   "id": "87c2108f-6214-40ee-96cf-73477774dc55",
   "metadata": {
    "ExecuteTime": {
     "start_time": "2023-04-14T11:50:14.552712Z",
     "end_time": "2023-04-14T11:50:15.350169Z"
    }
   },
   "outputs": [
    {
     "data": {
      "text/plain": "Not_Canceled    92\nCanceled        43\nName: booking_status, dtype: int64"
     },
     "execution_count": 16,
     "metadata": {},
     "output_type": "execute_result"
    }
   ],
   "source": [
    "data[data['no_of_adults']==0]['booking_status'].value_counts()"
   ]
  },
  {
   "cell_type": "code",
   "execution_count": 17,
   "id": "e011debd-c3b2-4b0a-ac1e-53a672eb5a9c",
   "metadata": {
    "ExecuteTime": {
     "start_time": "2023-04-14T11:50:14.584483Z",
     "end_time": "2023-04-14T11:50:15.350169Z"
    }
   },
   "outputs": [
    {
     "data": {
      "text/plain": "2    129\n3      5\n1      1\nName: no_of_children, dtype: int64"
     },
     "execution_count": 17,
     "metadata": {},
     "output_type": "execute_result"
    }
   ],
   "source": [
    "data[data['no_of_adults']==0]['no_of_children'].value_counts()"
   ]
  },
  {
   "cell_type": "code",
   "execution_count": 18,
   "id": "b79f2e7b-c32d-4581-9ca7-afec17927de7",
   "metadata": {
    "ExecuteTime": {
     "start_time": "2023-04-14T11:50:14.611039Z",
     "end_time": "2023-04-14T11:50:15.350169Z"
    }
   },
   "outputs": [
    {
     "data": {
      "text/plain": "      no_of_adults  no_of_children  no_of_weekend_nights  no_of_week_nights  \\\n5289             2              10                     0                  2   \n\n     type_of_meal_plan  required_car_parking_space room_type_reserved  \\\n5289       Meal Plan 1                           0        Room_Type 4   \n\n      lead_time  arrival_year  arrival_month  arrival_date  \\\n5289         37          2018              1            12   \n\n     market_segment_type  repeated_guest  no_of_previous_cancellations  \\\n5289              Online               0                             0   \n\n      no_of_previous_bookings_not_canceled  avg_price_per_room  \\\n5289                                     0               84.45   \n\n      no_of_special_requests booking_status  \n5289                       1   Not_Canceled  ",
      "text/html": "<div>\n<style scoped>\n    .dataframe tbody tr th:only-of-type {\n        vertical-align: middle;\n    }\n\n    .dataframe tbody tr th {\n        vertical-align: top;\n    }\n\n    .dataframe thead th {\n        text-align: right;\n    }\n</style>\n<table border=\"1\" class=\"dataframe\">\n  <thead>\n    <tr style=\"text-align: right;\">\n      <th></th>\n      <th>no_of_adults</th>\n      <th>no_of_children</th>\n      <th>no_of_weekend_nights</th>\n      <th>no_of_week_nights</th>\n      <th>type_of_meal_plan</th>\n      <th>required_car_parking_space</th>\n      <th>room_type_reserved</th>\n      <th>lead_time</th>\n      <th>arrival_year</th>\n      <th>arrival_month</th>\n      <th>arrival_date</th>\n      <th>market_segment_type</th>\n      <th>repeated_guest</th>\n      <th>no_of_previous_cancellations</th>\n      <th>no_of_previous_bookings_not_canceled</th>\n      <th>avg_price_per_room</th>\n      <th>no_of_special_requests</th>\n      <th>booking_status</th>\n    </tr>\n  </thead>\n  <tbody>\n    <tr>\n      <th>5289</th>\n      <td>2</td>\n      <td>10</td>\n      <td>0</td>\n      <td>2</td>\n      <td>Meal Plan 1</td>\n      <td>0</td>\n      <td>Room_Type 4</td>\n      <td>37</td>\n      <td>2018</td>\n      <td>1</td>\n      <td>12</td>\n      <td>Online</td>\n      <td>0</td>\n      <td>0</td>\n      <td>0</td>\n      <td>84.45</td>\n      <td>1</td>\n      <td>Not_Canceled</td>\n    </tr>\n  </tbody>\n</table>\n</div>"
     },
     "execution_count": 18,
     "metadata": {},
     "output_type": "execute_result"
    }
   ],
   "source": [
    "#no_of_childern\n",
    "data[data['no_of_children']==10]"
   ]
  },
  {
   "cell_type": "code",
   "execution_count": 19,
   "id": "558f3f6c-99ac-463d-b1fd-567c313ac377",
   "metadata": {
    "ExecuteTime": {
     "start_time": "2023-04-14T11:50:14.642439Z",
     "end_time": "2023-04-14T11:50:15.350169Z"
    }
   },
   "outputs": [
    {
     "data": {
      "text/plain": "      no_of_adults  no_of_children  no_of_weekend_nights  no_of_week_nights  \\\n8180             1               9                     2                  1   \n8196             2               9                     2                  5   \n\n     type_of_meal_plan  required_car_parking_space room_type_reserved  \\\n8180       Meal Plan 1                           0        Room_Type 1   \n8196       Meal Plan 1                           0        Room_Type 2   \n\n      lead_time  arrival_year  arrival_month  arrival_date  \\\n8180         11          2017             10            11   \n8196          8          2017              8            13   \n\n     market_segment_type  repeated_guest  no_of_previous_cancellations  \\\n8180           Corporate               0                             0   \n8196              Online               0                             0   \n\n      no_of_previous_bookings_not_canceled  avg_price_per_room  \\\n8180                                     0                95.0   \n8196                                     0                76.5   \n\n      no_of_special_requests booking_status  \n8180                       0   Not_Canceled  \n8196                       1       Canceled  ",
      "text/html": "<div>\n<style scoped>\n    .dataframe tbody tr th:only-of-type {\n        vertical-align: middle;\n    }\n\n    .dataframe tbody tr th {\n        vertical-align: top;\n    }\n\n    .dataframe thead th {\n        text-align: right;\n    }\n</style>\n<table border=\"1\" class=\"dataframe\">\n  <thead>\n    <tr style=\"text-align: right;\">\n      <th></th>\n      <th>no_of_adults</th>\n      <th>no_of_children</th>\n      <th>no_of_weekend_nights</th>\n      <th>no_of_week_nights</th>\n      <th>type_of_meal_plan</th>\n      <th>required_car_parking_space</th>\n      <th>room_type_reserved</th>\n      <th>lead_time</th>\n      <th>arrival_year</th>\n      <th>arrival_month</th>\n      <th>arrival_date</th>\n      <th>market_segment_type</th>\n      <th>repeated_guest</th>\n      <th>no_of_previous_cancellations</th>\n      <th>no_of_previous_bookings_not_canceled</th>\n      <th>avg_price_per_room</th>\n      <th>no_of_special_requests</th>\n      <th>booking_status</th>\n    </tr>\n  </thead>\n  <tbody>\n    <tr>\n      <th>8180</th>\n      <td>1</td>\n      <td>9</td>\n      <td>2</td>\n      <td>1</td>\n      <td>Meal Plan 1</td>\n      <td>0</td>\n      <td>Room_Type 1</td>\n      <td>11</td>\n      <td>2017</td>\n      <td>10</td>\n      <td>11</td>\n      <td>Corporate</td>\n      <td>0</td>\n      <td>0</td>\n      <td>0</td>\n      <td>95.0</td>\n      <td>0</td>\n      <td>Not_Canceled</td>\n    </tr>\n    <tr>\n      <th>8196</th>\n      <td>2</td>\n      <td>9</td>\n      <td>2</td>\n      <td>5</td>\n      <td>Meal Plan 1</td>\n      <td>0</td>\n      <td>Room_Type 2</td>\n      <td>8</td>\n      <td>2017</td>\n      <td>8</td>\n      <td>13</td>\n      <td>Online</td>\n      <td>0</td>\n      <td>0</td>\n      <td>0</td>\n      <td>76.5</td>\n      <td>1</td>\n      <td>Canceled</td>\n    </tr>\n  </tbody>\n</table>\n</div>"
     },
     "execution_count": 19,
     "metadata": {},
     "output_type": "execute_result"
    }
   ],
   "source": [
    "data[data['no_of_children']==9]"
   ]
  },
  {
   "cell_type": "code",
   "execution_count": 20,
   "id": "f56bea2f-b86f-429d-9346-00b102014fd5",
   "metadata": {
    "ExecuteTime": {
     "start_time": "2023-04-14T11:50:14.676579Z",
     "end_time": "2023-04-14T11:50:15.351170Z"
    }
   },
   "outputs": [
    {
     "data": {
      "text/plain": "0     23422\n1      1524\n2      1033\n3        18\n9         2\n10        1\nName: no_of_children, dtype: int64"
     },
     "execution_count": 20,
     "metadata": {},
     "output_type": "execute_result"
    }
   ],
   "source": [
    "data['no_of_children'].value_counts()"
   ]
  },
  {
   "cell_type": "code",
   "execution_count": 21,
   "id": "99556775-3095-4426-b31f-7026dbf9fdba",
   "metadata": {
    "ExecuteTime": {
     "start_time": "2023-04-14T11:50:14.692898Z",
     "end_time": "2023-04-14T11:50:15.351170Z"
    }
   },
   "outputs": [
    {
     "data": {
      "text/plain": "count    26000.000000\nmean         0.141231\nstd          0.462502\nmin          0.000000\n25%          0.000000\n50%          0.000000\n75%          0.000000\nmax         10.000000\nName: no_of_children, dtype: float64"
     },
     "execution_count": 21,
     "metadata": {},
     "output_type": "execute_result"
    }
   ],
   "source": [
    "data['no_of_children'].describe()"
   ]
  },
  {
   "cell_type": "code",
   "execution_count": 22,
   "id": "52670561-32c9-496a-a8ee-254f6b222181",
   "metadata": {
    "ExecuteTime": {
     "start_time": "2023-04-14T11:50:14.720303Z",
     "end_time": "2023-04-14T11:50:15.351170Z"
    }
   },
   "outputs": [],
   "source": [
    "data['no_of_children'].replace(10,3,inplace=True)\n",
    "data['no_of_children'].replace(9,3,inplace=True)"
   ]
  },
  {
   "cell_type": "code",
   "execution_count": 23,
   "id": "4b51e470-46cf-447f-80b1-04ad28adf337",
   "metadata": {
    "ExecuteTime": {
     "start_time": "2023-04-14T11:50:14.738498Z",
     "end_time": "2023-04-14T11:50:15.352171Z"
    }
   },
   "outputs": [
    {
     "data": {
      "text/plain": "                                  column    dtype  \\\n0                           no_of_adults    int64   \n1                         no_of_children    int64   \n2                   no_of_weekend_nights    int64   \n3                      no_of_week_nights    int64   \n4                      type_of_meal_plan   object   \n5             required_car_parking_space    int64   \n6                     room_type_reserved   object   \n7                              lead_time    int64   \n8                           arrival_year    int64   \n9                          arrival_month    int64   \n10                          arrival_date    int64   \n11                   market_segment_type   object   \n12                        repeated_guest    int64   \n13          no_of_previous_cancellations    int64   \n14  no_of_previous_bookings_not_canceled    int64   \n15                    avg_price_per_room  float64   \n16                no_of_special_requests    int64   \n17                        booking_status   object   \n\n                                        unique values  n_unique  null per  \n0                                     [2, 1, 3, 0, 4]         5       0.0  \n1                                        [0, 2, 1, 3]         4       0.0  \n2                            [1, 2, 0, 4, 3, 6, 5, 7]         8       0.0  \n3   [2, 3, 1, 4, 5, 0, 10, 6, 11, 7, 15, 9, 13, 8,...        18       0.0  \n4   [Meal Plan 1, Not Selected, Meal Plan 2, Meal ...         4       0.0  \n5                                              [0, 1]         2       0.0  \n6   [Room_Type 1, Room_Type 4, Room_Type 2, Room_T...         7       0.0  \n7   [224, 5, 1, 211, 48, 346, 34, 83, 121, 44, 0, ...       352       0.0  \n8                                        [2017, 2018]         2       0.0  \n9             [10, 11, 2, 5, 4, 9, 12, 7, 6, 8, 3, 1]        12       0.0  \n10  [2, 6, 28, 20, 11, 13, 15, 26, 18, 30, 5, 10, ...        31       0.0  \n11  [Offline, Online, Corporate, Aviation, Complem...         5       0.0  \n12                                             [0, 1]         2       0.0  \n13                      [0, 3, 1, 2, 11, 4, 5, 13, 6]         9       0.0  \n14  [0, 5, 1, 3, 4, 12, 19, 2, 15, 17, 7, 20, 16, ...        59       0.0  \n15  [65.0, 106.68, 60.0, 100.0, 94.5, 115.0, 107.5...      3930       0.0  \n16                                 [0, 1, 3, 2, 4, 5]         6       0.0  \n17                           [Not_Canceled, Canceled]         2       0.0  ",
      "text/html": "<div>\n<style scoped>\n    .dataframe tbody tr th:only-of-type {\n        vertical-align: middle;\n    }\n\n    .dataframe tbody tr th {\n        vertical-align: top;\n    }\n\n    .dataframe thead th {\n        text-align: right;\n    }\n</style>\n<table border=\"1\" class=\"dataframe\">\n  <thead>\n    <tr style=\"text-align: right;\">\n      <th></th>\n      <th>column</th>\n      <th>dtype</th>\n      <th>unique values</th>\n      <th>n_unique</th>\n      <th>null per</th>\n    </tr>\n  </thead>\n  <tbody>\n    <tr>\n      <th>0</th>\n      <td>no_of_adults</td>\n      <td>int64</td>\n      <td>[2, 1, 3, 0, 4]</td>\n      <td>5</td>\n      <td>0.0</td>\n    </tr>\n    <tr>\n      <th>1</th>\n      <td>no_of_children</td>\n      <td>int64</td>\n      <td>[0, 2, 1, 3]</td>\n      <td>4</td>\n      <td>0.0</td>\n    </tr>\n    <tr>\n      <th>2</th>\n      <td>no_of_weekend_nights</td>\n      <td>int64</td>\n      <td>[1, 2, 0, 4, 3, 6, 5, 7]</td>\n      <td>8</td>\n      <td>0.0</td>\n    </tr>\n    <tr>\n      <th>3</th>\n      <td>no_of_week_nights</td>\n      <td>int64</td>\n      <td>[2, 3, 1, 4, 5, 0, 10, 6, 11, 7, 15, 9, 13, 8,...</td>\n      <td>18</td>\n      <td>0.0</td>\n    </tr>\n    <tr>\n      <th>4</th>\n      <td>type_of_meal_plan</td>\n      <td>object</td>\n      <td>[Meal Plan 1, Not Selected, Meal Plan 2, Meal ...</td>\n      <td>4</td>\n      <td>0.0</td>\n    </tr>\n    <tr>\n      <th>5</th>\n      <td>required_car_parking_space</td>\n      <td>int64</td>\n      <td>[0, 1]</td>\n      <td>2</td>\n      <td>0.0</td>\n    </tr>\n    <tr>\n      <th>6</th>\n      <td>room_type_reserved</td>\n      <td>object</td>\n      <td>[Room_Type 1, Room_Type 4, Room_Type 2, Room_T...</td>\n      <td>7</td>\n      <td>0.0</td>\n    </tr>\n    <tr>\n      <th>7</th>\n      <td>lead_time</td>\n      <td>int64</td>\n      <td>[224, 5, 1, 211, 48, 346, 34, 83, 121, 44, 0, ...</td>\n      <td>352</td>\n      <td>0.0</td>\n    </tr>\n    <tr>\n      <th>8</th>\n      <td>arrival_year</td>\n      <td>int64</td>\n      <td>[2017, 2018]</td>\n      <td>2</td>\n      <td>0.0</td>\n    </tr>\n    <tr>\n      <th>9</th>\n      <td>arrival_month</td>\n      <td>int64</td>\n      <td>[10, 11, 2, 5, 4, 9, 12, 7, 6, 8, 3, 1]</td>\n      <td>12</td>\n      <td>0.0</td>\n    </tr>\n    <tr>\n      <th>10</th>\n      <td>arrival_date</td>\n      <td>int64</td>\n      <td>[2, 6, 28, 20, 11, 13, 15, 26, 18, 30, 5, 10, ...</td>\n      <td>31</td>\n      <td>0.0</td>\n    </tr>\n    <tr>\n      <th>11</th>\n      <td>market_segment_type</td>\n      <td>object</td>\n      <td>[Offline, Online, Corporate, Aviation, Complem...</td>\n      <td>5</td>\n      <td>0.0</td>\n    </tr>\n    <tr>\n      <th>12</th>\n      <td>repeated_guest</td>\n      <td>int64</td>\n      <td>[0, 1]</td>\n      <td>2</td>\n      <td>0.0</td>\n    </tr>\n    <tr>\n      <th>13</th>\n      <td>no_of_previous_cancellations</td>\n      <td>int64</td>\n      <td>[0, 3, 1, 2, 11, 4, 5, 13, 6]</td>\n      <td>9</td>\n      <td>0.0</td>\n    </tr>\n    <tr>\n      <th>14</th>\n      <td>no_of_previous_bookings_not_canceled</td>\n      <td>int64</td>\n      <td>[0, 5, 1, 3, 4, 12, 19, 2, 15, 17, 7, 20, 16, ...</td>\n      <td>59</td>\n      <td>0.0</td>\n    </tr>\n    <tr>\n      <th>15</th>\n      <td>avg_price_per_room</td>\n      <td>float64</td>\n      <td>[65.0, 106.68, 60.0, 100.0, 94.5, 115.0, 107.5...</td>\n      <td>3930</td>\n      <td>0.0</td>\n    </tr>\n    <tr>\n      <th>16</th>\n      <td>no_of_special_requests</td>\n      <td>int64</td>\n      <td>[0, 1, 3, 2, 4, 5]</td>\n      <td>6</td>\n      <td>0.0</td>\n    </tr>\n    <tr>\n      <th>17</th>\n      <td>booking_status</td>\n      <td>object</td>\n      <td>[Not_Canceled, Canceled]</td>\n      <td>2</td>\n      <td>0.0</td>\n    </tr>\n  </tbody>\n</table>\n</div>"
     },
     "execution_count": 23,
     "metadata": {},
     "output_type": "execute_result"
    }
   ],
   "source": [
    "column_info(data)"
   ]
  },
  {
   "cell_type": "code",
   "execution_count": 24,
   "id": "19b5b675-6fa1-4ccf-9a4e-661b7407d9f5",
   "metadata": {
    "ExecuteTime": {
     "start_time": "2023-04-14T11:50:14.847074Z",
     "end_time": "2023-04-14T11:50:15.352171Z"
    }
   },
   "outputs": [
    {
     "data": {
      "text/plain": "1    3876\n2    3089\n3    2606\n4    1237\n5     204\n0      75\nName: no_of_week_nights, dtype: int64"
     },
     "execution_count": 24,
     "metadata": {},
     "output_type": "execute_result"
    }
   ],
   "source": [
    "data[data['no_of_weekend_nights']==0]['no_of_week_nights'].value_counts()"
   ]
  },
  {
   "cell_type": "code",
   "execution_count": 25,
   "id": "c7b9f25b-9662-41f3-a7a5-7a2f3d0ab9f5",
   "metadata": {
    "ExecuteTime": {
     "start_time": "2023-04-14T11:50:14.879414Z",
     "end_time": "2023-04-14T11:50:16.164626Z"
    }
   },
   "outputs": [],
   "source": [
    "for i in range(len(data)):\n",
    "    if data.loc[i,'no_of_weekend_nights']==0 and data.loc[i,'no_of_week_nights']==0:\n",
    "        data.loc[i,'no_of_week_nights']=1"
   ]
  },
  {
   "cell_type": "code",
   "execution_count": 26,
   "id": "7f15296f-cb43-47d1-abdc-f892b8d20dce",
   "metadata": {
    "ExecuteTime": {
     "start_time": "2023-04-14T11:50:15.685684Z",
     "end_time": "2023-04-14T11:50:16.165136Z"
    }
   },
   "outputs": [
    {
     "data": {
      "text/plain": "1    3951\n2    3089\n3    2606\n4    1237\n5     204\nName: no_of_week_nights, dtype: int64"
     },
     "execution_count": 26,
     "metadata": {},
     "output_type": "execute_result"
    }
   ],
   "source": [
    "data[data['no_of_weekend_nights']==0]['no_of_week_nights'].value_counts()"
   ]
  },
  {
   "cell_type": "code",
   "execution_count": 27,
   "id": "e3b4935c-5661-4e7a-a513-89866426ce8a",
   "metadata": {
    "ExecuteTime": {
     "start_time": "2023-04-14T11:50:15.715753Z",
     "end_time": "2023-04-14T11:50:16.226920Z"
    }
   },
   "outputs": [
    {
     "data": {
      "text/plain": "count    26000.000000\nmean        66.452846\nstd         68.606799\nmin          0.000000\n25%         12.000000\n50%         44.000000\n75%        100.000000\nmax        443.000000\nName: lead_time, dtype: float64"
     },
     "execution_count": 27,
     "metadata": {},
     "output_type": "execute_result"
    }
   ],
   "source": [
    "data['lead_time'].describe()"
   ]
  },
  {
   "cell_type": "code",
   "execution_count": 28,
   "id": "6b585ff6-5ef5-4f57-8003-ffafb2ce4825",
   "metadata": {
    "ExecuteTime": {
     "start_time": "2023-04-14T11:50:15.748619Z",
     "end_time": "2023-04-14T11:50:18.615227Z"
    }
   },
   "outputs": [
    {
     "data": {
      "text/plain": "<Figure size 800x600 with 1 Axes>",
      "image/png": "[encoded data removed]"
     },
     "metadata": {},
     "output_type": "display_data"
    }
   ],
   "source": [
    "#avg_price_per_room\n",
    "plt.figure(figsize=(8,6))\n",
    "sns.distplot(data['avg_price_per_room'])\n",
    "plt.show()"
   ]
  },
  {
   "cell_type": "code",
   "execution_count": 29,
   "id": "17dad3fe-8f7e-4d2b-b8db-8cf4b51b0c38",
   "metadata": {
    "ExecuteTime": {
     "start_time": "2023-04-14T11:50:18.620261Z",
     "end_time": "2023-04-14T11:50:18.960186Z"
    }
   },
   "outputs": [
    {
     "data": {
      "text/plain": "                                  column    dtype  \\\n0                           no_of_adults    int64   \n1                         no_of_children    int64   \n2                   no_of_weekend_nights    int64   \n3                      no_of_week_nights    int64   \n4                      type_of_meal_plan   object   \n5             required_car_parking_space    int64   \n6                     room_type_reserved   object   \n7                              lead_time    int64   \n8                           arrival_year    int64   \n9                          arrival_month    int64   \n10                          arrival_date    int64   \n11                   market_segment_type   object   \n12                        repeated_guest    int64   \n13          no_of_previous_cancellations    int64   \n14  no_of_previous_bookings_not_canceled    int64   \n15                    avg_price_per_room  float64   \n16                no_of_special_requests    int64   \n17                        booking_status   object   \n\n                                        unique values  n_unique  null per  \n0                                     [2, 1, 3, 0, 4]         5       0.0  \n1                                        [0, 2, 1, 3]         4       0.0  \n2                            [1, 2, 0, 4, 3, 6, 5, 7]         8       0.0  \n3   [2, 3, 1, 4, 5, 0, 10, 6, 11, 7, 15, 9, 13, 8,...        18       0.0  \n4   [Meal Plan 1, Not Selected, Meal Plan 2, Meal ...         4       0.0  \n5                                              [0, 1]         2       0.0  \n6   [Room_Type 1, Room_Type 4, Room_Type 2, Room_T...         7       0.0  \n7   [224, 5, 1, 211, 48, 346, 34, 83, 121, 44, 0, ...       352       0.0  \n8                                        [2017, 2018]         2       0.0  \n9             [10, 11, 2, 5, 4, 9, 12, 7, 6, 8, 3, 1]        12       0.0  \n10  [2, 6, 28, 20, 11, 13, 15, 26, 18, 30, 5, 10, ...        31       0.0  \n11  [Offline, Online, Corporate, Aviation, Complem...         5       0.0  \n12                                             [0, 1]         2       0.0  \n13                      [0, 3, 1, 2, 11, 4, 5, 13, 6]         9       0.0  \n14  [0, 5, 1, 3, 4, 12, 19, 2, 15, 17, 7, 20, 16, ...        59       0.0  \n15  [65.0, 106.68, 60.0, 100.0, 94.5, 115.0, 107.5...      3930       0.0  \n16                                 [0, 1, 3, 2, 4, 5]         6       0.0  \n17                           [Not_Canceled, Canceled]         2       0.0  ",
      "text/html": "<div>\n<style scoped>\n    .dataframe tbody tr th:only-of-type {\n        vertical-align: middle;\n    }\n\n    .dataframe tbody tr th {\n        vertical-align: top;\n    }\n\n    .dataframe thead th {\n        text-align: right;\n    }\n</style>\n<table border=\"1\" class=\"dataframe\">\n  <thead>\n    <tr style=\"text-align: right;\">\n      <th></th>\n      <th>column</th>\n      <th>dtype</th>\n      <th>unique values</th>\n      <th>n_unique</th>\n      <th>null per</th>\n    </tr>\n  </thead>\n  <tbody>\n    <tr>\n      <th>0</th>\n      <td>no_of_adults</td>\n      <td>int64</td>\n      <td>[2, 1, 3, 0, 4]</td>\n      <td>5</td>\n      <td>0.0</td>\n    </tr>\n    <tr>\n      <th>1</th>\n      <td>no_of_children</td>\n      <td>int64</td>\n      <td>[0, 2, 1, 3]</td>\n      <td>4</td>\n      <td>0.0</td>\n    </tr>\n    <tr>\n      <th>2</th>\n      <td>no_of_weekend_nights</td>\n      <td>int64</td>\n      <td>[1, 2, 0, 4, 3, 6, 5, 7]</td>\n      <td>8</td>\n      <td>0.0</td>\n    </tr>\n    <tr>\n      <th>3</th>\n      <td>no_of_week_nights</td>\n      <td>int64</td>\n      <td>[2, 3, 1, 4, 5, 0, 10, 6, 11, 7, 15, 9, 13, 8,...</td>\n      <td>18</td>\n      <td>0.0</td>\n    </tr>\n    <tr>\n      <th>4</th>\n      <td>type_of_meal_plan</td>\n      <td>object</td>\n      <td>[Meal Plan 1, Not Selected, Meal Plan 2, Meal ...</td>\n      <td>4</td>\n      <td>0.0</td>\n    </tr>\n    <tr>\n      <th>5</th>\n      <td>required_car_parking_space</td>\n      <td>int64</td>\n      <td>[0, 1]</td>\n      <td>2</td>\n      <td>0.0</td>\n    </tr>\n    <tr>\n      <th>6</th>\n      <td>room_type_reserved</td>\n      <td>object</td>\n      <td>[Room_Type 1, Room_Type 4, Room_Type 2, Room_T...</td>\n      <td>7</td>\n      <td>0.0</td>\n    </tr>\n    <tr>\n      <th>7</th>\n      <td>lead_time</td>\n      <td>int64</td>\n      <td>[224, 5, 1, 211, 48, 346, 34, 83, 121, 44, 0, ...</td>\n      <td>352</td>\n      <td>0.0</td>\n    </tr>\n    <tr>\n      <th>8</th>\n      <td>arrival_year</td>\n      <td>int64</td>\n      <td>[2017, 2018]</td>\n      <td>2</td>\n      <td>0.0</td>\n    </tr>\n    <tr>\n      <th>9</th>\n      <td>arrival_month</td>\n      <td>int64</td>\n      <td>[10, 11, 2, 5, 4, 9, 12, 7, 6, 8, 3, 1]</td>\n      <td>12</td>\n      <td>0.0</td>\n    </tr>\n    <tr>\n      <th>10</th>\n      <td>arrival_date</td>\n      <td>int64</td>\n      <td>[2, 6, 28, 20, 11, 13, 15, 26, 18, 30, 5, 10, ...</td>\n      <td>31</td>\n      <td>0.0</td>\n    </tr>\n    <tr>\n      <th>11</th>\n      <td>market_segment_type</td>\n      <td>object</td>\n      <td>[Offline, Online, Corporate, Aviation, Complem...</td>\n      <td>5</td>\n      <td>0.0</td>\n    </tr>\n    <tr>\n      <th>12</th>\n      <td>repeated_guest</td>\n      <td>int64</td>\n      <td>[0, 1]</td>\n      <td>2</td>\n      <td>0.0</td>\n    </tr>\n    <tr>\n      <th>13</th>\n      <td>no_of_previous_cancellations</td>\n      <td>int64</td>\n      <td>[0, 3, 1, 2, 11, 4, 5, 13, 6]</td>\n      <td>9</td>\n      <td>0.0</td>\n    </tr>\n    <tr>\n      <th>14</th>\n      <td>no_of_previous_bookings_not_canceled</td>\n      <td>int64</td>\n      <td>[0, 5, 1, 3, 4, 12, 19, 2, 15, 17, 7, 20, 16, ...</td>\n      <td>59</td>\n      <td>0.0</td>\n    </tr>\n    <tr>\n      <th>15</th>\n      <td>avg_price_per_room</td>\n      <td>float64</td>\n      <td>[65.0, 106.68, 60.0, 100.0, 94.5, 115.0, 107.5...</td>\n      <td>3930</td>\n      <td>0.0</td>\n    </tr>\n    <tr>\n      <th>16</th>\n      <td>no_of_special_requests</td>\n      <td>int64</td>\n      <td>[0, 1, 3, 2, 4, 5]</td>\n      <td>6</td>\n      <td>0.0</td>\n    </tr>\n    <tr>\n      <th>17</th>\n      <td>booking_status</td>\n      <td>object</td>\n      <td>[Not_Canceled, Canceled]</td>\n      <td>2</td>\n      <td>0.0</td>\n    </tr>\n  </tbody>\n</table>\n</div>"
     },
     "execution_count": 29,
     "metadata": {},
     "output_type": "execute_result"
    }
   ],
   "source": [
    "column_info(data)"
   ]
  },
  {
   "cell_type": "code",
   "execution_count": 30,
   "id": "43ce313c-0c5f-449c-85f9-bbb5fc1e5055",
   "metadata": {
    "ExecuteTime": {
     "start_time": "2023-04-14T11:50:18.804563Z",
     "end_time": "2023-04-14T11:50:19.802766Z"
    }
   },
   "outputs": [],
   "source": [
    "from sklearn.preprocessing import LabelEncoder\n",
    "le=LabelEncoder()\n",
    "data['booking_status']=le.fit_transform(data['booking_status'])"
   ]
  },
  {
   "cell_type": "code",
   "execution_count": 31,
   "id": "8a310062-baac-4fc4-8c07-141d27f010ed",
   "metadata": {
    "ExecuteTime": {
     "start_time": "2023-04-14T11:50:19.708332Z",
     "end_time": "2023-04-14T11:50:19.810302Z"
    }
   },
   "outputs": [
    {
     "data": {
      "text/plain": "['type_of_meal_plan', 'room_type_reserved', 'market_segment_type']"
     },
     "execution_count": 31,
     "metadata": {},
     "output_type": "execute_result"
    }
   ],
   "source": [
    "cat_features=[]\n",
    "for col in data.columns:\n",
    "    if data[col].dtype==object:\n",
    "        cat_features.append(col)\n",
    "cat_features"
   ]
  },
  {
   "cell_type": "code",
   "execution_count": 32,
   "id": "27012051-246b-4023-a963-1c5cdb112515",
   "metadata": {
    "ExecuteTime": {
     "start_time": "2023-04-14T11:50:19.739476Z",
     "end_time": "2023-04-14T11:50:19.844980Z"
    }
   },
   "outputs": [],
   "source": [
    "import pickle"
   ]
  },
  {
   "cell_type": "code",
   "execution_count": 33,
   "id": "305dee03-e076-4e76-ac6a-d3a1101faa52",
   "metadata": {
    "ExecuteTime": {
     "start_time": "2023-04-14T11:50:19.763578Z",
     "end_time": "2023-04-14T11:50:19.951696Z"
    }
   },
   "outputs": [],
   "source": [
    "for col in cat_features:\n",
    "    le=LabelEncoder()\n",
    "    data[col]=le.fit_transform(data[col])\n",
    "    \n",
    "    pickle.dump(le,open(\"{}_le.pkl\".format(col),\"wb\"))"
   ]
  },
  {
   "cell_type": "code",
   "execution_count": 33,
   "id": "85cd9368-fe95-4d7f-a519-98de86963466",
   "metadata": {
    "ExecuteTime": {
     "start_time": "2023-04-14T11:50:19.833416Z",
     "end_time": "2023-04-14T11:50:20.001476Z"
    }
   },
   "outputs": [],
   "source": []
  },
  {
   "cell_type": "code",
   "execution_count": 34,
   "id": "8921577e-ff78-4836-924e-97cdfbd8bf18",
   "metadata": {
    "ExecuteTime": {
     "start_time": "2023-04-14T11:50:19.849012Z",
     "end_time": "2023-04-14T11:50:20.083331Z"
    }
   },
   "outputs": [
    {
     "data": {
      "text/plain": "                                  column    dtype  \\\n0                           no_of_adults    int64   \n1                         no_of_children    int64   \n2                   no_of_weekend_nights    int64   \n3                      no_of_week_nights    int64   \n4                      type_of_meal_plan    int32   \n5             required_car_parking_space    int64   \n6                     room_type_reserved    int32   \n7                              lead_time    int64   \n8                           arrival_year    int64   \n9                          arrival_month    int64   \n10                          arrival_date    int64   \n11                   market_segment_type    int32   \n12                        repeated_guest    int64   \n13          no_of_previous_cancellations    int64   \n14  no_of_previous_bookings_not_canceled    int64   \n15                    avg_price_per_room  float64   \n16                no_of_special_requests    int64   \n17                        booking_status    int32   \n\n                                        unique values  n_unique  null per  \n0                                     [2, 1, 3, 0, 4]         5       0.0  \n1                                        [0, 2, 1, 3]         4       0.0  \n2                            [1, 2, 0, 4, 3, 6, 5, 7]         8       0.0  \n3   [2, 3, 1, 4, 5, 0, 10, 6, 11, 7, 15, 9, 13, 8,...        18       0.0  \n4                                        [0, 3, 1, 2]         4       0.0  \n5                                              [0, 1]         2       0.0  \n6                               [0, 3, 1, 5, 4, 6, 2]         7       0.0  \n7   [224, 5, 1, 211, 48, 346, 34, 83, 121, 44, 0, ...       352       0.0  \n8                                        [2017, 2018]         2       0.0  \n9             [10, 11, 2, 5, 4, 9, 12, 7, 6, 8, 3, 1]        12       0.0  \n10  [2, 6, 28, 20, 11, 13, 15, 26, 18, 30, 5, 10, ...        31       0.0  \n11                                    [3, 4, 2, 0, 1]         5       0.0  \n12                                             [0, 1]         2       0.0  \n13                      [0, 3, 1, 2, 11, 4, 5, 13, 6]         9       0.0  \n14  [0, 5, 1, 3, 4, 12, 19, 2, 15, 17, 7, 20, 16, ...        59       0.0  \n15  [65.0, 106.68, 60.0, 100.0, 94.5, 115.0, 107.5...      3930       0.0  \n16                                 [0, 1, 3, 2, 4, 5]         6       0.0  \n17                                             [1, 0]         2       0.0  ",
      "text/html": "<div>\n<style scoped>\n    .dataframe tbody tr th:only-of-type {\n        vertical-align: middle;\n    }\n\n    .dataframe tbody tr th {\n        vertical-align: top;\n    }\n\n    .dataframe thead th {\n        text-align: right;\n    }\n</style>\n<table border=\"1\" class=\"dataframe\">\n  <thead>\n    <tr style=\"text-align: right;\">\n      <th></th>\n      <th>column</th>\n      <th>dtype</th>\n      <th>unique values</th>\n      <th>n_unique</th>\n      <th>null per</th>\n    </tr>\n  </thead>\n  <tbody>\n    <tr>\n      <th>0</th>\n      <td>no_of_adults</td>\n      <td>int64</td>\n      <td>[2, 1, 3, 0, 4]</td>\n      <td>5</td>\n      <td>0.0</td>\n    </tr>\n    <tr>\n      <th>1</th>\n      <td>no_of_children</td>\n      <td>int64</td>\n      <td>[0, 2, 1, 3]</td>\n      <td>4</td>\n      <td>0.0</td>\n    </tr>\n    <tr>\n      <th>2</th>\n      <td>no_of_weekend_nights</td>\n      <td>int64</td>\n      <td>[1, 2, 0, 4, 3, 6, 5, 7]</td>\n      <td>8</td>\n      <td>0.0</td>\n    </tr>\n    <tr>\n      <th>3</th>\n      <td>no_of_week_nights</td>\n      <td>int64</td>\n      <td>[2, 3, 1, 4, 5, 0, 10, 6, 11, 7, 15, 9, 13, 8,...</td>\n      <td>18</td>\n      <td>0.0</td>\n    </tr>\n    <tr>\n      <th>4</th>\n      <td>type_of_meal_plan</td>\n      <td>int32</td>\n      <td>[0, 3, 1, 2]</td>\n      <td>4</td>\n      <td>0.0</td>\n    </tr>\n    <tr>\n      <th>5</th>\n      <td>required_car_parking_space</td>\n      <td>int64</td>\n      <td>[0, 1]</td>\n      <td>2</td>\n      <td>0.0</td>\n    </tr>\n    <tr>\n      <th>6</th>\n      <td>room_type_reserved</td>\n      <td>int32</td>\n      <td>[0, 3, 1, 5, 4, 6, 2]</td>\n      <td>7</td>\n      <td>0.0</td>\n    </tr>\n    <tr>\n      <th>7</th>\n      <td>lead_time</td>\n      <td>int64</td>\n      <td>[224, 5, 1, 211, 48, 346, 34, 83, 121, 44, 0, ...</td>\n      <td>352</td>\n      <td>0.0</td>\n    </tr>\n    <tr>\n      <th>8</th>\n      <td>arrival_year</td>\n      <td>int64</td>\n      <td>[2017, 2018]</td>\n      <td>2</td>\n      <td>0.0</td>\n    </tr>\n    <tr>\n      <th>9</th>\n      <td>arrival_month</td>\n      <td>int64</td>\n      <td>[10, 11, 2, 5, 4, 9, 12, 7, 6, 8, 3, 1]</td>\n      <td>12</td>\n      <td>0.0</td>\n    </tr>\n    <tr>\n      <th>10</th>\n      <td>arrival_date</td>\n      <td>int64</td>\n      <td>[2, 6, 28, 20, 11, 13, 15, 26, 18, 30, 5, 10, ...</td>\n      <td>31</td>\n      <td>0.0</td>\n    </tr>\n    <tr>\n      <th>11</th>\n      <td>market_segment_type</td>\n      <td>int32</td>\n      <td>[3, 4, 2, 0, 1]</td>\n      <td>5</td>\n      <td>0.0</td>\n    </tr>\n    <tr>\n      <th>12</th>\n      <td>repeated_guest</td>\n      <td>int64</td>\n      <td>[0, 1]</td>\n      <td>2</td>\n      <td>0.0</td>\n    </tr>\n    <tr>\n      <th>13</th>\n      <td>no_of_previous_cancellations</td>\n      <td>int64</td>\n      <td>[0, 3, 1, 2, 11, 4, 5, 13, 6]</td>\n      <td>9</td>\n      <td>0.0</td>\n    </tr>\n    <tr>\n      <th>14</th>\n      <td>no_of_previous_bookings_not_canceled</td>\n      <td>int64</td>\n      <td>[0, 5, 1, 3, 4, 12, 19, 2, 15, 17, 7, 20, 16, ...</td>\n      <td>59</td>\n      <td>0.0</td>\n    </tr>\n    <tr>\n      <th>15</th>\n      <td>avg_price_per_room</td>\n      <td>float64</td>\n      <td>[65.0, 106.68, 60.0, 100.0, 94.5, 115.0, 107.5...</td>\n      <td>3930</td>\n      <td>0.0</td>\n    </tr>\n    <tr>\n      <th>16</th>\n      <td>no_of_special_requests</td>\n      <td>int64</td>\n      <td>[0, 1, 3, 2, 4, 5]</td>\n      <td>6</td>\n      <td>0.0</td>\n    </tr>\n    <tr>\n      <th>17</th>\n      <td>booking_status</td>\n      <td>int32</td>\n      <td>[1, 0]</td>\n      <td>2</td>\n      <td>0.0</td>\n    </tr>\n  </tbody>\n</table>\n</div>"
     },
     "execution_count": 34,
     "metadata": {},
     "output_type": "execute_result"
    }
   ],
   "source": [
    "column_info(data)"
   ]
  },
  {
   "cell_type": "code",
   "execution_count": 34,
   "id": "044d2865-a22f-4a14-aad8-0aaa9f79c03d",
   "metadata": {
    "ExecuteTime": {
     "start_time": "2023-04-14T11:50:19.972810Z",
     "end_time": "2023-04-14T11:50:20.226397Z"
    }
   },
   "outputs": [],
   "source": []
  },
  {
   "cell_type": "code",
   "execution_count": 35,
   "id": "07554f0e-d069-4a84-8cb3-0171c16299d3",
   "metadata": {
    "ExecuteTime": {
     "start_time": "2023-04-14T11:50:20.004990Z",
     "end_time": "2023-04-14T11:50:20.296247Z"
    }
   },
   "outputs": [
    {
     "data": {
      "text/plain": "Index(['no_of_adults', 'no_of_children', 'no_of_weekend_nights',\n       'no_of_week_nights', 'type_of_meal_plan', 'required_car_parking_space',\n       'room_type_reserved', 'lead_time', 'arrival_year', 'arrival_month',\n       'arrival_date', 'market_segment_type', 'repeated_guest',\n       'no_of_previous_cancellations', 'no_of_previous_bookings_not_canceled',\n       'avg_price_per_room', 'no_of_special_requests', 'booking_status'],\n      dtype='object')"
     },
     "execution_count": 35,
     "metadata": {},
     "output_type": "execute_result"
    }
   ],
   "source": [
    "data.columns"
   ]
  },
  {
   "cell_type": "code",
   "execution_count": 36,
   "id": "7b763d30-4321-47d9-9045-30c3521cfc34",
   "metadata": {
    "ExecuteTime": {
     "start_time": "2023-04-14T11:50:20.034627Z",
     "end_time": "2023-04-14T11:50:20.297262Z"
    }
   },
   "outputs": [
    {
     "data": {
      "text/plain": "(26000, 18)"
     },
     "execution_count": 36,
     "metadata": {},
     "output_type": "execute_result"
    }
   ],
   "source": [
    "data.shape"
   ]
  },
  {
   "cell_type": "code",
   "execution_count": 1,
   "id": "7125e6cc-b7f8-41d6-982a-890e1b9786f2",
   "metadata": {
    "ExecuteTime": {
     "start_time": "2023-04-14T11:50:20.051720Z",
     "end_time": "2023-04-14T11:50:20.673056Z"
    }
   },
   "outputs": [
    {
     "ename": "NameError",
     "evalue": "name 'plt' is not defined",
     "output_type": "error",
     "traceback": [
      "\u001B[1;31m---------------------------------------------------------------------------\u001B[0m",
      "\u001B[1;31mNameError\u001B[0m                                 Traceback (most recent call last)",
      "Cell \u001B[1;32mIn[1], line 2\u001B[0m\n\u001B[0;32m      1\u001B[0m \u001B[38;5;66;03m#booking status\u001B[39;00m\n\u001B[1;32m----> 2\u001B[0m \u001B[43mplt\u001B[49m\u001B[38;5;241m.\u001B[39mfigure(figsize\u001B[38;5;241m=\u001B[39m(\u001B[38;5;241m8\u001B[39m,\u001B[38;5;241m6\u001B[39m))\n\u001B[0;32m      3\u001B[0m plt\u001B[38;5;241m.\u001B[39mpie(x\u001B[38;5;241m=\u001B[39mdata[\u001B[38;5;124m'\u001B[39m\u001B[38;5;124mbooking_status\u001B[39m\u001B[38;5;124m'\u001B[39m]\u001B[38;5;241m.\u001B[39mvalue_counts(),labels\u001B[38;5;241m=\u001B[39m[\u001B[38;5;124m'\u001B[39m\u001B[38;5;124mNot canceled\u001B[39m\u001B[38;5;124m'\u001B[39m,\u001B[38;5;124m'\u001B[39m\u001B[38;5;124mCanceled\u001B[39m\u001B[38;5;124m'\u001B[39m],explode\u001B[38;5;241m=\u001B[39m[\u001B[38;5;241m0.0\u001B[39m,\u001B[38;5;241m0.2\u001B[39m],autopct\u001B[38;5;241m=\u001B[39m\u001B[38;5;124m'\u001B[39m\u001B[38;5;132;01m%0.2f\u001B[39;00m\u001B[38;5;132;01m%%\u001B[39;00m\u001B[38;5;124m'\u001B[39m,shadow\u001B[38;5;241m=\u001B[39m\u001B[38;5;28;01mTrue\u001B[39;00m)\n\u001B[0;32m      4\u001B[0m plt\u001B[38;5;241m.\u001B[39mshow()\n",
      "\u001B[1;31mNameError\u001B[0m: name 'plt' is not defined"
     ]
    }
   ],
   "source": [
    "#booking status\n",
    "plt.figure(figsize=(8,6))\n",
    "plt.pie(x=data['booking_status'].value_counts(),labels=['Not canceled','Canceled'],explode=[0.0,0.2],autopct='%0.2f%%',shadow=True)\n",
    "plt.show()"
   ]
  },
  {
   "cell_type": "code",
   "execution_count": 38,
   "id": "e5fa3bd8-8aa8-4a26-a86c-11b821dce881",
   "metadata": {
    "ExecuteTime": {
     "start_time": "2023-04-14T11:50:20.378922Z",
     "end_time": "2023-04-14T11:50:20.677609Z"
    }
   },
   "outputs": [],
   "source": [
    "X=data.drop('booking_status',axis=1).values\n",
    "y=data['booking_status'].values\n",
    "from sklearn.model_selection import train_test_split\n",
    "train_X,test_X,train_y,test_y=train_test_split(X,y,test_size=0.2)"
   ]
  },
  {
   "cell_type": "code",
   "execution_count": 39,
   "id": "65d250ba-401b-4d59-b599-5cef81f235a8",
   "metadata": {
    "ExecuteTime": {
     "start_time": "2023-04-14T11:50:20.570966Z",
     "end_time": "2023-04-14T11:50:20.778051Z"
    }
   },
   "outputs": [],
   "source": [
    "from sklearn.preprocessing import StandardScaler\n",
    "sd=StandardScaler()\n",
    "train_X=sd.fit_transform(train_X)\n",
    "test_X=sd.transform(test_X)\n",
    "pickle.dump(sd,open(\"scaler.pkl\",\"wb\"))"
   ]
  },
  {
   "cell_type": "code",
   "execution_count": 40,
   "id": "42dc0491-deff-46d4-b67c-aa446b351435",
   "metadata": {
    "ExecuteTime": {
     "start_time": "2023-04-14T11:50:20.608668Z",
     "end_time": "2023-04-14T11:50:20.939736Z"
    }
   },
   "outputs": [
    {
     "data": {
      "text/plain": "LogisticRegression(class_weight='balanced')",
      "text/html": "<style>#sk-container-id-1 {color: black;background-color: white;}#sk-container-id-1 pre{padding: 0;}#sk-container-id-1 div.sk-toggleable {background-color: white;}#sk-container-id-1 label.sk-toggleable__label {cursor: pointer;display: block;width: 100%;margin-bottom: 0;padding: 0.3em;box-sizing: border-box;text-align: center;}#sk-container-id-1 label.sk-toggleable__label-arrow:before {content: \"▸\";float: left;margin-right: 0.25em;color: #696969;}#sk-container-id-1 label.sk-toggleable__label-arrow:hover:before {color: black;}#sk-container-id-1 div.sk-estimator:hover label.sk-toggleable__label-arrow:before {color: black;}#sk-container-id-1 div.sk-toggleable__content {max-height: 0;max-width: 0;overflow: hidden;text-align: left;background-color: #f0f8ff;}#sk-container-id-1 div.sk-toggleable__content pre {margin: 0.2em;color: black;border-radius: 0.25em;background-color: #f0f8ff;}#sk-container-id-1 input.sk-toggleable__control:checked~div.sk-toggleable__content {max-height: 200px;max-width: 100%;overflow: auto;}#sk-container-id-1 input.sk-toggleable__control:checked~label.sk-toggleable__label-arrow:before {content: \"▾\";}#sk-container-id-1 div.sk-estimator input.sk-toggleable__control:checked~label.sk-toggleable__label {background-color: #d4ebff;}#sk-container-id-1 div.sk-label input.sk-toggleable__control:checked~label.sk-toggleable__label {background-color: #d4ebff;}#sk-container-id-1 input.sk-hidden--visually {border: 0;clip: rect(1px 1px 1px 1px);clip: rect(1px, 1px, 1px, 1px);height: 1px;margin: -1px;overflow: hidden;padding: 0;position: absolute;width: 1px;}#sk-container-id-1 div.sk-estimator {font-family: monospace;background-color: #f0f8ff;border: 1px dotted black;border-radius: 0.25em;box-sizing: border-box;margin-bottom: 0.5em;}#sk-container-id-1 div.sk-estimator:hover {background-color: #d4ebff;}#sk-container-id-1 div.sk-parallel-item::after {content: \"\";width: 100%;border-bottom: 1px solid gray;flex-grow: 1;}#sk-container-id-1 div.sk-label:hover label.sk-toggleable__label {background-color: #d4ebff;}#sk-container-id-1 div.sk-serial::before {content: \"\";position: absolute;border-left: 1px solid gray;box-sizing: border-box;top: 0;bottom: 0;left: 50%;z-index: 0;}#sk-container-id-1 div.sk-serial {display: flex;flex-direction: column;align-items: center;background-color: white;padding-right: 0.2em;padding-left: 0.2em;position: relative;}#sk-container-id-1 div.sk-item {position: relative;z-index: 1;}#sk-container-id-1 div.sk-parallel {display: flex;align-items: stretch;justify-content: center;background-color: white;position: relative;}#sk-container-id-1 div.sk-item::before, #sk-container-id-1 div.sk-parallel-item::before {content: \"\";position: absolute;border-left: 1px solid gray;box-sizing: border-box;top: 0;bottom: 0;left: 50%;z-index: -1;}#sk-container-id-1 div.sk-parallel-item {display: flex;flex-direction: column;z-index: 1;position: relative;background-color: white;}#sk-container-id-1 div.sk-parallel-item:first-child::after {align-self: flex-end;width: 50%;}#sk-container-id-1 div.sk-parallel-item:last-child::after {align-self: flex-start;width: 50%;}#sk-container-id-1 div.sk-parallel-item:only-child::after {width: 0;}#sk-container-id-1 div.sk-dashed-wrapped {border: 1px dashed gray;margin: 0 0.4em 0.5em 0.4em;box-sizing: border-box;padding-bottom: 0.4em;background-color: white;}#sk-container-id-1 div.sk-label label {font-family: monospace;font-weight: bold;display: inline-block;line-height: 1.2em;}#sk-container-id-1 div.sk-label-container {text-align: center;}#sk-container-id-1 div.sk-container {/* jupyter's `normalize.less` sets `[hidden] { display: none; }` but bootstrap.min.css set `[hidden] { display: none !important; }` so we also need the `!important` here to be able to override the default hidden behavior on the sphinx rendered scikit-learn.org. See: https://github.com/scikit-learn/scikit-learn/issues/21755 */display: inline-block !important;position: relative;}#sk-container-id-1 div.sk-text-repr-fallback {display: none;}</style><div id=\"sk-container-id-1\" class=\"sk-top-container\"><div class=\"sk-text-repr-fallback\"><pre>LogisticRegression(class_weight=&#x27;balanced&#x27;)</pre><b>In a Jupyter environment, please rerun this cell to show the HTML representation or trust the notebook. <br />On GitHub, the HTML representation is unable to render, please try loading this page with nbviewer.org.</b></div><div class=\"sk-container\" hidden><div class=\"sk-item\"><div class=\"sk-estimator sk-toggleable\"><input class=\"sk-toggleable__control sk-hidden--visually\" id=\"sk-estimator-id-1\" type=\"checkbox\" checked><label for=\"sk-estimator-id-1\" class=\"sk-toggleable__label sk-toggleable__label-arrow\">LogisticRegression</label><div class=\"sk-toggleable__content\"><pre>LogisticRegression(class_weight=&#x27;balanced&#x27;)</pre></div></div></div></div></div>"
     },
     "execution_count": 40,
     "metadata": {},
     "output_type": "execute_result"
    }
   ],
   "source": [
    "from sklearn.linear_model import LogisticRegression\n",
    "model=LogisticRegression(class_weight='balanced')\n",
    "model.fit(train_X,train_y)"
   ]
  },
  {
   "cell_type": "code",
   "execution_count": 41,
   "id": "c7f2dd8f-7e67-40bb-8c6c-c699dbb6f24b",
   "metadata": {
    "ExecuteTime": {
     "start_time": "2023-04-14T11:50:20.882986Z",
     "end_time": "2023-04-14T11:50:20.941734Z"
    }
   },
   "outputs": [],
   "source": [
    "from sklearn.metrics import accuracy_score,recall_score,precision_score,confusion_matrix,f1_score\n",
    "def evaluate_model(X,y,model):\n",
    "    y_pred=model.predict(X)\n",
    "    \n",
    "    #acc\n",
    "    acc=accuracy_score(y_pred,y)\n",
    "    #f1 score\n",
    "    f1=f1_score(y_pred,y)\n",
    "    #recall \n",
    "    recall=recall_score(y_pred,y)\n",
    "    #precision \n",
    "    precision=precision_score(y_pred,y)\n",
    "    #\n",
    "    cm=confusion_matrix(y_pred,y)\n",
    "    \n",
    "    tn,fp,fn,tp=cm.ravel()\n",
    "    specificty=tn/(tn+fp)\n",
    "    return pd.Series({'Accuracy':acc,\"F1 score\":f1,'recall':recall,'precesion':precision,'specificty':specificty})"
   ]
  },
  {
   "cell_type": "code",
   "execution_count": 42,
   "id": "b7fde2b6-bc1a-4c97-91d7-d88820e6711d",
   "metadata": {
    "ExecuteTime": {
     "start_time": "2023-04-14T11:50:20.907621Z",
     "end_time": "2023-04-14T11:50:21.266973Z"
    }
   },
   "outputs": [
    {
     "data": {
      "text/plain": "Accuracy      0.772933\nF1 score      0.828821\nrecall        0.897629\nprecesion     0.769811\nspecificty    0.575912\ndtype: float64"
     },
     "execution_count": 42,
     "metadata": {},
     "output_type": "execute_result"
    }
   ],
   "source": [
    "evaluate_model(train_X,train_y,model)"
   ]
  },
  {
   "cell_type": "code",
   "execution_count": 43,
   "id": "53a37a4f-2950-4385-8638-f9082d281121",
   "metadata": {
    "ExecuteTime": {
     "start_time": "2023-04-14T11:50:20.987016Z",
     "end_time": "2023-04-14T11:50:21.269965Z"
    }
   },
   "outputs": [
    {
     "data": {
      "text/plain": "Accuracy      0.766731\nF1 score      0.823512\nrecall        0.893308\nprecesion     0.763833\nspecificty    0.569390\ndtype: float64"
     },
     "execution_count": 43,
     "metadata": {},
     "output_type": "execute_result"
    }
   ],
   "source": [
    "evaluate_model(test_X,test_y,model)"
   ]
  },
  {
   "cell_type": "code",
   "execution_count": 44,
   "id": "0c7b7fe4-bc02-460e-a096-8d3fda9161e4",
   "metadata": {
    "ExecuteTime": {
     "start_time": "2023-04-14T11:50:21.036738Z",
     "end_time": "2023-04-14T11:50:24.946829Z"
    }
   },
   "outputs": [
    {
     "data": {
      "text/plain": "RandomForestClassifier(class_weight='balanced', max_depth=10)",
      "text/html": "<style>#sk-container-id-2 {color: black;background-color: white;}#sk-container-id-2 pre{padding: 0;}#sk-container-id-2 div.sk-toggleable {background-color: white;}#sk-container-id-2 label.sk-toggleable__label {cursor: pointer;display: block;width: 100%;margin-bottom: 0;padding: 0.3em;box-sizing: border-box;text-align: center;}#sk-container-id-2 label.sk-toggleable__label-arrow:before {content: \"▸\";float: left;margin-right: 0.25em;color: #696969;}#sk-container-id-2 label.sk-toggleable__label-arrow:hover:before {color: black;}#sk-container-id-2 div.sk-estimator:hover label.sk-toggleable__label-arrow:before {color: black;}#sk-container-id-2 div.sk-toggleable__content {max-height: 0;max-width: 0;overflow: hidden;text-align: left;background-color: #f0f8ff;}#sk-container-id-2 div.sk-toggleable__content pre {margin: 0.2em;color: black;border-radius: 0.25em;background-color: #f0f8ff;}#sk-container-id-2 input.sk-toggleable__control:checked~div.sk-toggleable__content {max-height: 200px;max-width: 100%;overflow: auto;}#sk-container-id-2 input.sk-toggleable__control:checked~label.sk-toggleable__label-arrow:before {content: \"▾\";}#sk-container-id-2 div.sk-estimator input.sk-toggleable__control:checked~label.sk-toggleable__label {background-color: #d4ebff;}#sk-container-id-2 div.sk-label input.sk-toggleable__control:checked~label.sk-toggleable__label {background-color: #d4ebff;}#sk-container-id-2 input.sk-hidden--visually {border: 0;clip: rect(1px 1px 1px 1px);clip: rect(1px, 1px, 1px, 1px);height: 1px;margin: -1px;overflow: hidden;padding: 0;position: absolute;width: 1px;}#sk-container-id-2 div.sk-estimator {font-family: monospace;background-color: #f0f8ff;border: 1px dotted black;border-radius: 0.25em;box-sizing: border-box;margin-bottom: 0.5em;}#sk-container-id-2 div.sk-estimator:hover {background-color: #d4ebff;}#sk-container-id-2 div.sk-parallel-item::after {content: \"\";width: 100%;border-bottom: 1px solid gray;flex-grow: 1;}#sk-container-id-2 div.sk-label:hover label.sk-toggleable__label {background-color: #d4ebff;}#sk-container-id-2 div.sk-serial::before {content: \"\";position: absolute;border-left: 1px solid gray;box-sizing: border-box;top: 0;bottom: 0;left: 50%;z-index: 0;}#sk-container-id-2 div.sk-serial {display: flex;flex-direction: column;align-items: center;background-color: white;padding-right: 0.2em;padding-left: 0.2em;position: relative;}#sk-container-id-2 div.sk-item {position: relative;z-index: 1;}#sk-container-id-2 div.sk-parallel {display: flex;align-items: stretch;justify-content: center;background-color: white;position: relative;}#sk-container-id-2 div.sk-item::before, #sk-container-id-2 div.sk-parallel-item::before {content: \"\";position: absolute;border-left: 1px solid gray;box-sizing: border-box;top: 0;bottom: 0;left: 50%;z-index: -1;}#sk-container-id-2 div.sk-parallel-item {display: flex;flex-direction: column;z-index: 1;position: relative;background-color: white;}#sk-container-id-2 div.sk-parallel-item:first-child::after {align-self: flex-end;width: 50%;}#sk-container-id-2 div.sk-parallel-item:last-child::after {align-self: flex-start;width: 50%;}#sk-container-id-2 div.sk-parallel-item:only-child::after {width: 0;}#sk-container-id-2 div.sk-dashed-wrapped {border: 1px dashed gray;margin: 0 0.4em 0.5em 0.4em;box-sizing: border-box;padding-bottom: 0.4em;background-color: white;}#sk-container-id-2 div.sk-label label {font-family: monospace;font-weight: bold;display: inline-block;line-height: 1.2em;}#sk-container-id-2 div.sk-label-container {text-align: center;}#sk-container-id-2 div.sk-container {/* jupyter's `normalize.less` sets `[hidden] { display: none; }` but bootstrap.min.css set `[hidden] { display: none !important; }` so we also need the `!important` here to be able to override the default hidden behavior on the sphinx rendered scikit-learn.org. See: https://github.com/scikit-learn/scikit-learn/issues/21755 */display: inline-block !important;position: relative;}#sk-container-id-2 div.sk-text-repr-fallback {display: none;}</style><div id=\"sk-container-id-2\" class=\"sk-top-container\"><div class=\"sk-text-repr-fallback\"><pre>RandomForestClassifier(class_weight=&#x27;balanced&#x27;, max_depth=10)</pre><b>In a Jupyter environment, please rerun this cell to show the HTML representation or trust the notebook. <br />On GitHub, the HTML representation is unable to render, please try loading this page with nbviewer.org.</b></div><div class=\"sk-container\" hidden><div class=\"sk-item\"><div class=\"sk-estimator sk-toggleable\"><input class=\"sk-toggleable__control sk-hidden--visually\" id=\"sk-estimator-id-2\" type=\"checkbox\" checked><label for=\"sk-estimator-id-2\" class=\"sk-toggleable__label sk-toggleable__label-arrow\">RandomForestClassifier</label><div class=\"sk-toggleable__content\"><pre>RandomForestClassifier(class_weight=&#x27;balanced&#x27;, max_depth=10)</pre></div></div></div></div></div>"
     },
     "execution_count": 44,
     "metadata": {},
     "output_type": "execute_result"
    }
   ],
   "source": [
    "from sklearn.ensemble import RandomForestClassifier\n",
    "model=RandomForestClassifier(class_weight='balanced',max_depth=10)\n",
    "model.fit(train_X,train_y)"
   ]
  },
  {
   "cell_type": "code",
   "execution_count": 45,
   "id": "139b315b-82d1-43f2-93ea-0c833e095ede",
   "metadata": {
    "ExecuteTime": {
     "start_time": "2023-04-14T11:50:24.951029Z",
     "end_time": "2023-04-14T11:50:25.351400Z"
    }
   },
   "outputs": [
    {
     "data": {
      "text/plain": "Accuracy      0.859519\nF1 score      0.901043\nrecall        0.906508\nprecesion     0.895644\nspecificty    0.746939\ndtype: float64"
     },
     "execution_count": 45,
     "metadata": {},
     "output_type": "execute_result"
    }
   ],
   "source": [
    "evaluate_model(train_X,train_y,model)"
   ]
  },
  {
   "cell_type": "code",
   "execution_count": 46,
   "id": "cbcd9593-3035-4d7d-b260-0ad38cb03073",
   "metadata": {
    "ExecuteTime": {
     "start_time": "2023-04-14T11:50:25.352401Z",
     "end_time": "2023-04-14T11:50:25.494451Z"
    }
   },
   "outputs": [
    {
     "data": {
      "text/plain": "Accuracy      0.848269\nF1 score      0.893306\nrecall        0.895122\nprecesion     0.891498\nspecificty    0.733775\ndtype: float64"
     },
     "execution_count": 46,
     "metadata": {},
     "output_type": "execute_result"
    }
   ],
   "source": [
    "evaluate_model(test_X,test_y,model)\n"
   ]
  },
  {
   "cell_type": "code",
   "execution_count": 47,
   "id": "8ef4aa8b-f392-4eca-97a3-83cad5f74805",
   "metadata": {
    "ExecuteTime": {
     "start_time": "2023-04-14T11:50:25.477336Z",
     "end_time": "2023-04-14T11:50:25.534534Z"
    }
   },
   "outputs": [],
   "source": [
    "import pickle \n",
    "pickle.dump(model,open('model.pkl','wb'))"
   ]
  },
  {
   "cell_type": "code",
   "execution_count": 47,
   "id": "6426cc38-291d-4d5b-bb40-840ddae32d31",
   "metadata": {
    "ExecuteTime": {
     "start_time": "2023-04-14T11:50:25.511934Z",
     "end_time": "2023-04-14T11:50:25.554605Z"
    }
   },
   "outputs": [],
   "source": []
  }
 ],
 "metadata": {
  "kernelspec": {
   "display_name": "Python 3 (ipykernel)",
   "language": "python",
   "name": "python3"
  },
  "language_info": {
   "codemirror_mode": {
    "name": "ipython",
    "version": 3
   },
   "file_extension": ".py",
   "mimetype": "text/x-python",
   "name": "python",
   "nbconvert_exporter": "python",
   "pygments_lexer": "ipython3",
   "version": "3.9.13"
  }
 },
 "nbformat": 4,
 "nbformat_minor": 5
}
