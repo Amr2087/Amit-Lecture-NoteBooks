{
 "cells": [
  {
   "cell_type": "code",
   "execution_count": 1,
   "outputs": [],
   "source": [
    "import pandas as pd\n",
    "import numpy as np\n",
    "import matplotlib.pyplot as plt\n",
    "import seaborn as sns\n",
    "import metrics\n",
    "import warnings\n",
    "\n",
    "warnings.filterwarnings(\"ignore\")"
   ],
   "metadata": {
    "collapsed": false
   }
  },
  {
   "cell_type": "code",
   "execution_count": 2,
   "outputs": [],
   "source": [
    "dataset = pd.read_excel('data/Telco_customer_churn.xlsx')"
   ],
   "metadata": {
    "collapsed": false
   }
  },
  {
   "cell_type": "code",
   "execution_count": 3,
   "outputs": [
    {
     "data": {
      "text/plain": "      CustomerID  Count        Country       State          City  Zip Code  \\\n0     3668-QPYBK      1  United States  California   Los Angeles     90003   \n1     9237-HQITU      1  United States  California   Los Angeles     90005   \n2     9305-CDSKC      1  United States  California   Los Angeles     90006   \n3     7892-POOKP      1  United States  California   Los Angeles     90010   \n4     0280-XJGEX      1  United States  California   Los Angeles     90015   \n...          ...    ...            ...         ...           ...       ...   \n7038  2569-WGERO      1  United States  California       Landers     92285   \n7039  6840-RESVB      1  United States  California      Adelanto     92301   \n7040  2234-XADUH      1  United States  California         Amboy     92304   \n7041  4801-JZAZL      1  United States  California  Angelus Oaks     92305   \n7042  3186-AJIEK      1  United States  California  Apple Valley     92308   \n\n                    Lat Long   Latitude   Longitude  Gender  ...  \\\n0     33.964131, -118.272783  33.964131 -118.272783    Male  ...   \n1      34.059281, -118.30742  34.059281 -118.307420  Female  ...   \n2     34.048013, -118.293953  34.048013 -118.293953  Female  ...   \n3     34.062125, -118.315709  34.062125 -118.315709  Female  ...   \n4     34.039224, -118.266293  34.039224 -118.266293    Male  ...   \n...                      ...        ...         ...     ...  ...   \n7038  34.341737, -116.539416  34.341737 -116.539416  Female  ...   \n7039  34.667815, -117.536183  34.667815 -117.536183    Male  ...   \n7040  34.559882, -115.637164  34.559882 -115.637164  Female  ...   \n7041     34.1678, -116.86433  34.167800 -116.864330  Female  ...   \n7042  34.424926, -117.184503  34.424926 -117.184503    Male  ...   \n\n            Contract Paperless Billing             Payment Method  \\\n0     Month-to-month               Yes               Mailed check   \n1     Month-to-month               Yes           Electronic check   \n2     Month-to-month               Yes           Electronic check   \n3     Month-to-month               Yes           Electronic check   \n4     Month-to-month               Yes  Bank transfer (automatic)   \n...              ...               ...                        ...   \n7038        Two year               Yes  Bank transfer (automatic)   \n7039        One year               Yes               Mailed check   \n7040        One year               Yes    Credit card (automatic)   \n7041  Month-to-month               Yes           Electronic check   \n7042        Two year               Yes  Bank transfer (automatic)   \n\n      Monthly Charges Total Charges Churn Label Churn Value Churn Score  CLTV  \\\n0               53.85        108.15         Yes           1          86  3239   \n1               70.70        151.65         Yes           1          67  2701   \n2               99.65         820.5         Yes           1          86  5372   \n3              104.80       3046.05         Yes           1          84  5003   \n4              103.70        5036.3         Yes           1          89  5340   \n...               ...           ...         ...         ...         ...   ...   \n7038            21.15        1419.4          No           0          45  5306   \n7039            84.80        1990.5          No           0          59  2140   \n7040           103.20        7362.9          No           0          71  5560   \n7041            29.60        346.45          No           0          59  2793   \n7042           105.65        6844.5          No           0          38  5097   \n\n                       Churn Reason  \n0      Competitor made better offer  \n1                             Moved  \n2                             Moved  \n3                             Moved  \n4     Competitor had better devices  \n...                             ...  \n7038                            NaN  \n7039                            NaN  \n7040                            NaN  \n7041                            NaN  \n7042                            NaN  \n\n[7043 rows x 33 columns]",
      "text/html": "<div>\n<style scoped>\n    .dataframe tbody tr th:only-of-type {\n        vertical-align: middle;\n    }\n\n    .dataframe tbody tr th {\n        vertical-align: top;\n    }\n\n    .dataframe thead th {\n        text-align: right;\n    }\n</style>\n<table border=\"1\" class=\"dataframe\">\n  <thead>\n    <tr style=\"text-align: right;\">\n      <th></th>\n      <th>CustomerID</th>\n      <th>Count</th>\n      <th>Country</th>\n      <th>State</th>\n      <th>City</th>\n      <th>Zip Code</th>\n      <th>Lat Long</th>\n      <th>Latitude</th>\n      <th>Longitude</th>\n      <th>Gender</th>\n      <th>...</th>\n      <th>Contract</th>\n      <th>Paperless Billing</th>\n      <th>Payment Method</th>\n      <th>Monthly Charges</th>\n      <th>Total Charges</th>\n      <th>Churn Label</th>\n      <th>Churn Value</th>\n      <th>Churn Score</th>\n      <th>CLTV</th>\n      <th>Churn Reason</th>\n    </tr>\n  </thead>\n  <tbody>\n    <tr>\n      <th>0</th>\n      <td>3668-QPYBK</td>\n      <td>1</td>\n      <td>United States</td>\n      <td>California</td>\n      <td>Los Angeles</td>\n      <td>90003</td>\n      <td>33.964131, -118.272783</td>\n      <td>33.964131</td>\n      <td>-118.272783</td>\n      <td>Male</td>\n      <td>...</td>\n      <td>Month-to-month</td>\n      <td>Yes</td>\n      <td>Mailed check</td>\n      <td>53.85</td>\n      <td>108.15</td>\n      <td>Yes</td>\n      <td>1</td>\n      <td>86</td>\n      <td>3239</td>\n      <td>Competitor made better offer</td>\n    </tr>\n    <tr>\n      <th>1</th>\n      <td>9237-HQITU</td>\n      <td>1</td>\n      <td>United States</td>\n      <td>California</td>\n      <td>Los Angeles</td>\n      <td>90005</td>\n      <td>34.059281, -118.30742</td>\n      <td>34.059281</td>\n      <td>-118.307420</td>\n      <td>Female</td>\n      <td>...</td>\n      <td>Month-to-month</td>\n      <td>Yes</td>\n      <td>Electronic check</td>\n      <td>70.70</td>\n      <td>151.65</td>\n      <td>Yes</td>\n      <td>1</td>\n      <td>67</td>\n      <td>2701</td>\n      <td>Moved</td>\n    </tr>\n    <tr>\n      <th>2</th>\n      <td>9305-CDSKC</td>\n      <td>1</td>\n      <td>United States</td>\n      <td>California</td>\n      <td>Los Angeles</td>\n      <td>90006</td>\n      <td>34.048013, -118.293953</td>\n      <td>34.048013</td>\n      <td>-118.293953</td>\n      <td>Female</td>\n      <td>...</td>\n      <td>Month-to-month</td>\n      <td>Yes</td>\n      <td>Electronic check</td>\n      <td>99.65</td>\n      <td>820.5</td>\n      <td>Yes</td>\n      <td>1</td>\n      <td>86</td>\n      <td>5372</td>\n      <td>Moved</td>\n    </tr>\n    <tr>\n      <th>3</th>\n      <td>7892-POOKP</td>\n      <td>1</td>\n      <td>United States</td>\n      <td>California</td>\n      <td>Los Angeles</td>\n      <td>90010</td>\n      <td>34.062125, -118.315709</td>\n      <td>34.062125</td>\n      <td>-118.315709</td>\n      <td>Female</td>\n      <td>...</td>\n      <td>Month-to-month</td>\n      <td>Yes</td>\n      <td>Electronic check</td>\n      <td>104.80</td>\n      <td>3046.05</td>\n      <td>Yes</td>\n      <td>1</td>\n      <td>84</td>\n      <td>5003</td>\n      <td>Moved</td>\n    </tr>\n    <tr>\n      <th>4</th>\n      <td>0280-XJGEX</td>\n      <td>1</td>\n      <td>United States</td>\n      <td>California</td>\n      <td>Los Angeles</td>\n      <td>90015</td>\n      <td>34.039224, -118.266293</td>\n      <td>34.039224</td>\n      <td>-118.266293</td>\n      <td>Male</td>\n      <td>...</td>\n      <td>Month-to-month</td>\n      <td>Yes</td>\n      <td>Bank transfer (automatic)</td>\n      <td>103.70</td>\n      <td>5036.3</td>\n      <td>Yes</td>\n      <td>1</td>\n      <td>89</td>\n      <td>5340</td>\n      <td>Competitor had better devices</td>\n    </tr>\n    <tr>\n      <th>...</th>\n      <td>...</td>\n      <td>...</td>\n      <td>...</td>\n      <td>...</td>\n      <td>...</td>\n      <td>...</td>\n      <td>...</td>\n      <td>...</td>\n      <td>...</td>\n      <td>...</td>\n      <td>...</td>\n      <td>...</td>\n      <td>...</td>\n      <td>...</td>\n      <td>...</td>\n      <td>...</td>\n      <td>...</td>\n      <td>...</td>\n      <td>...</td>\n      <td>...</td>\n      <td>...</td>\n    </tr>\n    <tr>\n      <th>7038</th>\n      <td>2569-WGERO</td>\n      <td>1</td>\n      <td>United States</td>\n      <td>California</td>\n      <td>Landers</td>\n      <td>92285</td>\n      <td>34.341737, -116.539416</td>\n      <td>34.341737</td>\n      <td>-116.539416</td>\n      <td>Female</td>\n      <td>...</td>\n      <td>Two year</td>\n      <td>Yes</td>\n      <td>Bank transfer (automatic)</td>\n      <td>21.15</td>\n      <td>1419.4</td>\n      <td>No</td>\n      <td>0</td>\n      <td>45</td>\n      <td>5306</td>\n      <td>NaN</td>\n    </tr>\n    <tr>\n      <th>7039</th>\n      <td>6840-RESVB</td>\n      <td>1</td>\n      <td>United States</td>\n      <td>California</td>\n      <td>Adelanto</td>\n      <td>92301</td>\n      <td>34.667815, -117.536183</td>\n      <td>34.667815</td>\n      <td>-117.536183</td>\n      <td>Male</td>\n      <td>...</td>\n      <td>One year</td>\n      <td>Yes</td>\n      <td>Mailed check</td>\n      <td>84.80</td>\n      <td>1990.5</td>\n      <td>No</td>\n      <td>0</td>\n      <td>59</td>\n      <td>2140</td>\n      <td>NaN</td>\n    </tr>\n    <tr>\n      <th>7040</th>\n      <td>2234-XADUH</td>\n      <td>1</td>\n      <td>United States</td>\n      <td>California</td>\n      <td>Amboy</td>\n      <td>92304</td>\n      <td>34.559882, -115.637164</td>\n      <td>34.559882</td>\n      <td>-115.637164</td>\n      <td>Female</td>\n      <td>...</td>\n      <td>One year</td>\n      <td>Yes</td>\n      <td>Credit card (automatic)</td>\n      <td>103.20</td>\n      <td>7362.9</td>\n      <td>No</td>\n      <td>0</td>\n      <td>71</td>\n      <td>5560</td>\n      <td>NaN</td>\n    </tr>\n    <tr>\n      <th>7041</th>\n      <td>4801-JZAZL</td>\n      <td>1</td>\n      <td>United States</td>\n      <td>California</td>\n      <td>Angelus Oaks</td>\n      <td>92305</td>\n      <td>34.1678, -116.86433</td>\n      <td>34.167800</td>\n      <td>-116.864330</td>\n      <td>Female</td>\n      <td>...</td>\n      <td>Month-to-month</td>\n      <td>Yes</td>\n      <td>Electronic check</td>\n      <td>29.60</td>\n      <td>346.45</td>\n      <td>No</td>\n      <td>0</td>\n      <td>59</td>\n      <td>2793</td>\n      <td>NaN</td>\n    </tr>\n    <tr>\n      <th>7042</th>\n      <td>3186-AJIEK</td>\n      <td>1</td>\n      <td>United States</td>\n      <td>California</td>\n      <td>Apple Valley</td>\n      <td>92308</td>\n      <td>34.424926, -117.184503</td>\n      <td>34.424926</td>\n      <td>-117.184503</td>\n      <td>Male</td>\n      <td>...</td>\n      <td>Two year</td>\n      <td>Yes</td>\n      <td>Bank transfer (automatic)</td>\n      <td>105.65</td>\n      <td>6844.5</td>\n      <td>No</td>\n      <td>0</td>\n      <td>38</td>\n      <td>5097</td>\n      <td>NaN</td>\n    </tr>\n  </tbody>\n</table>\n<p>7043 rows × 33 columns</p>\n</div>"
     },
     "execution_count": 3,
     "metadata": {},
     "output_type": "execute_result"
    }
   ],
   "source": [
    "dataset"
   ],
   "metadata": {
    "collapsed": false
   }
  },
  {
   "cell_type": "code",
   "execution_count": 4,
   "outputs": [],
   "source": [
    "def data_info(dataset):\n",
    "    cols = []\n",
    "    unique = []\n",
    "    n_uniques = []\n",
    "    dtypes = []\n",
    "    nulls = []\n",
    "\n",
    "    for col in dataset.columns:\n",
    "        cols.append(col)\n",
    "        dtypes.append(dataset[col].dtype)\n",
    "        n_uniques.append(dataset[col].nunique())\n",
    "        unique.append(dataset[col].unique())\n",
    "        nulls.append(dataset[col].isna().sum())\n",
    "\n",
    "    return pd.DataFrame({'Columns': cols, 'n_uniques': n_uniques,\n",
    "                         'unique': unique, 'dtypes': dtypes, \"NULLS\": nulls\n",
    "                         })"
   ],
   "metadata": {
    "collapsed": false
   }
  },
  {
   "cell_type": "code",
   "execution_count": 5,
   "outputs": [
    {
     "data": {
      "text/plain": "              Columns  n_uniques  \\\n0          CustomerID       7043   \n1               Count          1   \n2             Country          1   \n3               State          1   \n4                City       1129   \n5            Zip Code       1652   \n6            Lat Long       1652   \n7            Latitude       1652   \n8           Longitude       1651   \n9              Gender          2   \n10     Senior Citizen          2   \n11            Partner          2   \n12         Dependents          2   \n13      Tenure Months         73   \n14      Phone Service          2   \n15     Multiple Lines          3   \n16   Internet Service          3   \n17    Online Security          3   \n18      Online Backup          3   \n19  Device Protection          3   \n20       Tech Support          3   \n21       Streaming TV          3   \n22   Streaming Movies          3   \n23           Contract          3   \n24  Paperless Billing          2   \n25     Payment Method          4   \n26    Monthly Charges       1585   \n27      Total Charges       6531   \n28        Churn Label          2   \n29        Churn Value          2   \n30        Churn Score         85   \n31               CLTV       3438   \n32       Churn Reason         20   \n\n                                               unique   dtypes  NULLS  \n0   [3668-QPYBK, 9237-HQITU, 9305-CDSKC, 7892-POOK...   object      0  \n1                                                 [1]    int64      0  \n2                                     [United States]   object      0  \n3                                        [California]   object      0  \n4   [Los Angeles, Beverly Hills, Huntington Park, ...   object      0  \n5   [90003, 90005, 90006, 90010, 90015, 90020, 900...    int64      0  \n6   [33.964131, -118.272783, 34.059281, -118.30742...   object      0  \n7   [33.964131, 34.059281, 34.048013, 34.062125, 3...  float64      0  \n8   [-118.272783, -118.30742, -118.293953, -118.31...  float64      0  \n9                                      [Male, Female]   object      0  \n10                                          [No, Yes]   object      0  \n11                                          [No, Yes]   object      0  \n12                                          [No, Yes]   object      0  \n13  [2, 8, 28, 49, 10, 1, 47, 17, 5, 34, 11, 15, 1...    int64      0  \n14                                          [Yes, No]   object      0  \n15                        [No, Yes, No phone service]   object      0  \n16                             [DSL, Fiber optic, No]   object      0  \n17                     [Yes, No, No internet service]   object      0  \n18                     [Yes, No, No internet service]   object      0  \n19                     [No, Yes, No internet service]   object      0  \n20                     [No, Yes, No internet service]   object      0  \n21                     [No, Yes, No internet service]   object      0  \n22                     [No, Yes, No internet service]   object      0  \n23               [Month-to-month, Two year, One year]   object      0  \n24                                          [Yes, No]   object      0  \n25  [Mailed check, Electronic check, Bank transfer...   object      0  \n26  [53.85, 70.7, 99.65, 104.8, 103.7, 55.2, 39.65...  float64      0  \n27  [108.15, 151.65, 820.5, 3046.05, 5036.3, 528.3...   object      0  \n28                                          [Yes, No]   object      0  \n29                                             [1, 0]    int64      0  \n30  [86, 67, 84, 89, 78, 100, 92, 77, 97, 74, 66, ...    int64      0  \n31  [3239, 2701, 5372, 5003, 5340, 5925, 5433, 483...    int64      0  \n32  [Competitor made better offer, Moved, Competit...   object   5174  ",
      "text/html": "<div>\n<style scoped>\n    .dataframe tbody tr th:only-of-type {\n        vertical-align: middle;\n    }\n\n    .dataframe tbody tr th {\n        vertical-align: top;\n    }\n\n    .dataframe thead th {\n        text-align: right;\n    }\n</style>\n<table border=\"1\" class=\"dataframe\">\n  <thead>\n    <tr style=\"text-align: right;\">\n      <th></th>\n      <th>Columns</th>\n      <th>n_uniques</th>\n      <th>unique</th>\n      <th>dtypes</th>\n      <th>NULLS</th>\n    </tr>\n  </thead>\n  <tbody>\n    <tr>\n      <th>0</th>\n      <td>CustomerID</td>\n      <td>7043</td>\n      <td>[3668-QPYBK, 9237-HQITU, 9305-CDSKC, 7892-POOK...</td>\n      <td>object</td>\n      <td>0</td>\n    </tr>\n    <tr>\n      <th>1</th>\n      <td>Count</td>\n      <td>1</td>\n      <td>[1]</td>\n      <td>int64</td>\n      <td>0</td>\n    </tr>\n    <tr>\n      <th>2</th>\n      <td>Country</td>\n      <td>1</td>\n      <td>[United States]</td>\n      <td>object</td>\n      <td>0</td>\n    </tr>\n    <tr>\n      <th>3</th>\n      <td>State</td>\n      <td>1</td>\n      <td>[California]</td>\n      <td>object</td>\n      <td>0</td>\n    </tr>\n    <tr>\n      <th>4</th>\n      <td>City</td>\n      <td>1129</td>\n      <td>[Los Angeles, Beverly Hills, Huntington Park, ...</td>\n      <td>object</td>\n      <td>0</td>\n    </tr>\n    <tr>\n      <th>5</th>\n      <td>Zip Code</td>\n      <td>1652</td>\n      <td>[90003, 90005, 90006, 90010, 90015, 90020, 900...</td>\n      <td>int64</td>\n      <td>0</td>\n    </tr>\n    <tr>\n      <th>6</th>\n      <td>Lat Long</td>\n      <td>1652</td>\n      <td>[33.964131, -118.272783, 34.059281, -118.30742...</td>\n      <td>object</td>\n      <td>0</td>\n    </tr>\n    <tr>\n      <th>7</th>\n      <td>Latitude</td>\n      <td>1652</td>\n      <td>[33.964131, 34.059281, 34.048013, 34.062125, 3...</td>\n      <td>float64</td>\n      <td>0</td>\n    </tr>\n    <tr>\n      <th>8</th>\n      <td>Longitude</td>\n      <td>1651</td>\n      <td>[-118.272783, -118.30742, -118.293953, -118.31...</td>\n      <td>float64</td>\n      <td>0</td>\n    </tr>\n    <tr>\n      <th>9</th>\n      <td>Gender</td>\n      <td>2</td>\n      <td>[Male, Female]</td>\n      <td>object</td>\n      <td>0</td>\n    </tr>\n    <tr>\n      <th>10</th>\n      <td>Senior Citizen</td>\n      <td>2</td>\n      <td>[No, Yes]</td>\n      <td>object</td>\n      <td>0</td>\n    </tr>\n    <tr>\n      <th>11</th>\n      <td>Partner</td>\n      <td>2</td>\n      <td>[No, Yes]</td>\n      <td>object</td>\n      <td>0</td>\n    </tr>\n    <tr>\n      <th>12</th>\n      <td>Dependents</td>\n      <td>2</td>\n      <td>[No, Yes]</td>\n      <td>object</td>\n      <td>0</td>\n    </tr>\n    <tr>\n      <th>13</th>\n      <td>Tenure Months</td>\n      <td>73</td>\n      <td>[2, 8, 28, 49, 10, 1, 47, 17, 5, 34, 11, 15, 1...</td>\n      <td>int64</td>\n      <td>0</td>\n    </tr>\n    <tr>\n      <th>14</th>\n      <td>Phone Service</td>\n      <td>2</td>\n      <td>[Yes, No]</td>\n      <td>object</td>\n      <td>0</td>\n    </tr>\n    <tr>\n      <th>15</th>\n      <td>Multiple Lines</td>\n      <td>3</td>\n      <td>[No, Yes, No phone service]</td>\n      <td>object</td>\n      <td>0</td>\n    </tr>\n    <tr>\n      <th>16</th>\n      <td>Internet Service</td>\n      <td>3</td>\n      <td>[DSL, Fiber optic, No]</td>\n      <td>object</td>\n      <td>0</td>\n    </tr>\n    <tr>\n      <th>17</th>\n      <td>Online Security</td>\n      <td>3</td>\n      <td>[Yes, No, No internet service]</td>\n      <td>object</td>\n      <td>0</td>\n    </tr>\n    <tr>\n      <th>18</th>\n      <td>Online Backup</td>\n      <td>3</td>\n      <td>[Yes, No, No internet service]</td>\n      <td>object</td>\n      <td>0</td>\n    </tr>\n    <tr>\n      <th>19</th>\n      <td>Device Protection</td>\n      <td>3</td>\n      <td>[No, Yes, No internet service]</td>\n      <td>object</td>\n      <td>0</td>\n    </tr>\n    <tr>\n      <th>20</th>\n      <td>Tech Support</td>\n      <td>3</td>\n      <td>[No, Yes, No internet service]</td>\n      <td>object</td>\n      <td>0</td>\n    </tr>\n    <tr>\n      <th>21</th>\n      <td>Streaming TV</td>\n      <td>3</td>\n      <td>[No, Yes, No internet service]</td>\n      <td>object</td>\n      <td>0</td>\n    </tr>\n    <tr>\n      <th>22</th>\n      <td>Streaming Movies</td>\n      <td>3</td>\n      <td>[No, Yes, No internet service]</td>\n      <td>object</td>\n      <td>0</td>\n    </tr>\n    <tr>\n      <th>23</th>\n      <td>Contract</td>\n      <td>3</td>\n      <td>[Month-to-month, Two year, One year]</td>\n      <td>object</td>\n      <td>0</td>\n    </tr>\n    <tr>\n      <th>24</th>\n      <td>Paperless Billing</td>\n      <td>2</td>\n      <td>[Yes, No]</td>\n      <td>object</td>\n      <td>0</td>\n    </tr>\n    <tr>\n      <th>25</th>\n      <td>Payment Method</td>\n      <td>4</td>\n      <td>[Mailed check, Electronic check, Bank transfer...</td>\n      <td>object</td>\n      <td>0</td>\n    </tr>\n    <tr>\n      <th>26</th>\n      <td>Monthly Charges</td>\n      <td>1585</td>\n      <td>[53.85, 70.7, 99.65, 104.8, 103.7, 55.2, 39.65...</td>\n      <td>float64</td>\n      <td>0</td>\n    </tr>\n    <tr>\n      <th>27</th>\n      <td>Total Charges</td>\n      <td>6531</td>\n      <td>[108.15, 151.65, 820.5, 3046.05, 5036.3, 528.3...</td>\n      <td>object</td>\n      <td>0</td>\n    </tr>\n    <tr>\n      <th>28</th>\n      <td>Churn Label</td>\n      <td>2</td>\n      <td>[Yes, No]</td>\n      <td>object</td>\n      <td>0</td>\n    </tr>\n    <tr>\n      <th>29</th>\n      <td>Churn Value</td>\n      <td>2</td>\n      <td>[1, 0]</td>\n      <td>int64</td>\n      <td>0</td>\n    </tr>\n    <tr>\n      <th>30</th>\n      <td>Churn Score</td>\n      <td>85</td>\n      <td>[86, 67, 84, 89, 78, 100, 92, 77, 97, 74, 66, ...</td>\n      <td>int64</td>\n      <td>0</td>\n    </tr>\n    <tr>\n      <th>31</th>\n      <td>CLTV</td>\n      <td>3438</td>\n      <td>[3239, 2701, 5372, 5003, 5340, 5925, 5433, 483...</td>\n      <td>int64</td>\n      <td>0</td>\n    </tr>\n    <tr>\n      <th>32</th>\n      <td>Churn Reason</td>\n      <td>20</td>\n      <td>[Competitor made better offer, Moved, Competit...</td>\n      <td>object</td>\n      <td>5174</td>\n    </tr>\n  </tbody>\n</table>\n</div>"
     },
     "execution_count": 5,
     "metadata": {},
     "output_type": "execute_result"
    }
   ],
   "source": [
    "data_info(dataset)"
   ],
   "metadata": {
    "collapsed": false
   }
  },
  {
   "cell_type": "code",
   "execution_count": 6,
   "outputs": [],
   "source": [
    "dataset.drop(['Count', 'Country', 'CustomerID', 'State', 'Zip Code', 'Lat Long', 'Churn Label'], axis=1, inplace=True)"
   ],
   "metadata": {
    "collapsed": false
   }
  },
  {
   "cell_type": "code",
   "execution_count": 7,
   "outputs": [],
   "source": [
    "dataset['Total Charges'] = pd.to_numeric(dataset['Total Charges'], errors='coerce')"
   ],
   "metadata": {
    "collapsed": false
   }
  },
  {
   "cell_type": "code",
   "execution_count": 8,
   "outputs": [],
   "source": [
    "dataset['Total Charges'].fillna(dataset['Total Charges'].median(), inplace=True)"
   ],
   "metadata": {
    "collapsed": false
   }
  },
  {
   "cell_type": "code",
   "execution_count": 9,
   "outputs": [],
   "source": [
    "dataset.drop(['Churn Reason'], inplace=True, axis=1)"
   ],
   "metadata": {
    "collapsed": false
   }
  },
  {
   "cell_type": "code",
   "execution_count": 10,
   "outputs": [],
   "source": [
    "dataset.drop(['City'], inplace=True, axis=1)"
   ],
   "metadata": {
    "collapsed": false
   }
  },
  {
   "cell_type": "code",
   "execution_count": 11,
   "outputs": [],
   "source": [
    "cont = {'Month-to-month': 0, 'Two year': 2, 'One year': 1}"
   ],
   "metadata": {
    "collapsed": false
   }
  },
  {
   "cell_type": "code",
   "execution_count": 12,
   "outputs": [],
   "source": [
    "dataset.Contract.replace(cont, inplace=True)"
   ],
   "metadata": {
    "collapsed": false
   }
  },
  {
   "cell_type": "code",
   "execution_count": 13,
   "outputs": [],
   "source": [
    "dataset = pd.get_dummies(dataset, drop_first=True)"
   ],
   "metadata": {
    "collapsed": false
   }
  },
  {
   "cell_type": "code",
   "execution_count": 14,
   "outputs": [],
   "source": [
    "X = dataset.drop(['Churn Value'], axis=1).values\n",
    "y = dataset['Churn Value'].values"
   ],
   "metadata": {
    "collapsed": false
   }
  },
  {
   "cell_type": "code",
   "execution_count": 15,
   "outputs": [],
   "source": [
    "from sklearn.model_selection import train_test_split\n",
    "X_train, X_test, y_train, y_test = train_test_split(X, y, test_size=0.15)"
   ],
   "metadata": {
    "collapsed": false
   }
  },
  {
   "cell_type": "code",
   "execution_count": 16,
   "outputs": [],
   "source": [
    "from sklearn.preprocessing import StandardScaler\n",
    "sc = StandardScaler()\n",
    "X_train = sc.fit_transform(X_train)\n",
    "X_test = sc.transform(X_test)"
   ],
   "metadata": {
    "collapsed": false
   }
  },
  {
   "cell_type": "code",
   "execution_count": 17,
   "outputs": [],
   "source": [
    "from tensorflow.keras.models import Sequential\n",
    "from tensorflow.keras.layers import Dense, Dropout, BatchNormalization\n",
    "from tensorflow.keras.callbacks import EarlyStopping"
   ],
   "metadata": {
    "collapsed": false
   }
  },
  {
   "cell_type": "code",
   "execution_count": 153,
   "outputs": [
    {
     "name": "stdout",
     "output_type": "stream",
     "text": [
      "Model: \"sequential_14\"\n",
      "_________________________________________________________________\n",
      " Layer (type)                Output Shape              Param #   \n",
      "=================================================================\n",
      " dense_56 (Dense)            (None, 150)               5100      \n",
      "                                                                 \n",
      " batch_normalization_42 (Bat  (None, 150)              600       \n",
      " chNormalization)                                                \n",
      "                                                                 \n",
      " dense_57 (Dense)            (None, 100)               15100     \n",
      "                                                                 \n",
      " batch_normalization_43 (Bat  (None, 100)              400       \n",
      " chNormalization)                                                \n",
      "                                                                 \n",
      " dense_58 (Dense)            (None, 50)                5050      \n",
      "                                                                 \n",
      " batch_normalization_44 (Bat  (None, 50)               200       \n",
      " chNormalization)                                                \n",
      "                                                                 \n",
      " dense_59 (Dense)            (None, 1)                 51        \n",
      "                                                                 \n",
      "=================================================================\n",
      "Total params: 26,501\n",
      "Trainable params: 25,901\n",
      "Non-trainable params: 600\n",
      "_________________________________________________________________\n"
     ]
    }
   ],
   "source": [
    "model = Sequential()\n",
    "model.add(Dense(units=150,input_dim=X_train.shape[1],activation='relu'))\n",
    "model.add(BatchNormalization())\n",
    "model.add(Dense(units=100,activation='relu'))\n",
    "model.add(BatchNormalization())\n",
    "model.add(Dense(units=50,activation='relu'))\n",
    "model.add(BatchNormalization())\n",
    "model.add(Dense(units=1,activation='sigmoid'))\n",
    "model.summary()"
   ],
   "metadata": {
    "collapsed": false
   }
  },
  {
   "cell_type": "code",
   "execution_count": 154,
   "outputs": [],
   "source": [
    "from tensorflow.keras.optimizers import SGD,RMSprop,Adam\n",
    "sgd = SGD(learning_rate=0.001, momentum=0.01)\n",
    "rmsprop = RMSprop(learning_rate=0.0001, rho=0.9,epsilon=1e-07)\n",
    "adam = Adam(learning_rate=0.001, beta_1=0.9,beta_2=0.99)"
   ],
   "metadata": {
    "collapsed": false
   }
  },
  {
   "cell_type": "code",
   "execution_count": 155,
   "outputs": [],
   "source": [
    "model.compile(loss='binary_crossentropy', optimizer=adam, metrics=['accuracy'])"
   ],
   "metadata": {
    "collapsed": false
   }
  },
  {
   "cell_type": "code",
   "execution_count": 156,
   "outputs": [
    {
     "name": "stdout",
     "output_type": "stream",
     "text": [
      "Epoch 1/50\n",
      "36/36 [==============================] - 2s 8ms/step - loss: 0.4157 - accuracy: 0.8168 - val_loss: 0.4455 - val_accuracy: 0.8848\n",
      "Epoch 2/50\n",
      "36/36 [==============================] - 0s 4ms/step - loss: 0.2481 - accuracy: 0.9133 - val_loss: 0.3391 - val_accuracy: 0.8848\n",
      "Epoch 3/50\n",
      "36/36 [==============================] - 0s 4ms/step - loss: 0.2059 - accuracy: 0.9246 - val_loss: 0.2964 - val_accuracy: 0.8698\n",
      "Epoch 4/50\n",
      "36/36 [==============================] - 0s 4ms/step - loss: 0.1769 - accuracy: 0.9356 - val_loss: 0.2745 - val_accuracy: 0.8698\n",
      "Epoch 5/50\n",
      "36/36 [==============================] - 0s 5ms/step - loss: 0.1510 - accuracy: 0.9445 - val_loss: 0.2586 - val_accuracy: 0.8681\n",
      "Epoch 6/50\n",
      "36/36 [==============================] - 0s 4ms/step - loss: 0.1387 - accuracy: 0.9471 - val_loss: 0.2595 - val_accuracy: 0.8715\n"
     ]
    }
   ],
   "source": [
    "e = EarlyStopping(monitor='val_loss', patience=1)\n",
    "history = model.fit(X_train, y_train, epochs=50, batch_size=150, validation_split=0.1,callbacks=e)"
   ],
   "metadata": {
    "collapsed": false
   }
  },
  {
   "cell_type": "code",
   "execution_count": 157,
   "outputs": [
    {
     "data": {
      "text/plain": "<Figure size 640x480 with 1 Axes>",
      "image/png": "[encoded data removed]"
     },
     "metadata": {},
     "output_type": "display_data"
    }
   ],
   "source": [
    "plt.plot(history.history['loss'], label='train')\n",
    "plt.plot(history.history['val_loss'], label='val_test')\n",
    "plt.show()"
   ],
   "metadata": {
    "collapsed": false
   }
  },
  {
   "cell_type": "code",
   "execution_count": 158,
   "outputs": [
    {
     "data": {
      "text/plain": "<Figure size 640x480 with 1 Axes>",
      "image/png": "[encoded data removed]"
     },
     "metadata": {},
     "output_type": "display_data"
    }
   ],
   "source": [
    "plt.plot(history.history['accuracy'], label='train')\n",
    "plt.plot(history.history['val_accuracy'], label='val_test')\n",
    "plt.show()"
   ],
   "metadata": {
    "collapsed": false
   }
  },
  {
   "cell_type": "code",
   "execution_count": 159,
   "outputs": [
    {
     "name": "stdout",
     "output_type": "stream",
     "text": [
      "34/34 [==============================] - 0s 2ms/step - loss: 0.2196 - accuracy: 0.9063\n"
     ]
    },
    {
     "data": {
      "text/plain": "[0.21957851946353912, 0.9063386917114258]"
     },
     "execution_count": 159,
     "metadata": {},
     "output_type": "execute_result"
    }
   ],
   "source": [
    "model.evaluate(X_test, y_test)"
   ],
   "metadata": {
    "collapsed": false
   }
  },
  {
   "cell_type": "code",
   "execution_count": 160,
   "outputs": [
    {
     "name": "stdout",
     "output_type": "stream",
     "text": [
      "34/34 [==============================] - 0s 1ms/step\n"
     ]
    }
   ],
   "source": [
    "y_pred = model.predict(X_test)"
   ],
   "metadata": {
    "collapsed": false
   }
  },
  {
   "cell_type": "code",
   "execution_count": 161,
   "outputs": [
    {
     "name": "stdout",
     "output_type": "stream",
     "text": [
      "188/188 [==============================] - 0s 972us/step\n"
     ]
    }
   ],
   "source": [
    "y_pred_train = model.predict(X_train)"
   ],
   "metadata": {
    "collapsed": false
   }
  },
  {
   "cell_type": "code",
   "execution_count": 162,
   "outputs": [
    {
     "data": {
      "text/plain": "[0,\n 1,\n 1,\n 0,\n 0,\n 1,\n 0,\n 0,\n 0,\n 0,\n 1,\n 1,\n 0,\n 0,\n 1,\n 0,\n 0,\n 1,\n 0,\n 1,\n 0,\n 0,\n 0,\n 1,\n 0,\n 0,\n 0,\n 0,\n 1,\n 0,\n 0,\n 0,\n 1,\n 0,\n 0,\n 0,\n 0,\n 0,\n 0,\n 1,\n 0,\n 0,\n 0,\n 0,\n 0,\n 0,\n 0,\n 1,\n 0,\n 0,\n 0,\n 0,\n 0,\n 1,\n 1,\n 0,\n 1,\n 0,\n 0,\n 0,\n 0,\n 0,\n 1,\n 0,\n 0,\n 1,\n 1,\n 0,\n 1,\n 0,\n 0,\n 0,\n 0,\n 0,\n 0,\n 0,\n 0,\n 0,\n 1,\n 1,\n 0,\n 0,\n 0,\n 0,\n 0,\n 0,\n 0,\n 0,\n 0,\n 0,\n 0,\n 0,\n 0,\n 0,\n 0,\n 0,\n 0,\n 1,\n 0,\n 0,\n 0,\n 0,\n 0,\n 1,\n 0,\n 1,\n 0,\n 0,\n 0,\n 0,\n 0,\n 1,\n 0,\n 0,\n 0,\n 0,\n 0,\n 0,\n 0,\n 0,\n 0,\n 1,\n 0,\n 0,\n 0,\n 0,\n 0,\n 0,\n 0,\n 0,\n 0,\n 0,\n 0,\n 1,\n 0,\n 0,\n 1,\n 0,\n 0,\n 0,\n 0,\n 0,\n 0,\n 0,\n 0,\n 0,\n 0,\n 0,\n 0,\n 0,\n 0,\n 0,\n 1,\n 0,\n 1,\n 1,\n 1,\n 0,\n 0,\n 1,\n 1,\n 0,\n 0,\n 0,\n 0,\n 0,\n 0,\n 0,\n 0,\n 0,\n 0,\n 0,\n 0,\n 0,\n 0,\n 1,\n 1,\n 0,\n 1,\n 0,\n 0,\n 0,\n 0,\n 0,\n 0,\n 0,\n 0,\n 1,\n 0,\n 0,\n 0,\n 0,\n 0,\n 0,\n 0,\n 0,\n 0,\n 1,\n 0,\n 1,\n 0,\n 0,\n 0,\n 1,\n 0,\n 0,\n 0,\n 0,\n 0,\n 0,\n 0,\n 1,\n 1,\n 0,\n 0,\n 0,\n 0,\n 0,\n 0,\n 0,\n 0,\n 0,\n 1,\n 0,\n 0,\n 0,\n 0,\n 0,\n 0,\n 0,\n 1,\n 0,\n 0,\n 0,\n 1,\n 0,\n 0,\n 0,\n 1,\n 0,\n 1,\n 0,\n 0,\n 0,\n 0,\n 0,\n 0,\n 0,\n 0,\n 0,\n 0,\n 1,\n 0,\n 0,\n 0,\n 0,\n 0,\n 0,\n 0,\n 0,\n 0,\n 0,\n 0,\n 1,\n 0,\n 0,\n 0,\n 0,\n 0,\n 0,\n 0,\n 0,\n 0,\n 0,\n 0,\n 0,\n 0,\n 0,\n 1,\n 0,\n 0,\n 0,\n 1,\n 0,\n 0,\n 0,\n 0,\n 0,\n 0,\n 0,\n 0,\n 1,\n 0,\n 0,\n 0,\n 0,\n 0,\n 0,\n 0,\n 0,\n 0,\n 0,\n 0,\n 0,\n 0,\n 0,\n 0,\n 0,\n 0,\n 0,\n 1,\n 0,\n 0,\n 1,\n 0,\n 0,\n 1,\n 0,\n 1,\n 0,\n 0,\n 0,\n 0,\n 0,\n 0,\n 0,\n 1,\n 0,\n 1,\n 0,\n 0,\n 1,\n 0,\n 0,\n 0,\n 1,\n 0,\n 0,\n 0,\n 0,\n 0,\n 1,\n 0,\n 0,\n 0,\n 0,\n 0,\n 1,\n 0,\n 0,\n 1,\n 0,\n 0,\n 0,\n 1,\n 0,\n 0,\n 0,\n 1,\n 1,\n 0,\n 1,\n 0,\n 0,\n 0,\n 0,\n 0,\n 1,\n 0,\n 1,\n 0,\n 1,\n 0,\n 0,\n 0,\n 0,\n 0,\n 0,\n 0,\n 0,\n 0,\n 1,\n 0,\n 1,\n 0,\n 0,\n 0,\n 0,\n 0,\n 0,\n 0,\n 0,\n 0,\n 0,\n 0,\n 0,\n 0,\n 0,\n 0,\n 0,\n 1,\n 0,\n 0,\n 0,\n 0,\n 0,\n 0,\n 0,\n 0,\n 1,\n 0,\n 1,\n 0,\n 0,\n 0,\n 1,\n 0,\n 0,\n 0,\n 0,\n 0,\n 0,\n 0,\n 0,\n 1,\n 0,\n 0,\n 1,\n 1,\n 0,\n 0,\n 1,\n 0,\n 1,\n 0,\n 0,\n 0,\n 0,\n 0,\n 0,\n 1,\n 1,\n 1,\n 0,\n 0,\n 0,\n 0,\n 0,\n 0,\n 0,\n 0,\n 0,\n 0,\n 1,\n 0,\n 0,\n 0,\n 0,\n 0,\n 0,\n 1,\n 0,\n 0,\n 0,\n 0,\n 0,\n 0,\n 0,\n 0,\n 0,\n 0,\n 0,\n 0,\n 0,\n 0,\n 0,\n 0,\n 0,\n 0,\n 0,\n 0,\n 0,\n 1,\n 0,\n 0,\n 0,\n 0,\n 1,\n 0,\n 1,\n 1,\n 0,\n 0,\n 0,\n 0,\n 1,\n 0,\n 1,\n 1,\n 0,\n 0,\n 0,\n 0,\n 0,\n 0,\n 0,\n 0,\n 1,\n 0,\n 0,\n 0,\n 0,\n 0,\n 0,\n 0,\n 0,\n 1,\n 0,\n 1,\n 1,\n 0,\n 1,\n 1,\n 0,\n 0,\n 0,\n 0,\n 0,\n 0,\n 0,\n 1,\n 0,\n 0,\n 0,\n 0,\n 1,\n 0,\n 0,\n 0,\n 0,\n 0,\n 1,\n 0,\n 0,\n 0,\n 0,\n 1,\n 0,\n 0,\n 0,\n 1,\n 1,\n 0,\n 0,\n 0,\n 0,\n 0,\n 0,\n 0,\n 0,\n 0,\n 0,\n 0,\n 0,\n 0,\n 1,\n 0,\n 0,\n 0,\n 1,\n 0,\n 0,\n 1,\n 0,\n 0,\n 0,\n 0,\n 1,\n 0,\n 0,\n 0,\n 0,\n 0,\n 0,\n 0,\n 0,\n 0,\n 0,\n 0,\n 1,\n 0,\n 1,\n 0,\n 0,\n 0,\n 0,\n 0,\n 0,\n 0,\n 0,\n 0,\n 1,\n 1,\n 0,\n 0,\n 0,\n 0,\n 0,\n 0,\n 0,\n 0,\n 0,\n 1,\n 0,\n 1,\n 0,\n 0,\n 0,\n 0,\n 0,\n 0,\n 0,\n 0,\n 0,\n 0,\n 0,\n 1,\n 0,\n 0,\n 0,\n 0,\n 0,\n 0,\n 1,\n 0,\n 0,\n 0,\n 0,\n 0,\n 0,\n 1,\n 0,\n 0,\n 0,\n 0,\n 0,\n 0,\n 0,\n 0,\n 0,\n 0,\n 0,\n 0,\n 0,\n 0,\n 0,\n 0,\n 0,\n 0,\n 0,\n 0,\n 0,\n 0,\n 0,\n 1,\n 0,\n 0,\n 1,\n 0,\n 0,\n 0,\n 0,\n 0,\n 0,\n 0,\n 0,\n 0,\n 0,\n 0,\n 0,\n 0,\n 0,\n 0,\n 0,\n 0,\n 0,\n 0,\n 0,\n 1,\n 0,\n 0,\n 1,\n 0,\n 0,\n 1,\n 0,\n 0,\n 0,\n 0,\n 0,\n 0,\n 0,\n 0,\n 0,\n 0,\n 0,\n 0,\n 0,\n 1,\n 0,\n 0,\n 0,\n 0,\n 0,\n 0,\n 0,\n 1,\n 0,\n 0,\n 0,\n 1,\n 1,\n 1,\n 0,\n 0,\n 1,\n 1,\n 0,\n 0,\n 0,\n 0,\n 0,\n 0,\n 1,\n 0,\n 0,\n 0,\n 0,\n 0,\n 0,\n 0,\n 0,\n 0,\n 0,\n 1,\n 0,\n 0,\n 0,\n 0,\n 1,\n 0,\n 0,\n 0,\n 1,\n 0,\n 0,\n 1,\n 0,\n 0,\n 1,\n 1,\n 0,\n 0,\n 1,\n 0,\n 0,\n 0,\n 0,\n 0,\n 0,\n 0,\n 0,\n 0,\n 0,\n 1,\n 1,\n 0,\n 1,\n 0,\n 1,\n 0,\n 0,\n 0,\n 0,\n 0,\n 0,\n 1,\n 0,\n 0,\n 0,\n 0,\n 0,\n 0,\n 0,\n 0,\n 0,\n 0,\n 0,\n 0,\n 0,\n 0,\n 0,\n 1,\n 0,\n 0,\n 0,\n 0,\n 0,\n 0,\n 0,\n 0,\n 1,\n 0,\n 0,\n 0,\n 1,\n 1,\n 0,\n 0,\n 1,\n 0,\n 1,\n 0,\n 0,\n 0,\n 0,\n 0,\n 0,\n 1,\n 0,\n 0,\n 0,\n 0,\n 0,\n 0,\n 0,\n 0,\n 1,\n 0,\n 0,\n 0,\n 0,\n 1,\n 0,\n 0,\n 0,\n 0,\n 0,\n 0,\n 0,\n 0,\n 0,\n 1,\n 0,\n 0,\n 0,\n 1,\n 0,\n 0,\n 0,\n 0,\n 0,\n 0,\n 0,\n 0,\n 0,\n 0,\n 0,\n 0,\n 0,\n 0,\n 1,\n 1,\n 0,\n 0,\n 0,\n 0,\n 0,\n 1,\n 0,\n 0,\n 0,\n 0,\n 0,\n 0,\n 0,\n 0,\n 1,\n 0,\n 0,\n 0,\n 0,\n 0,\n 0,\n 1,\n 0,\n 0,\n 1,\n 1,\n 0,\n 1,\n 0,\n 0,\n 0,\n 0,\n 0,\n 0,\n 1,\n 0,\n 0,\n 0,\n 0,\n 0,\n 0,\n 1,\n 1,\n 0,\n 0,\n 0,\n 0,\n 0,\n 0,\n 1,\n 0,\n 0,\n 0,\n 1,\n 0,\n 0,\n 0,\n 1,\n 0,\n 0,\n 0,\n 0,\n 0,\n 1,\n 0,\n 0,\n 0,\n 0,\n 1,\n 0,\n 0,\n 0,\n 0,\n 0,\n 0,\n 0,\n 0,\n 0,\n 0,\n 0,\n 1,\n 0,\n 0,\n 1,\n 1,\n 0,\n 0,\n 0,\n 0,\n 0,\n 0,\n 0,\n 0,\n 0,\n 1,\n 1,\n 0,\n 0,\n 0,\n 0,\n 0,\n 0,\n 0,\n 1,\n 0,\n 0,\n 0,\n 0,\n 0,\n 0,\n 1,\n 0,\n 0,\n 0,\n 1,\n 0,\n 0,\n 0,\n 1,\n 0,\n 1,\n 0,\n 0,\n 0,\n 0,\n 0,\n 0,\n ...]"
     },
     "execution_count": 162,
     "metadata": {},
     "output_type": "execute_result"
    }
   ],
   "source": [
    "y_pred = [1 if pred > 0.5 else 0 for pred in y_pred]\n",
    "y_pred"
   ],
   "metadata": {
    "collapsed": false
   }
  },
  {
   "cell_type": "code",
   "execution_count": 163,
   "outputs": [
    {
     "data": {
      "text/plain": "[1,\n 0,\n 0,\n 0,\n 1,\n 1,\n 0,\n 0,\n 0,\n 0,\n 0,\n 0,\n 0,\n 1,\n 0,\n 1,\n 0,\n 0,\n 1,\n 0,\n 0,\n 0,\n 0,\n 0,\n 0,\n 0,\n 0,\n 0,\n 0,\n 0,\n 1,\n 1,\n 0,\n 0,\n 1,\n 0,\n 0,\n 0,\n 1,\n 0,\n 0,\n 0,\n 0,\n 0,\n 0,\n 0,\n 0,\n 0,\n 0,\n 0,\n 1,\n 0,\n 0,\n 0,\n 0,\n 0,\n 0,\n 0,\n 0,\n 0,\n 1,\n 0,\n 0,\n 0,\n 0,\n 0,\n 0,\n 0,\n 1,\n 0,\n 0,\n 1,\n 1,\n 0,\n 0,\n 0,\n 0,\n 0,\n 0,\n 0,\n 0,\n 0,\n 0,\n 0,\n 0,\n 0,\n 0,\n 1,\n 0,\n 0,\n 0,\n 0,\n 1,\n 0,\n 1,\n 1,\n 0,\n 0,\n 0,\n 0,\n 0,\n 0,\n 0,\n 0,\n 1,\n 0,\n 0,\n 1,\n 0,\n 0,\n 0,\n 0,\n 0,\n 0,\n 1,\n 0,\n 0,\n 0,\n 0,\n 0,\n 0,\n 0,\n 0,\n 1,\n 0,\n 0,\n 0,\n 0,\n 0,\n 0,\n 1,\n 0,\n 0,\n 1,\n 1,\n 0,\n 1,\n 0,\n 1,\n 0,\n 1,\n 0,\n 0,\n 0,\n 0,\n 1,\n 0,\n 0,\n 0,\n 0,\n 0,\n 0,\n 0,\n 0,\n 0,\n 0,\n 0,\n 0,\n 0,\n 1,\n 1,\n 0,\n 1,\n 0,\n 0,\n 0,\n 0,\n 0,\n 0,\n 0,\n 0,\n 0,\n 0,\n 0,\n 0,\n 0,\n 0,\n 0,\n 0,\n 0,\n 0,\n 0,\n 0,\n 1,\n 0,\n 0,\n 1,\n 0,\n 1,\n 0,\n 0,\n 0,\n 0,\n 0,\n 0,\n 0,\n 0,\n 0,\n 1,\n 0,\n 0,\n 0,\n 0,\n 0,\n 1,\n 0,\n 0,\n 0,\n 0,\n 0,\n 0,\n 0,\n 0,\n 0,\n 0,\n 0,\n 0,\n 0,\n 0,\n 0,\n 0,\n 0,\n 0,\n 0,\n 0,\n 0,\n 1,\n 0,\n 0,\n 0,\n 0,\n 0,\n 0,\n 0,\n 1,\n 0,\n 0,\n 0,\n 0,\n 0,\n 0,\n 1,\n 0,\n 0,\n 0,\n 0,\n 0,\n 0,\n 0,\n 0,\n 0,\n 0,\n 0,\n 1,\n 1,\n 0,\n 0,\n 0,\n 0,\n 0,\n 1,\n 0,\n 1,\n 1,\n 0,\n 0,\n 1,\n 1,\n 0,\n 0,\n 1,\n 0,\n 0,\n 0,\n 0,\n 1,\n 0,\n 0,\n 0,\n 0,\n 0,\n 0,\n 0,\n 0,\n 0,\n 0,\n 0,\n 0,\n 0,\n 0,\n 0,\n 1,\n 1,\n 0,\n 1,\n 0,\n 0,\n 0,\n 0,\n 1,\n 0,\n 0,\n 0,\n 0,\n 0,\n 0,\n 0,\n 0,\n 0,\n 0,\n 0,\n 0,\n 0,\n 0,\n 0,\n 0,\n 0,\n 0,\n 0,\n 0,\n 0,\n 0,\n 0,\n 0,\n 1,\n 0,\n 1,\n 0,\n 1,\n 1,\n 0,\n 0,\n 0,\n 0,\n 0,\n 0,\n 0,\n 0,\n 0,\n 0,\n 0,\n 0,\n 0,\n 1,\n 0,\n 0,\n 0,\n 0,\n 1,\n 0,\n 1,\n 1,\n 0,\n 0,\n 0,\n 0,\n 0,\n 1,\n 0,\n 1,\n 0,\n 0,\n 0,\n 0,\n 0,\n 0,\n 0,\n 1,\n 0,\n 0,\n 0,\n 0,\n 0,\n 0,\n 0,\n 0,\n 0,\n 1,\n 0,\n 0,\n 0,\n 0,\n 0,\n 0,\n 0,\n 0,\n 0,\n 0,\n 0,\n 0,\n 0,\n 0,\n 0,\n 0,\n 0,\n 0,\n 1,\n 1,\n 1,\n 0,\n 0,\n 0,\n 0,\n 0,\n 1,\n 0,\n 0,\n 0,\n 0,\n 1,\n 1,\n 0,\n 0,\n 0,\n 0,\n 0,\n 1,\n 0,\n 0,\n 0,\n 0,\n 0,\n 0,\n 0,\n 0,\n 0,\n 0,\n 1,\n 0,\n 0,\n 0,\n 0,\n 0,\n 1,\n 1,\n 0,\n 0,\n 0,\n 1,\n 0,\n 0,\n 0,\n 0,\n 0,\n 0,\n 0,\n 0,\n 0,\n 1,\n 0,\n 0,\n 0,\n 0,\n 0,\n 0,\n 0,\n 0,\n 0,\n 0,\n 0,\n 1,\n 1,\n 0,\n 1,\n 0,\n 1,\n 0,\n 0,\n 1,\n 1,\n 1,\n 0,\n 0,\n 0,\n 0,\n 0,\n 0,\n 1,\n 0,\n 1,\n 0,\n 0,\n 0,\n 0,\n 0,\n 0,\n 0,\n 1,\n 0,\n 0,\n 0,\n 0,\n 1,\n 1,\n 0,\n 0,\n 0,\n 0,\n 0,\n 0,\n 0,\n 0,\n 0,\n 0,\n 0,\n 1,\n 0,\n 1,\n 0,\n 0,\n 1,\n 1,\n 0,\n 0,\n 0,\n 0,\n 0,\n 0,\n 0,\n 0,\n 0,\n 0,\n 1,\n 0,\n 0,\n 0,\n 1,\n 1,\n 0,\n 0,\n 0,\n 0,\n 0,\n 0,\n 0,\n 0,\n 0,\n 0,\n 1,\n 0,\n 0,\n 0,\n 1,\n 1,\n 0,\n 0,\n 0,\n 0,\n 1,\n 1,\n 0,\n 0,\n 0,\n 0,\n 0,\n 0,\n 0,\n 0,\n 1,\n 0,\n 0,\n 1,\n 0,\n 0,\n 0,\n 0,\n 0,\n 1,\n 1,\n 0,\n 1,\n 0,\n 1,\n 0,\n 0,\n 0,\n 0,\n 0,\n 0,\n 0,\n 0,\n 0,\n 0,\n 0,\n 0,\n 1,\n 0,\n 1,\n 0,\n 0,\n 0,\n 0,\n 0,\n 0,\n 0,\n 0,\n 0,\n 0,\n 0,\n 1,\n 0,\n 0,\n 1,\n 0,\n 0,\n 0,\n 0,\n 0,\n 1,\n 0,\n 0,\n 0,\n 1,\n 0,\n 0,\n 0,\n 1,\n 0,\n 0,\n 0,\n 0,\n 0,\n 1,\n 1,\n 0,\n 0,\n 0,\n 0,\n 0,\n 1,\n 0,\n 0,\n 0,\n 0,\n 1,\n 0,\n 0,\n 0,\n 1,\n 0,\n 0,\n 0,\n 1,\n 0,\n 0,\n 0,\n 1,\n 0,\n 0,\n 0,\n 0,\n 0,\n 0,\n 1,\n 0,\n 0,\n 1,\n 0,\n 0,\n 0,\n 0,\n 0,\n 0,\n 1,\n 0,\n 0,\n 1,\n 0,\n 0,\n 0,\n 1,\n 0,\n 0,\n 0,\n 0,\n 0,\n 0,\n 0,\n 0,\n 0,\n 0,\n 1,\n 0,\n 0,\n 0,\n 0,\n 1,\n 0,\n 0,\n 0,\n 0,\n 0,\n 0,\n 1,\n 1,\n 1,\n 1,\n 0,\n 0,\n 0,\n 0,\n 0,\n 0,\n 0,\n 0,\n 0,\n 0,\n 0,\n 0,\n 0,\n 0,\n 0,\n 0,\n 0,\n 0,\n 0,\n 0,\n 0,\n 0,\n 0,\n 0,\n 0,\n 0,\n 0,\n 0,\n 0,\n 1,\n 0,\n 0,\n 0,\n 0,\n 0,\n 1,\n 0,\n 0,\n 0,\n 0,\n 0,\n 0,\n 1,\n 0,\n 0,\n 0,\n 1,\n 0,\n 0,\n 0,\n 0,\n 0,\n 1,\n 0,\n 1,\n 0,\n 0,\n 0,\n 1,\n 0,\n 0,\n 0,\n 0,\n 1,\n 0,\n 0,\n 0,\n 1,\n 0,\n 0,\n 0,\n 0,\n 0,\n 0,\n 0,\n 0,\n 0,\n 1,\n 1,\n 0,\n 1,\n 0,\n 0,\n 0,\n 0,\n 0,\n 1,\n 0,\n 0,\n 1,\n 0,\n 0,\n 0,\n 0,\n 1,\n 0,\n 0,\n 1,\n 0,\n 0,\n 1,\n 0,\n 0,\n 0,\n 0,\n 0,\n 0,\n 0,\n 0,\n 0,\n 0,\n 0,\n 1,\n 0,\n 1,\n 0,\n 1,\n 1,\n 1,\n 0,\n 1,\n 0,\n 0,\n 1,\n 1,\n 0,\n 0,\n 0,\n 0,\n 0,\n 0,\n 0,\n 0,\n 1,\n 0,\n 0,\n 1,\n 0,\n 0,\n 0,\n 0,\n 1,\n 0,\n 0,\n 1,\n 0,\n 0,\n 0,\n 0,\n 0,\n 0,\n 1,\n 0,\n 0,\n 1,\n 0,\n 0,\n 0,\n 1,\n 0,\n 0,\n 1,\n 0,\n 0,\n 0,\n 0,\n 1,\n 1,\n 0,\n 1,\n 0,\n 0,\n 0,\n 0,\n 0,\n 0,\n 0,\n 1,\n 0,\n 0,\n 0,\n 0,\n 0,\n 0,\n 0,\n 1,\n 0,\n 0,\n 1,\n 0,\n 0,\n 0,\n 0,\n 0,\n 0,\n 0,\n 0,\n 0,\n 1,\n 1,\n 0,\n 1,\n 0,\n 0,\n 0,\n 0,\n 0,\n 1,\n 0,\n 0,\n 0,\n 0,\n 0,\n 0,\n 0,\n 0,\n 0,\n 0,\n 0,\n 0,\n 0,\n 0,\n 1,\n 0,\n 0,\n 0,\n 1,\n 0,\n 0,\n 0,\n 1,\n 0,\n 0,\n 0,\n 0,\n 0,\n 0,\n 0,\n 0,\n 1,\n 0,\n 1,\n 1,\n 0,\n 0,\n 0,\n 0,\n 0,\n 0,\n 0,\n 0,\n 0,\n 0,\n 0,\n 0,\n 0,\n 0,\n 0,\n 0,\n 0,\n 1,\n 0,\n 1,\n 0,\n 0,\n 0,\n 0,\n 0,\n 0,\n 0,\n 0,\n 0,\n 0,\n 0,\n 0,\n 0,\n 1,\n 1,\n 0,\n 0,\n 0,\n 0,\n 0,\n 0,\n 0,\n 1,\n 0,\n 0,\n 1,\n 0,\n 0,\n 0,\n 0,\n 0,\n 0,\n 0,\n 0,\n 0,\n 0,\n 0,\n 1,\n 0,\n 0,\n ...]"
     },
     "execution_count": 163,
     "metadata": {},
     "output_type": "execute_result"
    }
   ],
   "source": [
    "y_pred_train = [1 if pred > 0.5 else 0 for pred in y_pred_train]\n",
    "y_pred_train"
   ],
   "metadata": {
    "collapsed": false
   }
  },
  {
   "cell_type": "code",
   "execution_count": 164,
   "metadata": {
    "collapsed": true
   },
   "outputs": [
    {
     "name": "stdout",
     "output_type": "stream",
     "text": [
      "Accuracy: 0.9063386944181646\n",
      "F1 Score: 0.7795100222717151\n",
      "Recall: 0.6809338521400778\n",
      "Precision: 0.9114583333333334\n",
      "Confusion Matrix:\n",
      " [[783  17]\n",
      " [ 82 175]]\n",
      "Specificity: 0.97875\n"
     ]
    }
   ],
   "source": [
    "metrics.Classification.test(y_test, y_pred)"
   ]
  },
  {
   "cell_type": "code",
   "execution_count": 165,
   "outputs": [
    {
     "name": "stdout",
     "output_type": "stream",
     "text": [
      "Train Accuracy: 0.915970598062145\n",
      "Train F1 Score: 0.8187387387387387\n",
      "Train Recall: 0.7047146401985112\n",
      "Train Precision: 0.9767841788478074\n",
      "Train Confusion Matrix:\n",
      " [[4347   27]\n",
      " [ 476 1136]]\n",
      "Train Specificity: 0.9938271604938271\n"
     ]
    }
   ],
   "source": [
    "metrics.Classification.train(y_train, y_pred_train)"
   ],
   "metadata": {
    "collapsed": false
   }
  },
  {
   "cell_type": "code",
   "execution_count": 30,
   "outputs": [],
   "source": [],
   "metadata": {
    "collapsed": false
   }
  }
 ],
 "metadata": {
  "kernelspec": {
   "display_name": "Python 3",
   "language": "python",
   "name": "python3"
  },
  "language_info": {
   "codemirror_mode": {
    "name": "ipython",
    "version": 2
   },
   "file_extension": ".py",
   "mimetype": "text/x-python",
   "name": "python",
   "nbconvert_exporter": "python",
   "pygments_lexer": "ipython2",
   "version": "2.7.6"
  }
 },
 "nbformat": 4,
 "nbformat_minor": 0
}
