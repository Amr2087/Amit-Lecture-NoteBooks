{
 "cells": [
  {
   "cell_type": "code",
   "execution_count": 106,
   "metadata": {
    "collapsed": true
   },
   "outputs": [],
   "source": [
    "import pandas as pd\n",
    "import matplotlib.pyplot as plt"
   ]
  },
  {
   "cell_type": "code",
   "execution_count": 3,
   "outputs": [],
   "source": [
    "dataset = pd.read_csv('data/Churn_Modelling.csv')"
   ],
   "metadata": {
    "collapsed": false
   }
  },
  {
   "cell_type": "code",
   "execution_count": 4,
   "outputs": [
    {
     "data": {
      "text/plain": "      RowNumber  CustomerId    Surname  CreditScore Geography  Gender  Age  \\\n0             1    15634602   Hargrave          619    France  Female   42   \n1             2    15647311       Hill          608     Spain  Female   41   \n2             3    15619304       Onio          502    France  Female   42   \n3             4    15701354       Boni          699    France  Female   39   \n4             5    15737888   Mitchell          850     Spain  Female   43   \n...         ...         ...        ...          ...       ...     ...  ...   \n9995       9996    15606229   Obijiaku          771    France    Male   39   \n9996       9997    15569892  Johnstone          516    France    Male   35   \n9997       9998    15584532        Liu          709    France  Female   36   \n9998       9999    15682355  Sabbatini          772   Germany    Male   42   \n9999      10000    15628319     Walker          792    France  Female   28   \n\n      Tenure    Balance  NumOfProducts  HasCrCard  IsActiveMember  \\\n0          2       0.00              1          1               1   \n1          1   83807.86              1          0               1   \n2          8  159660.80              3          1               0   \n3          1       0.00              2          0               0   \n4          2  125510.82              1          1               1   \n...      ...        ...            ...        ...             ...   \n9995       5       0.00              2          1               0   \n9996      10   57369.61              1          1               1   \n9997       7       0.00              1          0               1   \n9998       3   75075.31              2          1               0   \n9999       4  130142.79              1          1               0   \n\n      EstimatedSalary  Exited  \n0           101348.88       1  \n1           112542.58       0  \n2           113931.57       1  \n3            93826.63       0  \n4            79084.10       0  \n...               ...     ...  \n9995         96270.64       0  \n9996        101699.77       0  \n9997         42085.58       1  \n9998         92888.52       1  \n9999         38190.78       0  \n\n[10000 rows x 14 columns]",
      "text/html": "<div>\n<style scoped>\n    .dataframe tbody tr th:only-of-type {\n        vertical-align: middle;\n    }\n\n    .dataframe tbody tr th {\n        vertical-align: top;\n    }\n\n    .dataframe thead th {\n        text-align: right;\n    }\n</style>\n<table border=\"1\" class=\"dataframe\">\n  <thead>\n    <tr style=\"text-align: right;\">\n      <th></th>\n      <th>RowNumber</th>\n      <th>CustomerId</th>\n      <th>Surname</th>\n      <th>CreditScore</th>\n      <th>Geography</th>\n      <th>Gender</th>\n      <th>Age</th>\n      <th>Tenure</th>\n      <th>Balance</th>\n      <th>NumOfProducts</th>\n      <th>HasCrCard</th>\n      <th>IsActiveMember</th>\n      <th>EstimatedSalary</th>\n      <th>Exited</th>\n    </tr>\n  </thead>\n  <tbody>\n    <tr>\n      <th>0</th>\n      <td>1</td>\n      <td>15634602</td>\n      <td>Hargrave</td>\n      <td>619</td>\n      <td>France</td>\n      <td>Female</td>\n      <td>42</td>\n      <td>2</td>\n      <td>0.00</td>\n      <td>1</td>\n      <td>1</td>\n      <td>1</td>\n      <td>101348.88</td>\n      <td>1</td>\n    </tr>\n    <tr>\n      <th>1</th>\n      <td>2</td>\n      <td>15647311</td>\n      <td>Hill</td>\n      <td>608</td>\n      <td>Spain</td>\n      <td>Female</td>\n      <td>41</td>\n      <td>1</td>\n      <td>83807.86</td>\n      <td>1</td>\n      <td>0</td>\n      <td>1</td>\n      <td>112542.58</td>\n      <td>0</td>\n    </tr>\n    <tr>\n      <th>2</th>\n      <td>3</td>\n      <td>15619304</td>\n      <td>Onio</td>\n      <td>502</td>\n      <td>France</td>\n      <td>Female</td>\n      <td>42</td>\n      <td>8</td>\n      <td>159660.80</td>\n      <td>3</td>\n      <td>1</td>\n      <td>0</td>\n      <td>113931.57</td>\n      <td>1</td>\n    </tr>\n    <tr>\n      <th>3</th>\n      <td>4</td>\n      <td>15701354</td>\n      <td>Boni</td>\n      <td>699</td>\n      <td>France</td>\n      <td>Female</td>\n      <td>39</td>\n      <td>1</td>\n      <td>0.00</td>\n      <td>2</td>\n      <td>0</td>\n      <td>0</td>\n      <td>93826.63</td>\n      <td>0</td>\n    </tr>\n    <tr>\n      <th>4</th>\n      <td>5</td>\n      <td>15737888</td>\n      <td>Mitchell</td>\n      <td>850</td>\n      <td>Spain</td>\n      <td>Female</td>\n      <td>43</td>\n      <td>2</td>\n      <td>125510.82</td>\n      <td>1</td>\n      <td>1</td>\n      <td>1</td>\n      <td>79084.10</td>\n      <td>0</td>\n    </tr>\n    <tr>\n      <th>...</th>\n      <td>...</td>\n      <td>...</td>\n      <td>...</td>\n      <td>...</td>\n      <td>...</td>\n      <td>...</td>\n      <td>...</td>\n      <td>...</td>\n      <td>...</td>\n      <td>...</td>\n      <td>...</td>\n      <td>...</td>\n      <td>...</td>\n      <td>...</td>\n    </tr>\n    <tr>\n      <th>9995</th>\n      <td>9996</td>\n      <td>15606229</td>\n      <td>Obijiaku</td>\n      <td>771</td>\n      <td>France</td>\n      <td>Male</td>\n      <td>39</td>\n      <td>5</td>\n      <td>0.00</td>\n      <td>2</td>\n      <td>1</td>\n      <td>0</td>\n      <td>96270.64</td>\n      <td>0</td>\n    </tr>\n    <tr>\n      <th>9996</th>\n      <td>9997</td>\n      <td>15569892</td>\n      <td>Johnstone</td>\n      <td>516</td>\n      <td>France</td>\n      <td>Male</td>\n      <td>35</td>\n      <td>10</td>\n      <td>57369.61</td>\n      <td>1</td>\n      <td>1</td>\n      <td>1</td>\n      <td>101699.77</td>\n      <td>0</td>\n    </tr>\n    <tr>\n      <th>9997</th>\n      <td>9998</td>\n      <td>15584532</td>\n      <td>Liu</td>\n      <td>709</td>\n      <td>France</td>\n      <td>Female</td>\n      <td>36</td>\n      <td>7</td>\n      <td>0.00</td>\n      <td>1</td>\n      <td>0</td>\n      <td>1</td>\n      <td>42085.58</td>\n      <td>1</td>\n    </tr>\n    <tr>\n      <th>9998</th>\n      <td>9999</td>\n      <td>15682355</td>\n      <td>Sabbatini</td>\n      <td>772</td>\n      <td>Germany</td>\n      <td>Male</td>\n      <td>42</td>\n      <td>3</td>\n      <td>75075.31</td>\n      <td>2</td>\n      <td>1</td>\n      <td>0</td>\n      <td>92888.52</td>\n      <td>1</td>\n    </tr>\n    <tr>\n      <th>9999</th>\n      <td>10000</td>\n      <td>15628319</td>\n      <td>Walker</td>\n      <td>792</td>\n      <td>France</td>\n      <td>Female</td>\n      <td>28</td>\n      <td>4</td>\n      <td>130142.79</td>\n      <td>1</td>\n      <td>1</td>\n      <td>0</td>\n      <td>38190.78</td>\n      <td>0</td>\n    </tr>\n  </tbody>\n</table>\n<p>10000 rows × 14 columns</p>\n</div>"
     },
     "execution_count": 4,
     "metadata": {},
     "output_type": "execute_result"
    }
   ],
   "source": [
    "dataset"
   ],
   "metadata": {
    "collapsed": false
   }
  },
  {
   "cell_type": "code",
   "execution_count": 5,
   "outputs": [
    {
     "data": {
      "text/plain": "            Columns  n_uniques  \\\n0         RowNumber      10000   \n1        CustomerId      10000   \n2           Surname       2932   \n3       CreditScore        460   \n4         Geography          3   \n5            Gender          2   \n6               Age         70   \n7            Tenure         11   \n8           Balance       6382   \n9     NumOfProducts          4   \n10        HasCrCard          2   \n11   IsActiveMember          2   \n12  EstimatedSalary       9999   \n13           Exited          2   \n\n                                               unique   dtypes  NULLS  \n0   [1, 2, 3, 4, 5, 6, 7, 8, 9, 10, 11, 12, 13, 14...    int64      0  \n1   [15634602, 15647311, 15619304, 15701354, 15737...    int64      0  \n2   [Hargrave, Hill, Onio, Boni, Mitchell, Chu, Ba...   object      0  \n3   [619, 608, 502, 699, 850, 645, 822, 376, 501, ...    int64      0  \n4                            [France, Spain, Germany]   object      0  \n5                                      [Female, Male]   object      0  \n6   [42, 41, 39, 43, 44, 50, 29, 27, 31, 24, 34, 2...    int64      0  \n7                  [2, 1, 8, 7, 4, 6, 3, 10, 5, 9, 0]    int64      0  \n8   [0.0, 83807.86, 159660.8, 125510.82, 113755.78...  float64      0  \n9                                        [1, 3, 2, 4]    int64      0  \n10                                             [1, 0]    int64      0  \n11                                             [1, 0]    int64      0  \n12  [101348.88, 112542.58, 113931.57, 93826.63, 79...  float64      0  \n13                                             [1, 0]    int64      0  ",
      "text/html": "<div>\n<style scoped>\n    .dataframe tbody tr th:only-of-type {\n        vertical-align: middle;\n    }\n\n    .dataframe tbody tr th {\n        vertical-align: top;\n    }\n\n    .dataframe thead th {\n        text-align: right;\n    }\n</style>\n<table border=\"1\" class=\"dataframe\">\n  <thead>\n    <tr style=\"text-align: right;\">\n      <th></th>\n      <th>Columns</th>\n      <th>n_uniques</th>\n      <th>unique</th>\n      <th>dtypes</th>\n      <th>NULLS</th>\n    </tr>\n  </thead>\n  <tbody>\n    <tr>\n      <th>0</th>\n      <td>RowNumber</td>\n      <td>10000</td>\n      <td>[1, 2, 3, 4, 5, 6, 7, 8, 9, 10, 11, 12, 13, 14...</td>\n      <td>int64</td>\n      <td>0</td>\n    </tr>\n    <tr>\n      <th>1</th>\n      <td>CustomerId</td>\n      <td>10000</td>\n      <td>[15634602, 15647311, 15619304, 15701354, 15737...</td>\n      <td>int64</td>\n      <td>0</td>\n    </tr>\n    <tr>\n      <th>2</th>\n      <td>Surname</td>\n      <td>2932</td>\n      <td>[Hargrave, Hill, Onio, Boni, Mitchell, Chu, Ba...</td>\n      <td>object</td>\n      <td>0</td>\n    </tr>\n    <tr>\n      <th>3</th>\n      <td>CreditScore</td>\n      <td>460</td>\n      <td>[619, 608, 502, 699, 850, 645, 822, 376, 501, ...</td>\n      <td>int64</td>\n      <td>0</td>\n    </tr>\n    <tr>\n      <th>4</th>\n      <td>Geography</td>\n      <td>3</td>\n      <td>[France, Spain, Germany]</td>\n      <td>object</td>\n      <td>0</td>\n    </tr>\n    <tr>\n      <th>5</th>\n      <td>Gender</td>\n      <td>2</td>\n      <td>[Female, Male]</td>\n      <td>object</td>\n      <td>0</td>\n    </tr>\n    <tr>\n      <th>6</th>\n      <td>Age</td>\n      <td>70</td>\n      <td>[42, 41, 39, 43, 44, 50, 29, 27, 31, 24, 34, 2...</td>\n      <td>int64</td>\n      <td>0</td>\n    </tr>\n    <tr>\n      <th>7</th>\n      <td>Tenure</td>\n      <td>11</td>\n      <td>[2, 1, 8, 7, 4, 6, 3, 10, 5, 9, 0]</td>\n      <td>int64</td>\n      <td>0</td>\n    </tr>\n    <tr>\n      <th>8</th>\n      <td>Balance</td>\n      <td>6382</td>\n      <td>[0.0, 83807.86, 159660.8, 125510.82, 113755.78...</td>\n      <td>float64</td>\n      <td>0</td>\n    </tr>\n    <tr>\n      <th>9</th>\n      <td>NumOfProducts</td>\n      <td>4</td>\n      <td>[1, 3, 2, 4]</td>\n      <td>int64</td>\n      <td>0</td>\n    </tr>\n    <tr>\n      <th>10</th>\n      <td>HasCrCard</td>\n      <td>2</td>\n      <td>[1, 0]</td>\n      <td>int64</td>\n      <td>0</td>\n    </tr>\n    <tr>\n      <th>11</th>\n      <td>IsActiveMember</td>\n      <td>2</td>\n      <td>[1, 0]</td>\n      <td>int64</td>\n      <td>0</td>\n    </tr>\n    <tr>\n      <th>12</th>\n      <td>EstimatedSalary</td>\n      <td>9999</td>\n      <td>[101348.88, 112542.58, 113931.57, 93826.63, 79...</td>\n      <td>float64</td>\n      <td>0</td>\n    </tr>\n    <tr>\n      <th>13</th>\n      <td>Exited</td>\n      <td>2</td>\n      <td>[1, 0]</td>\n      <td>int64</td>\n      <td>0</td>\n    </tr>\n  </tbody>\n</table>\n</div>"
     },
     "execution_count": 5,
     "metadata": {},
     "output_type": "execute_result"
    }
   ],
   "source": [
    "from metrics import data_info\n",
    "data_info(dataset)"
   ],
   "metadata": {
    "collapsed": false
   }
  },
  {
   "cell_type": "code",
   "execution_count": 6,
   "outputs": [],
   "source": [
    "dataset.drop(['RowNumber','CustomerId','Surname'],axis=1,inplace=True)"
   ],
   "metadata": {
    "collapsed": false
   }
  },
  {
   "cell_type": "code",
   "execution_count": 7,
   "outputs": [
    {
     "data": {
      "text/plain": "            Columns  n_uniques  \\\n0       CreditScore        460   \n1         Geography          3   \n2            Gender          2   \n3               Age         70   \n4            Tenure         11   \n5           Balance       6382   \n6     NumOfProducts          4   \n7         HasCrCard          2   \n8    IsActiveMember          2   \n9   EstimatedSalary       9999   \n10           Exited          2   \n\n                                               unique   dtypes  NULLS  \n0   [619, 608, 502, 699, 850, 645, 822, 376, 501, ...    int64      0  \n1                            [France, Spain, Germany]   object      0  \n2                                      [Female, Male]   object      0  \n3   [42, 41, 39, 43, 44, 50, 29, 27, 31, 24, 34, 2...    int64      0  \n4                  [2, 1, 8, 7, 4, 6, 3, 10, 5, 9, 0]    int64      0  \n5   [0.0, 83807.86, 159660.8, 125510.82, 113755.78...  float64      0  \n6                                        [1, 3, 2, 4]    int64      0  \n7                                              [1, 0]    int64      0  \n8                                              [1, 0]    int64      0  \n9   [101348.88, 112542.58, 113931.57, 93826.63, 79...  float64      0  \n10                                             [1, 0]    int64      0  ",
      "text/html": "<div>\n<style scoped>\n    .dataframe tbody tr th:only-of-type {\n        vertical-align: middle;\n    }\n\n    .dataframe tbody tr th {\n        vertical-align: top;\n    }\n\n    .dataframe thead th {\n        text-align: right;\n    }\n</style>\n<table border=\"1\" class=\"dataframe\">\n  <thead>\n    <tr style=\"text-align: right;\">\n      <th></th>\n      <th>Columns</th>\n      <th>n_uniques</th>\n      <th>unique</th>\n      <th>dtypes</th>\n      <th>NULLS</th>\n    </tr>\n  </thead>\n  <tbody>\n    <tr>\n      <th>0</th>\n      <td>CreditScore</td>\n      <td>460</td>\n      <td>[619, 608, 502, 699, 850, 645, 822, 376, 501, ...</td>\n      <td>int64</td>\n      <td>0</td>\n    </tr>\n    <tr>\n      <th>1</th>\n      <td>Geography</td>\n      <td>3</td>\n      <td>[France, Spain, Germany]</td>\n      <td>object</td>\n      <td>0</td>\n    </tr>\n    <tr>\n      <th>2</th>\n      <td>Gender</td>\n      <td>2</td>\n      <td>[Female, Male]</td>\n      <td>object</td>\n      <td>0</td>\n    </tr>\n    <tr>\n      <th>3</th>\n      <td>Age</td>\n      <td>70</td>\n      <td>[42, 41, 39, 43, 44, 50, 29, 27, 31, 24, 34, 2...</td>\n      <td>int64</td>\n      <td>0</td>\n    </tr>\n    <tr>\n      <th>4</th>\n      <td>Tenure</td>\n      <td>11</td>\n      <td>[2, 1, 8, 7, 4, 6, 3, 10, 5, 9, 0]</td>\n      <td>int64</td>\n      <td>0</td>\n    </tr>\n    <tr>\n      <th>5</th>\n      <td>Balance</td>\n      <td>6382</td>\n      <td>[0.0, 83807.86, 159660.8, 125510.82, 113755.78...</td>\n      <td>float64</td>\n      <td>0</td>\n    </tr>\n    <tr>\n      <th>6</th>\n      <td>NumOfProducts</td>\n      <td>4</td>\n      <td>[1, 3, 2, 4]</td>\n      <td>int64</td>\n      <td>0</td>\n    </tr>\n    <tr>\n      <th>7</th>\n      <td>HasCrCard</td>\n      <td>2</td>\n      <td>[1, 0]</td>\n      <td>int64</td>\n      <td>0</td>\n    </tr>\n    <tr>\n      <th>8</th>\n      <td>IsActiveMember</td>\n      <td>2</td>\n      <td>[1, 0]</td>\n      <td>int64</td>\n      <td>0</td>\n    </tr>\n    <tr>\n      <th>9</th>\n      <td>EstimatedSalary</td>\n      <td>9999</td>\n      <td>[101348.88, 112542.58, 113931.57, 93826.63, 79...</td>\n      <td>float64</td>\n      <td>0</td>\n    </tr>\n    <tr>\n      <th>10</th>\n      <td>Exited</td>\n      <td>2</td>\n      <td>[1, 0]</td>\n      <td>int64</td>\n      <td>0</td>\n    </tr>\n  </tbody>\n</table>\n</div>"
     },
     "execution_count": 7,
     "metadata": {},
     "output_type": "execute_result"
    }
   ],
   "source": [
    "data_info(dataset)"
   ],
   "metadata": {
    "collapsed": false
   }
  },
  {
   "cell_type": "code",
   "execution_count": 126,
   "outputs": [],
   "source": [
    "# dataset = pd.get_dummies(dataset,drop_first=True)"
   ],
   "metadata": {
    "collapsed": false
   }
  },
  {
   "cell_type": "code",
   "execution_count": 127,
   "outputs": [
    {
     "data": {
      "text/plain": "      CreditScore  Geography  Gender  Age  Tenure    Balance  NumOfProducts  \\\n0             619          0       0   42       2       0.00              1   \n1             608          2       0   41       1   83807.86              1   \n2             502          0       0   42       8  159660.80              3   \n3             699          0       0   39       1       0.00              2   \n4             850          2       0   43       2  125510.82              1   \n...           ...        ...     ...  ...     ...        ...            ...   \n9995          771          0       1   39       5       0.00              2   \n9996          516          0       1   35      10   57369.61              1   \n9997          709          0       0   36       7       0.00              1   \n9998          772          1       1   42       3   75075.31              2   \n9999          792          0       0   28       4  130142.79              1   \n\n      HasCrCard  IsActiveMember  EstimatedSalary  Exited  \n0             1               1        101348.88       1  \n1             0               1        112542.58       0  \n2             1               0        113931.57       1  \n3             0               0         93826.63       0  \n4             1               1         79084.10       0  \n...         ...             ...              ...     ...  \n9995          1               0         96270.64       0  \n9996          1               1        101699.77       0  \n9997          0               1         42085.58       1  \n9998          1               0         92888.52       1  \n9999          1               0         38190.78       0  \n\n[10000 rows x 11 columns]",
      "text/html": "<div>\n<style scoped>\n    .dataframe tbody tr th:only-of-type {\n        vertical-align: middle;\n    }\n\n    .dataframe tbody tr th {\n        vertical-align: top;\n    }\n\n    .dataframe thead th {\n        text-align: right;\n    }\n</style>\n<table border=\"1\" class=\"dataframe\">\n  <thead>\n    <tr style=\"text-align: right;\">\n      <th></th>\n      <th>CreditScore</th>\n      <th>Geography</th>\n      <th>Gender</th>\n      <th>Age</th>\n      <th>Tenure</th>\n      <th>Balance</th>\n      <th>NumOfProducts</th>\n      <th>HasCrCard</th>\n      <th>IsActiveMember</th>\n      <th>EstimatedSalary</th>\n      <th>Exited</th>\n    </tr>\n  </thead>\n  <tbody>\n    <tr>\n      <th>0</th>\n      <td>619</td>\n      <td>0</td>\n      <td>0</td>\n      <td>42</td>\n      <td>2</td>\n      <td>0.00</td>\n      <td>1</td>\n      <td>1</td>\n      <td>1</td>\n      <td>101348.88</td>\n      <td>1</td>\n    </tr>\n    <tr>\n      <th>1</th>\n      <td>608</td>\n      <td>2</td>\n      <td>0</td>\n      <td>41</td>\n      <td>1</td>\n      <td>83807.86</td>\n      <td>1</td>\n      <td>0</td>\n      <td>1</td>\n      <td>112542.58</td>\n      <td>0</td>\n    </tr>\n    <tr>\n      <th>2</th>\n      <td>502</td>\n      <td>0</td>\n      <td>0</td>\n      <td>42</td>\n      <td>8</td>\n      <td>159660.80</td>\n      <td>3</td>\n      <td>1</td>\n      <td>0</td>\n      <td>113931.57</td>\n      <td>1</td>\n    </tr>\n    <tr>\n      <th>3</th>\n      <td>699</td>\n      <td>0</td>\n      <td>0</td>\n      <td>39</td>\n      <td>1</td>\n      <td>0.00</td>\n      <td>2</td>\n      <td>0</td>\n      <td>0</td>\n      <td>93826.63</td>\n      <td>0</td>\n    </tr>\n    <tr>\n      <th>4</th>\n      <td>850</td>\n      <td>2</td>\n      <td>0</td>\n      <td>43</td>\n      <td>2</td>\n      <td>125510.82</td>\n      <td>1</td>\n      <td>1</td>\n      <td>1</td>\n      <td>79084.10</td>\n      <td>0</td>\n    </tr>\n    <tr>\n      <th>...</th>\n      <td>...</td>\n      <td>...</td>\n      <td>...</td>\n      <td>...</td>\n      <td>...</td>\n      <td>...</td>\n      <td>...</td>\n      <td>...</td>\n      <td>...</td>\n      <td>...</td>\n      <td>...</td>\n    </tr>\n    <tr>\n      <th>9995</th>\n      <td>771</td>\n      <td>0</td>\n      <td>1</td>\n      <td>39</td>\n      <td>5</td>\n      <td>0.00</td>\n      <td>2</td>\n      <td>1</td>\n      <td>0</td>\n      <td>96270.64</td>\n      <td>0</td>\n    </tr>\n    <tr>\n      <th>9996</th>\n      <td>516</td>\n      <td>0</td>\n      <td>1</td>\n      <td>35</td>\n      <td>10</td>\n      <td>57369.61</td>\n      <td>1</td>\n      <td>1</td>\n      <td>1</td>\n      <td>101699.77</td>\n      <td>0</td>\n    </tr>\n    <tr>\n      <th>9997</th>\n      <td>709</td>\n      <td>0</td>\n      <td>0</td>\n      <td>36</td>\n      <td>7</td>\n      <td>0.00</td>\n      <td>1</td>\n      <td>0</td>\n      <td>1</td>\n      <td>42085.58</td>\n      <td>1</td>\n    </tr>\n    <tr>\n      <th>9998</th>\n      <td>772</td>\n      <td>1</td>\n      <td>1</td>\n      <td>42</td>\n      <td>3</td>\n      <td>75075.31</td>\n      <td>2</td>\n      <td>1</td>\n      <td>0</td>\n      <td>92888.52</td>\n      <td>1</td>\n    </tr>\n    <tr>\n      <th>9999</th>\n      <td>792</td>\n      <td>0</td>\n      <td>0</td>\n      <td>28</td>\n      <td>4</td>\n      <td>130142.79</td>\n      <td>1</td>\n      <td>1</td>\n      <td>0</td>\n      <td>38190.78</td>\n      <td>0</td>\n    </tr>\n  </tbody>\n</table>\n<p>10000 rows × 11 columns</p>\n</div>"
     },
     "execution_count": 127,
     "metadata": {},
     "output_type": "execute_result"
    }
   ],
   "source": [
    "dataset"
   ],
   "metadata": {
    "collapsed": false
   }
  },
  {
   "cell_type": "code",
   "execution_count": 128,
   "outputs": [],
   "source": [
    "X = dataset.iloc[:, :-1].values\n",
    "y = dataset.iloc[:, -1].values"
   ],
   "metadata": {
    "collapsed": false
   }
  },
  {
   "cell_type": "code",
   "execution_count": null,
   "outputs": [],
   "source": [],
   "metadata": {
    "collapsed": false
   }
  },
  {
   "cell_type": "code",
   "execution_count": 129,
   "outputs": [],
   "source": [
    "from sklearn.model_selection import train_test_split\n",
    "X_train, X_test, y_train, y_test = train_test_split(X,y,test_size=0.f25)"
   ],
   "metadata": {
    "collapsed": false
   }
  },
  {
   "cell_type": "code",
   "execution_count": 130,
   "outputs": [],
   "source": [
    "from tensorflow.keras.models import Sequential\n",
    "from tensorflow.keras.layers import Dense,Dropout,BatchNormalization\n",
    "from tensorflow.keras.callbacks import EarlyStopping"
   ],
   "metadata": {
    "collapsed": false
   }
  },
  {
   "cell_type": "code",
   "execution_count": 139,
   "outputs": [],
   "source": [
    "from sklearn.preprocessing import StandardScaler\n",
    "sc = StandardScaler()\n",
    "X_train = sc.fit_transform(X_train)\n",
    "X_test = sc.transform(X_test)"
   ],
   "metadata": {
    "collapsed": false
   }
  },
  {
   "cell_type": "code",
   "execution_count": 158,
   "outputs": [],
   "source": [
    "model = Sequential()\n",
    "model.add(Dense(units=100,activation='relu',input_dim=X_train.shape[1]))\n",
    "model.add(BatchNormalization())\n",
    "model.add(Dense(units=70,activation='relu'))\n",
    "model.add(BatchNormalization())\n",
    "model.add(Dense(units=30,activation='relu'))\n",
    "model.add(Dense(units=1,activation='sigmoid'))"
   ],
   "metadata": {
    "collapsed": false
   }
  },
  {
   "cell_type": "code",
   "execution_count": 159,
   "outputs": [
    {
     "name": "stdout",
     "output_type": "stream",
     "text": [
      "Model: \"sequential_29\"\n",
      "_________________________________________________________________\n",
      " Layer (type)                Output Shape              Param #   \n",
      "=================================================================\n",
      " dense_105 (Dense)           (None, 100)               1100      \n",
      "                                                                 \n",
      " batch_normalization_53 (Bat  (None, 100)              400       \n",
      " chNormalization)                                                \n",
      "                                                                 \n",
      " dense_106 (Dense)           (None, 70)                7070      \n",
      "                                                                 \n",
      " batch_normalization_54 (Bat  (None, 70)               280       \n",
      " chNormalization)                                                \n",
      "                                                                 \n",
      " dense_107 (Dense)           (None, 30)                2130      \n",
      "                                                                 \n",
      " dense_108 (Dense)           (None, 1)                 31        \n",
      "                                                                 \n",
      "=================================================================\n",
      "Total params: 11,011\n",
      "Trainable params: 10,671\n",
      "Non-trainable params: 340\n",
      "_________________________________________________________________\n"
     ]
    }
   ],
   "source": [
    "model.summary()"
   ],
   "metadata": {
    "collapsed": false
   }
  },
  {
   "cell_type": "code",
   "execution_count": 160,
   "outputs": [],
   "source": [
    "model.compile(optimizer='sgd',loss='binary_crossentropy',metrics=['accuracy'])"
   ],
   "metadata": {
    "collapsed": false
   }
  },
  {
   "cell_type": "code",
   "execution_count": 161,
   "outputs": [
    {
     "name": "stdout",
     "output_type": "stream",
     "text": [
      "Epoch 1/60\n",
      "68/68 [==============================] - 2s 6ms/step - loss: 0.6558 - accuracy: 0.6363 - val_loss: 0.5892 - val_accuracy: 0.7920\n",
      "Epoch 2/60\n",
      "68/68 [==============================] - 0s 3ms/step - loss: 0.4790 - accuracy: 0.7902 - val_loss: 0.5128 - val_accuracy: 0.8173\n",
      "Epoch 3/60\n",
      "68/68 [==============================] - 0s 3ms/step - loss: 0.4449 - accuracy: 0.8081 - val_loss: 0.4603 - val_accuracy: 0.8213\n",
      "Epoch 4/60\n",
      "68/68 [==============================] - 0s 3ms/step - loss: 0.4256 - accuracy: 0.8188 - val_loss: 0.4234 - val_accuracy: 0.8333\n",
      "Epoch 5/60\n",
      "68/68 [==============================] - 0s 3ms/step - loss: 0.4139 - accuracy: 0.8231 - val_loss: 0.4018 - val_accuracy: 0.8360\n",
      "Epoch 6/60\n",
      "68/68 [==============================] - 0s 3ms/step - loss: 0.4039 - accuracy: 0.8284 - val_loss: 0.3889 - val_accuracy: 0.8387\n",
      "Epoch 7/60\n",
      "68/68 [==============================] - 0s 3ms/step - loss: 0.3931 - accuracy: 0.8357 - val_loss: 0.3802 - val_accuracy: 0.8413\n",
      "Epoch 8/60\n",
      "68/68 [==============================] - 0s 3ms/step - loss: 0.3855 - accuracy: 0.8370 - val_loss: 0.3740 - val_accuracy: 0.8400\n",
      "Epoch 9/60\n",
      "68/68 [==============================] - 0s 3ms/step - loss: 0.3806 - accuracy: 0.8410 - val_loss: 0.3691 - val_accuracy: 0.8467\n",
      "Epoch 10/60\n",
      "68/68 [==============================] - 0s 2ms/step - loss: 0.3762 - accuracy: 0.8433 - val_loss: 0.3641 - val_accuracy: 0.8440\n",
      "Epoch 11/60\n",
      "68/68 [==============================] - 0s 3ms/step - loss: 0.3697 - accuracy: 0.8480 - val_loss: 0.3606 - val_accuracy: 0.8493\n",
      "Epoch 12/60\n",
      "68/68 [==============================] - 0s 3ms/step - loss: 0.3654 - accuracy: 0.8492 - val_loss: 0.3583 - val_accuracy: 0.8507\n",
      "Epoch 13/60\n",
      "68/68 [==============================] - 0s 2ms/step - loss: 0.3597 - accuracy: 0.8501 - val_loss: 0.3564 - val_accuracy: 0.8520\n",
      "Epoch 14/60\n",
      "68/68 [==============================] - 0s 2ms/step - loss: 0.3572 - accuracy: 0.8539 - val_loss: 0.3536 - val_accuracy: 0.8560\n",
      "Epoch 15/60\n",
      "68/68 [==============================] - 0s 3ms/step - loss: 0.3551 - accuracy: 0.8536 - val_loss: 0.3517 - val_accuracy: 0.8560\n",
      "Epoch 16/60\n",
      "68/68 [==============================] - 0s 2ms/step - loss: 0.3499 - accuracy: 0.8557 - val_loss: 0.3495 - val_accuracy: 0.8560\n",
      "Epoch 17/60\n",
      "68/68 [==============================] - 0s 2ms/step - loss: 0.3490 - accuracy: 0.8556 - val_loss: 0.3480 - val_accuracy: 0.8600\n",
      "Epoch 18/60\n",
      "68/68 [==============================] - 0s 3ms/step - loss: 0.3465 - accuracy: 0.8536 - val_loss: 0.3477 - val_accuracy: 0.8587\n",
      "Epoch 19/60\n",
      "68/68 [==============================] - 0s 2ms/step - loss: 0.3424 - accuracy: 0.8581 - val_loss: 0.3470 - val_accuracy: 0.8600\n",
      "Epoch 20/60\n",
      "68/68 [==============================] - 0s 3ms/step - loss: 0.3418 - accuracy: 0.8556 - val_loss: 0.3464 - val_accuracy: 0.8600\n",
      "Epoch 21/60\n",
      "68/68 [==============================] - 0s 3ms/step - loss: 0.3383 - accuracy: 0.8601 - val_loss: 0.3458 - val_accuracy: 0.8587\n",
      "Epoch 22/60\n",
      "68/68 [==============================] - 0s 2ms/step - loss: 0.3389 - accuracy: 0.8593 - val_loss: 0.3457 - val_accuracy: 0.8600\n",
      "Epoch 23/60\n",
      "68/68 [==============================] - 0s 2ms/step - loss: 0.3360 - accuracy: 0.8591 - val_loss: 0.3454 - val_accuracy: 0.8600\n",
      "Epoch 24/60\n",
      "68/68 [==============================] - 0s 3ms/step - loss: 0.3343 - accuracy: 0.8631 - val_loss: 0.3450 - val_accuracy: 0.8587\n",
      "Epoch 25/60\n",
      "68/68 [==============================] - 0s 2ms/step - loss: 0.3356 - accuracy: 0.8600 - val_loss: 0.3456 - val_accuracy: 0.8627\n",
      "Epoch 26/60\n",
      "68/68 [==============================] - 0s 2ms/step - loss: 0.3296 - accuracy: 0.8625 - val_loss: 0.3451 - val_accuracy: 0.8587\n",
      "Epoch 27/60\n",
      "68/68 [==============================] - 0s 3ms/step - loss: 0.3334 - accuracy: 0.8597 - val_loss: 0.3449 - val_accuracy: 0.8547\n",
      "Epoch 28/60\n",
      "68/68 [==============================] - 0s 3ms/step - loss: 0.3276 - accuracy: 0.8637 - val_loss: 0.3440 - val_accuracy: 0.8547\n",
      "Epoch 29/60\n",
      "68/68 [==============================] - 0s 3ms/step - loss: 0.3273 - accuracy: 0.8610 - val_loss: 0.3448 - val_accuracy: 0.8560\n",
      "Epoch 30/60\n",
      "68/68 [==============================] - 0s 2ms/step - loss: 0.3249 - accuracy: 0.8655 - val_loss: 0.3445 - val_accuracy: 0.8587\n",
      "Epoch 31/60\n",
      "68/68 [==============================] - 0s 2ms/step - loss: 0.3226 - accuracy: 0.8670 - val_loss: 0.3449 - val_accuracy: 0.8600\n",
      "Epoch 32/60\n",
      "68/68 [==============================] - 0s 2ms/step - loss: 0.3246 - accuracy: 0.8639 - val_loss: 0.3449 - val_accuracy: 0.8587\n",
      "Epoch 33/60\n",
      "68/68 [==============================] - 0s 3ms/step - loss: 0.3240 - accuracy: 0.8618 - val_loss: 0.3442 - val_accuracy: 0.8573\n",
      "Epoch 34/60\n",
      "68/68 [==============================] - 0s 3ms/step - loss: 0.3225 - accuracy: 0.8670 - val_loss: 0.3444 - val_accuracy: 0.8573\n",
      "Epoch 35/60\n",
      "68/68 [==============================] - 0s 4ms/step - loss: 0.3217 - accuracy: 0.8655 - val_loss: 0.3445 - val_accuracy: 0.8547\n",
      "Epoch 36/60\n",
      "68/68 [==============================] - 0s 3ms/step - loss: 0.3210 - accuracy: 0.8656 - val_loss: 0.3435 - val_accuracy: 0.8573\n",
      "Epoch 37/60\n",
      "68/68 [==============================] - 0s 3ms/step - loss: 0.3190 - accuracy: 0.8668 - val_loss: 0.3438 - val_accuracy: 0.8573\n",
      "Epoch 38/60\n",
      "68/68 [==============================] - 0s 3ms/step - loss: 0.3186 - accuracy: 0.8683 - val_loss: 0.3438 - val_accuracy: 0.8600\n",
      "Epoch 39/60\n",
      "68/68 [==============================] - 0s 2ms/step - loss: 0.3141 - accuracy: 0.8676 - val_loss: 0.3438 - val_accuracy: 0.8560\n",
      "Epoch 40/60\n",
      "68/68 [==============================] - 0s 2ms/step - loss: 0.3133 - accuracy: 0.8698 - val_loss: 0.3437 - val_accuracy: 0.8587\n",
      "Epoch 41/60\n",
      "68/68 [==============================] - 0s 2ms/step - loss: 0.3134 - accuracy: 0.8689 - val_loss: 0.3443 - val_accuracy: 0.8560\n",
      "Epoch 42/60\n",
      "68/68 [==============================] - 0s 3ms/step - loss: 0.3110 - accuracy: 0.8689 - val_loss: 0.3437 - val_accuracy: 0.8560\n",
      "Epoch 43/60\n",
      "68/68 [==============================] - 0s 3ms/step - loss: 0.3101 - accuracy: 0.8686 - val_loss: 0.3447 - val_accuracy: 0.8560\n",
      "Epoch 44/60\n",
      "68/68 [==============================] - 0s 2ms/step - loss: 0.3111 - accuracy: 0.8664 - val_loss: 0.3435 - val_accuracy: 0.8587\n",
      "Epoch 45/60\n",
      "68/68 [==============================] - 0s 3ms/step - loss: 0.3078 - accuracy: 0.8711 - val_loss: 0.3448 - val_accuracy: 0.8587\n",
      "Epoch 46/60\n",
      "68/68 [==============================] - 0s 2ms/step - loss: 0.3091 - accuracy: 0.8714 - val_loss: 0.3445 - val_accuracy: 0.8587\n",
      "Epoch 47/60\n",
      "68/68 [==============================] - 0s 2ms/step - loss: 0.3084 - accuracy: 0.8716 - val_loss: 0.3445 - val_accuracy: 0.8587\n",
      "Epoch 48/60\n",
      "68/68 [==============================] - 0s 2ms/step - loss: 0.3057 - accuracy: 0.8719 - val_loss: 0.3457 - val_accuracy: 0.8600\n",
      "Epoch 49/60\n",
      "68/68 [==============================] - 0s 3ms/step - loss: 0.3057 - accuracy: 0.8733 - val_loss: 0.3462 - val_accuracy: 0.8560\n",
      "Epoch 50/60\n",
      "68/68 [==============================] - 0s 2ms/step - loss: 0.3033 - accuracy: 0.8757 - val_loss: 0.3471 - val_accuracy: 0.8520\n",
      "Epoch 51/60\n",
      "68/68 [==============================] - 0s 3ms/step - loss: 0.3026 - accuracy: 0.8744 - val_loss: 0.3470 - val_accuracy: 0.8573\n",
      "Epoch 52/60\n",
      "68/68 [==============================] - 0s 3ms/step - loss: 0.3032 - accuracy: 0.8735 - val_loss: 0.3469 - val_accuracy: 0.8547\n",
      "Epoch 53/60\n",
      "68/68 [==============================] - 0s 2ms/step - loss: 0.3018 - accuracy: 0.8745 - val_loss: 0.3482 - val_accuracy: 0.8560\n",
      "Epoch 54/60\n",
      "68/68 [==============================] - 0s 3ms/step - loss: 0.2995 - accuracy: 0.8756 - val_loss: 0.3486 - val_accuracy: 0.8560\n",
      "Epoch 55/60\n",
      "68/68 [==============================] - 0s 2ms/step - loss: 0.3016 - accuracy: 0.8742 - val_loss: 0.3489 - val_accuracy: 0.8587\n",
      "Epoch 56/60\n",
      "68/68 [==============================] - 0s 2ms/step - loss: 0.2991 - accuracy: 0.8764 - val_loss: 0.3488 - val_accuracy: 0.8613\n",
      "Epoch 57/60\n",
      "68/68 [==============================] - 0s 2ms/step - loss: 0.2972 - accuracy: 0.8757 - val_loss: 0.3488 - val_accuracy: 0.8560\n",
      "Epoch 58/60\n",
      "68/68 [==============================] - 0s 2ms/step - loss: 0.2975 - accuracy: 0.8769 - val_loss: 0.3475 - val_accuracy: 0.8613\n",
      "Epoch 59/60\n",
      "68/68 [==============================] - 0s 3ms/step - loss: 0.2992 - accuracy: 0.8741 - val_loss: 0.3476 - val_accuracy: 0.8627\n",
      "Epoch 60/60\n",
      "68/68 [==============================] - 0s 2ms/step - loss: 0.2965 - accuracy: 0.8785 - val_loss: 0.3485 - val_accuracy: 0.8587\n"
     ]
    }
   ],
   "source": [
    "history = model.fit(X_train,y_train,epochs=60,batch_size=100,validation_split=0.1)"
   ],
   "metadata": {
    "collapsed": false
   }
  },
  {
   "cell_type": "code",
   "execution_count": 162,
   "outputs": [
    {
     "data": {
      "text/plain": "<Figure size 640x480 with 1 Axes>",
      "image/png": "[encoded data removed]"
     },
     "metadata": {},
     "output_type": "display_data"
    }
   ],
   "source": [
    "plt.plot(history.history['loss'],label='train',color='red')\n",
    "plt.plot(history.history['val_loss'],label='val_test')\n",
    "plt.show()"
   ],
   "metadata": {
    "collapsed": false
   }
  },
  {
   "cell_type": "code",
   "execution_count": 163,
   "outputs": [
    {
     "name": "stdout",
     "output_type": "stream",
     "text": [
      "79/79 [==============================] - 0s 1ms/step - loss: 0.3522 - accuracy: 0.8548\n"
     ]
    },
    {
     "data": {
      "text/plain": "[0.35221734642982483, 0.8547999858856201]"
     },
     "execution_count": 163,
     "metadata": {},
     "output_type": "execute_result"
    }
   ],
   "source": [
    "model.evaluate(X_test, y_test)"
   ],
   "metadata": {
    "collapsed": false
   }
  },
  {
   "cell_type": "code",
   "execution_count": null,
   "outputs": [],
   "source": [],
   "metadata": {
    "collapsed": false
   }
  }
 ],
 "metadata": {
  "kernelspec": {
   "display_name": "Python 3",
   "language": "python",
   "name": "python3"
  },
  "language_info": {
   "codemirror_mode": {
    "name": "ipython",
    "version": 2
   },
   "file_extension": ".py",
   "mimetype": "text/x-python",
   "name": "python",
   "nbconvert_exporter": "python",
   "pygments_lexer": "ipython2",
   "version": "2.7.6"
  }
 },
 "nbformat": 4,
 "nbformat_minor": 0
}
