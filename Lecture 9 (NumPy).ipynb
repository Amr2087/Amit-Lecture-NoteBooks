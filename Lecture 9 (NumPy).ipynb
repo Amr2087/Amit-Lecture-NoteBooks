{
 "cells": [
  {
   "cell_type": "code",
   "execution_count": 2,
   "outputs": [],
   "source": [
    "import numpy as np"
   ],
   "metadata": {
    "collapsed": false
   }
  },
  {
   "cell_type": "code",
   "execution_count": 3,
   "outputs": [
    {
     "name": "stdout",
     "output_type": "stream",
     "text": [
      "Mult : [[ 2  2 15]\n",
      " [20  5 42]\n",
      " [42 24 18]]\n",
      "Dot : [[ 30  12  25]\n",
      " [ 69  27  67]\n",
      " [108  42 109]]\n"
     ]
    }
   ],
   "source": [
    "def mat_ops(mat1, mat2):\n",
    "\n",
    "    print(f\"Mult : {np.multiply(mat1, mat2)}\\n\"\n",
    "          f\"Dot : {np.dot(mat1, mat2)}\")\n",
    "\n",
    "a=np.matrix([[1,2,3],\n",
    "[4,5,6],\n",
    "[7,8,9]])\n",
    "\n",
    "b = np.matrix([[2,1,5],\n",
    "[5,1,7],\n",
    "[6,3,2]])\n",
    "\n",
    "mat_ops(a, b)"
   ],
   "metadata": {
    "collapsed": false
   }
  },
  {
   "cell_type": "code",
   "execution_count": 4,
   "outputs": [
    {
     "name": "stdout",
     "output_type": "stream",
     "text": [
      "Mean Axis 0 = [[4. 5. 6.]]\n",
      "Mean Axis 1 = [[2.]\n",
      " [5.]\n",
      " [8.]]\n",
      "Mean a = 5.0\n",
      "Try mean = 5.0\n"
     ]
    }
   ],
   "source": [
    "z = np.mean(a, axis=0)\n",
    "s = np.mean(a, axis=1)\n",
    "u = np.mean(a)\n",
    "f = np.mean(s) + np.mean(z)\n",
    "print(\n",
    "    f\"Mean Axis 0 = {z}\\n\"\n",
    "    f\"Mean Axis 1 = {s}\\n\"\n",
    "    f\"Mean a = {u}\\n\"\n",
    "    f\"Try mean = {f/2}\"\n",
    ")"
   ],
   "metadata": {
    "collapsed": false
   }
  },
  {
   "cell_type": "code",
   "execution_count": 7,
   "outputs": [
    {
     "name": "stdout",
     "output_type": "stream",
     "text": [
      "Axis 0 : [[4. 5. 6.]]\n",
      "Axis 1 : [[2.]\n",
      " [5.]\n",
      " [8.]]\n",
      "Mean : 5.0\n",
      "Variance 0: [[6. 6. 6.]]\n",
      "Variance 1 :[[0.66666667]\n",
      " [0.66666667]\n",
      " [0.66666667]]\n",
      "Standard Variation 0: [[2.44948974 2.44948974 2.44948974]]\n",
      "Standard Variation  1 :[[0.81649658]\n",
      " [0.81649658]\n",
      " [0.81649658]]\n",
      "\n"
     ]
    },
    {
     "data": {
      "text/plain": "(2.0, 0.6666666666666666, 0.816496580927726)"
     },
     "execution_count": 7,
     "metadata": {},
     "output_type": "execute_result"
    }
   ],
   "source": [
    "def stan_var(_array):\n",
    "\n",
    "    if np.ndim(_array) == 1:\n",
    "        return np.mean(_array), np.var(_array), np.std(_array)\n",
    "    else :\n",
    "        print(f\"Axis 0 : {np.mean(_array,axis=0)}\\n\"\n",
    "              f\"Axis 1 : {np.mean(_array,axis=1)}\\n\"\n",
    "              f\"Mean : {np.mean(_array)}\\n\"\n",
    "              f\"Variance 0: {np.var(_array, axis=0)}\\n\"\n",
    "              f\"Variance 1 :{np.var(_array, axis=1)}\\n\"\n",
    "              f\"Standard Variation 0: {np.std(_array, axis=0)}\\n\"\n",
    "              f\"Standard Variation  1 :{np.std(_array, axis=1)}\\n\")\n",
    "\n",
    "j = np.array([1,2,3])\n",
    "\n",
    "a=np.matrix([[1,2,3],\n",
    "[4,5,6],\n",
    "[7,8,9]])\n",
    "\n",
    "stan_var(a)\n",
    "stan_var(j)"
   ],
   "metadata": {
    "collapsed": false
   }
  },
  {
   "cell_type": "code",
   "execution_count": 8,
   "outputs": [],
   "source": [
    "# Distribution Research"
   ],
   "metadata": {
    "collapsed": false
   }
  },
  {
   "cell_type": "code",
   "execution_count": 11,
   "outputs": [
    {
     "data": {
      "text/plain": "(array([[ 6.33333333, 11.33333333],\n        [11.33333333, 20.33333333]]),\n array([[1.        , 0.99870494],\n        [0.99870494, 1.        ]]))"
     },
     "execution_count": 11,
     "metadata": {},
     "output_type": "execute_result"
    }
   ],
   "source": [
    "def cov_cor(v1, v2):\n",
    "\n",
    "    cov = np.cov(v1,v2)\n",
    "    cor = np.corrcoef(v1,v2)\n",
    "    return cov,cor\n",
    "\n",
    "cov_cor([6,4,9], [4,0,9])"
   ],
   "metadata": {
    "collapsed": false
   }
  },
  {
   "cell_type": "code",
   "execution_count": 13,
   "outputs": [
    {
     "data": {
      "text/plain": "(matrix([[14, 32, 50]]), 32.0, 14.696938456699069, 216.0)"
     },
     "execution_count": 13,
     "metadata": {},
     "output_type": "execute_result"
    }
   ],
   "source": [
    "def mult_(mat,v):\n",
    "\n",
    "    dot = np.dot(mat,v)\n",
    "    mean = np.mean(dot)\n",
    "    std = np.std(dot)\n",
    "    var = np.var(dot)\n",
    "    return dot, mean, std, var\n",
    "j = np.array([1,2,3])\n",
    "\n",
    "a=np.matrix([[1,2,3],\n",
    "[4,5,6],\n",
    "[7,8,9]])\n",
    "mult_(a, j)"
   ],
   "metadata": {
    "collapsed": false
   }
  },
  {
   "cell_type": "code",
   "execution_count": null,
   "outputs": [],
   "source": [],
   "metadata": {
    "collapsed": false
   }
  }
 ],
 "metadata": {
  "kernelspec": {
   "display_name": "Python 3",
   "language": "python",
   "name": "python3"
  },
  "language_info": {
   "codemirror_mode": {
    "name": "ipython",
    "version": 2
   },
   "file_extension": ".py",
   "mimetype": "text/x-python",
   "name": "python",
   "nbconvert_exporter": "python",
   "pygments_lexer": "ipython2",
   "version": "2.7.6"
  }
 },
 "nbformat": 4,
 "nbformat_minor": 0
}
