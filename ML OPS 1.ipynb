{
 "cells": [
  {
   "cell_type": "code",
   "execution_count": 7,
   "metadata": {
    "collapsed": true,
    "ExecuteTime": {
     "start_time": "2023-04-14T09:53:55.195265Z",
     "end_time": "2023-04-14T09:53:55.218465Z"
    }
   },
   "outputs": [],
   "source": [
    "import pandas as pd\n",
    "import numpy as np\n",
    "import matplotlib.pyplot as plt\n",
    "import seaborn as sns\n",
    "import toolkit\n",
    "import warnings\n",
    "warnings.filterwarnings(\"ignore\")"
   ]
  },
  {
   "cell_type": "code",
   "execution_count": 3,
   "outputs": [],
   "source": [
    "dataset = pd.read_csv('data/Hotel Reservations.csv')"
   ],
   "metadata": {
    "collapsed": false,
    "ExecuteTime": {
     "start_time": "2023-04-14T09:52:23.012321Z",
     "end_time": "2023-04-14T09:52:23.166711Z"
    }
   }
  },
  {
   "cell_type": "code",
   "execution_count": 4,
   "outputs": [
    {
     "data": {
      "text/plain": "      Booking_ID  no_of_adults  no_of_children  no_of_weekend_nights  \\\n0       INN00001             2               0                     1   \n1       INN00002             2               0                     2   \n2       INN00003             1               0                     2   \n3       INN00004             2               0                     0   \n4       INN00005             2               0                     1   \n...          ...           ...             ...                   ...   \n36270   INN36271             3               0                     2   \n36271   INN36272             2               0                     1   \n36272   INN36273             2               0                     2   \n36273   INN36274             2               0                     0   \n36274   INN36275             2               0                     1   \n\n       no_of_week_nights type_of_meal_plan  required_car_parking_space  \\\n0                      2       Meal Plan 1                           0   \n1                      3      Not Selected                           0   \n2                      1       Meal Plan 1                           0   \n3                      2       Meal Plan 1                           0   \n4                      1      Not Selected                           0   \n...                  ...               ...                         ...   \n36270                  6       Meal Plan 1                           0   \n36271                  3       Meal Plan 1                           0   \n36272                  6       Meal Plan 1                           0   \n36273                  3      Not Selected                           0   \n36274                  2       Meal Plan 1                           0   \n\n      room_type_reserved  lead_time  arrival_year  arrival_month  \\\n0            Room_Type 1        224          2017             10   \n1            Room_Type 1          5          2018             11   \n2            Room_Type 1          1          2018              2   \n3            Room_Type 1        211          2018              5   \n4            Room_Type 1         48          2018              4   \n...                  ...        ...           ...            ...   \n36270        Room_Type 4         85          2018              8   \n36271        Room_Type 1        228          2018             10   \n36272        Room_Type 1        148          2018              7   \n36273        Room_Type 1         63          2018              4   \n36274        Room_Type 1        207          2018             12   \n\n       arrival_date market_segment_type  repeated_guest  \\\n0                 2             Offline               0   \n1                 6              Online               0   \n2                28              Online               0   \n3                20              Online               0   \n4                11              Online               0   \n...             ...                 ...             ...   \n36270             3              Online               0   \n36271            17              Online               0   \n36272             1              Online               0   \n36273            21              Online               0   \n36274            30             Offline               0   \n\n       no_of_previous_cancellations  no_of_previous_bookings_not_canceled  \\\n0                                 0                                     0   \n1                                 0                                     0   \n2                                 0                                     0   \n3                                 0                                     0   \n4                                 0                                     0   \n...                             ...                                   ...   \n36270                             0                                     0   \n36271                             0                                     0   \n36272                             0                                     0   \n36273                             0                                     0   \n36274                             0                                     0   \n\n       avg_price_per_room  no_of_special_requests booking_status  \n0                   65.00                       0   Not_Canceled  \n1                  106.68                       1   Not_Canceled  \n2                   60.00                       0       Canceled  \n3                  100.00                       0       Canceled  \n4                   94.50                       0       Canceled  \n...                   ...                     ...            ...  \n36270              167.80                       1   Not_Canceled  \n36271               90.95                       2       Canceled  \n36272               98.39                       2   Not_Canceled  \n36273               94.50                       0       Canceled  \n36274              161.67                       0   Not_Canceled  \n\n[36275 rows x 19 columns]",
      "text/html": "<div>\n<style scoped>\n    .dataframe tbody tr th:only-of-type {\n        vertical-align: middle;\n    }\n\n    .dataframe tbody tr th {\n        vertical-align: top;\n    }\n\n    .dataframe thead th {\n        text-align: right;\n    }\n</style>\n<table border=\"1\" class=\"dataframe\">\n  <thead>\n    <tr style=\"text-align: right;\">\n      <th></th>\n      <th>Booking_ID</th>\n      <th>no_of_adults</th>\n      <th>no_of_children</th>\n      <th>no_of_weekend_nights</th>\n      <th>no_of_week_nights</th>\n      <th>type_of_meal_plan</th>\n      <th>required_car_parking_space</th>\n      <th>room_type_reserved</th>\n      <th>lead_time</th>\n      <th>arrival_year</th>\n      <th>arrival_month</th>\n      <th>arrival_date</th>\n      <th>market_segment_type</th>\n      <th>repeated_guest</th>\n      <th>no_of_previous_cancellations</th>\n      <th>no_of_previous_bookings_not_canceled</th>\n      <th>avg_price_per_room</th>\n      <th>no_of_special_requests</th>\n      <th>booking_status</th>\n    </tr>\n  </thead>\n  <tbody>\n    <tr>\n      <th>0</th>\n      <td>INN00001</td>\n      <td>2</td>\n      <td>0</td>\n      <td>1</td>\n      <td>2</td>\n      <td>Meal Plan 1</td>\n      <td>0</td>\n      <td>Room_Type 1</td>\n      <td>224</td>\n      <td>2017</td>\n      <td>10</td>\n      <td>2</td>\n      <td>Offline</td>\n      <td>0</td>\n      <td>0</td>\n      <td>0</td>\n      <td>65.00</td>\n      <td>0</td>\n      <td>Not_Canceled</td>\n    </tr>\n    <tr>\n      <th>1</th>\n      <td>INN00002</td>\n      <td>2</td>\n      <td>0</td>\n      <td>2</td>\n      <td>3</td>\n      <td>Not Selected</td>\n      <td>0</td>\n      <td>Room_Type 1</td>\n      <td>5</td>\n      <td>2018</td>\n      <td>11</td>\n      <td>6</td>\n      <td>Online</td>\n      <td>0</td>\n      <td>0</td>\n      <td>0</td>\n      <td>106.68</td>\n      <td>1</td>\n      <td>Not_Canceled</td>\n    </tr>\n    <tr>\n      <th>2</th>\n      <td>INN00003</td>\n      <td>1</td>\n      <td>0</td>\n      <td>2</td>\n      <td>1</td>\n      <td>Meal Plan 1</td>\n      <td>0</td>\n      <td>Room_Type 1</td>\n      <td>1</td>\n      <td>2018</td>\n      <td>2</td>\n      <td>28</td>\n      <td>Online</td>\n      <td>0</td>\n      <td>0</td>\n      <td>0</td>\n      <td>60.00</td>\n      <td>0</td>\n      <td>Canceled</td>\n    </tr>\n    <tr>\n      <th>3</th>\n      <td>INN00004</td>\n      <td>2</td>\n      <td>0</td>\n      <td>0</td>\n      <td>2</td>\n      <td>Meal Plan 1</td>\n      <td>0</td>\n      <td>Room_Type 1</td>\n      <td>211</td>\n      <td>2018</td>\n      <td>5</td>\n      <td>20</td>\n      <td>Online</td>\n      <td>0</td>\n      <td>0</td>\n      <td>0</td>\n      <td>100.00</td>\n      <td>0</td>\n      <td>Canceled</td>\n    </tr>\n    <tr>\n      <th>4</th>\n      <td>INN00005</td>\n      <td>2</td>\n      <td>0</td>\n      <td>1</td>\n      <td>1</td>\n      <td>Not Selected</td>\n      <td>0</td>\n      <td>Room_Type 1</td>\n      <td>48</td>\n      <td>2018</td>\n      <td>4</td>\n      <td>11</td>\n      <td>Online</td>\n      <td>0</td>\n      <td>0</td>\n      <td>0</td>\n      <td>94.50</td>\n      <td>0</td>\n      <td>Canceled</td>\n    </tr>\n    <tr>\n      <th>...</th>\n      <td>...</td>\n      <td>...</td>\n      <td>...</td>\n      <td>...</td>\n      <td>...</td>\n      <td>...</td>\n      <td>...</td>\n      <td>...</td>\n      <td>...</td>\n      <td>...</td>\n      <td>...</td>\n      <td>...</td>\n      <td>...</td>\n      <td>...</td>\n      <td>...</td>\n      <td>...</td>\n      <td>...</td>\n      <td>...</td>\n      <td>...</td>\n    </tr>\n    <tr>\n      <th>36270</th>\n      <td>INN36271</td>\n      <td>3</td>\n      <td>0</td>\n      <td>2</td>\n      <td>6</td>\n      <td>Meal Plan 1</td>\n      <td>0</td>\n      <td>Room_Type 4</td>\n      <td>85</td>\n      <td>2018</td>\n      <td>8</td>\n      <td>3</td>\n      <td>Online</td>\n      <td>0</td>\n      <td>0</td>\n      <td>0</td>\n      <td>167.80</td>\n      <td>1</td>\n      <td>Not_Canceled</td>\n    </tr>\n    <tr>\n      <th>36271</th>\n      <td>INN36272</td>\n      <td>2</td>\n      <td>0</td>\n      <td>1</td>\n      <td>3</td>\n      <td>Meal Plan 1</td>\n      <td>0</td>\n      <td>Room_Type 1</td>\n      <td>228</td>\n      <td>2018</td>\n      <td>10</td>\n      <td>17</td>\n      <td>Online</td>\n      <td>0</td>\n      <td>0</td>\n      <td>0</td>\n      <td>90.95</td>\n      <td>2</td>\n      <td>Canceled</td>\n    </tr>\n    <tr>\n      <th>36272</th>\n      <td>INN36273</td>\n      <td>2</td>\n      <td>0</td>\n      <td>2</td>\n      <td>6</td>\n      <td>Meal Plan 1</td>\n      <td>0</td>\n      <td>Room_Type 1</td>\n      <td>148</td>\n      <td>2018</td>\n      <td>7</td>\n      <td>1</td>\n      <td>Online</td>\n      <td>0</td>\n      <td>0</td>\n      <td>0</td>\n      <td>98.39</td>\n      <td>2</td>\n      <td>Not_Canceled</td>\n    </tr>\n    <tr>\n      <th>36273</th>\n      <td>INN36274</td>\n      <td>2</td>\n      <td>0</td>\n      <td>0</td>\n      <td>3</td>\n      <td>Not Selected</td>\n      <td>0</td>\n      <td>Room_Type 1</td>\n      <td>63</td>\n      <td>2018</td>\n      <td>4</td>\n      <td>21</td>\n      <td>Online</td>\n      <td>0</td>\n      <td>0</td>\n      <td>0</td>\n      <td>94.50</td>\n      <td>0</td>\n      <td>Canceled</td>\n    </tr>\n    <tr>\n      <th>36274</th>\n      <td>INN36275</td>\n      <td>2</td>\n      <td>0</td>\n      <td>1</td>\n      <td>2</td>\n      <td>Meal Plan 1</td>\n      <td>0</td>\n      <td>Room_Type 1</td>\n      <td>207</td>\n      <td>2018</td>\n      <td>12</td>\n      <td>30</td>\n      <td>Offline</td>\n      <td>0</td>\n      <td>0</td>\n      <td>0</td>\n      <td>161.67</td>\n      <td>0</td>\n      <td>Not_Canceled</td>\n    </tr>\n  </tbody>\n</table>\n<p>36275 rows × 19 columns</p>\n</div>"
     },
     "execution_count": 4,
     "metadata": {},
     "output_type": "execute_result"
    }
   ],
   "source": [
    "dataset"
   ],
   "metadata": {
    "collapsed": false,
    "ExecuteTime": {
     "start_time": "2023-04-14T09:52:25.461395Z",
     "end_time": "2023-04-14T09:52:25.519557Z"
    }
   }
  },
  {
   "cell_type": "code",
   "execution_count": 6,
   "outputs": [
    {
     "data": {
      "text/plain": "                                 Columns  n_uniques  \\\n0                             Booking_ID      36275   \n1                           no_of_adults          5   \n2                         no_of_children          6   \n3                   no_of_weekend_nights          8   \n4                      no_of_week_nights         18   \n5                      type_of_meal_plan          4   \n6             required_car_parking_space          2   \n7                     room_type_reserved          7   \n8                              lead_time        352   \n9                           arrival_year          2   \n10                         arrival_month         12   \n11                          arrival_date         31   \n12                   market_segment_type          5   \n13                        repeated_guest          2   \n14          no_of_previous_cancellations          9   \n15  no_of_previous_bookings_not_canceled         59   \n16                    avg_price_per_room       3930   \n17                no_of_special_requests          6   \n18                        booking_status          2   \n\n                                               unique   dtypes  NULLS  \n0   [INN00001, INN00002, INN00003, INN00004, INN00...   object      0  \n1                                     [2, 1, 3, 0, 4]    int64      0  \n2                                 [0, 2, 1, 3, 10, 9]    int64      0  \n3                            [1, 2, 0, 4, 3, 6, 5, 7]    int64      0  \n4   [2, 3, 1, 4, 5, 0, 10, 6, 11, 7, 15, 9, 13, 8,...    int64      0  \n5   [Meal Plan 1, Not Selected, Meal Plan 2, Meal ...   object      0  \n6                                              [0, 1]    int64      0  \n7   [Room_Type 1, Room_Type 4, Room_Type 2, Room_T...   object      0  \n8   [224, 5, 1, 211, 48, 346, 34, 83, 121, 44, 0, ...    int64      0  \n9                                        [2017, 2018]    int64      0  \n10            [10, 11, 2, 5, 4, 9, 12, 7, 6, 8, 3, 1]    int64      0  \n11  [2, 6, 28, 20, 11, 13, 15, 26, 18, 30, 5, 10, ...    int64      0  \n12  [Offline, Online, Corporate, Aviation, Complem...   object      0  \n13                                             [0, 1]    int64      0  \n14                      [0, 3, 1, 2, 11, 4, 5, 13, 6]    int64      0  \n15  [0, 5, 1, 3, 4, 12, 19, 2, 15, 17, 7, 20, 16, ...    int64      0  \n16  [65.0, 106.68, 60.0, 100.0, 94.5, 115.0, 107.5...  float64      0  \n17                                 [0, 1, 3, 2, 4, 5]    int64      0  \n18                           [Not_Canceled, Canceled]   object      0  ",
      "text/html": "<div>\n<style scoped>\n    .dataframe tbody tr th:only-of-type {\n        vertical-align: middle;\n    }\n\n    .dataframe tbody tr th {\n        vertical-align: top;\n    }\n\n    .dataframe thead th {\n        text-align: right;\n    }\n</style>\n<table border=\"1\" class=\"dataframe\">\n  <thead>\n    <tr style=\"text-align: right;\">\n      <th></th>\n      <th>Columns</th>\n      <th>n_uniques</th>\n      <th>unique</th>\n      <th>dtypes</th>\n      <th>NULLS</th>\n    </tr>\n  </thead>\n  <tbody>\n    <tr>\n      <th>0</th>\n      <td>Booking_ID</td>\n      <td>36275</td>\n      <td>[INN00001, INN00002, INN00003, INN00004, INN00...</td>\n      <td>object</td>\n      <td>0</td>\n    </tr>\n    <tr>\n      <th>1</th>\n      <td>no_of_adults</td>\n      <td>5</td>\n      <td>[2, 1, 3, 0, 4]</td>\n      <td>int64</td>\n      <td>0</td>\n    </tr>\n    <tr>\n      <th>2</th>\n      <td>no_of_children</td>\n      <td>6</td>\n      <td>[0, 2, 1, 3, 10, 9]</td>\n      <td>int64</td>\n      <td>0</td>\n    </tr>\n    <tr>\n      <th>3</th>\n      <td>no_of_weekend_nights</td>\n      <td>8</td>\n      <td>[1, 2, 0, 4, 3, 6, 5, 7]</td>\n      <td>int64</td>\n      <td>0</td>\n    </tr>\n    <tr>\n      <th>4</th>\n      <td>no_of_week_nights</td>\n      <td>18</td>\n      <td>[2, 3, 1, 4, 5, 0, 10, 6, 11, 7, 15, 9, 13, 8,...</td>\n      <td>int64</td>\n      <td>0</td>\n    </tr>\n    <tr>\n      <th>5</th>\n      <td>type_of_meal_plan</td>\n      <td>4</td>\n      <td>[Meal Plan 1, Not Selected, Meal Plan 2, Meal ...</td>\n      <td>object</td>\n      <td>0</td>\n    </tr>\n    <tr>\n      <th>6</th>\n      <td>required_car_parking_space</td>\n      <td>2</td>\n      <td>[0, 1]</td>\n      <td>int64</td>\n      <td>0</td>\n    </tr>\n    <tr>\n      <th>7</th>\n      <td>room_type_reserved</td>\n      <td>7</td>\n      <td>[Room_Type 1, Room_Type 4, Room_Type 2, Room_T...</td>\n      <td>object</td>\n      <td>0</td>\n    </tr>\n    <tr>\n      <th>8</th>\n      <td>lead_time</td>\n      <td>352</td>\n      <td>[224, 5, 1, 211, 48, 346, 34, 83, 121, 44, 0, ...</td>\n      <td>int64</td>\n      <td>0</td>\n    </tr>\n    <tr>\n      <th>9</th>\n      <td>arrival_year</td>\n      <td>2</td>\n      <td>[2017, 2018]</td>\n      <td>int64</td>\n      <td>0</td>\n    </tr>\n    <tr>\n      <th>10</th>\n      <td>arrival_month</td>\n      <td>12</td>\n      <td>[10, 11, 2, 5, 4, 9, 12, 7, 6, 8, 3, 1]</td>\n      <td>int64</td>\n      <td>0</td>\n    </tr>\n    <tr>\n      <th>11</th>\n      <td>arrival_date</td>\n      <td>31</td>\n      <td>[2, 6, 28, 20, 11, 13, 15, 26, 18, 30, 5, 10, ...</td>\n      <td>int64</td>\n      <td>0</td>\n    </tr>\n    <tr>\n      <th>12</th>\n      <td>market_segment_type</td>\n      <td>5</td>\n      <td>[Offline, Online, Corporate, Aviation, Complem...</td>\n      <td>object</td>\n      <td>0</td>\n    </tr>\n    <tr>\n      <th>13</th>\n      <td>repeated_guest</td>\n      <td>2</td>\n      <td>[0, 1]</td>\n      <td>int64</td>\n      <td>0</td>\n    </tr>\n    <tr>\n      <th>14</th>\n      <td>no_of_previous_cancellations</td>\n      <td>9</td>\n      <td>[0, 3, 1, 2, 11, 4, 5, 13, 6]</td>\n      <td>int64</td>\n      <td>0</td>\n    </tr>\n    <tr>\n      <th>15</th>\n      <td>no_of_previous_bookings_not_canceled</td>\n      <td>59</td>\n      <td>[0, 5, 1, 3, 4, 12, 19, 2, 15, 17, 7, 20, 16, ...</td>\n      <td>int64</td>\n      <td>0</td>\n    </tr>\n    <tr>\n      <th>16</th>\n      <td>avg_price_per_room</td>\n      <td>3930</td>\n      <td>[65.0, 106.68, 60.0, 100.0, 94.5, 115.0, 107.5...</td>\n      <td>float64</td>\n      <td>0</td>\n    </tr>\n    <tr>\n      <th>17</th>\n      <td>no_of_special_requests</td>\n      <td>6</td>\n      <td>[0, 1, 3, 2, 4, 5]</td>\n      <td>int64</td>\n      <td>0</td>\n    </tr>\n    <tr>\n      <th>18</th>\n      <td>booking_status</td>\n      <td>2</td>\n      <td>[Not_Canceled, Canceled]</td>\n      <td>object</td>\n      <td>0</td>\n    </tr>\n  </tbody>\n</table>\n</div>"
     },
     "execution_count": 6,
     "metadata": {},
     "output_type": "execute_result"
    }
   ],
   "source": [
    "toolkit.data_info(dataset)"
   ],
   "metadata": {
    "collapsed": false,
    "ExecuteTime": {
     "start_time": "2023-04-14T09:53:24.849022Z",
     "end_time": "2023-04-14T09:53:24.952734Z"
    }
   }
  },
  {
   "cell_type": "code",
   "execution_count": 9,
   "outputs": [],
   "source": [
    "dataset.drop(['Booking_ID'],inplace=True,axis=1)"
   ],
   "metadata": {
    "collapsed": false,
    "ExecuteTime": {
     "start_time": "2023-04-14T09:55:17.591149Z",
     "end_time": "2023-04-14T09:55:17.639345Z"
    }
   }
  },
  {
   "cell_type": "code",
   "execution_count": 11,
   "outputs": [
    {
     "data": {
      "text/plain": "10275"
     },
     "execution_count": 11,
     "metadata": {},
     "output_type": "execute_result"
    }
   ],
   "source": [
    "dataset.duplicated().sum()"
   ],
   "metadata": {
    "collapsed": false,
    "ExecuteTime": {
     "start_time": "2023-04-14T09:55:39.559162Z",
     "end_time": "2023-04-14T09:55:39.641095Z"
    }
   }
  },
  {
   "cell_type": "code",
   "execution_count": null,
   "outputs": [],
   "source": [
    "dataset.drop_duplicates(inplace=True,ignore_index=)"
   ],
   "metadata": {
    "collapsed": false
   }
  }
 ],
 "metadata": {
  "kernelspec": {
   "display_name": "Python 3",
   "language": "python",
   "name": "python3"
  },
  "language_info": {
   "codemirror_mode": {
    "name": "ipython",
    "version": 2
   },
   "file_extension": ".py",
   "mimetype": "text/x-python",
   "name": "python",
   "nbconvert_exporter": "python",
   "pygments_lexer": "ipython2",
   "version": "2.7.6"
  }
 },
 "nbformat": 4,
 "nbformat_minor": 0
}
