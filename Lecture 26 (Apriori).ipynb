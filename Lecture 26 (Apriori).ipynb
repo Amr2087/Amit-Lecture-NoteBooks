{
 "cells": [
  {
   "cell_type": "code",
   "execution_count": 1,
   "metadata": {
    "collapsed": true
   },
   "outputs": [],
   "source": [
    "import pandas as pd\n",
    "import numpy as np"
   ]
  },
  {
   "cell_type": "code",
   "execution_count": 2,
   "outputs": [],
   "source": [
    "dataset = pd.read_csv('data/Market_Basket_Optimisation.csv')"
   ],
   "metadata": {
    "collapsed": false
   }
  },
  {
   "cell_type": "code",
   "execution_count": 3,
   "outputs": [
    {
     "data": {
      "text/plain": "              shrimp            almonds      avocado    vegetables mix  \\\n0            burgers          meatballs         eggs               NaN   \n1            chutney                NaN          NaN               NaN   \n2             turkey            avocado          NaN               NaN   \n3      mineral water               milk   energy bar  whole wheat rice   \n4     low fat yogurt                NaN          NaN               NaN   \n...              ...                ...          ...               ...   \n7495          butter         light mayo  fresh bread               NaN   \n7496         burgers  frozen vegetables         eggs      french fries   \n7497         chicken                NaN          NaN               NaN   \n7498        escalope          green tea          NaN               NaN   \n7499            eggs    frozen smoothie  yogurt cake    low fat yogurt   \n\n     green grapes whole weat flour yams cottage cheese energy drink  \\\n0             NaN              NaN  NaN            NaN          NaN   \n1             NaN              NaN  NaN            NaN          NaN   \n2             NaN              NaN  NaN            NaN          NaN   \n3       green tea              NaN  NaN            NaN          NaN   \n4             NaN              NaN  NaN            NaN          NaN   \n...           ...              ...  ...            ...          ...   \n7495          NaN              NaN  NaN            NaN          NaN   \n7496    magazines        green tea  NaN            NaN          NaN   \n7497          NaN              NaN  NaN            NaN          NaN   \n7498          NaN              NaN  NaN            NaN          NaN   \n7499          NaN              NaN  NaN            NaN          NaN   \n\n     tomato juice low fat yogurt green tea honey salad mineral water salmon  \\\n0             NaN            NaN       NaN   NaN   NaN           NaN    NaN   \n1             NaN            NaN       NaN   NaN   NaN           NaN    NaN   \n2             NaN            NaN       NaN   NaN   NaN           NaN    NaN   \n3             NaN            NaN       NaN   NaN   NaN           NaN    NaN   \n4             NaN            NaN       NaN   NaN   NaN           NaN    NaN   \n...           ...            ...       ...   ...   ...           ...    ...   \n7495          NaN            NaN       NaN   NaN   NaN           NaN    NaN   \n7496          NaN            NaN       NaN   NaN   NaN           NaN    NaN   \n7497          NaN            NaN       NaN   NaN   NaN           NaN    NaN   \n7498          NaN            NaN       NaN   NaN   NaN           NaN    NaN   \n7499          NaN            NaN       NaN   NaN   NaN           NaN    NaN   \n\n     antioxydant juice frozen smoothie spinach  olive oil  \n0                  NaN             NaN     NaN        NaN  \n1                  NaN             NaN     NaN        NaN  \n2                  NaN             NaN     NaN        NaN  \n3                  NaN             NaN     NaN        NaN  \n4                  NaN             NaN     NaN        NaN  \n...                ...             ...     ...        ...  \n7495               NaN             NaN     NaN        NaN  \n7496               NaN             NaN     NaN        NaN  \n7497               NaN             NaN     NaN        NaN  \n7498               NaN             NaN     NaN        NaN  \n7499               NaN             NaN     NaN        NaN  \n\n[7500 rows x 20 columns]",
      "text/html": "<div>\n<style scoped>\n    .dataframe tbody tr th:only-of-type {\n        vertical-align: middle;\n    }\n\n    .dataframe tbody tr th {\n        vertical-align: top;\n    }\n\n    .dataframe thead th {\n        text-align: right;\n    }\n</style>\n<table border=\"1\" class=\"dataframe\">\n  <thead>\n    <tr style=\"text-align: right;\">\n      <th></th>\n      <th>shrimp</th>\n      <th>almonds</th>\n      <th>avocado</th>\n      <th>vegetables mix</th>\n      <th>green grapes</th>\n      <th>whole weat flour</th>\n      <th>yams</th>\n      <th>cottage cheese</th>\n      <th>energy drink</th>\n      <th>tomato juice</th>\n      <th>low fat yogurt</th>\n      <th>green tea</th>\n      <th>honey</th>\n      <th>salad</th>\n      <th>mineral water</th>\n      <th>salmon</th>\n      <th>antioxydant juice</th>\n      <th>frozen smoothie</th>\n      <th>spinach</th>\n      <th>olive oil</th>\n    </tr>\n  </thead>\n  <tbody>\n    <tr>\n      <th>0</th>\n      <td>burgers</td>\n      <td>meatballs</td>\n      <td>eggs</td>\n      <td>NaN</td>\n      <td>NaN</td>\n      <td>NaN</td>\n      <td>NaN</td>\n      <td>NaN</td>\n      <td>NaN</td>\n      <td>NaN</td>\n      <td>NaN</td>\n      <td>NaN</td>\n      <td>NaN</td>\n      <td>NaN</td>\n      <td>NaN</td>\n      <td>NaN</td>\n      <td>NaN</td>\n      <td>NaN</td>\n      <td>NaN</td>\n      <td>NaN</td>\n    </tr>\n    <tr>\n      <th>1</th>\n      <td>chutney</td>\n      <td>NaN</td>\n      <td>NaN</td>\n      <td>NaN</td>\n      <td>NaN</td>\n      <td>NaN</td>\n      <td>NaN</td>\n      <td>NaN</td>\n      <td>NaN</td>\n      <td>NaN</td>\n      <td>NaN</td>\n      <td>NaN</td>\n      <td>NaN</td>\n      <td>NaN</td>\n      <td>NaN</td>\n      <td>NaN</td>\n      <td>NaN</td>\n      <td>NaN</td>\n      <td>NaN</td>\n      <td>NaN</td>\n    </tr>\n    <tr>\n      <th>2</th>\n      <td>turkey</td>\n      <td>avocado</td>\n      <td>NaN</td>\n      <td>NaN</td>\n      <td>NaN</td>\n      <td>NaN</td>\n      <td>NaN</td>\n      <td>NaN</td>\n      <td>NaN</td>\n      <td>NaN</td>\n      <td>NaN</td>\n      <td>NaN</td>\n      <td>NaN</td>\n      <td>NaN</td>\n      <td>NaN</td>\n      <td>NaN</td>\n      <td>NaN</td>\n      <td>NaN</td>\n      <td>NaN</td>\n      <td>NaN</td>\n    </tr>\n    <tr>\n      <th>3</th>\n      <td>mineral water</td>\n      <td>milk</td>\n      <td>energy bar</td>\n      <td>whole wheat rice</td>\n      <td>green tea</td>\n      <td>NaN</td>\n      <td>NaN</td>\n      <td>NaN</td>\n      <td>NaN</td>\n      <td>NaN</td>\n      <td>NaN</td>\n      <td>NaN</td>\n      <td>NaN</td>\n      <td>NaN</td>\n      <td>NaN</td>\n      <td>NaN</td>\n      <td>NaN</td>\n      <td>NaN</td>\n      <td>NaN</td>\n      <td>NaN</td>\n    </tr>\n    <tr>\n      <th>4</th>\n      <td>low fat yogurt</td>\n      <td>NaN</td>\n      <td>NaN</td>\n      <td>NaN</td>\n      <td>NaN</td>\n      <td>NaN</td>\n      <td>NaN</td>\n      <td>NaN</td>\n      <td>NaN</td>\n      <td>NaN</td>\n      <td>NaN</td>\n      <td>NaN</td>\n      <td>NaN</td>\n      <td>NaN</td>\n      <td>NaN</td>\n      <td>NaN</td>\n      <td>NaN</td>\n      <td>NaN</td>\n      <td>NaN</td>\n      <td>NaN</td>\n    </tr>\n    <tr>\n      <th>...</th>\n      <td>...</td>\n      <td>...</td>\n      <td>...</td>\n      <td>...</td>\n      <td>...</td>\n      <td>...</td>\n      <td>...</td>\n      <td>...</td>\n      <td>...</td>\n      <td>...</td>\n      <td>...</td>\n      <td>...</td>\n      <td>...</td>\n      <td>...</td>\n      <td>...</td>\n      <td>...</td>\n      <td>...</td>\n      <td>...</td>\n      <td>...</td>\n      <td>...</td>\n    </tr>\n    <tr>\n      <th>7495</th>\n      <td>butter</td>\n      <td>light mayo</td>\n      <td>fresh bread</td>\n      <td>NaN</td>\n      <td>NaN</td>\n      <td>NaN</td>\n      <td>NaN</td>\n      <td>NaN</td>\n      <td>NaN</td>\n      <td>NaN</td>\n      <td>NaN</td>\n      <td>NaN</td>\n      <td>NaN</td>\n      <td>NaN</td>\n      <td>NaN</td>\n      <td>NaN</td>\n      <td>NaN</td>\n      <td>NaN</td>\n      <td>NaN</td>\n      <td>NaN</td>\n    </tr>\n    <tr>\n      <th>7496</th>\n      <td>burgers</td>\n      <td>frozen vegetables</td>\n      <td>eggs</td>\n      <td>french fries</td>\n      <td>magazines</td>\n      <td>green tea</td>\n      <td>NaN</td>\n      <td>NaN</td>\n      <td>NaN</td>\n      <td>NaN</td>\n      <td>NaN</td>\n      <td>NaN</td>\n      <td>NaN</td>\n      <td>NaN</td>\n      <td>NaN</td>\n      <td>NaN</td>\n      <td>NaN</td>\n      <td>NaN</td>\n      <td>NaN</td>\n      <td>NaN</td>\n    </tr>\n    <tr>\n      <th>7497</th>\n      <td>chicken</td>\n      <td>NaN</td>\n      <td>NaN</td>\n      <td>NaN</td>\n      <td>NaN</td>\n      <td>NaN</td>\n      <td>NaN</td>\n      <td>NaN</td>\n      <td>NaN</td>\n      <td>NaN</td>\n      <td>NaN</td>\n      <td>NaN</td>\n      <td>NaN</td>\n      <td>NaN</td>\n      <td>NaN</td>\n      <td>NaN</td>\n      <td>NaN</td>\n      <td>NaN</td>\n      <td>NaN</td>\n      <td>NaN</td>\n    </tr>\n    <tr>\n      <th>7498</th>\n      <td>escalope</td>\n      <td>green tea</td>\n      <td>NaN</td>\n      <td>NaN</td>\n      <td>NaN</td>\n      <td>NaN</td>\n      <td>NaN</td>\n      <td>NaN</td>\n      <td>NaN</td>\n      <td>NaN</td>\n      <td>NaN</td>\n      <td>NaN</td>\n      <td>NaN</td>\n      <td>NaN</td>\n      <td>NaN</td>\n      <td>NaN</td>\n      <td>NaN</td>\n      <td>NaN</td>\n      <td>NaN</td>\n      <td>NaN</td>\n    </tr>\n    <tr>\n      <th>7499</th>\n      <td>eggs</td>\n      <td>frozen smoothie</td>\n      <td>yogurt cake</td>\n      <td>low fat yogurt</td>\n      <td>NaN</td>\n      <td>NaN</td>\n      <td>NaN</td>\n      <td>NaN</td>\n      <td>NaN</td>\n      <td>NaN</td>\n      <td>NaN</td>\n      <td>NaN</td>\n      <td>NaN</td>\n      <td>NaN</td>\n      <td>NaN</td>\n      <td>NaN</td>\n      <td>NaN</td>\n      <td>NaN</td>\n      <td>NaN</td>\n      <td>NaN</td>\n    </tr>\n  </tbody>\n</table>\n<p>7500 rows × 20 columns</p>\n</div>"
     },
     "execution_count": 3,
     "metadata": {},
     "output_type": "execute_result"
    }
   ],
   "source": [
    "dataset"
   ],
   "metadata": {
    "collapsed": false
   }
  },
  {
   "cell_type": "code",
   "execution_count": 4,
   "outputs": [],
   "source": [
    "transactions = []\n",
    "for i in range(len(dataset)):\n",
    "    transactions.append([str(dataset.iloc[i,g]) for g in range(20) if str(dataset.iloc[i, g]) != 'nan'])"
   ],
   "metadata": {
    "collapsed": false
   }
  },
  {
   "cell_type": "code",
   "execution_count": 5,
   "outputs": [
    {
     "data": {
      "text/plain": "['burgers', 'meatballs', 'eggs']"
     },
     "execution_count": 5,
     "metadata": {},
     "output_type": "execute_result"
    }
   ],
   "source": [
    "transactions[0]"
   ],
   "metadata": {
    "collapsed": false
   }
  },
  {
   "cell_type": "code",
   "execution_count": 6,
   "outputs": [],
   "source": [
    "from apyori.apyori import apriori\n",
    "rules = apriori(transactions = transactions,min_support = 0.003,min_confidence = 0.2,min_lift = 3,min_length = 2,max_length=2)"
   ],
   "metadata": {
    "collapsed": false
   }
  },
  {
   "cell_type": "code",
   "execution_count": 7,
   "outputs": [
    {
     "data": {
      "text/plain": "[RelationRecord(items=frozenset({'chicken', 'light cream'}), support=0.004533333333333334, ordered_statistics=[OrderedStatistic(items_base=frozenset({'light cream'}), items_add=frozenset({'chicken'}), confidence=0.2905982905982906, lift=4.843304843304844)]),\n RelationRecord(items=frozenset({'mushroom cream sauce', 'escalope'}), support=0.005733333333333333, ordered_statistics=[OrderedStatistic(items_base=frozenset({'mushroom cream sauce'}), items_add=frozenset({'escalope'}), confidence=0.30069930069930073, lift=3.7903273197390845)]),\n RelationRecord(items=frozenset({'pasta', 'escalope'}), support=0.005866666666666667, ordered_statistics=[OrderedStatistic(items_base=frozenset({'pasta'}), items_add=frozenset({'escalope'}), confidence=0.37288135593220345, lift=4.700185158809287)]),\n RelationRecord(items=frozenset({'honey', 'fromage blanc'}), support=0.0033333333333333335, ordered_statistics=[OrderedStatistic(items_base=frozenset({'fromage blanc'}), items_add=frozenset({'honey'}), confidence=0.2450980392156863, lift=5.178127589063795)]),\n RelationRecord(items=frozenset({'herb & pepper', 'ground beef'}), support=0.016, ordered_statistics=[OrderedStatistic(items_base=frozenset({'herb & pepper'}), items_add=frozenset({'ground beef'}), confidence=0.3234501347708895, lift=3.2915549671393096)]),\n RelationRecord(items=frozenset({'ground beef', 'tomato sauce'}), support=0.005333333333333333, ordered_statistics=[OrderedStatistic(items_base=frozenset({'tomato sauce'}), items_add=frozenset({'ground beef'}), confidence=0.37735849056603776, lift=3.840147461662528)]),\n RelationRecord(items=frozenset({'light cream', 'olive oil'}), support=0.0032, ordered_statistics=[OrderedStatistic(items_base=frozenset({'light cream'}), items_add=frozenset({'olive oil'}), confidence=0.20512820512820515, lift=3.120611639881417)]),\n RelationRecord(items=frozenset({'whole wheat pasta', 'olive oil'}), support=0.008, ordered_statistics=[OrderedStatistic(items_base=frozenset({'whole wheat pasta'}), items_add=frozenset({'olive oil'}), confidence=0.2714932126696833, lift=4.130221288078346)]),\n RelationRecord(items=frozenset({'shrimp', 'pasta'}), support=0.005066666666666666, ordered_statistics=[OrderedStatistic(items_base=frozenset({'pasta'}), items_add=frozenset({'shrimp'}), confidence=0.3220338983050848, lift=4.514493901473151)])]"
     },
     "execution_count": 7,
     "metadata": {},
     "output_type": "execute_result"
    }
   ],
   "source": [
    "results = list(rules)\n",
    "results"
   ],
   "metadata": {
    "collapsed": false
   }
  },
  {
   "cell_type": "code",
   "execution_count": 8,
   "outputs": [
    {
     "data": {
      "text/plain": "RelationRecord(items=frozenset({'chicken', 'light cream'}), support=0.004533333333333334, ordered_statistics=[OrderedStatistic(items_base=frozenset({'light cream'}), items_add=frozenset({'chicken'}), confidence=0.2905982905982906, lift=4.843304843304844)])"
     },
     "execution_count": 8,
     "metadata": {},
     "output_type": "execute_result"
    }
   ],
   "source": [
    "result = results[0] # single rule\n",
    "result"
   ],
   "metadata": {
    "collapsed": false
   }
  },
  {
   "cell_type": "code",
   "execution_count": 9,
   "outputs": [
    {
     "data": {
      "text/plain": "frozenset({'chicken', 'light cream'})"
     },
     "execution_count": 9,
     "metadata": {},
     "output_type": "execute_result"
    }
   ],
   "source": [
    "result[0] # Item Set"
   ],
   "metadata": {
    "collapsed": false
   }
  },
  {
   "cell_type": "code",
   "execution_count": 10,
   "outputs": [
    {
     "data": {
      "text/plain": "0.2905982905982906"
     },
     "execution_count": 10,
     "metadata": {},
     "output_type": "execute_result"
    }
   ],
   "source": [
    "result[2][0][2] # Confidence"
   ],
   "metadata": {
    "collapsed": false
   }
  },
  {
   "cell_type": "code",
   "execution_count": 11,
   "outputs": [
    {
     "data": {
      "text/plain": "4.843304843304844"
     },
     "execution_count": 11,
     "metadata": {},
     "output_type": "execute_result"
    }
   ],
   "source": [
    "result[2][0][3] # Lift"
   ],
   "metadata": {
    "collapsed": false
   }
  },
  {
   "cell_type": "code",
   "execution_count": 12,
   "outputs": [
    {
     "data": {
      "text/plain": "0.004533333333333334"
     },
     "execution_count": 12,
     "metadata": {},
     "output_type": "execute_result"
    }
   ],
   "source": [
    "result[1] # Support"
   ],
   "metadata": {
    "collapsed": false
   }
  },
  {
   "cell_type": "code",
   "execution_count": 13,
   "outputs": [],
   "source": [
    "def form_rules(results):\n",
    "    rules = []\n",
    "    for result in results:\n",
    "        item_set = result[0]\n",
    "        confidence = result[2][0][2]\n",
    "        lift = result[2][0][3]\n",
    "        support = result[1]\n",
    "        rule = [item_set,confidence,lift,support]\n",
    "        rules.append(rule)\n",
    "    return pd.DataFrame(rules,columns=['Item Set','Confidence','Lift','Support'])"
   ],
   "metadata": {
    "collapsed": false
   }
  },
  {
   "cell_type": "code",
   "execution_count": 14,
   "outputs": [
    {
     "data": {
      "text/plain": "                           Item Set  Confidence      Lift   Support\n0            (chicken, light cream)    0.290598  4.843305  0.004533\n1  (mushroom cream sauce, escalope)    0.300699  3.790327  0.005733\n2                 (pasta, escalope)    0.372881  4.700185  0.005867\n3            (honey, fromage blanc)    0.245098  5.178128  0.003333\n4      (herb & pepper, ground beef)    0.323450  3.291555  0.016000\n5       (ground beef, tomato sauce)    0.377358  3.840147  0.005333\n6          (light cream, olive oil)    0.205128  3.120612  0.003200\n7    (whole wheat pasta, olive oil)    0.271493  4.130221  0.008000\n8                   (shrimp, pasta)    0.322034  4.514494  0.005067",
      "text/html": "<div>\n<style scoped>\n    .dataframe tbody tr th:only-of-type {\n        vertical-align: middle;\n    }\n\n    .dataframe tbody tr th {\n        vertical-align: top;\n    }\n\n    .dataframe thead th {\n        text-align: right;\n    }\n</style>\n<table border=\"1\" class=\"dataframe\">\n  <thead>\n    <tr style=\"text-align: right;\">\n      <th></th>\n      <th>Item Set</th>\n      <th>Confidence</th>\n      <th>Lift</th>\n      <th>Support</th>\n    </tr>\n  </thead>\n  <tbody>\n    <tr>\n      <th>0</th>\n      <td>(chicken, light cream)</td>\n      <td>0.290598</td>\n      <td>4.843305</td>\n      <td>0.004533</td>\n    </tr>\n    <tr>\n      <th>1</th>\n      <td>(mushroom cream sauce, escalope)</td>\n      <td>0.300699</td>\n      <td>3.790327</td>\n      <td>0.005733</td>\n    </tr>\n    <tr>\n      <th>2</th>\n      <td>(pasta, escalope)</td>\n      <td>0.372881</td>\n      <td>4.700185</td>\n      <td>0.005867</td>\n    </tr>\n    <tr>\n      <th>3</th>\n      <td>(honey, fromage blanc)</td>\n      <td>0.245098</td>\n      <td>5.178128</td>\n      <td>0.003333</td>\n    </tr>\n    <tr>\n      <th>4</th>\n      <td>(herb &amp; pepper, ground beef)</td>\n      <td>0.323450</td>\n      <td>3.291555</td>\n      <td>0.016000</td>\n    </tr>\n    <tr>\n      <th>5</th>\n      <td>(ground beef, tomato sauce)</td>\n      <td>0.377358</td>\n      <td>3.840147</td>\n      <td>0.005333</td>\n    </tr>\n    <tr>\n      <th>6</th>\n      <td>(light cream, olive oil)</td>\n      <td>0.205128</td>\n      <td>3.120612</td>\n      <td>0.003200</td>\n    </tr>\n    <tr>\n      <th>7</th>\n      <td>(whole wheat pasta, olive oil)</td>\n      <td>0.271493</td>\n      <td>4.130221</td>\n      <td>0.008000</td>\n    </tr>\n    <tr>\n      <th>8</th>\n      <td>(shrimp, pasta)</td>\n      <td>0.322034</td>\n      <td>4.514494</td>\n      <td>0.005067</td>\n    </tr>\n  </tbody>\n</table>\n</div>"
     },
     "execution_count": 14,
     "metadata": {},
     "output_type": "execute_result"
    }
   ],
   "source": [
    "form_rules(results)"
   ],
   "metadata": {
    "collapsed": false
   }
  },
  {
   "cell_type": "markdown",
   "source": [
    "# New Data"
   ],
   "metadata": {
    "collapsed": false
   }
  },
  {
   "cell_type": "code",
   "execution_count": 15,
   "outputs": [],
   "source": [
    "data = pd.read_csv('data/Final Transactions.csv')"
   ],
   "metadata": {
    "collapsed": false
   }
  },
  {
   "cell_type": "code",
   "execution_count": 16,
   "outputs": [
    {
     "data": {
      "text/plain": "   Unnamed: 0  TRANSACTION_ID          TX_DATETIME  CUSTOMER_ID  TERMINAL_ID  \\\n0           0               0  2023-01-01 00:00:31          596         3156   \n1           1               1  2023-01-01 00:02:10         4961         3412   \n2           2               2  2023-01-01 00:07:56            2         1365   \n3           3               3  2023-01-01 00:09:29         4128         8737   \n4           4               4  2023-01-01 00:10:34          927         9906   \n\n   TX_AMOUNT  TX_TIME_SECONDS  TX_TIME_DAYS  TX_FRAUD  TX_FRAUD_SCENARIO  \n0     533.07               31             0         0                  0  \n1     808.56              130             0         0                  0  \n2    1442.94              476             0         1                  1  \n3     620.65              569             0         0                  0  \n4     490.66              634             0         0                  0  ",
      "text/html": "<div>\n<style scoped>\n    .dataframe tbody tr th:only-of-type {\n        vertical-align: middle;\n    }\n\n    .dataframe tbody tr th {\n        vertical-align: top;\n    }\n\n    .dataframe thead th {\n        text-align: right;\n    }\n</style>\n<table border=\"1\" class=\"dataframe\">\n  <thead>\n    <tr style=\"text-align: right;\">\n      <th></th>\n      <th>Unnamed: 0</th>\n      <th>TRANSACTION_ID</th>\n      <th>TX_DATETIME</th>\n      <th>CUSTOMER_ID</th>\n      <th>TERMINAL_ID</th>\n      <th>TX_AMOUNT</th>\n      <th>TX_TIME_SECONDS</th>\n      <th>TX_TIME_DAYS</th>\n      <th>TX_FRAUD</th>\n      <th>TX_FRAUD_SCENARIO</th>\n    </tr>\n  </thead>\n  <tbody>\n    <tr>\n      <th>0</th>\n      <td>0</td>\n      <td>0</td>\n      <td>2023-01-01 00:00:31</td>\n      <td>596</td>\n      <td>3156</td>\n      <td>533.07</td>\n      <td>31</td>\n      <td>0</td>\n      <td>0</td>\n      <td>0</td>\n    </tr>\n    <tr>\n      <th>1</th>\n      <td>1</td>\n      <td>1</td>\n      <td>2023-01-01 00:02:10</td>\n      <td>4961</td>\n      <td>3412</td>\n      <td>808.56</td>\n      <td>130</td>\n      <td>0</td>\n      <td>0</td>\n      <td>0</td>\n    </tr>\n    <tr>\n      <th>2</th>\n      <td>2</td>\n      <td>2</td>\n      <td>2023-01-01 00:07:56</td>\n      <td>2</td>\n      <td>1365</td>\n      <td>1442.94</td>\n      <td>476</td>\n      <td>0</td>\n      <td>1</td>\n      <td>1</td>\n    </tr>\n    <tr>\n      <th>3</th>\n      <td>3</td>\n      <td>3</td>\n      <td>2023-01-01 00:09:29</td>\n      <td>4128</td>\n      <td>8737</td>\n      <td>620.65</td>\n      <td>569</td>\n      <td>0</td>\n      <td>0</td>\n      <td>0</td>\n    </tr>\n    <tr>\n      <th>4</th>\n      <td>4</td>\n      <td>4</td>\n      <td>2023-01-01 00:10:34</td>\n      <td>927</td>\n      <td>9906</td>\n      <td>490.66</td>\n      <td>634</td>\n      <td>0</td>\n      <td>0</td>\n      <td>0</td>\n    </tr>\n  </tbody>\n</table>\n</div>"
     },
     "execution_count": 16,
     "metadata": {},
     "output_type": "execute_result"
    }
   ],
   "source": [
    "data.head()"
   ],
   "metadata": {
    "collapsed": false
   }
  },
  {
   "cell_type": "code",
   "execution_count": 17,
   "outputs": [],
   "source": [
    "# drop columns named Unnamed: 0, TRANSACTION_ID and CUSTOMER_ID\n",
    "data.drop(['Unnamed: 0','TRANSACTION_ID','CUSTOMER_ID'],axis=1,inplace=True)"
   ],
   "metadata": {
    "collapsed": false
   }
  },
  {
   "cell_type": "code",
   "execution_count": 18,
   "outputs": [
    {
     "data": {
      "text/plain": "TX_DATETIME          0\nTERMINAL_ID          0\nTX_AMOUNT            0\nTX_TIME_SECONDS      0\nTX_TIME_DAYS         0\nTX_FRAUD             0\nTX_FRAUD_SCENARIO    0\ndtype: int64"
     },
     "execution_count": 18,
     "metadata": {},
     "output_type": "execute_result"
    }
   ],
   "source": [
    "data.isnull().sum()"
   ],
   "metadata": {
    "collapsed": false
   }
  },
  {
   "cell_type": "code",
   "execution_count": 19,
   "outputs": [
    {
     "data": {
      "text/plain": "0    1518186\n1     235969\nName: TX_FRAUD, dtype: int64"
     },
     "execution_count": 19,
     "metadata": {},
     "output_type": "execute_result"
    }
   ],
   "source": [
    "data.TX_FRAUD.value_counts()"
   ],
   "metadata": {
    "collapsed": false
   }
  },
  {
   "cell_type": "code",
   "execution_count": 20,
   "outputs": [],
   "source": [
    "def split_date(date_string):\n",
    "    # split the date string into year, month, and day components\n",
    "    year, month, day = date_string.split(\"-\")\n",
    "    return year, month, day\n",
    "\n",
    "def split_time(time_string):\n",
    "    # split the time string into hour, minute, and second components\n",
    "    hour, minute, second = time_string.split(\":\")\n",
    "    return hour, minute, second"
   ],
   "metadata": {
    "collapsed": false
   }
  },
  {
   "cell_type": "code",
   "execution_count": 21,
   "outputs": [],
   "source": [
    "import pandas as pd\n",
    "\n",
    "def split_datetime(df):\n",
    "    # create empty lists to hold new columns\n",
    "    years = []\n",
    "    months = []\n",
    "    days = []\n",
    "    hours = []\n",
    "    minutes = []\n",
    "    seconds = []\n",
    "\n",
    "    # iterate through each row of the DataFrame\n",
    "    for index, row in df.iterrows():\n",
    "        # split the \"datetime\" column into separate date and time components\n",
    "        date, time = str(row[\"TX_DATETIME\"]).split(\" \")\n",
    "\n",
    "        # split the date and time components into separate year, month, day, hour, minute, and second components\n",
    "        year, month, day = split_date(date)\n",
    "        hour, minute, second = split_time(time)\n",
    "\n",
    "        # append the new values to the corresponding lists\n",
    "        years.append(year)\n",
    "        months.append(month)\n",
    "        days.append(day)\n",
    "        hours.append(hour)\n",
    "        minutes.append(minute)\n",
    "        seconds.append(second)\n",
    "\n",
    "    # add the new columns to the DataFrame\n",
    "    df[\"year\"] = pd.Series(years)\n",
    "    df[\"month\"] = pd.Series(months)\n",
    "    df[\"day\"] = pd.Series(days)\n",
    "    df[\"hour\"] = pd.Series(hours)\n",
    "    df[\"minute\"] = pd.Series(minutes)\n",
    "    df[\"second\"] = pd.Series(seconds)\n",
    "\n",
    "    # drop the original \"datetime\" column\n",
    "    df = df.drop(columns=[\"TX_DATETIME\"],inplace=True)\n",
    "\n",
    "    return df"
   ],
   "metadata": {
    "collapsed": false
   }
  },
  {
   "cell_type": "code",
   "execution_count": 22,
   "outputs": [],
   "source": [
    "split_datetime(data)"
   ],
   "metadata": {
    "collapsed": false
   }
  },
  {
   "cell_type": "code",
   "execution_count": 23,
   "outputs": [],
   "source": [
    "data.drop_duplicates(inplace=True)"
   ],
   "metadata": {
    "collapsed": false
   }
  },
  {
   "cell_type": "code",
   "execution_count": 24,
   "outputs": [
    {
     "data": {
      "text/plain": "        TERMINAL_ID     TX_AMOUNT  TX_TIME_SECONDS  TX_TIME_DAYS  \\\ncount  1.754155e+06  1.754155e+06     1.754155e+06  1.754155e+06   \nmean   4.996733e+03  5.396820e+02     7.903234e+06  9.097260e+01   \nstd    2.886101e+03  1.179711e+03     4.565172e+06  5.283709e+01   \nmin    0.000000e+00  0.000000e+00     3.100000e+01  0.000000e+00   \n25%    2.502000e+03  1.799500e+02     3.940846e+06  4.500000e+01   \n50%    4.994000e+03  4.217500e+02     7.902670e+06  9.100000e+01   \n75%    7.495000e+03  7.505950e+02     1.186566e+07  1.370000e+02   \nmax    9.999000e+03  6.478375e+05     1.581120e+07  1.820000e+02   \n\n           TX_FRAUD  TX_FRAUD_SCENARIO  \ncount  1.754155e+06       1.754155e+06  \nmean   1.345200e-01       1.449746e-01  \nstd    3.412103e-01       3.874872e-01  \nmin    0.000000e+00       0.000000e+00  \n25%    0.000000e+00       0.000000e+00  \n50%    0.000000e+00       0.000000e+00  \n75%    0.000000e+00       0.000000e+00  \nmax    1.000000e+00       3.000000e+00  ",
      "text/html": "<div>\n<style scoped>\n    .dataframe tbody tr th:only-of-type {\n        vertical-align: middle;\n    }\n\n    .dataframe tbody tr th {\n        vertical-align: top;\n    }\n\n    .dataframe thead th {\n        text-align: right;\n    }\n</style>\n<table border=\"1\" class=\"dataframe\">\n  <thead>\n    <tr style=\"text-align: right;\">\n      <th></th>\n      <th>TERMINAL_ID</th>\n      <th>TX_AMOUNT</th>\n      <th>TX_TIME_SECONDS</th>\n      <th>TX_TIME_DAYS</th>\n      <th>TX_FRAUD</th>\n      <th>TX_FRAUD_SCENARIO</th>\n    </tr>\n  </thead>\n  <tbody>\n    <tr>\n      <th>count</th>\n      <td>1.754155e+06</td>\n      <td>1.754155e+06</td>\n      <td>1.754155e+06</td>\n      <td>1.754155e+06</td>\n      <td>1.754155e+06</td>\n      <td>1.754155e+06</td>\n    </tr>\n    <tr>\n      <th>mean</th>\n      <td>4.996733e+03</td>\n      <td>5.396820e+02</td>\n      <td>7.903234e+06</td>\n      <td>9.097260e+01</td>\n      <td>1.345200e-01</td>\n      <td>1.449746e-01</td>\n    </tr>\n    <tr>\n      <th>std</th>\n      <td>2.886101e+03</td>\n      <td>1.179711e+03</td>\n      <td>4.565172e+06</td>\n      <td>5.283709e+01</td>\n      <td>3.412103e-01</td>\n      <td>3.874872e-01</td>\n    </tr>\n    <tr>\n      <th>min</th>\n      <td>0.000000e+00</td>\n      <td>0.000000e+00</td>\n      <td>3.100000e+01</td>\n      <td>0.000000e+00</td>\n      <td>0.000000e+00</td>\n      <td>0.000000e+00</td>\n    </tr>\n    <tr>\n      <th>25%</th>\n      <td>2.502000e+03</td>\n      <td>1.799500e+02</td>\n      <td>3.940846e+06</td>\n      <td>4.500000e+01</td>\n      <td>0.000000e+00</td>\n      <td>0.000000e+00</td>\n    </tr>\n    <tr>\n      <th>50%</th>\n      <td>4.994000e+03</td>\n      <td>4.217500e+02</td>\n      <td>7.902670e+06</td>\n      <td>9.100000e+01</td>\n      <td>0.000000e+00</td>\n      <td>0.000000e+00</td>\n    </tr>\n    <tr>\n      <th>75%</th>\n      <td>7.495000e+03</td>\n      <td>7.505950e+02</td>\n      <td>1.186566e+07</td>\n      <td>1.370000e+02</td>\n      <td>0.000000e+00</td>\n      <td>0.000000e+00</td>\n    </tr>\n    <tr>\n      <th>max</th>\n      <td>9.999000e+03</td>\n      <td>6.478375e+05</td>\n      <td>1.581120e+07</td>\n      <td>1.820000e+02</td>\n      <td>1.000000e+00</td>\n      <td>3.000000e+00</td>\n    </tr>\n  </tbody>\n</table>\n</div>"
     },
     "execution_count": 24,
     "metadata": {},
     "output_type": "execute_result"
    }
   ],
   "source": [
    "data.describe()"
   ],
   "metadata": {
    "collapsed": false
   }
  },
  {
   "cell_type": "code",
   "execution_count": 25,
   "outputs": [],
   "source": [
    "y = data['TX_FRAUD']\n",
    "X = data.drop(['TX_FRAUD'],axis=1)"
   ],
   "metadata": {
    "collapsed": false
   }
  },
  {
   "cell_type": "code",
   "execution_count": 26,
   "outputs": [
    {
     "data": {
      "text/plain": "0          0\n1          0\n2          1\n3          0\n4          0\n          ..\n1754150    0\n1754151    0\n1754152    0\n1754153    0\n1754154    0\nName: TX_FRAUD, Length: 1754155, dtype: int64"
     },
     "execution_count": 26,
     "metadata": {},
     "output_type": "execute_result"
    }
   ],
   "source": [
    "y"
   ],
   "metadata": {
    "collapsed": false
   }
  },
  {
   "cell_type": "code",
   "execution_count": 27,
   "outputs": [
    {
     "data": {
      "text/plain": "         TERMINAL_ID  TX_AMOUNT  TX_TIME_SECONDS  TX_TIME_DAYS  \\\n0               3156     533.07               31             0   \n1               3412     808.56              130             0   \n2               1365    1442.94              476             0   \n3               8737     620.65              569             0   \n4               9906     490.66              634             0   \n...              ...        ...              ...           ...   \n1754150          655     531.43         15810996           182   \n1754151         6181      10.40         15811058           182   \n1754152         1502      26.62         15811101           182   \n1754153         3067     550.43         15811192           182   \n1754154         9849     216.57         15811197           182   \n\n         TX_FRAUD_SCENARIO  year month day hour minute second  \n0                        0  2023    01  01   00     00     31  \n1                        0  2023    01  01   00     02     10  \n2                        1  2023    01  01   00     07     56  \n3                        0  2023    01  01   00     09     29  \n4                        0  2023    01  01   00     10     34  \n...                    ...   ...   ...  ..  ...    ...    ...  \n1754150                  0  2023    07  02   23     56     36  \n1754151                  0  2023    07  02   23     57     38  \n1754152                  0  2023    07  02   23     58     21  \n1754153                  0  2023    07  02   23     59     52  \n1754154                  0  2023    07  02   23     59     57  \n\n[1754155 rows x 11 columns]",
      "text/html": "<div>\n<style scoped>\n    .dataframe tbody tr th:only-of-type {\n        vertical-align: middle;\n    }\n\n    .dataframe tbody tr th {\n        vertical-align: top;\n    }\n\n    .dataframe thead th {\n        text-align: right;\n    }\n</style>\n<table border=\"1\" class=\"dataframe\">\n  <thead>\n    <tr style=\"text-align: right;\">\n      <th></th>\n      <th>TERMINAL_ID</th>\n      <th>TX_AMOUNT</th>\n      <th>TX_TIME_SECONDS</th>\n      <th>TX_TIME_DAYS</th>\n      <th>TX_FRAUD_SCENARIO</th>\n      <th>year</th>\n      <th>month</th>\n      <th>day</th>\n      <th>hour</th>\n      <th>minute</th>\n      <th>second</th>\n    </tr>\n  </thead>\n  <tbody>\n    <tr>\n      <th>0</th>\n      <td>3156</td>\n      <td>533.07</td>\n      <td>31</td>\n      <td>0</td>\n      <td>0</td>\n      <td>2023</td>\n      <td>01</td>\n      <td>01</td>\n      <td>00</td>\n      <td>00</td>\n      <td>31</td>\n    </tr>\n    <tr>\n      <th>1</th>\n      <td>3412</td>\n      <td>808.56</td>\n      <td>130</td>\n      <td>0</td>\n      <td>0</td>\n      <td>2023</td>\n      <td>01</td>\n      <td>01</td>\n      <td>00</td>\n      <td>02</td>\n      <td>10</td>\n    </tr>\n    <tr>\n      <th>2</th>\n      <td>1365</td>\n      <td>1442.94</td>\n      <td>476</td>\n      <td>0</td>\n      <td>1</td>\n      <td>2023</td>\n      <td>01</td>\n      <td>01</td>\n      <td>00</td>\n      <td>07</td>\n      <td>56</td>\n    </tr>\n    <tr>\n      <th>3</th>\n      <td>8737</td>\n      <td>620.65</td>\n      <td>569</td>\n      <td>0</td>\n      <td>0</td>\n      <td>2023</td>\n      <td>01</td>\n      <td>01</td>\n      <td>00</td>\n      <td>09</td>\n      <td>29</td>\n    </tr>\n    <tr>\n      <th>4</th>\n      <td>9906</td>\n      <td>490.66</td>\n      <td>634</td>\n      <td>0</td>\n      <td>0</td>\n      <td>2023</td>\n      <td>01</td>\n      <td>01</td>\n      <td>00</td>\n      <td>10</td>\n      <td>34</td>\n    </tr>\n    <tr>\n      <th>...</th>\n      <td>...</td>\n      <td>...</td>\n      <td>...</td>\n      <td>...</td>\n      <td>...</td>\n      <td>...</td>\n      <td>...</td>\n      <td>...</td>\n      <td>...</td>\n      <td>...</td>\n      <td>...</td>\n    </tr>\n    <tr>\n      <th>1754150</th>\n      <td>655</td>\n      <td>531.43</td>\n      <td>15810996</td>\n      <td>182</td>\n      <td>0</td>\n      <td>2023</td>\n      <td>07</td>\n      <td>02</td>\n      <td>23</td>\n      <td>56</td>\n      <td>36</td>\n    </tr>\n    <tr>\n      <th>1754151</th>\n      <td>6181</td>\n      <td>10.40</td>\n      <td>15811058</td>\n      <td>182</td>\n      <td>0</td>\n      <td>2023</td>\n      <td>07</td>\n      <td>02</td>\n      <td>23</td>\n      <td>57</td>\n      <td>38</td>\n    </tr>\n    <tr>\n      <th>1754152</th>\n      <td>1502</td>\n      <td>26.62</td>\n      <td>15811101</td>\n      <td>182</td>\n      <td>0</td>\n      <td>2023</td>\n      <td>07</td>\n      <td>02</td>\n      <td>23</td>\n      <td>58</td>\n      <td>21</td>\n    </tr>\n    <tr>\n      <th>1754153</th>\n      <td>3067</td>\n      <td>550.43</td>\n      <td>15811192</td>\n      <td>182</td>\n      <td>0</td>\n      <td>2023</td>\n      <td>07</td>\n      <td>02</td>\n      <td>23</td>\n      <td>59</td>\n      <td>52</td>\n    </tr>\n    <tr>\n      <th>1754154</th>\n      <td>9849</td>\n      <td>216.57</td>\n      <td>15811197</td>\n      <td>182</td>\n      <td>0</td>\n      <td>2023</td>\n      <td>07</td>\n      <td>02</td>\n      <td>23</td>\n      <td>59</td>\n      <td>57</td>\n    </tr>\n  </tbody>\n</table>\n<p>1754155 rows × 11 columns</p>\n</div>"
     },
     "execution_count": 27,
     "metadata": {},
     "output_type": "execute_result"
    }
   ],
   "source": [
    "X"
   ],
   "metadata": {
    "collapsed": false
   }
  },
  {
   "cell_type": "code",
   "execution_count": 28,
   "outputs": [],
   "source": [
    "from sklearn.model_selection import KFold,StratifiedKFold,train_test_split\n",
    "# kfold = StratifiedKFold(n_splits=8, shuffle=True, random_state=0)\n",
    "# split data into train and test sets using train_test_split\n",
    "X_train, X_test, y_train, y_test = train_test_split(X,y,test_size=0.2,random_state=0)"
   ],
   "metadata": {
    "collapsed": false
   }
  },
  {
   "cell_type": "code",
   "execution_count": 29,
   "outputs": [],
   "source": [
    "# for train_index, test_index in kfold.split(X,y):\n",
    "#     # Split the data into train and test sets\n",
    "#     X_train, X_test = X.iloc[train_index], X.iloc[test_index]\n",
    "#     y_train, y_test = y.iloc[train_index], y.iloc[test_index]"
   ],
   "metadata": {
    "collapsed": false
   }
  },
  {
   "cell_type": "code",
   "execution_count": 30,
   "outputs": [
    {
     "name": "stderr",
     "output_type": "stream",
     "text": [
      "C:\\Users\\amr20\\anaconda3\\lib\\site-packages\\sklearn\\linear_model\\_logistic.py:814: ConvergenceWarning: lbfgs failed to converge (status=1):\n",
      "STOP: TOTAL NO. of ITERATIONS REACHED LIMIT.\n",
      "\n",
      "Increase the number of iterations (max_iter) or scale the data as shown in:\n",
      "    https://scikit-learn.org/stable/modules/preprocessing.html\n",
      "Please also refer to the documentation for alternative solver options:\n",
      "    https://scikit-learn.org/stable/modules/linear_model.html#logistic-regression\n",
      "  n_iter_i = _check_optimize_result(\n"
     ]
    },
    {
     "data": {
      "text/plain": "LogisticRegression()"
     },
     "execution_count": 30,
     "metadata": {},
     "output_type": "execute_result"
    }
   ],
   "source": [
    "from sklearn.linear_model import LogisticRegression\n",
    "clf = LogisticRegression()\n",
    "clf.fit(X_train,y_train)"
   ],
   "metadata": {
    "collapsed": false
   }
  },
  {
   "cell_type": "code",
   "execution_count": 31,
   "outputs": [],
   "source": [
    "y_pred = clf.predict(X_test)"
   ],
   "metadata": {
    "collapsed": false
   }
  },
  {
   "cell_type": "code",
   "execution_count": 32,
   "outputs": [],
   "source": [
    "y_pred_train = clf.predict(X_train)"
   ],
   "metadata": {
    "collapsed": false
   }
  },
  {
   "cell_type": "code",
   "execution_count": 33,
   "outputs": [],
   "source": [
    "from sklearn.metrics import confusion_matrix, accuracy_score, precision_score, recall_score, f1_score\n",
    "acc = accuracy_score(y_test,y_pred)\n",
    "confusion_mat = confusion_matrix(y_test,y_pred)\n",
    "pre_score = precision_score(y_test,y_pred)\n",
    "recall = recall_score(y_test,y_pred)\n",
    "f1 = f1_score(y_test,y_pred)\n",
    "specificity_test = confusion_mat[0,0] / (confusion_mat[0,0] + confusion_mat[0,1])"
   ],
   "metadata": {
    "collapsed": false
   }
  },
  {
   "cell_type": "code",
   "execution_count": 34,
   "outputs": [
    {
     "name": "stdout",
     "output_type": "stream",
     "text": [
      "Accuracy Score = 0.9941937856118758\n",
      " Confusion Matrix = [[303935     13]\n",
      " [  2024  44859]]\n",
      " Precision Score = 0.9997102870386878\n",
      " Recall Score = 0.9568287012349892\n",
      " F1 Score = 0.9777995749550433\n",
      " Specificity Test = 0.9999572295261031\n"
     ]
    }
   ],
   "source": [
    "print(f'Accuracy Score = {acc}\\n Confusion Matrix = {confusion_mat}\\n Precision Score = {pre_score}\\n Recall Score = {recall}\\n F1 Score = {f1}\\n Specificity Test = {specificity_test}')"
   ],
   "metadata": {
    "collapsed": false
   }
  },
  {
   "cell_type": "code",
   "execution_count": 35,
   "outputs": [],
   "source": [
    "acc_train = accuracy_score(y_train,y_pred_train)\n",
    "confusion_mat_train = confusion_matrix(y_train,y_pred_train)\n",
    "pre_score_train = precision_score(y_train,y_pred_train)\n",
    "recall_train = recall_score(y_train,y_pred_train)\n",
    "f1_train = f1_score(y_train,y_pred_train)\n",
    "specificity_train = confusion_mat_train[0,0] / (confusion_mat_train[0,0] + confusion_mat_train[0,1])"
   ],
   "metadata": {
    "collapsed": false
   }
  },
  {
   "cell_type": "code",
   "execution_count": 36,
   "outputs": [
    {
     "name": "stdout",
     "output_type": "stream",
     "text": [
      "Accuracy Score = 0.9942037619252575\n",
      " Confusion Matrix = [[1214181      57]\n",
      " [   8077  181009]]\n",
      " Precision Score = 0.9996851976627307\n",
      " Recall Score = 0.9572839871804364\n",
      " F1 Score = 0.9780252436836759\n",
      " Specificity Test = 0.9999530569789448\n"
     ]
    }
   ],
   "source": [
    "print(f'Accuracy Score = {acc_train}\\n Confusion Matrix = {confusion_mat_train}\\n Precision Score = {pre_score_train}\\n Recall Score = {recall_train}\\n F1 Score = {f1_train}\\n Specificity Test = {specificity_train}')"
   ],
   "metadata": {
    "collapsed": false
   }
  },
  {
   "cell_type": "code",
   "execution_count": 37,
   "outputs": [
    {
     "data": {
      "text/plain": "0    1518186\n1     235969\nName: TX_FRAUD, dtype: int64"
     },
     "execution_count": 37,
     "metadata": {},
     "output_type": "execute_result"
    }
   ],
   "source": [
    "y.value_counts()"
   ],
   "metadata": {
    "collapsed": false
   }
  },
  {
   "cell_type": "code",
   "execution_count": 42,
   "outputs": [
    {
     "name": "stdout",
     "output_type": "stream",
     "text": [
      "Accuracy: 0.9941937856118758\n",
      "F1 Score: 0.9777995749550433\n",
      "Recall: 0.9568287012349892\n",
      "Precision: 0.9997102870386878\n",
      "Confusion Matrix:\n",
      " [[303935     13]\n",
      " [  2024  44859]]\n",
      "Specificity: 0.9999572295261031\n"
     ]
    }
   ],
   "source": [
    "from metrics import Classification\n",
    "Classification.test(y_test=y_test,y_pred_test=y_pred)"
   ],
   "metadata": {
    "collapsed": false
   }
  },
  {
   "cell_type": "code",
   "execution_count": 39,
   "outputs": [
    {
     "name": "stdout",
     "output_type": "stream",
     "text": [
      "Train Accuracy: 0.9942037619252575\n",
      "Train F1 Score: 0.9780252436836759\n",
      "Train Recall: 0.9572839871804364\n",
      "Train Precision: 0.9996851976627307\n",
      "Train Confusion Matrix:\n",
      " [[1214181      57]\n",
      " [   8077  181009]]\n",
      "Train Specificity: 0.9999530569789448\n"
     ]
    }
   ],
   "source": [
    "Classification.train(y_train=y_train,y_pred_train=y_pred_train)"
   ],
   "metadata": {
    "collapsed": false
   }
  },
  {
   "cell_type": "code",
   "execution_count": 44,
   "outputs": [
    {
     "name": "stdout",
     "output_type": "stream",
     "text": [
      "None\n"
     ]
    }
   ],
   "source": [],
   "metadata": {
    "collapsed": false
   }
  }
 ],
 "metadata": {
  "kernelspec": {
   "display_name": "Python 3",
   "language": "python",
   "name": "python3"
  },
  "language_info": {
   "codemirror_mode": {
    "name": "ipython",
    "version": 2
   },
   "file_extension": ".py",
   "mimetype": "text/x-python",
   "name": "python",
   "nbconvert_exporter": "python",
   "pygments_lexer": "ipython2",
   "version": "2.7.6"
  }
 },
 "nbformat": 4,
 "nbformat_minor": 0
}
