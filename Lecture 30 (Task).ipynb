{
 "cells": [
  {
   "cell_type": "code",
   "execution_count": 1,
   "metadata": {
    "collapsed": true
   },
   "outputs": [],
   "source": [
    "import pandas as pd\n",
    "import warnings\n",
    "import metrics\n",
    "warnings.filterwarnings(\"ignore\")"
   ]
  },
  {
   "cell_type": "code",
   "execution_count": 2,
   "outputs": [],
   "source": [
    "dataset = pd.read_csv('data/heart.csv')"
   ],
   "metadata": {
    "collapsed": false
   }
  },
  {
   "cell_type": "code",
   "execution_count": 3,
   "outputs": [
    {
     "data": {
      "text/plain": "     Age Sex ChestPainType  RestingBP  Cholesterol  FastingBS RestingECG  \\\n0     40   M           ATA        140          289          0     Normal   \n1     49   F           NAP        160          180          0     Normal   \n2     37   M           ATA        130          283          0         ST   \n3     48   F           ASY        138          214          0     Normal   \n4     54   M           NAP        150          195          0     Normal   \n..   ...  ..           ...        ...          ...        ...        ...   \n913   45   M            TA        110          264          0     Normal   \n914   68   M           ASY        144          193          1     Normal   \n915   57   M           ASY        130          131          0     Normal   \n916   57   F           ATA        130          236          0        LVH   \n917   38   M           NAP        138          175          0     Normal   \n\n     MaxHR ExerciseAngina  Oldpeak ST_Slope  HeartDisease  \n0      172              N      0.0       Up             0  \n1      156              N      1.0     Flat             1  \n2       98              N      0.0       Up             0  \n3      108              Y      1.5     Flat             1  \n4      122              N      0.0       Up             0  \n..     ...            ...      ...      ...           ...  \n913    132              N      1.2     Flat             1  \n914    141              N      3.4     Flat             1  \n915    115              Y      1.2     Flat             1  \n916    174              N      0.0     Flat             1  \n917    173              N      0.0       Up             0  \n\n[918 rows x 12 columns]",
      "text/html": "<div>\n<style scoped>\n    .dataframe tbody tr th:only-of-type {\n        vertical-align: middle;\n    }\n\n    .dataframe tbody tr th {\n        vertical-align: top;\n    }\n\n    .dataframe thead th {\n        text-align: right;\n    }\n</style>\n<table border=\"1\" class=\"dataframe\">\n  <thead>\n    <tr style=\"text-align: right;\">\n      <th></th>\n      <th>Age</th>\n      <th>Sex</th>\n      <th>ChestPainType</th>\n      <th>RestingBP</th>\n      <th>Cholesterol</th>\n      <th>FastingBS</th>\n      <th>RestingECG</th>\n      <th>MaxHR</th>\n      <th>ExerciseAngina</th>\n      <th>Oldpeak</th>\n      <th>ST_Slope</th>\n      <th>HeartDisease</th>\n    </tr>\n  </thead>\n  <tbody>\n    <tr>\n      <th>0</th>\n      <td>40</td>\n      <td>M</td>\n      <td>ATA</td>\n      <td>140</td>\n      <td>289</td>\n      <td>0</td>\n      <td>Normal</td>\n      <td>172</td>\n      <td>N</td>\n      <td>0.0</td>\n      <td>Up</td>\n      <td>0</td>\n    </tr>\n    <tr>\n      <th>1</th>\n      <td>49</td>\n      <td>F</td>\n      <td>NAP</td>\n      <td>160</td>\n      <td>180</td>\n      <td>0</td>\n      <td>Normal</td>\n      <td>156</td>\n      <td>N</td>\n      <td>1.0</td>\n      <td>Flat</td>\n      <td>1</td>\n    </tr>\n    <tr>\n      <th>2</th>\n      <td>37</td>\n      <td>M</td>\n      <td>ATA</td>\n      <td>130</td>\n      <td>283</td>\n      <td>0</td>\n      <td>ST</td>\n      <td>98</td>\n      <td>N</td>\n      <td>0.0</td>\n      <td>Up</td>\n      <td>0</td>\n    </tr>\n    <tr>\n      <th>3</th>\n      <td>48</td>\n      <td>F</td>\n      <td>ASY</td>\n      <td>138</td>\n      <td>214</td>\n      <td>0</td>\n      <td>Normal</td>\n      <td>108</td>\n      <td>Y</td>\n      <td>1.5</td>\n      <td>Flat</td>\n      <td>1</td>\n    </tr>\n    <tr>\n      <th>4</th>\n      <td>54</td>\n      <td>M</td>\n      <td>NAP</td>\n      <td>150</td>\n      <td>195</td>\n      <td>0</td>\n      <td>Normal</td>\n      <td>122</td>\n      <td>N</td>\n      <td>0.0</td>\n      <td>Up</td>\n      <td>0</td>\n    </tr>\n    <tr>\n      <th>...</th>\n      <td>...</td>\n      <td>...</td>\n      <td>...</td>\n      <td>...</td>\n      <td>...</td>\n      <td>...</td>\n      <td>...</td>\n      <td>...</td>\n      <td>...</td>\n      <td>...</td>\n      <td>...</td>\n      <td>...</td>\n    </tr>\n    <tr>\n      <th>913</th>\n      <td>45</td>\n      <td>M</td>\n      <td>TA</td>\n      <td>110</td>\n      <td>264</td>\n      <td>0</td>\n      <td>Normal</td>\n      <td>132</td>\n      <td>N</td>\n      <td>1.2</td>\n      <td>Flat</td>\n      <td>1</td>\n    </tr>\n    <tr>\n      <th>914</th>\n      <td>68</td>\n      <td>M</td>\n      <td>ASY</td>\n      <td>144</td>\n      <td>193</td>\n      <td>1</td>\n      <td>Normal</td>\n      <td>141</td>\n      <td>N</td>\n      <td>3.4</td>\n      <td>Flat</td>\n      <td>1</td>\n    </tr>\n    <tr>\n      <th>915</th>\n      <td>57</td>\n      <td>M</td>\n      <td>ASY</td>\n      <td>130</td>\n      <td>131</td>\n      <td>0</td>\n      <td>Normal</td>\n      <td>115</td>\n      <td>Y</td>\n      <td>1.2</td>\n      <td>Flat</td>\n      <td>1</td>\n    </tr>\n    <tr>\n      <th>916</th>\n      <td>57</td>\n      <td>F</td>\n      <td>ATA</td>\n      <td>130</td>\n      <td>236</td>\n      <td>0</td>\n      <td>LVH</td>\n      <td>174</td>\n      <td>N</td>\n      <td>0.0</td>\n      <td>Flat</td>\n      <td>1</td>\n    </tr>\n    <tr>\n      <th>917</th>\n      <td>38</td>\n      <td>M</td>\n      <td>NAP</td>\n      <td>138</td>\n      <td>175</td>\n      <td>0</td>\n      <td>Normal</td>\n      <td>173</td>\n      <td>N</td>\n      <td>0.0</td>\n      <td>Up</td>\n      <td>0</td>\n    </tr>\n  </tbody>\n</table>\n<p>918 rows × 12 columns</p>\n</div>"
     },
     "execution_count": 3,
     "metadata": {},
     "output_type": "execute_result"
    }
   ],
   "source": [
    "dataset"
   ],
   "metadata": {
    "collapsed": false
   }
  },
  {
   "cell_type": "code",
   "execution_count": 4,
   "outputs": [
    {
     "data": {
      "text/plain": "           Columns  n_uniques  \\\n0              Age         50   \n1              Sex          2   \n2    ChestPainType          4   \n3        RestingBP         67   \n4      Cholesterol        222   \n5        FastingBS          2   \n6       RestingECG          3   \n7            MaxHR        119   \n8   ExerciseAngina          2   \n9          Oldpeak         53   \n10        ST_Slope          3   \n11    HeartDisease          2   \n\n                                               unique   dtypes  NULLS  \n0   [40, 49, 37, 48, 54, 39, 45, 58, 42, 38, 43, 6...    int64      0  \n1                                              [M, F]   object      0  \n2                                 [ATA, NAP, ASY, TA]   object      0  \n3   [140, 160, 130, 138, 150, 120, 110, 136, 115, ...    int64      0  \n4   [289, 180, 283, 214, 195, 339, 237, 208, 207, ...    int64      0  \n5                                              [0, 1]    int64      0  \n6                                   [Normal, ST, LVH]   object      0  \n7   [172, 156, 98, 108, 122, 170, 142, 130, 120, 9...    int64      0  \n8                                              [N, Y]   object      0  \n9   [0.0, 1.0, 1.5, 2.0, 3.0, 4.0, 0.5, 2.5, 5.0, ...  float64      0  \n10                                   [Up, Flat, Down]   object      0  \n11                                             [0, 1]    int64      0  ",
      "text/html": "<div>\n<style scoped>\n    .dataframe tbody tr th:only-of-type {\n        vertical-align: middle;\n    }\n\n    .dataframe tbody tr th {\n        vertical-align: top;\n    }\n\n    .dataframe thead th {\n        text-align: right;\n    }\n</style>\n<table border=\"1\" class=\"dataframe\">\n  <thead>\n    <tr style=\"text-align: right;\">\n      <th></th>\n      <th>Columns</th>\n      <th>n_uniques</th>\n      <th>unique</th>\n      <th>dtypes</th>\n      <th>NULLS</th>\n    </tr>\n  </thead>\n  <tbody>\n    <tr>\n      <th>0</th>\n      <td>Age</td>\n      <td>50</td>\n      <td>[40, 49, 37, 48, 54, 39, 45, 58, 42, 38, 43, 6...</td>\n      <td>int64</td>\n      <td>0</td>\n    </tr>\n    <tr>\n      <th>1</th>\n      <td>Sex</td>\n      <td>2</td>\n      <td>[M, F]</td>\n      <td>object</td>\n      <td>0</td>\n    </tr>\n    <tr>\n      <th>2</th>\n      <td>ChestPainType</td>\n      <td>4</td>\n      <td>[ATA, NAP, ASY, TA]</td>\n      <td>object</td>\n      <td>0</td>\n    </tr>\n    <tr>\n      <th>3</th>\n      <td>RestingBP</td>\n      <td>67</td>\n      <td>[140, 160, 130, 138, 150, 120, 110, 136, 115, ...</td>\n      <td>int64</td>\n      <td>0</td>\n    </tr>\n    <tr>\n      <th>4</th>\n      <td>Cholesterol</td>\n      <td>222</td>\n      <td>[289, 180, 283, 214, 195, 339, 237, 208, 207, ...</td>\n      <td>int64</td>\n      <td>0</td>\n    </tr>\n    <tr>\n      <th>5</th>\n      <td>FastingBS</td>\n      <td>2</td>\n      <td>[0, 1]</td>\n      <td>int64</td>\n      <td>0</td>\n    </tr>\n    <tr>\n      <th>6</th>\n      <td>RestingECG</td>\n      <td>3</td>\n      <td>[Normal, ST, LVH]</td>\n      <td>object</td>\n      <td>0</td>\n    </tr>\n    <tr>\n      <th>7</th>\n      <td>MaxHR</td>\n      <td>119</td>\n      <td>[172, 156, 98, 108, 122, 170, 142, 130, 120, 9...</td>\n      <td>int64</td>\n      <td>0</td>\n    </tr>\n    <tr>\n      <th>8</th>\n      <td>ExerciseAngina</td>\n      <td>2</td>\n      <td>[N, Y]</td>\n      <td>object</td>\n      <td>0</td>\n    </tr>\n    <tr>\n      <th>9</th>\n      <td>Oldpeak</td>\n      <td>53</td>\n      <td>[0.0, 1.0, 1.5, 2.0, 3.0, 4.0, 0.5, 2.5, 5.0, ...</td>\n      <td>float64</td>\n      <td>0</td>\n    </tr>\n    <tr>\n      <th>10</th>\n      <td>ST_Slope</td>\n      <td>3</td>\n      <td>[Up, Flat, Down]</td>\n      <td>object</td>\n      <td>0</td>\n    </tr>\n    <tr>\n      <th>11</th>\n      <td>HeartDisease</td>\n      <td>2</td>\n      <td>[0, 1]</td>\n      <td>int64</td>\n      <td>0</td>\n    </tr>\n  </tbody>\n</table>\n</div>"
     },
     "execution_count": 4,
     "metadata": {},
     "output_type": "execute_result"
    }
   ],
   "source": [
    "metrics.data_info(dataset)"
   ],
   "metadata": {
    "collapsed": false
   }
  },
  {
   "cell_type": "code",
   "execution_count": 5,
   "outputs": [],
   "source": [
    "dataset = pd.get_dummies(dataset, drop_first=True)"
   ],
   "metadata": {
    "collapsed": false
   }
  },
  {
   "cell_type": "code",
   "execution_count": 6,
   "outputs": [
    {
     "data": {
      "text/plain": "              Columns  n_uniques  \\\n0                 Age         50   \n1           RestingBP         67   \n2         Cholesterol        222   \n3           FastingBS          2   \n4               MaxHR        119   \n5             Oldpeak         53   \n6        HeartDisease          2   \n7               Sex_M          2   \n8   ChestPainType_ATA          2   \n9   ChestPainType_NAP          2   \n10   ChestPainType_TA          2   \n11  RestingECG_Normal          2   \n12      RestingECG_ST          2   \n13   ExerciseAngina_Y          2   \n14      ST_Slope_Flat          2   \n15        ST_Slope_Up          2   \n\n                                               unique   dtypes  NULLS  \n0   [40, 49, 37, 48, 54, 39, 45, 58, 42, 38, 43, 6...    int64      0  \n1   [140, 160, 130, 138, 150, 120, 110, 136, 115, ...    int64      0  \n2   [289, 180, 283, 214, 195, 339, 237, 208, 207, ...    int64      0  \n3                                              [0, 1]    int64      0  \n4   [172, 156, 98, 108, 122, 170, 142, 130, 120, 9...    int64      0  \n5   [0.0, 1.0, 1.5, 2.0, 3.0, 4.0, 0.5, 2.5, 5.0, ...  float64      0  \n6                                              [0, 1]    int64      0  \n7                                              [1, 0]    uint8      0  \n8                                              [1, 0]    uint8      0  \n9                                              [0, 1]    uint8      0  \n10                                             [0, 1]    uint8      0  \n11                                             [1, 0]    uint8      0  \n12                                             [0, 1]    uint8      0  \n13                                             [0, 1]    uint8      0  \n14                                             [0, 1]    uint8      0  \n15                                             [1, 0]    uint8      0  ",
      "text/html": "<div>\n<style scoped>\n    .dataframe tbody tr th:only-of-type {\n        vertical-align: middle;\n    }\n\n    .dataframe tbody tr th {\n        vertical-align: top;\n    }\n\n    .dataframe thead th {\n        text-align: right;\n    }\n</style>\n<table border=\"1\" class=\"dataframe\">\n  <thead>\n    <tr style=\"text-align: right;\">\n      <th></th>\n      <th>Columns</th>\n      <th>n_uniques</th>\n      <th>unique</th>\n      <th>dtypes</th>\n      <th>NULLS</th>\n    </tr>\n  </thead>\n  <tbody>\n    <tr>\n      <th>0</th>\n      <td>Age</td>\n      <td>50</td>\n      <td>[40, 49, 37, 48, 54, 39, 45, 58, 42, 38, 43, 6...</td>\n      <td>int64</td>\n      <td>0</td>\n    </tr>\n    <tr>\n      <th>1</th>\n      <td>RestingBP</td>\n      <td>67</td>\n      <td>[140, 160, 130, 138, 150, 120, 110, 136, 115, ...</td>\n      <td>int64</td>\n      <td>0</td>\n    </tr>\n    <tr>\n      <th>2</th>\n      <td>Cholesterol</td>\n      <td>222</td>\n      <td>[289, 180, 283, 214, 195, 339, 237, 208, 207, ...</td>\n      <td>int64</td>\n      <td>0</td>\n    </tr>\n    <tr>\n      <th>3</th>\n      <td>FastingBS</td>\n      <td>2</td>\n      <td>[0, 1]</td>\n      <td>int64</td>\n      <td>0</td>\n    </tr>\n    <tr>\n      <th>4</th>\n      <td>MaxHR</td>\n      <td>119</td>\n      <td>[172, 156, 98, 108, 122, 170, 142, 130, 120, 9...</td>\n      <td>int64</td>\n      <td>0</td>\n    </tr>\n    <tr>\n      <th>5</th>\n      <td>Oldpeak</td>\n      <td>53</td>\n      <td>[0.0, 1.0, 1.5, 2.0, 3.0, 4.0, 0.5, 2.5, 5.0, ...</td>\n      <td>float64</td>\n      <td>0</td>\n    </tr>\n    <tr>\n      <th>6</th>\n      <td>HeartDisease</td>\n      <td>2</td>\n      <td>[0, 1]</td>\n      <td>int64</td>\n      <td>0</td>\n    </tr>\n    <tr>\n      <th>7</th>\n      <td>Sex_M</td>\n      <td>2</td>\n      <td>[1, 0]</td>\n      <td>uint8</td>\n      <td>0</td>\n    </tr>\n    <tr>\n      <th>8</th>\n      <td>ChestPainType_ATA</td>\n      <td>2</td>\n      <td>[1, 0]</td>\n      <td>uint8</td>\n      <td>0</td>\n    </tr>\n    <tr>\n      <th>9</th>\n      <td>ChestPainType_NAP</td>\n      <td>2</td>\n      <td>[0, 1]</td>\n      <td>uint8</td>\n      <td>0</td>\n    </tr>\n    <tr>\n      <th>10</th>\n      <td>ChestPainType_TA</td>\n      <td>2</td>\n      <td>[0, 1]</td>\n      <td>uint8</td>\n      <td>0</td>\n    </tr>\n    <tr>\n      <th>11</th>\n      <td>RestingECG_Normal</td>\n      <td>2</td>\n      <td>[1, 0]</td>\n      <td>uint8</td>\n      <td>0</td>\n    </tr>\n    <tr>\n      <th>12</th>\n      <td>RestingECG_ST</td>\n      <td>2</td>\n      <td>[0, 1]</td>\n      <td>uint8</td>\n      <td>0</td>\n    </tr>\n    <tr>\n      <th>13</th>\n      <td>ExerciseAngina_Y</td>\n      <td>2</td>\n      <td>[0, 1]</td>\n      <td>uint8</td>\n      <td>0</td>\n    </tr>\n    <tr>\n      <th>14</th>\n      <td>ST_Slope_Flat</td>\n      <td>2</td>\n      <td>[0, 1]</td>\n      <td>uint8</td>\n      <td>0</td>\n    </tr>\n    <tr>\n      <th>15</th>\n      <td>ST_Slope_Up</td>\n      <td>2</td>\n      <td>[1, 0]</td>\n      <td>uint8</td>\n      <td>0</td>\n    </tr>\n  </tbody>\n</table>\n</div>"
     },
     "execution_count": 6,
     "metadata": {},
     "output_type": "execute_result"
    }
   ],
   "source": [
    "metrics.data_info(dataset)"
   ],
   "metadata": {
    "collapsed": false
   }
  },
  {
   "cell_type": "code",
   "execution_count": 7,
   "outputs": [
    {
     "data": {
      "text/plain": "              Age   RestingBP  Cholesterol   FastingBS       MaxHR  \\\ncount  918.000000  918.000000   918.000000  918.000000  918.000000   \nmean    53.510893  132.396514   198.799564    0.233115  136.809368   \nstd      9.432617   18.514154   109.384145    0.423046   25.460334   \nmin     28.000000    0.000000     0.000000    0.000000   60.000000   \n25%     47.000000  120.000000   173.250000    0.000000  120.000000   \n50%     54.000000  130.000000   223.000000    0.000000  138.000000   \n75%     60.000000  140.000000   267.000000    0.000000  156.000000   \nmax     77.000000  200.000000   603.000000    1.000000  202.000000   \n\n          Oldpeak  HeartDisease       Sex_M  ChestPainType_ATA  \\\ncount  918.000000    918.000000  918.000000         918.000000   \nmean     0.887364      0.553377    0.789760           0.188453   \nstd      1.066570      0.497414    0.407701           0.391287   \nmin     -2.600000      0.000000    0.000000           0.000000   \n25%      0.000000      0.000000    1.000000           0.000000   \n50%      0.600000      1.000000    1.000000           0.000000   \n75%      1.500000      1.000000    1.000000           0.000000   \nmax      6.200000      1.000000    1.000000           1.000000   \n\n       ChestPainType_NAP  ChestPainType_TA  RestingECG_Normal  RestingECG_ST  \\\ncount         918.000000        918.000000         918.000000     918.000000   \nmean            0.221133          0.050109           0.601307       0.193900   \nstd             0.415236          0.218289           0.489896       0.395567   \nmin             0.000000          0.000000           0.000000       0.000000   \n25%             0.000000          0.000000           0.000000       0.000000   \n50%             0.000000          0.000000           1.000000       0.000000   \n75%             0.000000          0.000000           1.000000       0.000000   \nmax             1.000000          1.000000           1.000000       1.000000   \n\n       ExerciseAngina_Y  ST_Slope_Flat  ST_Slope_Up  \ncount        918.000000     918.000000   918.000000  \nmean           0.404139       0.501089     0.430283  \nstd            0.490992       0.500271     0.495386  \nmin            0.000000       0.000000     0.000000  \n25%            0.000000       0.000000     0.000000  \n50%            0.000000       1.000000     0.000000  \n75%            1.000000       1.000000     1.000000  \nmax            1.000000       1.000000     1.000000  ",
      "text/html": "<div>\n<style scoped>\n    .dataframe tbody tr th:only-of-type {\n        vertical-align: middle;\n    }\n\n    .dataframe tbody tr th {\n        vertical-align: top;\n    }\n\n    .dataframe thead th {\n        text-align: right;\n    }\n</style>\n<table border=\"1\" class=\"dataframe\">\n  <thead>\n    <tr style=\"text-align: right;\">\n      <th></th>\n      <th>Age</th>\n      <th>RestingBP</th>\n      <th>Cholesterol</th>\n      <th>FastingBS</th>\n      <th>MaxHR</th>\n      <th>Oldpeak</th>\n      <th>HeartDisease</th>\n      <th>Sex_M</th>\n      <th>ChestPainType_ATA</th>\n      <th>ChestPainType_NAP</th>\n      <th>ChestPainType_TA</th>\n      <th>RestingECG_Normal</th>\n      <th>RestingECG_ST</th>\n      <th>ExerciseAngina_Y</th>\n      <th>ST_Slope_Flat</th>\n      <th>ST_Slope_Up</th>\n    </tr>\n  </thead>\n  <tbody>\n    <tr>\n      <th>count</th>\n      <td>918.000000</td>\n      <td>918.000000</td>\n      <td>918.000000</td>\n      <td>918.000000</td>\n      <td>918.000000</td>\n      <td>918.000000</td>\n      <td>918.000000</td>\n      <td>918.000000</td>\n      <td>918.000000</td>\n      <td>918.000000</td>\n      <td>918.000000</td>\n      <td>918.000000</td>\n      <td>918.000000</td>\n      <td>918.000000</td>\n      <td>918.000000</td>\n      <td>918.000000</td>\n    </tr>\n    <tr>\n      <th>mean</th>\n      <td>53.510893</td>\n      <td>132.396514</td>\n      <td>198.799564</td>\n      <td>0.233115</td>\n      <td>136.809368</td>\n      <td>0.887364</td>\n      <td>0.553377</td>\n      <td>0.789760</td>\n      <td>0.188453</td>\n      <td>0.221133</td>\n      <td>0.050109</td>\n      <td>0.601307</td>\n      <td>0.193900</td>\n      <td>0.404139</td>\n      <td>0.501089</td>\n      <td>0.430283</td>\n    </tr>\n    <tr>\n      <th>std</th>\n      <td>9.432617</td>\n      <td>18.514154</td>\n      <td>109.384145</td>\n      <td>0.423046</td>\n      <td>25.460334</td>\n      <td>1.066570</td>\n      <td>0.497414</td>\n      <td>0.407701</td>\n      <td>0.391287</td>\n      <td>0.415236</td>\n      <td>0.218289</td>\n      <td>0.489896</td>\n      <td>0.395567</td>\n      <td>0.490992</td>\n      <td>0.500271</td>\n      <td>0.495386</td>\n    </tr>\n    <tr>\n      <th>min</th>\n      <td>28.000000</td>\n      <td>0.000000</td>\n      <td>0.000000</td>\n      <td>0.000000</td>\n      <td>60.000000</td>\n      <td>-2.600000</td>\n      <td>0.000000</td>\n      <td>0.000000</td>\n      <td>0.000000</td>\n      <td>0.000000</td>\n      <td>0.000000</td>\n      <td>0.000000</td>\n      <td>0.000000</td>\n      <td>0.000000</td>\n      <td>0.000000</td>\n      <td>0.000000</td>\n    </tr>\n    <tr>\n      <th>25%</th>\n      <td>47.000000</td>\n      <td>120.000000</td>\n      <td>173.250000</td>\n      <td>0.000000</td>\n      <td>120.000000</td>\n      <td>0.000000</td>\n      <td>0.000000</td>\n      <td>1.000000</td>\n      <td>0.000000</td>\n      <td>0.000000</td>\n      <td>0.000000</td>\n      <td>0.000000</td>\n      <td>0.000000</td>\n      <td>0.000000</td>\n      <td>0.000000</td>\n      <td>0.000000</td>\n    </tr>\n    <tr>\n      <th>50%</th>\n      <td>54.000000</td>\n      <td>130.000000</td>\n      <td>223.000000</td>\n      <td>0.000000</td>\n      <td>138.000000</td>\n      <td>0.600000</td>\n      <td>1.000000</td>\n      <td>1.000000</td>\n      <td>0.000000</td>\n      <td>0.000000</td>\n      <td>0.000000</td>\n      <td>1.000000</td>\n      <td>0.000000</td>\n      <td>0.000000</td>\n      <td>1.000000</td>\n      <td>0.000000</td>\n    </tr>\n    <tr>\n      <th>75%</th>\n      <td>60.000000</td>\n      <td>140.000000</td>\n      <td>267.000000</td>\n      <td>0.000000</td>\n      <td>156.000000</td>\n      <td>1.500000</td>\n      <td>1.000000</td>\n      <td>1.000000</td>\n      <td>0.000000</td>\n      <td>0.000000</td>\n      <td>0.000000</td>\n      <td>1.000000</td>\n      <td>0.000000</td>\n      <td>1.000000</td>\n      <td>1.000000</td>\n      <td>1.000000</td>\n    </tr>\n    <tr>\n      <th>max</th>\n      <td>77.000000</td>\n      <td>200.000000</td>\n      <td>603.000000</td>\n      <td>1.000000</td>\n      <td>202.000000</td>\n      <td>6.200000</td>\n      <td>1.000000</td>\n      <td>1.000000</td>\n      <td>1.000000</td>\n      <td>1.000000</td>\n      <td>1.000000</td>\n      <td>1.000000</td>\n      <td>1.000000</td>\n      <td>1.000000</td>\n      <td>1.000000</td>\n      <td>1.000000</td>\n    </tr>\n  </tbody>\n</table>\n</div>"
     },
     "execution_count": 7,
     "metadata": {},
     "output_type": "execute_result"
    }
   ],
   "source": [
    "dataset.describe()"
   ],
   "metadata": {
    "collapsed": false
   }
  },
  {
   "cell_type": "code",
   "execution_count": 8,
   "outputs": [],
   "source": [
    "X = dataset.iloc[:, :-1].values\n",
    "y = dataset.iloc[:, -1].values"
   ],
   "metadata": {
    "collapsed": false
   }
  },
  {
   "cell_type": "code",
   "execution_count": 9,
   "outputs": [],
   "source": [
    "from sklearn.model_selection import train_test_split\n",
    "X_train, X_test, y_train, y_test = train_test_split(X, y, test_size = 0.1, random_state = 0)"
   ],
   "metadata": {
    "collapsed": false
   }
  },
  {
   "cell_type": "code",
   "execution_count": 10,
   "outputs": [],
   "source": [
    "from sklearn.linear_model import LogisticRegression\n",
    "from sklearn.neighbors import KNeighborsClassifier\n",
    "from sklearn.tree import DecisionTreeClassifier\n",
    "from sklearn.svm import SVC\n",
    "model = LogisticRegression()"
   ],
   "metadata": {
    "collapsed": false
   }
  },
  {
   "cell_type": "code",
   "execution_count": 11,
   "outputs": [
    {
     "data": {
      "text/plain": "LogisticRegression()"
     },
     "execution_count": 11,
     "metadata": {},
     "output_type": "execute_result"
    }
   ],
   "source": [
    "model.fit(X_train, y_train)"
   ],
   "metadata": {
    "collapsed": false
   }
  },
  {
   "cell_type": "code",
   "execution_count": 12,
   "outputs": [
    {
     "data": {
      "text/plain": "0.967391304347826"
     },
     "execution_count": 12,
     "metadata": {},
     "output_type": "execute_result"
    }
   ],
   "source": [
    "model.score(X_test, y_test)"
   ],
   "metadata": {
    "collapsed": false
   }
  },
  {
   "cell_type": "code",
   "execution_count": 13,
   "outputs": [
    {
     "data": {
      "text/plain": "0.9539951573849879"
     },
     "execution_count": 13,
     "metadata": {},
     "output_type": "execute_result"
    }
   ],
   "source": [
    "model.score(X_train, y_train)"
   ],
   "metadata": {
    "collapsed": false
   }
  },
  {
   "cell_type": "code",
   "execution_count": 14,
   "outputs": [],
   "source": [
    "y_pred = model.predict(X_test)\n",
    "y_pred_train = model.predict(X_train)"
   ],
   "metadata": {
    "collapsed": false
   }
  },
  {
   "cell_type": "code",
   "execution_count": 15,
   "outputs": [
    {
     "name": "stdout",
     "output_type": "stream",
     "text": [
      "Accuracy: 0.967391304347826\n",
      "F1 Score: 0.9577464788732395\n",
      "Recall: 0.918918918918919\n",
      "Precision: 1.0\n",
      "Confusion Matrix:\n",
      " [[55  0]\n",
      " [ 3 34]]\n",
      "Specificity: 1.0\n"
     ]
    }
   ],
   "source": [
    "metrics.Classification.test(y_test, y_pred)"
   ],
   "metadata": {
    "collapsed": false
   }
  },
  {
   "cell_type": "code",
   "execution_count": 16,
   "outputs": [
    {
     "name": "stdout",
     "output_type": "stream",
     "text": [
      "Train Accuracy: 0.9539951573849879\n",
      "Train F1 Score: 0.9473684210526315\n",
      "Train Recall: 0.9553072625698324\n",
      "Train Precision: 0.9395604395604396\n",
      "Train Confusion Matrix:\n",
      " [[446  22]\n",
      " [ 16 342]]\n",
      "Train Specificity: 0.9529914529914529\n"
     ]
    }
   ],
   "source": [
    "metrics.Classification.train(y_train, y_pred_train)"
   ],
   "metadata": {
    "collapsed": false
   }
  },
  {
   "cell_type": "code",
   "execution_count": 16,
   "outputs": [],
   "source": [],
   "metadata": {
    "collapsed": false
   }
  }
 ],
 "metadata": {
  "kernelspec": {
   "display_name": "Python 3",
   "language": "python",
   "name": "python3"
  },
  "language_info": {
   "codemirror_mode": {
    "name": "ipython",
    "version": 2
   },
   "file_extension": ".py",
   "mimetype": "text/x-python",
   "name": "python",
   "nbconvert_exporter": "python",
   "pygments_lexer": "ipython2",
   "version": "2.7.6"
  }
 },
 "nbformat": 4,
 "nbformat_minor": 0
}
