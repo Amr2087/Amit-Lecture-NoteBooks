{
 "cells": [
  {
   "cell_type": "code",
   "execution_count": 2,
   "outputs": [],
   "source": [
    "import numpy as np\n",
    "import pandas as pd\n",
    "import matplotlib.pyplot as plt\n",
    "import seaborn as sns"
   ],
   "metadata": {
    "collapsed": false
   }
  },
  {
   "cell_type": "code",
   "execution_count": 3,
   "outputs": [],
   "source": [
    "data = pd.read_csv('data/heart.csv.xls')"
   ],
   "metadata": {
    "collapsed": false
   }
  },
  {
   "cell_type": "code",
   "execution_count": 4,
   "outputs": [
    {
     "data": {
      "text/plain": "      age  sex  cp  trestbps  chol  fbs  restecg  thalach  exang  oldpeak  \\\n0      52    1   0       125   212    0        1      168      0      1.0   \n1      53    1   0       140   203    1        0      155      1      3.1   \n2      70    1   0       145   174    0        1      125      1      2.6   \n3      61    1   0       148   203    0        1      161      0      0.0   \n4      62    0   0       138   294    1        1      106      0      1.9   \n...   ...  ...  ..       ...   ...  ...      ...      ...    ...      ...   \n1020   59    1   1       140   221    0        1      164      1      0.0   \n1021   60    1   0       125   258    0        0      141      1      2.8   \n1022   47    1   0       110   275    0        0      118      1      1.0   \n1023   50    0   0       110   254    0        0      159      0      0.0   \n1024   54    1   0       120   188    0        1      113      0      1.4   \n\n      slope  ca  thal  target  \n0         2   2     3       0  \n1         0   0     3       0  \n2         0   0     3       0  \n3         2   1     3       0  \n4         1   3     2       0  \n...     ...  ..   ...     ...  \n1020      2   0     2       1  \n1021      1   1     3       0  \n1022      1   1     2       0  \n1023      2   0     2       1  \n1024      1   1     3       0  \n\n[1025 rows x 14 columns]",
      "text/html": "<div>\n<style scoped>\n    .dataframe tbody tr th:only-of-type {\n        vertical-align: middle;\n    }\n\n    .dataframe tbody tr th {\n        vertical-align: top;\n    }\n\n    .dataframe thead th {\n        text-align: right;\n    }\n</style>\n<table border=\"1\" class=\"dataframe\">\n  <thead>\n    <tr style=\"text-align: right;\">\n      <th></th>\n      <th>age</th>\n      <th>sex</th>\n      <th>cp</th>\n      <th>trestbps</th>\n      <th>chol</th>\n      <th>fbs</th>\n      <th>restecg</th>\n      <th>thalach</th>\n      <th>exang</th>\n      <th>oldpeak</th>\n      <th>slope</th>\n      <th>ca</th>\n      <th>thal</th>\n      <th>target</th>\n    </tr>\n  </thead>\n  <tbody>\n    <tr>\n      <th>0</th>\n      <td>52</td>\n      <td>1</td>\n      <td>0</td>\n      <td>125</td>\n      <td>212</td>\n      <td>0</td>\n      <td>1</td>\n      <td>168</td>\n      <td>0</td>\n      <td>1.0</td>\n      <td>2</td>\n      <td>2</td>\n      <td>3</td>\n      <td>0</td>\n    </tr>\n    <tr>\n      <th>1</th>\n      <td>53</td>\n      <td>1</td>\n      <td>0</td>\n      <td>140</td>\n      <td>203</td>\n      <td>1</td>\n      <td>0</td>\n      <td>155</td>\n      <td>1</td>\n      <td>3.1</td>\n      <td>0</td>\n      <td>0</td>\n      <td>3</td>\n      <td>0</td>\n    </tr>\n    <tr>\n      <th>2</th>\n      <td>70</td>\n      <td>1</td>\n      <td>0</td>\n      <td>145</td>\n      <td>174</td>\n      <td>0</td>\n      <td>1</td>\n      <td>125</td>\n      <td>1</td>\n      <td>2.6</td>\n      <td>0</td>\n      <td>0</td>\n      <td>3</td>\n      <td>0</td>\n    </tr>\n    <tr>\n      <th>3</th>\n      <td>61</td>\n      <td>1</td>\n      <td>0</td>\n      <td>148</td>\n      <td>203</td>\n      <td>0</td>\n      <td>1</td>\n      <td>161</td>\n      <td>0</td>\n      <td>0.0</td>\n      <td>2</td>\n      <td>1</td>\n      <td>3</td>\n      <td>0</td>\n    </tr>\n    <tr>\n      <th>4</th>\n      <td>62</td>\n      <td>0</td>\n      <td>0</td>\n      <td>138</td>\n      <td>294</td>\n      <td>1</td>\n      <td>1</td>\n      <td>106</td>\n      <td>0</td>\n      <td>1.9</td>\n      <td>1</td>\n      <td>3</td>\n      <td>2</td>\n      <td>0</td>\n    </tr>\n    <tr>\n      <th>...</th>\n      <td>...</td>\n      <td>...</td>\n      <td>...</td>\n      <td>...</td>\n      <td>...</td>\n      <td>...</td>\n      <td>...</td>\n      <td>...</td>\n      <td>...</td>\n      <td>...</td>\n      <td>...</td>\n      <td>...</td>\n      <td>...</td>\n      <td>...</td>\n    </tr>\n    <tr>\n      <th>1020</th>\n      <td>59</td>\n      <td>1</td>\n      <td>1</td>\n      <td>140</td>\n      <td>221</td>\n      <td>0</td>\n      <td>1</td>\n      <td>164</td>\n      <td>1</td>\n      <td>0.0</td>\n      <td>2</td>\n      <td>0</td>\n      <td>2</td>\n      <td>1</td>\n    </tr>\n    <tr>\n      <th>1021</th>\n      <td>60</td>\n      <td>1</td>\n      <td>0</td>\n      <td>125</td>\n      <td>258</td>\n      <td>0</td>\n      <td>0</td>\n      <td>141</td>\n      <td>1</td>\n      <td>2.8</td>\n      <td>1</td>\n      <td>1</td>\n      <td>3</td>\n      <td>0</td>\n    </tr>\n    <tr>\n      <th>1022</th>\n      <td>47</td>\n      <td>1</td>\n      <td>0</td>\n      <td>110</td>\n      <td>275</td>\n      <td>0</td>\n      <td>0</td>\n      <td>118</td>\n      <td>1</td>\n      <td>1.0</td>\n      <td>1</td>\n      <td>1</td>\n      <td>2</td>\n      <td>0</td>\n    </tr>\n    <tr>\n      <th>1023</th>\n      <td>50</td>\n      <td>0</td>\n      <td>0</td>\n      <td>110</td>\n      <td>254</td>\n      <td>0</td>\n      <td>0</td>\n      <td>159</td>\n      <td>0</td>\n      <td>0.0</td>\n      <td>2</td>\n      <td>0</td>\n      <td>2</td>\n      <td>1</td>\n    </tr>\n    <tr>\n      <th>1024</th>\n      <td>54</td>\n      <td>1</td>\n      <td>0</td>\n      <td>120</td>\n      <td>188</td>\n      <td>0</td>\n      <td>1</td>\n      <td>113</td>\n      <td>0</td>\n      <td>1.4</td>\n      <td>1</td>\n      <td>1</td>\n      <td>3</td>\n      <td>0</td>\n    </tr>\n  </tbody>\n</table>\n<p>1025 rows × 14 columns</p>\n</div>"
     },
     "execution_count": 4,
     "metadata": {},
     "output_type": "execute_result"
    }
   ],
   "source": [
    "data"
   ],
   "metadata": {
    "collapsed": false
   }
  },
  {
   "cell_type": "code",
   "execution_count": 5,
   "outputs": [
    {
     "data": {
      "text/plain": "0       False\n1       False\n2       False\n3       False\n4       False\n        ...  \n1020     True\n1021     True\n1022     True\n1023     True\n1024     True\nLength: 1025, dtype: bool"
     },
     "execution_count": 5,
     "metadata": {},
     "output_type": "execute_result"
    }
   ],
   "source": [
    "data.duplicated()"
   ],
   "metadata": {
    "collapsed": false
   }
  },
  {
   "cell_type": "code",
   "execution_count": 6,
   "outputs": [],
   "source": [
    "data.drop_duplicates(inplace=True)"
   ],
   "metadata": {
    "collapsed": false
   }
  },
  {
   "cell_type": "code",
   "execution_count": 7,
   "outputs": [
    {
     "data": {
      "text/plain": "     age  sex  cp  trestbps  chol  fbs  restecg  thalach  exang  oldpeak  \\\n0     52    1   0       125   212    0        1      168      0      1.0   \n1     53    1   0       140   203    1        0      155      1      3.1   \n2     70    1   0       145   174    0        1      125      1      2.6   \n3     61    1   0       148   203    0        1      161      0      0.0   \n4     62    0   0       138   294    1        1      106      0      1.9   \n..   ...  ...  ..       ...   ...  ...      ...      ...    ...      ...   \n723   68    0   2       120   211    0        0      115      0      1.5   \n733   44    0   2       108   141    0        1      175      0      0.6   \n739   52    1   0       128   255    0        1      161      1      0.0   \n843   59    1   3       160   273    0        0      125      0      0.0   \n878   54    1   0       120   188    0        1      113      0      1.4   \n\n     slope  ca  thal  target  \n0        2   2     3       0  \n1        0   0     3       0  \n2        0   0     3       0  \n3        2   1     3       0  \n4        1   3     2       0  \n..     ...  ..   ...     ...  \n723      1   0     2       1  \n733      1   0     2       1  \n739      2   1     3       0  \n843      2   0     2       0  \n878      1   1     3       0  \n\n[302 rows x 14 columns]",
      "text/html": "<div>\n<style scoped>\n    .dataframe tbody tr th:only-of-type {\n        vertical-align: middle;\n    }\n\n    .dataframe tbody tr th {\n        vertical-align: top;\n    }\n\n    .dataframe thead th {\n        text-align: right;\n    }\n</style>\n<table border=\"1\" class=\"dataframe\">\n  <thead>\n    <tr style=\"text-align: right;\">\n      <th></th>\n      <th>age</th>\n      <th>sex</th>\n      <th>cp</th>\n      <th>trestbps</th>\n      <th>chol</th>\n      <th>fbs</th>\n      <th>restecg</th>\n      <th>thalach</th>\n      <th>exang</th>\n      <th>oldpeak</th>\n      <th>slope</th>\n      <th>ca</th>\n      <th>thal</th>\n      <th>target</th>\n    </tr>\n  </thead>\n  <tbody>\n    <tr>\n      <th>0</th>\n      <td>52</td>\n      <td>1</td>\n      <td>0</td>\n      <td>125</td>\n      <td>212</td>\n      <td>0</td>\n      <td>1</td>\n      <td>168</td>\n      <td>0</td>\n      <td>1.0</td>\n      <td>2</td>\n      <td>2</td>\n      <td>3</td>\n      <td>0</td>\n    </tr>\n    <tr>\n      <th>1</th>\n      <td>53</td>\n      <td>1</td>\n      <td>0</td>\n      <td>140</td>\n      <td>203</td>\n      <td>1</td>\n      <td>0</td>\n      <td>155</td>\n      <td>1</td>\n      <td>3.1</td>\n      <td>0</td>\n      <td>0</td>\n      <td>3</td>\n      <td>0</td>\n    </tr>\n    <tr>\n      <th>2</th>\n      <td>70</td>\n      <td>1</td>\n      <td>0</td>\n      <td>145</td>\n      <td>174</td>\n      <td>0</td>\n      <td>1</td>\n      <td>125</td>\n      <td>1</td>\n      <td>2.6</td>\n      <td>0</td>\n      <td>0</td>\n      <td>3</td>\n      <td>0</td>\n    </tr>\n    <tr>\n      <th>3</th>\n      <td>61</td>\n      <td>1</td>\n      <td>0</td>\n      <td>148</td>\n      <td>203</td>\n      <td>0</td>\n      <td>1</td>\n      <td>161</td>\n      <td>0</td>\n      <td>0.0</td>\n      <td>2</td>\n      <td>1</td>\n      <td>3</td>\n      <td>0</td>\n    </tr>\n    <tr>\n      <th>4</th>\n      <td>62</td>\n      <td>0</td>\n      <td>0</td>\n      <td>138</td>\n      <td>294</td>\n      <td>1</td>\n      <td>1</td>\n      <td>106</td>\n      <td>0</td>\n      <td>1.9</td>\n      <td>1</td>\n      <td>3</td>\n      <td>2</td>\n      <td>0</td>\n    </tr>\n    <tr>\n      <th>...</th>\n      <td>...</td>\n      <td>...</td>\n      <td>...</td>\n      <td>...</td>\n      <td>...</td>\n      <td>...</td>\n      <td>...</td>\n      <td>...</td>\n      <td>...</td>\n      <td>...</td>\n      <td>...</td>\n      <td>...</td>\n      <td>...</td>\n      <td>...</td>\n    </tr>\n    <tr>\n      <th>723</th>\n      <td>68</td>\n      <td>0</td>\n      <td>2</td>\n      <td>120</td>\n      <td>211</td>\n      <td>0</td>\n      <td>0</td>\n      <td>115</td>\n      <td>0</td>\n      <td>1.5</td>\n      <td>1</td>\n      <td>0</td>\n      <td>2</td>\n      <td>1</td>\n    </tr>\n    <tr>\n      <th>733</th>\n      <td>44</td>\n      <td>0</td>\n      <td>2</td>\n      <td>108</td>\n      <td>141</td>\n      <td>0</td>\n      <td>1</td>\n      <td>175</td>\n      <td>0</td>\n      <td>0.6</td>\n      <td>1</td>\n      <td>0</td>\n      <td>2</td>\n      <td>1</td>\n    </tr>\n    <tr>\n      <th>739</th>\n      <td>52</td>\n      <td>1</td>\n      <td>0</td>\n      <td>128</td>\n      <td>255</td>\n      <td>0</td>\n      <td>1</td>\n      <td>161</td>\n      <td>1</td>\n      <td>0.0</td>\n      <td>2</td>\n      <td>1</td>\n      <td>3</td>\n      <td>0</td>\n    </tr>\n    <tr>\n      <th>843</th>\n      <td>59</td>\n      <td>1</td>\n      <td>3</td>\n      <td>160</td>\n      <td>273</td>\n      <td>0</td>\n      <td>0</td>\n      <td>125</td>\n      <td>0</td>\n      <td>0.0</td>\n      <td>2</td>\n      <td>0</td>\n      <td>2</td>\n      <td>0</td>\n    </tr>\n    <tr>\n      <th>878</th>\n      <td>54</td>\n      <td>1</td>\n      <td>0</td>\n      <td>120</td>\n      <td>188</td>\n      <td>0</td>\n      <td>1</td>\n      <td>113</td>\n      <td>0</td>\n      <td>1.4</td>\n      <td>1</td>\n      <td>1</td>\n      <td>3</td>\n      <td>0</td>\n    </tr>\n  </tbody>\n</table>\n<p>302 rows × 14 columns</p>\n</div>"
     },
     "execution_count": 7,
     "metadata": {},
     "output_type": "execute_result"
    }
   ],
   "source": [
    "data"
   ],
   "metadata": {
    "collapsed": false
   }
  },
  {
   "cell_type": "code",
   "execution_count": 8,
   "outputs": [
    {
     "data": {
      "text/plain": "[164, 138]"
     },
     "execution_count": 8,
     "metadata": {},
     "output_type": "execute_result"
    }
   ],
   "source": [
    "data.target.value_counts().tolist()"
   ],
   "metadata": {
    "collapsed": false
   }
  },
  {
   "cell_type": "code",
   "execution_count": 9,
   "outputs": [
    {
     "data": {
      "text/plain": "<AxesSubplot:xlabel='target', ylabel='count'>"
     },
     "execution_count": 9,
     "metadata": {},
     "output_type": "execute_result"
    },
    {
     "data": {
      "text/plain": "<Figure size 640x480 with 1 Axes>",
      "image/png": "[encoded data removed]"
     },
     "metadata": {},
     "output_type": "display_data"
    }
   ],
   "source": [
    "sns.countplot(x=data.target)"
   ],
   "metadata": {
    "collapsed": false
   }
  },
  {
   "cell_type": "code",
   "execution_count": 10,
   "outputs": [],
   "source": [
    "X = data.iloc[:,:-1].values\n",
    "y = data.target.values"
   ],
   "metadata": {
    "collapsed": false
   }
  },
  {
   "cell_type": "code",
   "execution_count": 11,
   "outputs": [],
   "source": [
    "from sklearn.model_selection import train_test_split\n",
    "X_train, X_test, y_train, y_test = train_test_split(X,y)"
   ],
   "metadata": {
    "collapsed": false
   }
  },
  {
   "cell_type": "code",
   "execution_count": 12,
   "outputs": [],
   "source": [
    "from sklearn.preprocessing import StandardScaler\n",
    "sc = StandardScaler()\n",
    "X_train = sc.fit_transform(X_train)\n",
    "X_test = sc.transform(X_test)"
   ],
   "metadata": {
    "collapsed": false
   }
  },
  {
   "cell_type": "code",
   "execution_count": 13,
   "outputs": [
    {
     "data": {
      "text/plain": "LogisticRegression()"
     },
     "execution_count": 13,
     "metadata": {},
     "output_type": "execute_result"
    }
   ],
   "source": [
    "from sklearn.linear_model import LogisticRegression\n",
    "clf = LogisticRegression()\n",
    "clf.fit(X_train,y_train)"
   ],
   "metadata": {
    "collapsed": false
   }
  },
  {
   "cell_type": "code",
   "execution_count": 14,
   "outputs": [],
   "source": [
    "y_pred = clf.predict(X_test)"
   ],
   "metadata": {
    "collapsed": false
   }
  },
  {
   "cell_type": "code",
   "execution_count": 15,
   "outputs": [],
   "source": [
    "from sklearn.metrics import confusion_matrix, accuracy_score, precision_score, recall_score, f1_score, auc\n",
    "acc = accuracy_score(y_test,y_pred)\n",
    "confusion_matrix = confusion_matrix(y_test,y_pred)\n",
    "pre_score = precision_score(y_test,y_pred)\n",
    "recall = recall_score(y_test,y_pred)\n",
    "f1 = f1_score(y_test,y_pred)"
   ],
   "metadata": {
    "collapsed": false
   }
  },
  {
   "cell_type": "code",
   "execution_count": 16,
   "outputs": [
    {
     "data": {
      "text/plain": "array([[24,  5],\n       [ 7, 40]], dtype=int64)"
     },
     "execution_count": 16,
     "metadata": {},
     "output_type": "execute_result"
    }
   ],
   "source": [
    "confusion_matrix"
   ],
   "metadata": {
    "collapsed": false
   }
  },
  {
   "cell_type": "code",
   "execution_count": 17,
   "outputs": [
    {
     "data": {
      "text/plain": "0.8421052631578947"
     },
     "execution_count": 17,
     "metadata": {},
     "output_type": "execute_result"
    }
   ],
   "source": [
    "acc"
   ],
   "metadata": {
    "collapsed": false
   }
  },
  {
   "cell_type": "code",
   "execution_count": 18,
   "outputs": [
    {
     "data": {
      "text/plain": "0.8888888888888888"
     },
     "execution_count": 18,
     "metadata": {},
     "output_type": "execute_result"
    }
   ],
   "source": [
    "pre_score"
   ],
   "metadata": {
    "collapsed": false
   }
  },
  {
   "cell_type": "code",
   "execution_count": 19,
   "outputs": [
    {
     "data": {
      "text/plain": "0.851063829787234"
     },
     "execution_count": 19,
     "metadata": {},
     "output_type": "execute_result"
    }
   ],
   "source": [
    "recall"
   ],
   "metadata": {
    "collapsed": false
   }
  },
  {
   "cell_type": "code",
   "execution_count": 20,
   "outputs": [
    {
     "data": {
      "text/plain": "0.8695652173913044"
     },
     "execution_count": 20,
     "metadata": {},
     "output_type": "execute_result"
    }
   ],
   "source": [
    "f1"
   ],
   "metadata": {
    "collapsed": false
   }
  },
  {
   "cell_type": "code",
   "execution_count": 21,
   "outputs": [],
   "source": [
    "dataset = pd.read_csv('data/diabetes.csv')"
   ],
   "metadata": {
    "collapsed": false
   }
  },
  {
   "cell_type": "code",
   "execution_count": 22,
   "outputs": [
    {
     "data": {
      "text/plain": "     Pregnancies  Glucose  BloodPressure  SkinThickness  Insulin   BMI  \\\n0              6      148             72             35        0  33.6   \n1              1       85             66             29        0  26.6   \n2              8      183             64              0        0  23.3   \n3              1       89             66             23       94  28.1   \n4              0      137             40             35      168  43.1   \n..           ...      ...            ...            ...      ...   ...   \n763           10      101             76             48      180  32.9   \n764            2      122             70             27        0  36.8   \n765            5      121             72             23      112  26.2   \n766            1      126             60              0        0  30.1   \n767            1       93             70             31        0  30.4   \n\n     DiabetesPedigreeFunction  Age  Outcome  \n0                       0.627   50        1  \n1                       0.351   31        0  \n2                       0.672   32        1  \n3                       0.167   21        0  \n4                       2.288   33        1  \n..                        ...  ...      ...  \n763                     0.171   63        0  \n764                     0.340   27        0  \n765                     0.245   30        0  \n766                     0.349   47        1  \n767                     0.315   23        0  \n\n[768 rows x 9 columns]",
      "text/html": "<div>\n<style scoped>\n    .dataframe tbody tr th:only-of-type {\n        vertical-align: middle;\n    }\n\n    .dataframe tbody tr th {\n        vertical-align: top;\n    }\n\n    .dataframe thead th {\n        text-align: right;\n    }\n</style>\n<table border=\"1\" class=\"dataframe\">\n  <thead>\n    <tr style=\"text-align: right;\">\n      <th></th>\n      <th>Pregnancies</th>\n      <th>Glucose</th>\n      <th>BloodPressure</th>\n      <th>SkinThickness</th>\n      <th>Insulin</th>\n      <th>BMI</th>\n      <th>DiabetesPedigreeFunction</th>\n      <th>Age</th>\n      <th>Outcome</th>\n    </tr>\n  </thead>\n  <tbody>\n    <tr>\n      <th>0</th>\n      <td>6</td>\n      <td>148</td>\n      <td>72</td>\n      <td>35</td>\n      <td>0</td>\n      <td>33.6</td>\n      <td>0.627</td>\n      <td>50</td>\n      <td>1</td>\n    </tr>\n    <tr>\n      <th>1</th>\n      <td>1</td>\n      <td>85</td>\n      <td>66</td>\n      <td>29</td>\n      <td>0</td>\n      <td>26.6</td>\n      <td>0.351</td>\n      <td>31</td>\n      <td>0</td>\n    </tr>\n    <tr>\n      <th>2</th>\n      <td>8</td>\n      <td>183</td>\n      <td>64</td>\n      <td>0</td>\n      <td>0</td>\n      <td>23.3</td>\n      <td>0.672</td>\n      <td>32</td>\n      <td>1</td>\n    </tr>\n    <tr>\n      <th>3</th>\n      <td>1</td>\n      <td>89</td>\n      <td>66</td>\n      <td>23</td>\n      <td>94</td>\n      <td>28.1</td>\n      <td>0.167</td>\n      <td>21</td>\n      <td>0</td>\n    </tr>\n    <tr>\n      <th>4</th>\n      <td>0</td>\n      <td>137</td>\n      <td>40</td>\n      <td>35</td>\n      <td>168</td>\n      <td>43.1</td>\n      <td>2.288</td>\n      <td>33</td>\n      <td>1</td>\n    </tr>\n    <tr>\n      <th>...</th>\n      <td>...</td>\n      <td>...</td>\n      <td>...</td>\n      <td>...</td>\n      <td>...</td>\n      <td>...</td>\n      <td>...</td>\n      <td>...</td>\n      <td>...</td>\n    </tr>\n    <tr>\n      <th>763</th>\n      <td>10</td>\n      <td>101</td>\n      <td>76</td>\n      <td>48</td>\n      <td>180</td>\n      <td>32.9</td>\n      <td>0.171</td>\n      <td>63</td>\n      <td>0</td>\n    </tr>\n    <tr>\n      <th>764</th>\n      <td>2</td>\n      <td>122</td>\n      <td>70</td>\n      <td>27</td>\n      <td>0</td>\n      <td>36.8</td>\n      <td>0.340</td>\n      <td>27</td>\n      <td>0</td>\n    </tr>\n    <tr>\n      <th>765</th>\n      <td>5</td>\n      <td>121</td>\n      <td>72</td>\n      <td>23</td>\n      <td>112</td>\n      <td>26.2</td>\n      <td>0.245</td>\n      <td>30</td>\n      <td>0</td>\n    </tr>\n    <tr>\n      <th>766</th>\n      <td>1</td>\n      <td>126</td>\n      <td>60</td>\n      <td>0</td>\n      <td>0</td>\n      <td>30.1</td>\n      <td>0.349</td>\n      <td>47</td>\n      <td>1</td>\n    </tr>\n    <tr>\n      <th>767</th>\n      <td>1</td>\n      <td>93</td>\n      <td>70</td>\n      <td>31</td>\n      <td>0</td>\n      <td>30.4</td>\n      <td>0.315</td>\n      <td>23</td>\n      <td>0</td>\n    </tr>\n  </tbody>\n</table>\n<p>768 rows × 9 columns</p>\n</div>"
     },
     "execution_count": 22,
     "metadata": {},
     "output_type": "execute_result"
    }
   ],
   "source": [
    "dataset"
   ],
   "metadata": {
    "collapsed": false
   }
  },
  {
   "cell_type": "code",
   "execution_count": 23,
   "outputs": [
    {
     "data": {
      "text/plain": "0"
     },
     "execution_count": 23,
     "metadata": {},
     "output_type": "execute_result"
    }
   ],
   "source": [
    "dataset.duplicated().sum()"
   ],
   "metadata": {
    "collapsed": false
   }
  },
  {
   "cell_type": "code",
   "execution_count": 24,
   "outputs": [
    {
     "name": "stdout",
     "output_type": "stream",
     "text": [
      "<class 'pandas.core.frame.DataFrame'>\n",
      "RangeIndex: 768 entries, 0 to 767\n",
      "Data columns (total 9 columns):\n",
      " #   Column                    Non-Null Count  Dtype  \n",
      "---  ------                    --------------  -----  \n",
      " 0   Pregnancies               768 non-null    int64  \n",
      " 1   Glucose                   768 non-null    int64  \n",
      " 2   BloodPressure             768 non-null    int64  \n",
      " 3   SkinThickness             768 non-null    int64  \n",
      " 4   Insulin                   768 non-null    int64  \n",
      " 5   BMI                       768 non-null    float64\n",
      " 6   DiabetesPedigreeFunction  768 non-null    float64\n",
      " 7   Age                       768 non-null    int64  \n",
      " 8   Outcome                   768 non-null    int64  \n",
      "dtypes: float64(2), int64(7)\n",
      "memory usage: 54.1 KB\n"
     ]
    }
   ],
   "source": [
    "dataset.info()"
   ],
   "metadata": {
    "collapsed": false
   }
  },
  {
   "cell_type": "code",
   "execution_count": 25,
   "outputs": [],
   "source": [
    "X = dataset.iloc[:,:-1].values\n",
    "y = dataset.Outcome.values"
   ],
   "metadata": {
    "collapsed": false
   }
  },
  {
   "cell_type": "code",
   "execution_count": 26,
   "outputs": [],
   "source": [
    "X_train,X_test,y_train,y_test = train_test_split(X,y,test_size=0.2)"
   ],
   "metadata": {
    "collapsed": false
   }
  },
  {
   "cell_type": "code",
   "execution_count": 27,
   "outputs": [],
   "source": [
    "sc = StandardScaler()\n",
    "X_train = sc.fit_transform(X_train)\n",
    "X_test = sc.transform(X_test)"
   ],
   "metadata": {
    "collapsed": false
   }
  },
  {
   "cell_type": "code",
   "execution_count": 28,
   "outputs": [
    {
     "data": {
      "text/plain": "LogisticRegression()"
     },
     "execution_count": 28,
     "metadata": {},
     "output_type": "execute_result"
    }
   ],
   "source": [
    "clf.fit(X_train,y_train)"
   ],
   "metadata": {
    "collapsed": false
   }
  },
  {
   "cell_type": "code",
   "execution_count": 29,
   "outputs": [],
   "source": [
    "y_pred = clf.predict(X_test)"
   ],
   "metadata": {
    "collapsed": false
   }
  },
  {
   "cell_type": "code",
   "execution_count": 30,
   "outputs": [
    {
     "data": {
      "text/plain": "0    500\n1    268\nName: Outcome, dtype: int64"
     },
     "execution_count": 30,
     "metadata": {},
     "output_type": "execute_result"
    }
   ],
   "source": [
    "dataset.Outcome.value_counts()"
   ],
   "metadata": {
    "collapsed": false
   }
  },
  {
   "cell_type": "code",
   "execution_count": 31,
   "outputs": [],
   "source": [
    "acc = accuracy_score(y_test,y_pred)\n",
    "pre_score = precision_score(y_test.tolist(),y_pred.tolist())\n",
    "recall = recall_score(y_test,y_pred)\n",
    "f1 = f1_score(y_test,y_pred)"
   ],
   "metadata": {
    "collapsed": false
   }
  },
  {
   "cell_type": "code",
   "execution_count": 32,
   "outputs": [
    {
     "data": {
      "text/plain": "0.6666666666666666"
     },
     "execution_count": 32,
     "metadata": {},
     "output_type": "execute_result"
    }
   ],
   "source": [
    "f1"
   ],
   "metadata": {
    "collapsed": false
   }
  },
  {
   "cell_type": "code",
   "execution_count": 33,
   "outputs": [
    {
     "data": {
      "text/plain": "array([[24,  5],\n       [ 7, 40]], dtype=int64)"
     },
     "execution_count": 33,
     "metadata": {},
     "output_type": "execute_result"
    }
   ],
   "source": [
    "confusion_matrix"
   ],
   "metadata": {
    "collapsed": false
   }
  },
  {
   "cell_type": "code",
   "execution_count": 34,
   "outputs": [],
   "source": [
    "df = pd.read_csv('data/BRCA.csv.xls')"
   ],
   "metadata": {
    "collapsed": false
   }
  },
  {
   "cell_type": "code",
   "execution_count": 35,
   "outputs": [
    {
     "data": {
      "text/plain": "       Patient_ID   Age  Gender  Protein1  Protein2  Protein3  Protein4  \\\n0    TCGA-D8-A1XD  36.0  FEMALE  0.080353   0.42638   0.54715  0.273680   \n1    TCGA-EW-A1OX  43.0  FEMALE -0.420320   0.57807   0.61447 -0.031505   \n2    TCGA-A8-A079  69.0  FEMALE  0.213980   1.31140  -0.32747 -0.234260   \n3    TCGA-D8-A1XR  56.0  FEMALE  0.345090  -0.21147  -0.19304  0.124270   \n4    TCGA-BH-A0BF  56.0  FEMALE  0.221550   1.90680   0.52045 -0.311990   \n..            ...   ...     ...       ...       ...       ...       ...   \n336           NaN   NaN     NaN       NaN       NaN       NaN       NaN   \n337           NaN   NaN     NaN       NaN       NaN       NaN       NaN   \n338           NaN   NaN     NaN       NaN       NaN       NaN       NaN   \n339           NaN   NaN     NaN       NaN       NaN       NaN       NaN   \n340           NaN   NaN     NaN       NaN       NaN       NaN       NaN   \n\n    Tumour_Stage                      Histology ER status PR status  \\\n0            III  Infiltrating Ductal Carcinoma  Positive  Positive   \n1             II             Mucinous Carcinoma  Positive  Positive   \n2            III  Infiltrating Ductal Carcinoma  Positive  Positive   \n3             II  Infiltrating Ductal Carcinoma  Positive  Positive   \n4             II  Infiltrating Ductal Carcinoma  Positive  Positive   \n..           ...                            ...       ...       ...   \n336          NaN                            NaN       NaN       NaN   \n337          NaN                            NaN       NaN       NaN   \n338          NaN                            NaN       NaN       NaN   \n339          NaN                            NaN       NaN       NaN   \n340          NaN                            NaN       NaN       NaN   \n\n    HER2 status                 Surgery_type Date_of_Surgery  \\\n0      Negative  Modified Radical Mastectomy       15-Jan-17   \n1      Negative                   Lumpectomy       26-Apr-17   \n2      Negative                        Other       08-Sep-17   \n3      Negative  Modified Radical Mastectomy       25-Jan-17   \n4      Negative                        Other       06-May-17   \n..          ...                          ...             ...   \n336         NaN                          NaN             NaN   \n337         NaN                          NaN             NaN   \n338         NaN                          NaN             NaN   \n339         NaN                          NaN             NaN   \n340         NaN                          NaN             NaN   \n\n    Date_of_Last_Visit Patient_Status  \n0            19-Jun-17          Alive  \n1            09-Nov-18           Dead  \n2            09-Jun-18          Alive  \n3            12-Jul-17          Alive  \n4            27-Jun-19           Dead  \n..                 ...            ...  \n336                NaN            NaN  \n337                NaN            NaN  \n338                NaN            NaN  \n339                NaN            NaN  \n340                NaN            NaN  \n\n[341 rows x 16 columns]",
      "text/html": "<div>\n<style scoped>\n    .dataframe tbody tr th:only-of-type {\n        vertical-align: middle;\n    }\n\n    .dataframe tbody tr th {\n        vertical-align: top;\n    }\n\n    .dataframe thead th {\n        text-align: right;\n    }\n</style>\n<table border=\"1\" class=\"dataframe\">\n  <thead>\n    <tr style=\"text-align: right;\">\n      <th></th>\n      <th>Patient_ID</th>\n      <th>Age</th>\n      <th>Gender</th>\n      <th>Protein1</th>\n      <th>Protein2</th>\n      <th>Protein3</th>\n      <th>Protein4</th>\n      <th>Tumour_Stage</th>\n      <th>Histology</th>\n      <th>ER status</th>\n      <th>PR status</th>\n      <th>HER2 status</th>\n      <th>Surgery_type</th>\n      <th>Date_of_Surgery</th>\n      <th>Date_of_Last_Visit</th>\n      <th>Patient_Status</th>\n    </tr>\n  </thead>\n  <tbody>\n    <tr>\n      <th>0</th>\n      <td>TCGA-D8-A1XD</td>\n      <td>36.0</td>\n      <td>FEMALE</td>\n      <td>0.080353</td>\n      <td>0.42638</td>\n      <td>0.54715</td>\n      <td>0.273680</td>\n      <td>III</td>\n      <td>Infiltrating Ductal Carcinoma</td>\n      <td>Positive</td>\n      <td>Positive</td>\n      <td>Negative</td>\n      <td>Modified Radical Mastectomy</td>\n      <td>15-Jan-17</td>\n      <td>19-Jun-17</td>\n      <td>Alive</td>\n    </tr>\n    <tr>\n      <th>1</th>\n      <td>TCGA-EW-A1OX</td>\n      <td>43.0</td>\n      <td>FEMALE</td>\n      <td>-0.420320</td>\n      <td>0.57807</td>\n      <td>0.61447</td>\n      <td>-0.031505</td>\n      <td>II</td>\n      <td>Mucinous Carcinoma</td>\n      <td>Positive</td>\n      <td>Positive</td>\n      <td>Negative</td>\n      <td>Lumpectomy</td>\n      <td>26-Apr-17</td>\n      <td>09-Nov-18</td>\n      <td>Dead</td>\n    </tr>\n    <tr>\n      <th>2</th>\n      <td>TCGA-A8-A079</td>\n      <td>69.0</td>\n      <td>FEMALE</td>\n      <td>0.213980</td>\n      <td>1.31140</td>\n      <td>-0.32747</td>\n      <td>-0.234260</td>\n      <td>III</td>\n      <td>Infiltrating Ductal Carcinoma</td>\n      <td>Positive</td>\n      <td>Positive</td>\n      <td>Negative</td>\n      <td>Other</td>\n      <td>08-Sep-17</td>\n      <td>09-Jun-18</td>\n      <td>Alive</td>\n    </tr>\n    <tr>\n      <th>3</th>\n      <td>TCGA-D8-A1XR</td>\n      <td>56.0</td>\n      <td>FEMALE</td>\n      <td>0.345090</td>\n      <td>-0.21147</td>\n      <td>-0.19304</td>\n      <td>0.124270</td>\n      <td>II</td>\n      <td>Infiltrating Ductal Carcinoma</td>\n      <td>Positive</td>\n      <td>Positive</td>\n      <td>Negative</td>\n      <td>Modified Radical Mastectomy</td>\n      <td>25-Jan-17</td>\n      <td>12-Jul-17</td>\n      <td>Alive</td>\n    </tr>\n    <tr>\n      <th>4</th>\n      <td>TCGA-BH-A0BF</td>\n      <td>56.0</td>\n      <td>FEMALE</td>\n      <td>0.221550</td>\n      <td>1.90680</td>\n      <td>0.52045</td>\n      <td>-0.311990</td>\n      <td>II</td>\n      <td>Infiltrating Ductal Carcinoma</td>\n      <td>Positive</td>\n      <td>Positive</td>\n      <td>Negative</td>\n      <td>Other</td>\n      <td>06-May-17</td>\n      <td>27-Jun-19</td>\n      <td>Dead</td>\n    </tr>\n    <tr>\n      <th>...</th>\n      <td>...</td>\n      <td>...</td>\n      <td>...</td>\n      <td>...</td>\n      <td>...</td>\n      <td>...</td>\n      <td>...</td>\n      <td>...</td>\n      <td>...</td>\n      <td>...</td>\n      <td>...</td>\n      <td>...</td>\n      <td>...</td>\n      <td>...</td>\n      <td>...</td>\n      <td>...</td>\n    </tr>\n    <tr>\n      <th>336</th>\n      <td>NaN</td>\n      <td>NaN</td>\n      <td>NaN</td>\n      <td>NaN</td>\n      <td>NaN</td>\n      <td>NaN</td>\n      <td>NaN</td>\n      <td>NaN</td>\n      <td>NaN</td>\n      <td>NaN</td>\n      <td>NaN</td>\n      <td>NaN</td>\n      <td>NaN</td>\n      <td>NaN</td>\n      <td>NaN</td>\n      <td>NaN</td>\n    </tr>\n    <tr>\n      <th>337</th>\n      <td>NaN</td>\n      <td>NaN</td>\n      <td>NaN</td>\n      <td>NaN</td>\n      <td>NaN</td>\n      <td>NaN</td>\n      <td>NaN</td>\n      <td>NaN</td>\n      <td>NaN</td>\n      <td>NaN</td>\n      <td>NaN</td>\n      <td>NaN</td>\n      <td>NaN</td>\n      <td>NaN</td>\n      <td>NaN</td>\n      <td>NaN</td>\n    </tr>\n    <tr>\n      <th>338</th>\n      <td>NaN</td>\n      <td>NaN</td>\n      <td>NaN</td>\n      <td>NaN</td>\n      <td>NaN</td>\n      <td>NaN</td>\n      <td>NaN</td>\n      <td>NaN</td>\n      <td>NaN</td>\n      <td>NaN</td>\n      <td>NaN</td>\n      <td>NaN</td>\n      <td>NaN</td>\n      <td>NaN</td>\n      <td>NaN</td>\n      <td>NaN</td>\n    </tr>\n    <tr>\n      <th>339</th>\n      <td>NaN</td>\n      <td>NaN</td>\n      <td>NaN</td>\n      <td>NaN</td>\n      <td>NaN</td>\n      <td>NaN</td>\n      <td>NaN</td>\n      <td>NaN</td>\n      <td>NaN</td>\n      <td>NaN</td>\n      <td>NaN</td>\n      <td>NaN</td>\n      <td>NaN</td>\n      <td>NaN</td>\n      <td>NaN</td>\n      <td>NaN</td>\n    </tr>\n    <tr>\n      <th>340</th>\n      <td>NaN</td>\n      <td>NaN</td>\n      <td>NaN</td>\n      <td>NaN</td>\n      <td>NaN</td>\n      <td>NaN</td>\n      <td>NaN</td>\n      <td>NaN</td>\n      <td>NaN</td>\n      <td>NaN</td>\n      <td>NaN</td>\n      <td>NaN</td>\n      <td>NaN</td>\n      <td>NaN</td>\n      <td>NaN</td>\n      <td>NaN</td>\n    </tr>\n  </tbody>\n</table>\n<p>341 rows × 16 columns</p>\n</div>"
     },
     "execution_count": 35,
     "metadata": {},
     "output_type": "execute_result"
    }
   ],
   "source": [
    "df"
   ],
   "metadata": {
    "collapsed": false
   }
  },
  {
   "cell_type": "code",
   "execution_count": 36,
   "outputs": [],
   "source": [
    "df.drop('Patient_ID', inplace=True, axis=1)"
   ],
   "metadata": {
    "collapsed": false
   }
  },
  {
   "cell_type": "code",
   "execution_count": 37,
   "outputs": [
    {
     "name": "stdout",
     "output_type": "stream",
     "text": [
      "<class 'pandas.core.frame.DataFrame'>\n",
      "RangeIndex: 341 entries, 0 to 340\n",
      "Data columns (total 15 columns):\n",
      " #   Column              Non-Null Count  Dtype  \n",
      "---  ------              --------------  -----  \n",
      " 0   Age                 334 non-null    float64\n",
      " 1   Gender              334 non-null    object \n",
      " 2   Protein1            334 non-null    float64\n",
      " 3   Protein2            334 non-null    float64\n",
      " 4   Protein3            334 non-null    float64\n",
      " 5   Protein4            334 non-null    float64\n",
      " 6   Tumour_Stage        334 non-null    object \n",
      " 7   Histology           334 non-null    object \n",
      " 8   ER status           334 non-null    object \n",
      " 9   PR status           334 non-null    object \n",
      " 10  HER2 status         334 non-null    object \n",
      " 11  Surgery_type        334 non-null    object \n",
      " 12  Date_of_Surgery     334 non-null    object \n",
      " 13  Date_of_Last_Visit  317 non-null    object \n",
      " 14  Patient_Status      321 non-null    object \n",
      "dtypes: float64(5), object(10)\n",
      "memory usage: 40.1+ KB\n"
     ]
    }
   ],
   "source": [
    "df.info()"
   ],
   "metadata": {
    "collapsed": false
   }
  },
  {
   "cell_type": "code",
   "execution_count": 38,
   "outputs": [
    {
     "data": {
      "text/plain": "      Age  Gender  Protein1  Protein2  Protein3  Protein4 Tumour_Stage  \\\n0    36.0  FEMALE  0.080353   0.42638   0.54715  0.273680          III   \n1    43.0  FEMALE -0.420320   0.57807   0.61447 -0.031505           II   \n2    69.0  FEMALE  0.213980   1.31140  -0.32747 -0.234260          III   \n3    56.0  FEMALE  0.345090  -0.21147  -0.19304  0.124270           II   \n4    56.0  FEMALE  0.221550   1.90680   0.52045 -0.311990           II   \n..    ...     ...       ...       ...       ...       ...          ...   \n336   NaN     NaN       NaN       NaN       NaN       NaN          NaN   \n337   NaN     NaN       NaN       NaN       NaN       NaN          NaN   \n338   NaN     NaN       NaN       NaN       NaN       NaN          NaN   \n339   NaN     NaN       NaN       NaN       NaN       NaN          NaN   \n340   NaN     NaN       NaN       NaN       NaN       NaN          NaN   \n\n                         Histology ER status PR status HER2 status  \\\n0    Infiltrating Ductal Carcinoma  Positive  Positive    Negative   \n1               Mucinous Carcinoma  Positive  Positive    Negative   \n2    Infiltrating Ductal Carcinoma  Positive  Positive    Negative   \n3    Infiltrating Ductal Carcinoma  Positive  Positive    Negative   \n4    Infiltrating Ductal Carcinoma  Positive  Positive    Negative   \n..                             ...       ...       ...         ...   \n336                            NaN       NaN       NaN         NaN   \n337                            NaN       NaN       NaN         NaN   \n338                            NaN       NaN       NaN         NaN   \n339                            NaN       NaN       NaN         NaN   \n340                            NaN       NaN       NaN         NaN   \n\n                    Surgery_type Date_of_Surgery Date_of_Last_Visit  \\\n0    Modified Radical Mastectomy       15-Jan-17          19-Jun-17   \n1                     Lumpectomy       26-Apr-17          09-Nov-18   \n2                          Other       08-Sep-17          09-Jun-18   \n3    Modified Radical Mastectomy       25-Jan-17          12-Jul-17   \n4                          Other       06-May-17          27-Jun-19   \n..                           ...             ...                ...   \n336                          NaN             NaN                NaN   \n337                          NaN             NaN                NaN   \n338                          NaN             NaN                NaN   \n339                          NaN             NaN                NaN   \n340                          NaN             NaN                NaN   \n\n    Patient_Status  \n0            Alive  \n1             Dead  \n2            Alive  \n3            Alive  \n4             Dead  \n..             ...  \n336            NaN  \n337            NaN  \n338            NaN  \n339            NaN  \n340            NaN  \n\n[341 rows x 15 columns]",
      "text/html": "<div>\n<style scoped>\n    .dataframe tbody tr th:only-of-type {\n        vertical-align: middle;\n    }\n\n    .dataframe tbody tr th {\n        vertical-align: top;\n    }\n\n    .dataframe thead th {\n        text-align: right;\n    }\n</style>\n<table border=\"1\" class=\"dataframe\">\n  <thead>\n    <tr style=\"text-align: right;\">\n      <th></th>\n      <th>Age</th>\n      <th>Gender</th>\n      <th>Protein1</th>\n      <th>Protein2</th>\n      <th>Protein3</th>\n      <th>Protein4</th>\n      <th>Tumour_Stage</th>\n      <th>Histology</th>\n      <th>ER status</th>\n      <th>PR status</th>\n      <th>HER2 status</th>\n      <th>Surgery_type</th>\n      <th>Date_of_Surgery</th>\n      <th>Date_of_Last_Visit</th>\n      <th>Patient_Status</th>\n    </tr>\n  </thead>\n  <tbody>\n    <tr>\n      <th>0</th>\n      <td>36.0</td>\n      <td>FEMALE</td>\n      <td>0.080353</td>\n      <td>0.42638</td>\n      <td>0.54715</td>\n      <td>0.273680</td>\n      <td>III</td>\n      <td>Infiltrating Ductal Carcinoma</td>\n      <td>Positive</td>\n      <td>Positive</td>\n      <td>Negative</td>\n      <td>Modified Radical Mastectomy</td>\n      <td>15-Jan-17</td>\n      <td>19-Jun-17</td>\n      <td>Alive</td>\n    </tr>\n    <tr>\n      <th>1</th>\n      <td>43.0</td>\n      <td>FEMALE</td>\n      <td>-0.420320</td>\n      <td>0.57807</td>\n      <td>0.61447</td>\n      <td>-0.031505</td>\n      <td>II</td>\n      <td>Mucinous Carcinoma</td>\n      <td>Positive</td>\n      <td>Positive</td>\n      <td>Negative</td>\n      <td>Lumpectomy</td>\n      <td>26-Apr-17</td>\n      <td>09-Nov-18</td>\n      <td>Dead</td>\n    </tr>\n    <tr>\n      <th>2</th>\n      <td>69.0</td>\n      <td>FEMALE</td>\n      <td>0.213980</td>\n      <td>1.31140</td>\n      <td>-0.32747</td>\n      <td>-0.234260</td>\n      <td>III</td>\n      <td>Infiltrating Ductal Carcinoma</td>\n      <td>Positive</td>\n      <td>Positive</td>\n      <td>Negative</td>\n      <td>Other</td>\n      <td>08-Sep-17</td>\n      <td>09-Jun-18</td>\n      <td>Alive</td>\n    </tr>\n    <tr>\n      <th>3</th>\n      <td>56.0</td>\n      <td>FEMALE</td>\n      <td>0.345090</td>\n      <td>-0.21147</td>\n      <td>-0.19304</td>\n      <td>0.124270</td>\n      <td>II</td>\n      <td>Infiltrating Ductal Carcinoma</td>\n      <td>Positive</td>\n      <td>Positive</td>\n      <td>Negative</td>\n      <td>Modified Radical Mastectomy</td>\n      <td>25-Jan-17</td>\n      <td>12-Jul-17</td>\n      <td>Alive</td>\n    </tr>\n    <tr>\n      <th>4</th>\n      <td>56.0</td>\n      <td>FEMALE</td>\n      <td>0.221550</td>\n      <td>1.90680</td>\n      <td>0.52045</td>\n      <td>-0.311990</td>\n      <td>II</td>\n      <td>Infiltrating Ductal Carcinoma</td>\n      <td>Positive</td>\n      <td>Positive</td>\n      <td>Negative</td>\n      <td>Other</td>\n      <td>06-May-17</td>\n      <td>27-Jun-19</td>\n      <td>Dead</td>\n    </tr>\n    <tr>\n      <th>...</th>\n      <td>...</td>\n      <td>...</td>\n      <td>...</td>\n      <td>...</td>\n      <td>...</td>\n      <td>...</td>\n      <td>...</td>\n      <td>...</td>\n      <td>...</td>\n      <td>...</td>\n      <td>...</td>\n      <td>...</td>\n      <td>...</td>\n      <td>...</td>\n      <td>...</td>\n    </tr>\n    <tr>\n      <th>336</th>\n      <td>NaN</td>\n      <td>NaN</td>\n      <td>NaN</td>\n      <td>NaN</td>\n      <td>NaN</td>\n      <td>NaN</td>\n      <td>NaN</td>\n      <td>NaN</td>\n      <td>NaN</td>\n      <td>NaN</td>\n      <td>NaN</td>\n      <td>NaN</td>\n      <td>NaN</td>\n      <td>NaN</td>\n      <td>NaN</td>\n    </tr>\n    <tr>\n      <th>337</th>\n      <td>NaN</td>\n      <td>NaN</td>\n      <td>NaN</td>\n      <td>NaN</td>\n      <td>NaN</td>\n      <td>NaN</td>\n      <td>NaN</td>\n      <td>NaN</td>\n      <td>NaN</td>\n      <td>NaN</td>\n      <td>NaN</td>\n      <td>NaN</td>\n      <td>NaN</td>\n      <td>NaN</td>\n      <td>NaN</td>\n    </tr>\n    <tr>\n      <th>338</th>\n      <td>NaN</td>\n      <td>NaN</td>\n      <td>NaN</td>\n      <td>NaN</td>\n      <td>NaN</td>\n      <td>NaN</td>\n      <td>NaN</td>\n      <td>NaN</td>\n      <td>NaN</td>\n      <td>NaN</td>\n      <td>NaN</td>\n      <td>NaN</td>\n      <td>NaN</td>\n      <td>NaN</td>\n      <td>NaN</td>\n    </tr>\n    <tr>\n      <th>339</th>\n      <td>NaN</td>\n      <td>NaN</td>\n      <td>NaN</td>\n      <td>NaN</td>\n      <td>NaN</td>\n      <td>NaN</td>\n      <td>NaN</td>\n      <td>NaN</td>\n      <td>NaN</td>\n      <td>NaN</td>\n      <td>NaN</td>\n      <td>NaN</td>\n      <td>NaN</td>\n      <td>NaN</td>\n      <td>NaN</td>\n    </tr>\n    <tr>\n      <th>340</th>\n      <td>NaN</td>\n      <td>NaN</td>\n      <td>NaN</td>\n      <td>NaN</td>\n      <td>NaN</td>\n      <td>NaN</td>\n      <td>NaN</td>\n      <td>NaN</td>\n      <td>NaN</td>\n      <td>NaN</td>\n      <td>NaN</td>\n      <td>NaN</td>\n      <td>NaN</td>\n      <td>NaN</td>\n      <td>NaN</td>\n    </tr>\n  </tbody>\n</table>\n<p>341 rows × 15 columns</p>\n</div>"
     },
     "execution_count": 38,
     "metadata": {},
     "output_type": "execute_result"
    }
   ],
   "source": [
    "df"
   ],
   "metadata": {
    "collapsed": false
   }
  },
  {
   "cell_type": "code",
   "execution_count": 39,
   "outputs": [
    {
     "data": {
      "text/plain": "II     189\nIII     81\nI       64\nName: Tumour_Stage, dtype: int64"
     },
     "execution_count": 39,
     "metadata": {},
     "output_type": "execute_result"
    }
   ],
   "source": [
    "df.Tumour_Stage.value_counts()"
   ],
   "metadata": {
    "collapsed": false
   }
  },
  {
   "cell_type": "code",
   "execution_count": 40,
   "outputs": [],
   "source": [
    "df.Tumour_Stage.replace({'I':1, 'II':2, 'III':3}, inplace=True)"
   ],
   "metadata": {
    "collapsed": false
   }
  },
  {
   "cell_type": "code",
   "execution_count": 41,
   "outputs": [
    {
     "data": {
      "text/plain": "0      3.0\n1      2.0\n2      3.0\n3      2.0\n4      2.0\n      ... \n336    NaN\n337    NaN\n338    NaN\n339    NaN\n340    NaN\nName: Tumour_Stage, Length: 341, dtype: float64"
     },
     "execution_count": 41,
     "metadata": {},
     "output_type": "execute_result"
    }
   ],
   "source": [
    "df.Tumour_Stage"
   ],
   "metadata": {
    "collapsed": false
   }
  },
  {
   "cell_type": "code",
   "execution_count": 42,
   "outputs": [
    {
     "data": {
      "text/plain": "      Age  Gender  Protein1  Protein2  Protein3  Protein4  Tumour_Stage  \\\n0    36.0  FEMALE  0.080353   0.42638   0.54715  0.273680           3.0   \n1    43.0  FEMALE -0.420320   0.57807   0.61447 -0.031505           2.0   \n2    69.0  FEMALE  0.213980   1.31140  -0.32747 -0.234260           3.0   \n3    56.0  FEMALE  0.345090  -0.21147  -0.19304  0.124270           2.0   \n4    56.0  FEMALE  0.221550   1.90680   0.52045 -0.311990           2.0   \n..    ...     ...       ...       ...       ...       ...           ...   \n336   NaN     NaN       NaN       NaN       NaN       NaN           NaN   \n337   NaN     NaN       NaN       NaN       NaN       NaN           NaN   \n338   NaN     NaN       NaN       NaN       NaN       NaN           NaN   \n339   NaN     NaN       NaN       NaN       NaN       NaN           NaN   \n340   NaN     NaN       NaN       NaN       NaN       NaN           NaN   \n\n                         Histology ER status PR status HER2 status  \\\n0    Infiltrating Ductal Carcinoma  Positive  Positive    Negative   \n1               Mucinous Carcinoma  Positive  Positive    Negative   \n2    Infiltrating Ductal Carcinoma  Positive  Positive    Negative   \n3    Infiltrating Ductal Carcinoma  Positive  Positive    Negative   \n4    Infiltrating Ductal Carcinoma  Positive  Positive    Negative   \n..                             ...       ...       ...         ...   \n336                            NaN       NaN       NaN         NaN   \n337                            NaN       NaN       NaN         NaN   \n338                            NaN       NaN       NaN         NaN   \n339                            NaN       NaN       NaN         NaN   \n340                            NaN       NaN       NaN         NaN   \n\n                    Surgery_type Date_of_Surgery Date_of_Last_Visit  \\\n0    Modified Radical Mastectomy       15-Jan-17          19-Jun-17   \n1                     Lumpectomy       26-Apr-17          09-Nov-18   \n2                          Other       08-Sep-17          09-Jun-18   \n3    Modified Radical Mastectomy       25-Jan-17          12-Jul-17   \n4                          Other       06-May-17          27-Jun-19   \n..                           ...             ...                ...   \n336                          NaN             NaN                NaN   \n337                          NaN             NaN                NaN   \n338                          NaN             NaN                NaN   \n339                          NaN             NaN                NaN   \n340                          NaN             NaN                NaN   \n\n    Patient_Status  \n0            Alive  \n1             Dead  \n2            Alive  \n3            Alive  \n4             Dead  \n..             ...  \n336            NaN  \n337            NaN  \n338            NaN  \n339            NaN  \n340            NaN  \n\n[341 rows x 15 columns]",
      "text/html": "<div>\n<style scoped>\n    .dataframe tbody tr th:only-of-type {\n        vertical-align: middle;\n    }\n\n    .dataframe tbody tr th {\n        vertical-align: top;\n    }\n\n    .dataframe thead th {\n        text-align: right;\n    }\n</style>\n<table border=\"1\" class=\"dataframe\">\n  <thead>\n    <tr style=\"text-align: right;\">\n      <th></th>\n      <th>Age</th>\n      <th>Gender</th>\n      <th>Protein1</th>\n      <th>Protein2</th>\n      <th>Protein3</th>\n      <th>Protein4</th>\n      <th>Tumour_Stage</th>\n      <th>Histology</th>\n      <th>ER status</th>\n      <th>PR status</th>\n      <th>HER2 status</th>\n      <th>Surgery_type</th>\n      <th>Date_of_Surgery</th>\n      <th>Date_of_Last_Visit</th>\n      <th>Patient_Status</th>\n    </tr>\n  </thead>\n  <tbody>\n    <tr>\n      <th>0</th>\n      <td>36.0</td>\n      <td>FEMALE</td>\n      <td>0.080353</td>\n      <td>0.42638</td>\n      <td>0.54715</td>\n      <td>0.273680</td>\n      <td>3.0</td>\n      <td>Infiltrating Ductal Carcinoma</td>\n      <td>Positive</td>\n      <td>Positive</td>\n      <td>Negative</td>\n      <td>Modified Radical Mastectomy</td>\n      <td>15-Jan-17</td>\n      <td>19-Jun-17</td>\n      <td>Alive</td>\n    </tr>\n    <tr>\n      <th>1</th>\n      <td>43.0</td>\n      <td>FEMALE</td>\n      <td>-0.420320</td>\n      <td>0.57807</td>\n      <td>0.61447</td>\n      <td>-0.031505</td>\n      <td>2.0</td>\n      <td>Mucinous Carcinoma</td>\n      <td>Positive</td>\n      <td>Positive</td>\n      <td>Negative</td>\n      <td>Lumpectomy</td>\n      <td>26-Apr-17</td>\n      <td>09-Nov-18</td>\n      <td>Dead</td>\n    </tr>\n    <tr>\n      <th>2</th>\n      <td>69.0</td>\n      <td>FEMALE</td>\n      <td>0.213980</td>\n      <td>1.31140</td>\n      <td>-0.32747</td>\n      <td>-0.234260</td>\n      <td>3.0</td>\n      <td>Infiltrating Ductal Carcinoma</td>\n      <td>Positive</td>\n      <td>Positive</td>\n      <td>Negative</td>\n      <td>Other</td>\n      <td>08-Sep-17</td>\n      <td>09-Jun-18</td>\n      <td>Alive</td>\n    </tr>\n    <tr>\n      <th>3</th>\n      <td>56.0</td>\n      <td>FEMALE</td>\n      <td>0.345090</td>\n      <td>-0.21147</td>\n      <td>-0.19304</td>\n      <td>0.124270</td>\n      <td>2.0</td>\n      <td>Infiltrating Ductal Carcinoma</td>\n      <td>Positive</td>\n      <td>Positive</td>\n      <td>Negative</td>\n      <td>Modified Radical Mastectomy</td>\n      <td>25-Jan-17</td>\n      <td>12-Jul-17</td>\n      <td>Alive</td>\n    </tr>\n    <tr>\n      <th>4</th>\n      <td>56.0</td>\n      <td>FEMALE</td>\n      <td>0.221550</td>\n      <td>1.90680</td>\n      <td>0.52045</td>\n      <td>-0.311990</td>\n      <td>2.0</td>\n      <td>Infiltrating Ductal Carcinoma</td>\n      <td>Positive</td>\n      <td>Positive</td>\n      <td>Negative</td>\n      <td>Other</td>\n      <td>06-May-17</td>\n      <td>27-Jun-19</td>\n      <td>Dead</td>\n    </tr>\n    <tr>\n      <th>...</th>\n      <td>...</td>\n      <td>...</td>\n      <td>...</td>\n      <td>...</td>\n      <td>...</td>\n      <td>...</td>\n      <td>...</td>\n      <td>...</td>\n      <td>...</td>\n      <td>...</td>\n      <td>...</td>\n      <td>...</td>\n      <td>...</td>\n      <td>...</td>\n      <td>...</td>\n    </tr>\n    <tr>\n      <th>336</th>\n      <td>NaN</td>\n      <td>NaN</td>\n      <td>NaN</td>\n      <td>NaN</td>\n      <td>NaN</td>\n      <td>NaN</td>\n      <td>NaN</td>\n      <td>NaN</td>\n      <td>NaN</td>\n      <td>NaN</td>\n      <td>NaN</td>\n      <td>NaN</td>\n      <td>NaN</td>\n      <td>NaN</td>\n      <td>NaN</td>\n    </tr>\n    <tr>\n      <th>337</th>\n      <td>NaN</td>\n      <td>NaN</td>\n      <td>NaN</td>\n      <td>NaN</td>\n      <td>NaN</td>\n      <td>NaN</td>\n      <td>NaN</td>\n      <td>NaN</td>\n      <td>NaN</td>\n      <td>NaN</td>\n      <td>NaN</td>\n      <td>NaN</td>\n      <td>NaN</td>\n      <td>NaN</td>\n      <td>NaN</td>\n    </tr>\n    <tr>\n      <th>338</th>\n      <td>NaN</td>\n      <td>NaN</td>\n      <td>NaN</td>\n      <td>NaN</td>\n      <td>NaN</td>\n      <td>NaN</td>\n      <td>NaN</td>\n      <td>NaN</td>\n      <td>NaN</td>\n      <td>NaN</td>\n      <td>NaN</td>\n      <td>NaN</td>\n      <td>NaN</td>\n      <td>NaN</td>\n      <td>NaN</td>\n    </tr>\n    <tr>\n      <th>339</th>\n      <td>NaN</td>\n      <td>NaN</td>\n      <td>NaN</td>\n      <td>NaN</td>\n      <td>NaN</td>\n      <td>NaN</td>\n      <td>NaN</td>\n      <td>NaN</td>\n      <td>NaN</td>\n      <td>NaN</td>\n      <td>NaN</td>\n      <td>NaN</td>\n      <td>NaN</td>\n      <td>NaN</td>\n      <td>NaN</td>\n    </tr>\n    <tr>\n      <th>340</th>\n      <td>NaN</td>\n      <td>NaN</td>\n      <td>NaN</td>\n      <td>NaN</td>\n      <td>NaN</td>\n      <td>NaN</td>\n      <td>NaN</td>\n      <td>NaN</td>\n      <td>NaN</td>\n      <td>NaN</td>\n      <td>NaN</td>\n      <td>NaN</td>\n      <td>NaN</td>\n      <td>NaN</td>\n      <td>NaN</td>\n    </tr>\n  </tbody>\n</table>\n<p>341 rows × 15 columns</p>\n</div>"
     },
     "execution_count": 42,
     "metadata": {},
     "output_type": "execute_result"
    }
   ],
   "source": [
    "df"
   ],
   "metadata": {
    "collapsed": false
   }
  },
  {
   "cell_type": "code",
   "execution_count": 43,
   "outputs": [
    {
     "data": {
      "text/plain": "135"
     },
     "execution_count": 43,
     "metadata": {},
     "output_type": "execute_result"
    }
   ],
   "source": [
    "df.isna().sum().sum()"
   ],
   "metadata": {
    "collapsed": false
   }
  },
  {
   "cell_type": "code",
   "execution_count": 44,
   "outputs": [
    {
     "name": "stdout",
     "output_type": "stream",
     "text": [
      "<class 'pandas.core.frame.DataFrame'>\n",
      "RangeIndex: 341 entries, 0 to 340\n",
      "Data columns (total 15 columns):\n",
      " #   Column              Non-Null Count  Dtype  \n",
      "---  ------              --------------  -----  \n",
      " 0   Age                 334 non-null    float64\n",
      " 1   Gender              334 non-null    object \n",
      " 2   Protein1            334 non-null    float64\n",
      " 3   Protein2            334 non-null    float64\n",
      " 4   Protein3            334 non-null    float64\n",
      " 5   Protein4            334 non-null    float64\n",
      " 6   Tumour_Stage        334 non-null    float64\n",
      " 7   Histology           334 non-null    object \n",
      " 8   ER status           334 non-null    object \n",
      " 9   PR status           334 non-null    object \n",
      " 10  HER2 status         334 non-null    object \n",
      " 11  Surgery_type        334 non-null    object \n",
      " 12  Date_of_Surgery     334 non-null    object \n",
      " 13  Date_of_Last_Visit  317 non-null    object \n",
      " 14  Patient_Status      321 non-null    object \n",
      "dtypes: float64(6), object(9)\n",
      "memory usage: 40.1+ KB\n"
     ]
    }
   ],
   "source": [
    "df.info()"
   ],
   "metadata": {
    "collapsed": false
   }
  },
  {
   "cell_type": "code",
   "execution_count": 45,
   "outputs": [],
   "source": [
    "df.drop([335,336,337,338,339,340],inplace=True)"
   ],
   "metadata": {
    "collapsed": false
   }
  },
  {
   "cell_type": "code",
   "execution_count": 46,
   "outputs": [
    {
     "data": {
      "text/plain": "      Age  Gender  Protein1  Protein2  Protein3  Protein4  Tumour_Stage  \\\n0    36.0  FEMALE  0.080353   0.42638   0.54715  0.273680           3.0   \n1    43.0  FEMALE -0.420320   0.57807   0.61447 -0.031505           2.0   \n2    69.0  FEMALE  0.213980   1.31140  -0.32747 -0.234260           3.0   \n3    56.0  FEMALE  0.345090  -0.21147  -0.19304  0.124270           2.0   \n4    56.0  FEMALE  0.221550   1.90680   0.52045 -0.311990           2.0   \n..    ...     ...       ...       ...       ...       ...           ...   \n330  44.0    MALE  0.732720   1.11170  -0.26952 -0.354920           2.0   \n331  61.0  FEMALE -0.719470   2.54850  -0.15024  0.339680           2.0   \n332  79.0  FEMALE  0.479400   2.05590  -0.53136 -0.188480           1.0   \n333  76.0  FEMALE -0.244270   0.92556  -0.41823 -0.067848           1.0   \n334   NaN     NaN       NaN       NaN       NaN       NaN           NaN   \n\n                          Histology ER status PR status HER2 status  \\\n0     Infiltrating Ductal Carcinoma  Positive  Positive    Negative   \n1                Mucinous Carcinoma  Positive  Positive    Negative   \n2     Infiltrating Ductal Carcinoma  Positive  Positive    Negative   \n3     Infiltrating Ductal Carcinoma  Positive  Positive    Negative   \n4     Infiltrating Ductal Carcinoma  Positive  Positive    Negative   \n..                              ...       ...       ...         ...   \n330  Infiltrating Lobular Carcinoma  Positive  Positive    Negative   \n331   Infiltrating Ductal Carcinoma  Positive  Positive    Negative   \n332   Infiltrating Ductal Carcinoma  Positive  Positive    Positive   \n333   Infiltrating Ductal Carcinoma  Positive  Positive    Negative   \n334                             NaN       NaN       NaN         NaN   \n\n                    Surgery_type Date_of_Surgery Date_of_Last_Visit  \\\n0    Modified Radical Mastectomy       15-Jan-17          19-Jun-17   \n1                     Lumpectomy       26-Apr-17          09-Nov-18   \n2                          Other       08-Sep-17          09-Jun-18   \n3    Modified Radical Mastectomy       25-Jan-17          12-Jul-17   \n4                          Other       06-May-17          27-Jun-19   \n..                           ...             ...                ...   \n330                        Other       01-Nov-19          04-Mar-20   \n331                   Lumpectomy       11-Nov-19          18-Jan-21   \n332                   Lumpectomy       21-Nov-19          19-Feb-21   \n333                   Lumpectomy       11-Nov-19          05-Jan-21   \n334                          NaN             NaN                NaN   \n\n    Patient_Status  \n0            Alive  \n1             Dead  \n2            Alive  \n3            Alive  \n4             Dead  \n..             ...  \n330           Dead  \n331           Dead  \n332           Dead  \n333           Dead  \n334            NaN  \n\n[335 rows x 15 columns]",
      "text/html": "<div>\n<style scoped>\n    .dataframe tbody tr th:only-of-type {\n        vertical-align: middle;\n    }\n\n    .dataframe tbody tr th {\n        vertical-align: top;\n    }\n\n    .dataframe thead th {\n        text-align: right;\n    }\n</style>\n<table border=\"1\" class=\"dataframe\">\n  <thead>\n    <tr style=\"text-align: right;\">\n      <th></th>\n      <th>Age</th>\n      <th>Gender</th>\n      <th>Protein1</th>\n      <th>Protein2</th>\n      <th>Protein3</th>\n      <th>Protein4</th>\n      <th>Tumour_Stage</th>\n      <th>Histology</th>\n      <th>ER status</th>\n      <th>PR status</th>\n      <th>HER2 status</th>\n      <th>Surgery_type</th>\n      <th>Date_of_Surgery</th>\n      <th>Date_of_Last_Visit</th>\n      <th>Patient_Status</th>\n    </tr>\n  </thead>\n  <tbody>\n    <tr>\n      <th>0</th>\n      <td>36.0</td>\n      <td>FEMALE</td>\n      <td>0.080353</td>\n      <td>0.42638</td>\n      <td>0.54715</td>\n      <td>0.273680</td>\n      <td>3.0</td>\n      <td>Infiltrating Ductal Carcinoma</td>\n      <td>Positive</td>\n      <td>Positive</td>\n      <td>Negative</td>\n      <td>Modified Radical Mastectomy</td>\n      <td>15-Jan-17</td>\n      <td>19-Jun-17</td>\n      <td>Alive</td>\n    </tr>\n    <tr>\n      <th>1</th>\n      <td>43.0</td>\n      <td>FEMALE</td>\n      <td>-0.420320</td>\n      <td>0.57807</td>\n      <td>0.61447</td>\n      <td>-0.031505</td>\n      <td>2.0</td>\n      <td>Mucinous Carcinoma</td>\n      <td>Positive</td>\n      <td>Positive</td>\n      <td>Negative</td>\n      <td>Lumpectomy</td>\n      <td>26-Apr-17</td>\n      <td>09-Nov-18</td>\n      <td>Dead</td>\n    </tr>\n    <tr>\n      <th>2</th>\n      <td>69.0</td>\n      <td>FEMALE</td>\n      <td>0.213980</td>\n      <td>1.31140</td>\n      <td>-0.32747</td>\n      <td>-0.234260</td>\n      <td>3.0</td>\n      <td>Infiltrating Ductal Carcinoma</td>\n      <td>Positive</td>\n      <td>Positive</td>\n      <td>Negative</td>\n      <td>Other</td>\n      <td>08-Sep-17</td>\n      <td>09-Jun-18</td>\n      <td>Alive</td>\n    </tr>\n    <tr>\n      <th>3</th>\n      <td>56.0</td>\n      <td>FEMALE</td>\n      <td>0.345090</td>\n      <td>-0.21147</td>\n      <td>-0.19304</td>\n      <td>0.124270</td>\n      <td>2.0</td>\n      <td>Infiltrating Ductal Carcinoma</td>\n      <td>Positive</td>\n      <td>Positive</td>\n      <td>Negative</td>\n      <td>Modified Radical Mastectomy</td>\n      <td>25-Jan-17</td>\n      <td>12-Jul-17</td>\n      <td>Alive</td>\n    </tr>\n    <tr>\n      <th>4</th>\n      <td>56.0</td>\n      <td>FEMALE</td>\n      <td>0.221550</td>\n      <td>1.90680</td>\n      <td>0.52045</td>\n      <td>-0.311990</td>\n      <td>2.0</td>\n      <td>Infiltrating Ductal Carcinoma</td>\n      <td>Positive</td>\n      <td>Positive</td>\n      <td>Negative</td>\n      <td>Other</td>\n      <td>06-May-17</td>\n      <td>27-Jun-19</td>\n      <td>Dead</td>\n    </tr>\n    <tr>\n      <th>...</th>\n      <td>...</td>\n      <td>...</td>\n      <td>...</td>\n      <td>...</td>\n      <td>...</td>\n      <td>...</td>\n      <td>...</td>\n      <td>...</td>\n      <td>...</td>\n      <td>...</td>\n      <td>...</td>\n      <td>...</td>\n      <td>...</td>\n      <td>...</td>\n      <td>...</td>\n    </tr>\n    <tr>\n      <th>330</th>\n      <td>44.0</td>\n      <td>MALE</td>\n      <td>0.732720</td>\n      <td>1.11170</td>\n      <td>-0.26952</td>\n      <td>-0.354920</td>\n      <td>2.0</td>\n      <td>Infiltrating Lobular Carcinoma</td>\n      <td>Positive</td>\n      <td>Positive</td>\n      <td>Negative</td>\n      <td>Other</td>\n      <td>01-Nov-19</td>\n      <td>04-Mar-20</td>\n      <td>Dead</td>\n    </tr>\n    <tr>\n      <th>331</th>\n      <td>61.0</td>\n      <td>FEMALE</td>\n      <td>-0.719470</td>\n      <td>2.54850</td>\n      <td>-0.15024</td>\n      <td>0.339680</td>\n      <td>2.0</td>\n      <td>Infiltrating Ductal Carcinoma</td>\n      <td>Positive</td>\n      <td>Positive</td>\n      <td>Negative</td>\n      <td>Lumpectomy</td>\n      <td>11-Nov-19</td>\n      <td>18-Jan-21</td>\n      <td>Dead</td>\n    </tr>\n    <tr>\n      <th>332</th>\n      <td>79.0</td>\n      <td>FEMALE</td>\n      <td>0.479400</td>\n      <td>2.05590</td>\n      <td>-0.53136</td>\n      <td>-0.188480</td>\n      <td>1.0</td>\n      <td>Infiltrating Ductal Carcinoma</td>\n      <td>Positive</td>\n      <td>Positive</td>\n      <td>Positive</td>\n      <td>Lumpectomy</td>\n      <td>21-Nov-19</td>\n      <td>19-Feb-21</td>\n      <td>Dead</td>\n    </tr>\n    <tr>\n      <th>333</th>\n      <td>76.0</td>\n      <td>FEMALE</td>\n      <td>-0.244270</td>\n      <td>0.92556</td>\n      <td>-0.41823</td>\n      <td>-0.067848</td>\n      <td>1.0</td>\n      <td>Infiltrating Ductal Carcinoma</td>\n      <td>Positive</td>\n      <td>Positive</td>\n      <td>Negative</td>\n      <td>Lumpectomy</td>\n      <td>11-Nov-19</td>\n      <td>05-Jan-21</td>\n      <td>Dead</td>\n    </tr>\n    <tr>\n      <th>334</th>\n      <td>NaN</td>\n      <td>NaN</td>\n      <td>NaN</td>\n      <td>NaN</td>\n      <td>NaN</td>\n      <td>NaN</td>\n      <td>NaN</td>\n      <td>NaN</td>\n      <td>NaN</td>\n      <td>NaN</td>\n      <td>NaN</td>\n      <td>NaN</td>\n      <td>NaN</td>\n      <td>NaN</td>\n      <td>NaN</td>\n    </tr>\n  </tbody>\n</table>\n<p>335 rows × 15 columns</p>\n</div>"
     },
     "execution_count": 46,
     "metadata": {},
     "output_type": "execute_result"
    }
   ],
   "source": [
    "df"
   ],
   "metadata": {
    "collapsed": false
   }
  },
  {
   "cell_type": "code",
   "execution_count": 47,
   "outputs": [
    {
     "data": {
      "text/plain": "RangeIndex(start=0, stop=335, step=1)"
     },
     "execution_count": 47,
     "metadata": {},
     "output_type": "execute_result"
    }
   ],
   "source": [
    "(df.Patient_Status.isna()).index"
   ],
   "metadata": {
    "collapsed": false
   }
  },
  {
   "cell_type": "code",
   "execution_count": 48,
   "outputs": [
    {
     "name": "stdout",
     "output_type": "stream",
     "text": [
      "<class 'float'>\n"
     ]
    }
   ],
   "source": [
    "print(type(df.Patient_Status[7]))"
   ],
   "metadata": {
    "collapsed": false
   }
  },
  {
   "cell_type": "code",
   "execution_count": 49,
   "outputs": [],
   "source": [
    "df.drop([7,22,99,111,182,196,206,219,221,285,286,305,321],inplace=True)"
   ],
   "metadata": {
    "collapsed": false
   }
  },
  {
   "cell_type": "code",
   "execution_count": 50,
   "outputs": [
    {
     "data": {
      "text/plain": "      Age  Gender  Protein1  Protein2  Protein3  Protein4  Tumour_Stage  \\\n0    36.0  FEMALE  0.080353   0.42638   0.54715  0.273680           3.0   \n1    43.0  FEMALE -0.420320   0.57807   0.61447 -0.031505           2.0   \n2    69.0  FEMALE  0.213980   1.31140  -0.32747 -0.234260           3.0   \n3    56.0  FEMALE  0.345090  -0.21147  -0.19304  0.124270           2.0   \n4    56.0  FEMALE  0.221550   1.90680   0.52045 -0.311990           2.0   \n..    ...     ...       ...       ...       ...       ...           ...   \n330  44.0    MALE  0.732720   1.11170  -0.26952 -0.354920           2.0   \n331  61.0  FEMALE -0.719470   2.54850  -0.15024  0.339680           2.0   \n332  79.0  FEMALE  0.479400   2.05590  -0.53136 -0.188480           1.0   \n333  76.0  FEMALE -0.244270   0.92556  -0.41823 -0.067848           1.0   \n334   NaN     NaN       NaN       NaN       NaN       NaN           NaN   \n\n                          Histology ER status PR status HER2 status  \\\n0     Infiltrating Ductal Carcinoma  Positive  Positive    Negative   \n1                Mucinous Carcinoma  Positive  Positive    Negative   \n2     Infiltrating Ductal Carcinoma  Positive  Positive    Negative   \n3     Infiltrating Ductal Carcinoma  Positive  Positive    Negative   \n4     Infiltrating Ductal Carcinoma  Positive  Positive    Negative   \n..                              ...       ...       ...         ...   \n330  Infiltrating Lobular Carcinoma  Positive  Positive    Negative   \n331   Infiltrating Ductal Carcinoma  Positive  Positive    Negative   \n332   Infiltrating Ductal Carcinoma  Positive  Positive    Positive   \n333   Infiltrating Ductal Carcinoma  Positive  Positive    Negative   \n334                             NaN       NaN       NaN         NaN   \n\n                    Surgery_type Date_of_Surgery Date_of_Last_Visit  \\\n0    Modified Radical Mastectomy       15-Jan-17          19-Jun-17   \n1                     Lumpectomy       26-Apr-17          09-Nov-18   \n2                          Other       08-Sep-17          09-Jun-18   \n3    Modified Radical Mastectomy       25-Jan-17          12-Jul-17   \n4                          Other       06-May-17          27-Jun-19   \n..                           ...             ...                ...   \n330                        Other       01-Nov-19          04-Mar-20   \n331                   Lumpectomy       11-Nov-19          18-Jan-21   \n332                   Lumpectomy       21-Nov-19          19-Feb-21   \n333                   Lumpectomy       11-Nov-19          05-Jan-21   \n334                          NaN             NaN                NaN   \n\n    Patient_Status  \n0            Alive  \n1             Dead  \n2            Alive  \n3            Alive  \n4             Dead  \n..             ...  \n330           Dead  \n331           Dead  \n332           Dead  \n333           Dead  \n334            NaN  \n\n[322 rows x 15 columns]",
      "text/html": "<div>\n<style scoped>\n    .dataframe tbody tr th:only-of-type {\n        vertical-align: middle;\n    }\n\n    .dataframe tbody tr th {\n        vertical-align: top;\n    }\n\n    .dataframe thead th {\n        text-align: right;\n    }\n</style>\n<table border=\"1\" class=\"dataframe\">\n  <thead>\n    <tr style=\"text-align: right;\">\n      <th></th>\n      <th>Age</th>\n      <th>Gender</th>\n      <th>Protein1</th>\n      <th>Protein2</th>\n      <th>Protein3</th>\n      <th>Protein4</th>\n      <th>Tumour_Stage</th>\n      <th>Histology</th>\n      <th>ER status</th>\n      <th>PR status</th>\n      <th>HER2 status</th>\n      <th>Surgery_type</th>\n      <th>Date_of_Surgery</th>\n      <th>Date_of_Last_Visit</th>\n      <th>Patient_Status</th>\n    </tr>\n  </thead>\n  <tbody>\n    <tr>\n      <th>0</th>\n      <td>36.0</td>\n      <td>FEMALE</td>\n      <td>0.080353</td>\n      <td>0.42638</td>\n      <td>0.54715</td>\n      <td>0.273680</td>\n      <td>3.0</td>\n      <td>Infiltrating Ductal Carcinoma</td>\n      <td>Positive</td>\n      <td>Positive</td>\n      <td>Negative</td>\n      <td>Modified Radical Mastectomy</td>\n      <td>15-Jan-17</td>\n      <td>19-Jun-17</td>\n      <td>Alive</td>\n    </tr>\n    <tr>\n      <th>1</th>\n      <td>43.0</td>\n      <td>FEMALE</td>\n      <td>-0.420320</td>\n      <td>0.57807</td>\n      <td>0.61447</td>\n      <td>-0.031505</td>\n      <td>2.0</td>\n      <td>Mucinous Carcinoma</td>\n      <td>Positive</td>\n      <td>Positive</td>\n      <td>Negative</td>\n      <td>Lumpectomy</td>\n      <td>26-Apr-17</td>\n      <td>09-Nov-18</td>\n      <td>Dead</td>\n    </tr>\n    <tr>\n      <th>2</th>\n      <td>69.0</td>\n      <td>FEMALE</td>\n      <td>0.213980</td>\n      <td>1.31140</td>\n      <td>-0.32747</td>\n      <td>-0.234260</td>\n      <td>3.0</td>\n      <td>Infiltrating Ductal Carcinoma</td>\n      <td>Positive</td>\n      <td>Positive</td>\n      <td>Negative</td>\n      <td>Other</td>\n      <td>08-Sep-17</td>\n      <td>09-Jun-18</td>\n      <td>Alive</td>\n    </tr>\n    <tr>\n      <th>3</th>\n      <td>56.0</td>\n      <td>FEMALE</td>\n      <td>0.345090</td>\n      <td>-0.21147</td>\n      <td>-0.19304</td>\n      <td>0.124270</td>\n      <td>2.0</td>\n      <td>Infiltrating Ductal Carcinoma</td>\n      <td>Positive</td>\n      <td>Positive</td>\n      <td>Negative</td>\n      <td>Modified Radical Mastectomy</td>\n      <td>25-Jan-17</td>\n      <td>12-Jul-17</td>\n      <td>Alive</td>\n    </tr>\n    <tr>\n      <th>4</th>\n      <td>56.0</td>\n      <td>FEMALE</td>\n      <td>0.221550</td>\n      <td>1.90680</td>\n      <td>0.52045</td>\n      <td>-0.311990</td>\n      <td>2.0</td>\n      <td>Infiltrating Ductal Carcinoma</td>\n      <td>Positive</td>\n      <td>Positive</td>\n      <td>Negative</td>\n      <td>Other</td>\n      <td>06-May-17</td>\n      <td>27-Jun-19</td>\n      <td>Dead</td>\n    </tr>\n    <tr>\n      <th>...</th>\n      <td>...</td>\n      <td>...</td>\n      <td>...</td>\n      <td>...</td>\n      <td>...</td>\n      <td>...</td>\n      <td>...</td>\n      <td>...</td>\n      <td>...</td>\n      <td>...</td>\n      <td>...</td>\n      <td>...</td>\n      <td>...</td>\n      <td>...</td>\n      <td>...</td>\n    </tr>\n    <tr>\n      <th>330</th>\n      <td>44.0</td>\n      <td>MALE</td>\n      <td>0.732720</td>\n      <td>1.11170</td>\n      <td>-0.26952</td>\n      <td>-0.354920</td>\n      <td>2.0</td>\n      <td>Infiltrating Lobular Carcinoma</td>\n      <td>Positive</td>\n      <td>Positive</td>\n      <td>Negative</td>\n      <td>Other</td>\n      <td>01-Nov-19</td>\n      <td>04-Mar-20</td>\n      <td>Dead</td>\n    </tr>\n    <tr>\n      <th>331</th>\n      <td>61.0</td>\n      <td>FEMALE</td>\n      <td>-0.719470</td>\n      <td>2.54850</td>\n      <td>-0.15024</td>\n      <td>0.339680</td>\n      <td>2.0</td>\n      <td>Infiltrating Ductal Carcinoma</td>\n      <td>Positive</td>\n      <td>Positive</td>\n      <td>Negative</td>\n      <td>Lumpectomy</td>\n      <td>11-Nov-19</td>\n      <td>18-Jan-21</td>\n      <td>Dead</td>\n    </tr>\n    <tr>\n      <th>332</th>\n      <td>79.0</td>\n      <td>FEMALE</td>\n      <td>0.479400</td>\n      <td>2.05590</td>\n      <td>-0.53136</td>\n      <td>-0.188480</td>\n      <td>1.0</td>\n      <td>Infiltrating Ductal Carcinoma</td>\n      <td>Positive</td>\n      <td>Positive</td>\n      <td>Positive</td>\n      <td>Lumpectomy</td>\n      <td>21-Nov-19</td>\n      <td>19-Feb-21</td>\n      <td>Dead</td>\n    </tr>\n    <tr>\n      <th>333</th>\n      <td>76.0</td>\n      <td>FEMALE</td>\n      <td>-0.244270</td>\n      <td>0.92556</td>\n      <td>-0.41823</td>\n      <td>-0.067848</td>\n      <td>1.0</td>\n      <td>Infiltrating Ductal Carcinoma</td>\n      <td>Positive</td>\n      <td>Positive</td>\n      <td>Negative</td>\n      <td>Lumpectomy</td>\n      <td>11-Nov-19</td>\n      <td>05-Jan-21</td>\n      <td>Dead</td>\n    </tr>\n    <tr>\n      <th>334</th>\n      <td>NaN</td>\n      <td>NaN</td>\n      <td>NaN</td>\n      <td>NaN</td>\n      <td>NaN</td>\n      <td>NaN</td>\n      <td>NaN</td>\n      <td>NaN</td>\n      <td>NaN</td>\n      <td>NaN</td>\n      <td>NaN</td>\n      <td>NaN</td>\n      <td>NaN</td>\n      <td>NaN</td>\n      <td>NaN</td>\n    </tr>\n  </tbody>\n</table>\n<p>322 rows × 15 columns</p>\n</div>"
     },
     "execution_count": 50,
     "metadata": {},
     "output_type": "execute_result"
    }
   ],
   "source": [
    "df"
   ],
   "metadata": {
    "collapsed": false
   }
  },
  {
   "cell_type": "code",
   "execution_count": 51,
   "outputs": [
    {
     "name": "stdout",
     "output_type": "stream",
     "text": [
      "<class 'pandas.core.frame.DataFrame'>\n",
      "Int64Index: 322 entries, 0 to 334\n",
      "Data columns (total 15 columns):\n",
      " #   Column              Non-Null Count  Dtype  \n",
      "---  ------              --------------  -----  \n",
      " 0   Age                 321 non-null    float64\n",
      " 1   Gender              321 non-null    object \n",
      " 2   Protein1            321 non-null    float64\n",
      " 3   Protein2            321 non-null    float64\n",
      " 4   Protein3            321 non-null    float64\n",
      " 5   Protein4            321 non-null    float64\n",
      " 6   Tumour_Stage        321 non-null    float64\n",
      " 7   Histology           321 non-null    object \n",
      " 8   ER status           321 non-null    object \n",
      " 9   PR status           321 non-null    object \n",
      " 10  HER2 status         321 non-null    object \n",
      " 11  Surgery_type        321 non-null    object \n",
      " 12  Date_of_Surgery     321 non-null    object \n",
      " 13  Date_of_Last_Visit  317 non-null    object \n",
      " 14  Patient_Status      321 non-null    object \n",
      "dtypes: float64(6), object(9)\n",
      "memory usage: 40.2+ KB\n"
     ]
    }
   ],
   "source": [
    "df.info()"
   ],
   "metadata": {
    "collapsed": false
   }
  },
  {
   "cell_type": "code",
   "execution_count": 52,
   "outputs": [
    {
     "data": {
      "text/plain": "0      False\n1      False\n2      False\n3      False\n4      False\n       ...  \n330    False\n331    False\n332    False\n333    False\n334     True\nName: Date_of_Last_Visit, Length: 322, dtype: bool"
     },
     "execution_count": 52,
     "metadata": {},
     "output_type": "execute_result"
    }
   ],
   "source": [
    "df.Date_of_Last_Visit.isna()"
   ],
   "metadata": {
    "collapsed": false
   }
  },
  {
   "cell_type": "code",
   "execution_count": 53,
   "outputs": [],
   "source": [
    "df.drop([189,265,170,283],inplace=True)"
   ],
   "metadata": {
    "collapsed": false
   }
  },
  {
   "cell_type": "code",
   "execution_count": 54,
   "outputs": [
    {
     "data": {
      "text/plain": "1"
     },
     "execution_count": 54,
     "metadata": {},
     "output_type": "execute_result"
    }
   ],
   "source": [
    "df.Date_of_Last_Visit.isna().sum()"
   ],
   "metadata": {
    "collapsed": false
   }
  },
  {
   "cell_type": "code",
   "execution_count": 55,
   "outputs": [
    {
     "data": {
      "text/plain": "15"
     },
     "execution_count": 55,
     "metadata": {},
     "output_type": "execute_result"
    }
   ],
   "source": [
    "df.isna().sum().sum()"
   ],
   "metadata": {
    "collapsed": false
   }
  },
  {
   "cell_type": "code",
   "execution_count": 56,
   "outputs": [],
   "source": [
    "df.drop([334],inplace=True)"
   ],
   "metadata": {
    "collapsed": false
   }
  },
  {
   "cell_type": "code",
   "execution_count": 57,
   "outputs": [
    {
     "data": {
      "text/plain": "      Age  Gender  Protein1  Protein2  Protein3  Protein4  Tumour_Stage  \\\n0    36.0  FEMALE  0.080353   0.42638   0.54715  0.273680           3.0   \n1    43.0  FEMALE -0.420320   0.57807   0.61447 -0.031505           2.0   \n2    69.0  FEMALE  0.213980   1.31140  -0.32747 -0.234260           3.0   \n3    56.0  FEMALE  0.345090  -0.21147  -0.19304  0.124270           2.0   \n4    56.0  FEMALE  0.221550   1.90680   0.52045 -0.311990           2.0   \n..    ...     ...       ...       ...       ...       ...           ...   \n329  36.0  FEMALE  0.231800   0.61804  -0.55779 -0.517350           3.0   \n330  44.0    MALE  0.732720   1.11170  -0.26952 -0.354920           2.0   \n331  61.0  FEMALE -0.719470   2.54850  -0.15024  0.339680           2.0   \n332  79.0  FEMALE  0.479400   2.05590  -0.53136 -0.188480           1.0   \n333  76.0  FEMALE -0.244270   0.92556  -0.41823 -0.067848           1.0   \n\n                          Histology ER status PR status HER2 status  \\\n0     Infiltrating Ductal Carcinoma  Positive  Positive    Negative   \n1                Mucinous Carcinoma  Positive  Positive    Negative   \n2     Infiltrating Ductal Carcinoma  Positive  Positive    Negative   \n3     Infiltrating Ductal Carcinoma  Positive  Positive    Negative   \n4     Infiltrating Ductal Carcinoma  Positive  Positive    Negative   \n..                              ...       ...       ...         ...   \n329   Infiltrating Ductal Carcinoma  Positive  Positive    Positive   \n330  Infiltrating Lobular Carcinoma  Positive  Positive    Negative   \n331   Infiltrating Ductal Carcinoma  Positive  Positive    Negative   \n332   Infiltrating Ductal Carcinoma  Positive  Positive    Positive   \n333   Infiltrating Ductal Carcinoma  Positive  Positive    Negative   \n\n                    Surgery_type Date_of_Surgery Date_of_Last_Visit  \\\n0    Modified Radical Mastectomy       15-Jan-17          19-Jun-17   \n1                     Lumpectomy       26-Apr-17          09-Nov-18   \n2                          Other       08-Sep-17          09-Jun-18   \n3    Modified Radical Mastectomy       25-Jan-17          12-Jul-17   \n4                          Other       06-May-17          27-Jun-19   \n..                           ...             ...                ...   \n329            Simple Mastectomy       11-Nov-19          09-Feb-20   \n330                        Other       01-Nov-19          04-Mar-20   \n331                   Lumpectomy       11-Nov-19          18-Jan-21   \n332                   Lumpectomy       21-Nov-19          19-Feb-21   \n333                   Lumpectomy       11-Nov-19          05-Jan-21   \n\n    Patient_Status  \n0            Alive  \n1             Dead  \n2            Alive  \n3            Alive  \n4             Dead  \n..             ...  \n329           Dead  \n330           Dead  \n331           Dead  \n332           Dead  \n333           Dead  \n\n[317 rows x 15 columns]",
      "text/html": "<div>\n<style scoped>\n    .dataframe tbody tr th:only-of-type {\n        vertical-align: middle;\n    }\n\n    .dataframe tbody tr th {\n        vertical-align: top;\n    }\n\n    .dataframe thead th {\n        text-align: right;\n    }\n</style>\n<table border=\"1\" class=\"dataframe\">\n  <thead>\n    <tr style=\"text-align: right;\">\n      <th></th>\n      <th>Age</th>\n      <th>Gender</th>\n      <th>Protein1</th>\n      <th>Protein2</th>\n      <th>Protein3</th>\n      <th>Protein4</th>\n      <th>Tumour_Stage</th>\n      <th>Histology</th>\n      <th>ER status</th>\n      <th>PR status</th>\n      <th>HER2 status</th>\n      <th>Surgery_type</th>\n      <th>Date_of_Surgery</th>\n      <th>Date_of_Last_Visit</th>\n      <th>Patient_Status</th>\n    </tr>\n  </thead>\n  <tbody>\n    <tr>\n      <th>0</th>\n      <td>36.0</td>\n      <td>FEMALE</td>\n      <td>0.080353</td>\n      <td>0.42638</td>\n      <td>0.54715</td>\n      <td>0.273680</td>\n      <td>3.0</td>\n      <td>Infiltrating Ductal Carcinoma</td>\n      <td>Positive</td>\n      <td>Positive</td>\n      <td>Negative</td>\n      <td>Modified Radical Mastectomy</td>\n      <td>15-Jan-17</td>\n      <td>19-Jun-17</td>\n      <td>Alive</td>\n    </tr>\n    <tr>\n      <th>1</th>\n      <td>43.0</td>\n      <td>FEMALE</td>\n      <td>-0.420320</td>\n      <td>0.57807</td>\n      <td>0.61447</td>\n      <td>-0.031505</td>\n      <td>2.0</td>\n      <td>Mucinous Carcinoma</td>\n      <td>Positive</td>\n      <td>Positive</td>\n      <td>Negative</td>\n      <td>Lumpectomy</td>\n      <td>26-Apr-17</td>\n      <td>09-Nov-18</td>\n      <td>Dead</td>\n    </tr>\n    <tr>\n      <th>2</th>\n      <td>69.0</td>\n      <td>FEMALE</td>\n      <td>0.213980</td>\n      <td>1.31140</td>\n      <td>-0.32747</td>\n      <td>-0.234260</td>\n      <td>3.0</td>\n      <td>Infiltrating Ductal Carcinoma</td>\n      <td>Positive</td>\n      <td>Positive</td>\n      <td>Negative</td>\n      <td>Other</td>\n      <td>08-Sep-17</td>\n      <td>09-Jun-18</td>\n      <td>Alive</td>\n    </tr>\n    <tr>\n      <th>3</th>\n      <td>56.0</td>\n      <td>FEMALE</td>\n      <td>0.345090</td>\n      <td>-0.21147</td>\n      <td>-0.19304</td>\n      <td>0.124270</td>\n      <td>2.0</td>\n      <td>Infiltrating Ductal Carcinoma</td>\n      <td>Positive</td>\n      <td>Positive</td>\n      <td>Negative</td>\n      <td>Modified Radical Mastectomy</td>\n      <td>25-Jan-17</td>\n      <td>12-Jul-17</td>\n      <td>Alive</td>\n    </tr>\n    <tr>\n      <th>4</th>\n      <td>56.0</td>\n      <td>FEMALE</td>\n      <td>0.221550</td>\n      <td>1.90680</td>\n      <td>0.52045</td>\n      <td>-0.311990</td>\n      <td>2.0</td>\n      <td>Infiltrating Ductal Carcinoma</td>\n      <td>Positive</td>\n      <td>Positive</td>\n      <td>Negative</td>\n      <td>Other</td>\n      <td>06-May-17</td>\n      <td>27-Jun-19</td>\n      <td>Dead</td>\n    </tr>\n    <tr>\n      <th>...</th>\n      <td>...</td>\n      <td>...</td>\n      <td>...</td>\n      <td>...</td>\n      <td>...</td>\n      <td>...</td>\n      <td>...</td>\n      <td>...</td>\n      <td>...</td>\n      <td>...</td>\n      <td>...</td>\n      <td>...</td>\n      <td>...</td>\n      <td>...</td>\n      <td>...</td>\n    </tr>\n    <tr>\n      <th>329</th>\n      <td>36.0</td>\n      <td>FEMALE</td>\n      <td>0.231800</td>\n      <td>0.61804</td>\n      <td>-0.55779</td>\n      <td>-0.517350</td>\n      <td>3.0</td>\n      <td>Infiltrating Ductal Carcinoma</td>\n      <td>Positive</td>\n      <td>Positive</td>\n      <td>Positive</td>\n      <td>Simple Mastectomy</td>\n      <td>11-Nov-19</td>\n      <td>09-Feb-20</td>\n      <td>Dead</td>\n    </tr>\n    <tr>\n      <th>330</th>\n      <td>44.0</td>\n      <td>MALE</td>\n      <td>0.732720</td>\n      <td>1.11170</td>\n      <td>-0.26952</td>\n      <td>-0.354920</td>\n      <td>2.0</td>\n      <td>Infiltrating Lobular Carcinoma</td>\n      <td>Positive</td>\n      <td>Positive</td>\n      <td>Negative</td>\n      <td>Other</td>\n      <td>01-Nov-19</td>\n      <td>04-Mar-20</td>\n      <td>Dead</td>\n    </tr>\n    <tr>\n      <th>331</th>\n      <td>61.0</td>\n      <td>FEMALE</td>\n      <td>-0.719470</td>\n      <td>2.54850</td>\n      <td>-0.15024</td>\n      <td>0.339680</td>\n      <td>2.0</td>\n      <td>Infiltrating Ductal Carcinoma</td>\n      <td>Positive</td>\n      <td>Positive</td>\n      <td>Negative</td>\n      <td>Lumpectomy</td>\n      <td>11-Nov-19</td>\n      <td>18-Jan-21</td>\n      <td>Dead</td>\n    </tr>\n    <tr>\n      <th>332</th>\n      <td>79.0</td>\n      <td>FEMALE</td>\n      <td>0.479400</td>\n      <td>2.05590</td>\n      <td>-0.53136</td>\n      <td>-0.188480</td>\n      <td>1.0</td>\n      <td>Infiltrating Ductal Carcinoma</td>\n      <td>Positive</td>\n      <td>Positive</td>\n      <td>Positive</td>\n      <td>Lumpectomy</td>\n      <td>21-Nov-19</td>\n      <td>19-Feb-21</td>\n      <td>Dead</td>\n    </tr>\n    <tr>\n      <th>333</th>\n      <td>76.0</td>\n      <td>FEMALE</td>\n      <td>-0.244270</td>\n      <td>0.92556</td>\n      <td>-0.41823</td>\n      <td>-0.067848</td>\n      <td>1.0</td>\n      <td>Infiltrating Ductal Carcinoma</td>\n      <td>Positive</td>\n      <td>Positive</td>\n      <td>Negative</td>\n      <td>Lumpectomy</td>\n      <td>11-Nov-19</td>\n      <td>05-Jan-21</td>\n      <td>Dead</td>\n    </tr>\n  </tbody>\n</table>\n<p>317 rows × 15 columns</p>\n</div>"
     },
     "execution_count": 57,
     "metadata": {},
     "output_type": "execute_result"
    }
   ],
   "source": [
    "df"
   ],
   "metadata": {
    "collapsed": false
   }
  },
  {
   "cell_type": "code",
   "execution_count": 58,
   "outputs": [],
   "source": [
    "ms = []\n",
    "for i in df.Date_of_Surgery:\n",
    "    x = i.split('-')\n",
    "    ms.append(x)"
   ],
   "metadata": {
    "collapsed": false
   }
  },
  {
   "cell_type": "code",
   "execution_count": 59,
   "outputs": [
    {
     "data": {
      "text/plain": "[['15', 'Jan', '17'],\n ['26', 'Apr', '17'],\n ['08', 'Sep', '17'],\n ['25', 'Jan', '17'],\n ['06', 'May', '17'],\n ['18', 'Sep', '17'],\n ['04', 'Feb', '17'],\n ['28', 'Sep', '17'],\n ['14', 'Feb', '17'],\n ['26', 'May', '17'],\n ['08', 'Oct', '17'],\n ['24', 'Feb', '17'],\n ['05', 'Jun', '17'],\n ['18', 'Oct', '17'],\n ['06', 'Mar', '17'],\n ['15', 'Jun', '17'],\n ['28', 'Oct', '17'],\n ['16', 'Mar', '17'],\n ['25', 'Jun', '17'],\n ['07', 'Nov', '17'],\n ['26', 'Mar', '17'],\n ['17', 'Nov', '17'],\n ['05', 'Apr', '17'],\n ['17', 'Nov', '17'],\n ['27', 'Nov', '17'],\n ['15', 'Apr', '17'],\n ['27', 'Nov', '17'],\n ['07', 'Dec', '17'],\n ['25', 'Apr', '17'],\n ['07', 'Dec', '17'],\n ['17', 'Dec', '17'],\n ['05', 'May', '17'],\n ['17', 'Dec', '17'],\n ['27', 'Dec', '17'],\n ['15', 'May', '17'],\n ['27', 'Dec', '17'],\n ['06', 'Jan', '18'],\n ['25', 'May', '17'],\n ['06', 'Jan', '18'],\n ['16', 'Jan', '18'],\n ['04', 'Jun', '17'],\n ['16', 'Jan', '18'],\n ['26', 'Jan', '18'],\n ['14', 'Jun', '17'],\n ['26', 'Jan', '18'],\n ['05', 'Feb', '18'],\n ['24', 'Jun', '17'],\n ['05', 'Feb', '18'],\n ['15', 'Feb', '18'],\n ['04', 'Jul', '17'],\n ['15', 'Feb', '18'],\n ['25', 'Feb', '18'],\n ['14', 'Jul', '17'],\n ['25', 'Feb', '18'],\n ['07', 'Mar', '18'],\n ['24', 'Jul', '17'],\n ['07', 'Mar', '18'],\n ['17', 'Mar', '18'],\n ['03', 'Aug', '17'],\n ['17', 'Mar', '18'],\n ['27', 'Mar', '18'],\n ['13', 'Aug', '17'],\n ['27', 'Mar', '18'],\n ['06', 'Apr', '18'],\n ['23', 'Aug', '17'],\n ['06', 'Apr', '18'],\n ['16', 'Apr', '18'],\n ['02', 'Sep', '17'],\n ['16', 'Apr', '18'],\n ['26', 'Apr', '18'],\n ['12', 'Sep', '17'],\n ['26', 'Apr', '18'],\n ['06', 'May', '18'],\n ['22', 'Sep', '17'],\n ['06', 'May', '18'],\n ['16', 'May', '18'],\n ['02', 'Oct', '17'],\n ['16', 'May', '18'],\n ['26', 'May', '18'],\n ['12', 'Oct', '17'],\n ['26', 'May', '18'],\n ['05', 'Jun', '18'],\n ['22', 'Oct', '17'],\n ['05', 'Jun', '18'],\n ['15', 'Jun', '18'],\n ['01', 'Nov', '17'],\n ['15', 'Jun', '18'],\n ['25', 'Jun', '18'],\n ['11', 'Nov', '17'],\n ['25', 'Jun', '18'],\n ['05', 'Jul', '18'],\n ['21', 'Nov', '17'],\n ['05', 'Jul', '18'],\n ['15', 'Jul', '18'],\n ['01', 'Dec', '17'],\n ['15', 'Jul', '18'],\n ['25', 'Jul', '18'],\n ['25', 'Jul', '18'],\n ['04', 'Aug', '18'],\n ['21', 'Dec', '17'],\n ['04', 'Aug', '18'],\n ['14', 'Aug', '18'],\n ['31', 'Dec', '17'],\n ['14', 'Aug', '18'],\n ['24', 'Aug', '18'],\n ['10', 'Jan', '18'],\n ['24', 'Aug', '18'],\n ['03', 'Sep', '18'],\n ['03', 'Sep', '18'],\n ['13', 'Sep', '18'],\n ['30', 'Jan', '18'],\n ['13', 'Sep', '18'],\n ['23', 'Sep', '18'],\n ['09', 'Feb', '18'],\n ['23', 'Sep', '18'],\n ['03', 'Oct', '18'],\n ['19', 'Feb', '18'],\n ['03', 'Oct', '18'],\n ['19', 'Feb', '18'],\n ['01', 'Mar', '18'],\n ['13', 'Oct', '18'],\n ['01', 'Mar', '18'],\n ['11', 'Mar', '18'],\n ['23', 'Oct', '18'],\n ['11', 'Mar', '18'],\n ['21', 'Mar', '18'],\n ['02', 'Nov', '18'],\n ['21', 'Mar', '18'],\n ['31', 'Mar', '18'],\n ['12', 'Nov', '18'],\n ['31', 'Mar', '18'],\n ['10', 'Apr', '18'],\n ['22', 'Nov', '18'],\n ['10', 'Apr', '18'],\n ['20', 'Apr', '18'],\n ['02', 'Dec', '18'],\n ['20', 'Apr', '18'],\n ['30', 'Apr', '18'],\n ['12', 'Dec', '18'],\n ['30', 'Apr', '18'],\n ['10', 'May', '18'],\n ['22', 'Dec', '18'],\n ['10', 'May', '18'],\n ['20', 'May', '18'],\n ['01', 'Jan', '19'],\n ['20', 'May', '18'],\n ['30', 'May', '18'],\n ['11', 'Jan', '19'],\n ['30', 'May', '18'],\n ['09', 'Jun', '18'],\n ['21', 'Jan', '19'],\n ['09', 'Jun', '18'],\n ['19', 'Jun', '18'],\n ['31', 'Jan', '19'],\n ['19', 'Jun', '18'],\n ['29', 'Jun', '18'],\n ['10', 'Feb', '19'],\n ['29', 'Jun', '18'],\n ['09', 'Jul', '18'],\n ['20', 'Feb', '19'],\n ['09', 'Jul', '18'],\n ['19', 'Jul', '18'],\n ['02', 'Mar', '19'],\n ['19', 'Jul', '18'],\n ['29', 'Jul', '18'],\n ['12', 'Mar', '19'],\n ['08', 'Aug', '18'],\n ['22', 'Mar', '19'],\n ['08', 'Aug', '18'],\n ['18', 'Aug', '18'],\n ['01', 'Apr', '19'],\n ['18', 'Aug', '18'],\n ['28', 'Aug', '18'],\n ['11', 'Apr', '19'],\n ['28', 'Aug', '18'],\n ['07', 'Sep', '18'],\n ['21', 'Apr', '19'],\n ['17', 'Sep', '18'],\n ['01', 'May', '19'],\n ['17', 'Sep', '18'],\n ['27', 'Sep', '18'],\n ['11', 'May', '19'],\n ['27', 'Sep', '18'],\n ['21', 'May', '19'],\n ['07', 'Oct', '18'],\n ['17', 'Oct', '18'],\n ['31', 'May', '19'],\n ['17', 'Oct', '18'],\n ['27', 'Oct', '18'],\n ['27', 'Oct', '18'],\n ['06', 'Nov', '18'],\n ['20', 'Jun', '19'],\n ['06', 'Nov', '18'],\n ['16', 'Nov', '18'],\n ['30', 'Jun', '19'],\n ['16', 'Nov', '18'],\n ['26', 'Nov', '18'],\n ['10', 'Jul', '19'],\n ['06', 'Dec', '18'],\n ['20', 'Jul', '19'],\n ['06', 'Dec', '18'],\n ['16', 'Dec', '18'],\n ['07', 'Oct', '18'],\n ['17', 'Oct', '18'],\n ['31', 'May', '19'],\n ['17', 'Oct', '18'],\n ['27', 'Oct', '18'],\n ['10', 'Jun', '19'],\n ['27', 'Oct', '18'],\n ['06', 'Nov', '18'],\n ['06', 'Nov', '18'],\n ['06', 'Nov', '18'],\n ['16', 'Nov', '18'],\n ['26', 'Nov', '18'],\n ['16', 'Nov', '18'],\n ['26', 'Nov', '18'],\n ['06', 'Dec', '18'],\n ['26', 'Nov', '18'],\n ['06', 'Dec', '18'],\n ['16', 'Dec', '18'],\n ['06', 'Dec', '18'],\n ['16', 'Dec', '18'],\n ['26', 'Dec', '18'],\n ['16', 'Dec', '18'],\n ['26', 'Dec', '18'],\n ['05', 'Jan', '19'],\n ['26', 'Dec', '18'],\n ['05', 'Jan', '19'],\n ['15', 'Jan', '19'],\n ['05', 'Jan', '19'],\n ['15', 'Jan', '19'],\n ['25', 'Jan', '19'],\n ['15', 'Jan', '19'],\n ['25', 'Jan', '19'],\n ['04', 'Feb', '19'],\n ['25', 'Jan', '19'],\n ['04', 'Feb', '19'],\n ['14', 'Feb', '19'],\n ['04', 'Feb', '19'],\n ['14', 'Feb', '19'],\n ['24', 'Feb', '19'],\n ['14', 'Feb', '19'],\n ['24', 'Feb', '19'],\n ['06', 'Mar', '19'],\n ['24', 'Feb', '19'],\n ['06', 'Mar', '19'],\n ['16', 'Mar', '19'],\n ['06', 'Mar', '19'],\n ['16', 'Mar', '19'],\n ['26', 'Mar', '19'],\n ['16', 'Mar', '19'],\n ['26', 'Mar', '19'],\n ['05', 'Apr', '19'],\n ['26', 'Mar', '19'],\n ['15', 'Apr', '19'],\n ['05', 'Apr', '19'],\n ['15', 'Apr', '19'],\n ['25', 'Apr', '19'],\n ['15', 'Apr', '19'],\n ['25', 'Apr', '19'],\n ['05', 'May', '19'],\n ['25', 'Apr', '19'],\n ['05', 'May', '19'],\n ['15', 'May', '19'],\n ['05', 'May', '19'],\n ['15', 'May', '19'],\n ['25', 'May', '19'],\n ['15', 'May', '19'],\n ['25', 'May', '19'],\n ['04', 'Jun', '19'],\n ['25', 'May', '19'],\n ['14', 'Jun', '19'],\n ['24', 'Jun', '19'],\n ['14', 'Jun', '19'],\n ['24', 'Jun', '19'],\n ['04', 'Jul', '19'],\n ['24', 'Jun', '19'],\n ['04', 'Jul', '19'],\n ['14', 'Jul', '19'],\n ['04', 'Jul', '19'],\n ['14', 'Jul', '19'],\n ['24', 'Jul', '19'],\n ['14', 'Jul', '19'],\n ['24', 'Jul', '19'],\n ['03', 'Aug', '19'],\n ['24', 'Jul', '19'],\n ['03', 'Aug', '19'],\n ['13', 'Aug', '19'],\n ['03', 'Aug', '19'],\n ['13', 'Aug', '19'],\n ['13', 'Aug', '19'],\n ['23', 'Aug', '19'],\n ['02', 'Sep', '19'],\n ['23', 'Aug', '19'],\n ['02', 'Sep', '19'],\n ['12', 'Sep', '19'],\n ['02', 'Sep', '19'],\n ['12', 'Sep', '19'],\n ['22', 'Sep', '19'],\n ['12', 'Sep', '19'],\n ['22', 'Sep', '19'],\n ['02', 'Oct', '19'],\n ['22', 'Sep', '19'],\n ['02', 'Oct', '19'],\n ['12', 'Oct', '19'],\n ['12', 'Oct', '19'],\n ['22', 'Oct', '19'],\n ['12', 'Oct', '19'],\n ['22', 'Oct', '19'],\n ['01', 'Nov', '19'],\n ['22', 'Oct', '19'],\n ['01', 'Nov', '19'],\n ['11', 'Nov', '19'],\n ['01', 'Nov', '19'],\n ['11', 'Nov', '19'],\n ['21', 'Nov', '19'],\n ['11', 'Nov', '19']]"
     },
     "execution_count": 59,
     "metadata": {},
     "output_type": "execute_result"
    }
   ],
   "source": [
    "ms"
   ],
   "metadata": {
    "collapsed": false
   }
  },
  {
   "cell_type": "code",
   "execution_count": 60,
   "outputs": [],
   "source": [
    "date_surge = pd.DataFrame(ms, columns = ['day', 'month', 'year'])"
   ],
   "metadata": {
    "collapsed": false
   }
  },
  {
   "cell_type": "code",
   "execution_count": 61,
   "outputs": [],
   "source": [
    "df.drop(['Date_of_Surgery'],inplace=True,axis=1)"
   ],
   "metadata": {
    "collapsed": false
   }
  },
  {
   "cell_type": "code",
   "execution_count": 62,
   "outputs": [
    {
     "data": {
      "text/plain": "      Age  Gender  Protein1  Protein2  Protein3  Protein4  Tumour_Stage  \\\n0    36.0  FEMALE  0.080353   0.42638   0.54715  0.273680           3.0   \n1    43.0  FEMALE -0.420320   0.57807   0.61447 -0.031505           2.0   \n2    69.0  FEMALE  0.213980   1.31140  -0.32747 -0.234260           3.0   \n3    56.0  FEMALE  0.345090  -0.21147  -0.19304  0.124270           2.0   \n4    56.0  FEMALE  0.221550   1.90680   0.52045 -0.311990           2.0   \n..    ...     ...       ...       ...       ...       ...           ...   \n329  36.0  FEMALE  0.231800   0.61804  -0.55779 -0.517350           3.0   \n330  44.0    MALE  0.732720   1.11170  -0.26952 -0.354920           2.0   \n331  61.0  FEMALE -0.719470   2.54850  -0.15024  0.339680           2.0   \n332  79.0  FEMALE  0.479400   2.05590  -0.53136 -0.188480           1.0   \n333  76.0  FEMALE -0.244270   0.92556  -0.41823 -0.067848           1.0   \n\n                          Histology ER status PR status HER2 status  \\\n0     Infiltrating Ductal Carcinoma  Positive  Positive    Negative   \n1                Mucinous Carcinoma  Positive  Positive    Negative   \n2     Infiltrating Ductal Carcinoma  Positive  Positive    Negative   \n3     Infiltrating Ductal Carcinoma  Positive  Positive    Negative   \n4     Infiltrating Ductal Carcinoma  Positive  Positive    Negative   \n..                              ...       ...       ...         ...   \n329   Infiltrating Ductal Carcinoma  Positive  Positive    Positive   \n330  Infiltrating Lobular Carcinoma  Positive  Positive    Negative   \n331   Infiltrating Ductal Carcinoma  Positive  Positive    Negative   \n332   Infiltrating Ductal Carcinoma  Positive  Positive    Positive   \n333   Infiltrating Ductal Carcinoma  Positive  Positive    Negative   \n\n                    Surgery_type Date_of_Last_Visit Patient_Status  \n0    Modified Radical Mastectomy          19-Jun-17          Alive  \n1                     Lumpectomy          09-Nov-18           Dead  \n2                          Other          09-Jun-18          Alive  \n3    Modified Radical Mastectomy          12-Jul-17          Alive  \n4                          Other          27-Jun-19           Dead  \n..                           ...                ...            ...  \n329            Simple Mastectomy          09-Feb-20           Dead  \n330                        Other          04-Mar-20           Dead  \n331                   Lumpectomy          18-Jan-21           Dead  \n332                   Lumpectomy          19-Feb-21           Dead  \n333                   Lumpectomy          05-Jan-21           Dead  \n\n[317 rows x 14 columns]",
      "text/html": "<div>\n<style scoped>\n    .dataframe tbody tr th:only-of-type {\n        vertical-align: middle;\n    }\n\n    .dataframe tbody tr th {\n        vertical-align: top;\n    }\n\n    .dataframe thead th {\n        text-align: right;\n    }\n</style>\n<table border=\"1\" class=\"dataframe\">\n  <thead>\n    <tr style=\"text-align: right;\">\n      <th></th>\n      <th>Age</th>\n      <th>Gender</th>\n      <th>Protein1</th>\n      <th>Protein2</th>\n      <th>Protein3</th>\n      <th>Protein4</th>\n      <th>Tumour_Stage</th>\n      <th>Histology</th>\n      <th>ER status</th>\n      <th>PR status</th>\n      <th>HER2 status</th>\n      <th>Surgery_type</th>\n      <th>Date_of_Last_Visit</th>\n      <th>Patient_Status</th>\n    </tr>\n  </thead>\n  <tbody>\n    <tr>\n      <th>0</th>\n      <td>36.0</td>\n      <td>FEMALE</td>\n      <td>0.080353</td>\n      <td>0.42638</td>\n      <td>0.54715</td>\n      <td>0.273680</td>\n      <td>3.0</td>\n      <td>Infiltrating Ductal Carcinoma</td>\n      <td>Positive</td>\n      <td>Positive</td>\n      <td>Negative</td>\n      <td>Modified Radical Mastectomy</td>\n      <td>19-Jun-17</td>\n      <td>Alive</td>\n    </tr>\n    <tr>\n      <th>1</th>\n      <td>43.0</td>\n      <td>FEMALE</td>\n      <td>-0.420320</td>\n      <td>0.57807</td>\n      <td>0.61447</td>\n      <td>-0.031505</td>\n      <td>2.0</td>\n      <td>Mucinous Carcinoma</td>\n      <td>Positive</td>\n      <td>Positive</td>\n      <td>Negative</td>\n      <td>Lumpectomy</td>\n      <td>09-Nov-18</td>\n      <td>Dead</td>\n    </tr>\n    <tr>\n      <th>2</th>\n      <td>69.0</td>\n      <td>FEMALE</td>\n      <td>0.213980</td>\n      <td>1.31140</td>\n      <td>-0.32747</td>\n      <td>-0.234260</td>\n      <td>3.0</td>\n      <td>Infiltrating Ductal Carcinoma</td>\n      <td>Positive</td>\n      <td>Positive</td>\n      <td>Negative</td>\n      <td>Other</td>\n      <td>09-Jun-18</td>\n      <td>Alive</td>\n    </tr>\n    <tr>\n      <th>3</th>\n      <td>56.0</td>\n      <td>FEMALE</td>\n      <td>0.345090</td>\n      <td>-0.21147</td>\n      <td>-0.19304</td>\n      <td>0.124270</td>\n      <td>2.0</td>\n      <td>Infiltrating Ductal Carcinoma</td>\n      <td>Positive</td>\n      <td>Positive</td>\n      <td>Negative</td>\n      <td>Modified Radical Mastectomy</td>\n      <td>12-Jul-17</td>\n      <td>Alive</td>\n    </tr>\n    <tr>\n      <th>4</th>\n      <td>56.0</td>\n      <td>FEMALE</td>\n      <td>0.221550</td>\n      <td>1.90680</td>\n      <td>0.52045</td>\n      <td>-0.311990</td>\n      <td>2.0</td>\n      <td>Infiltrating Ductal Carcinoma</td>\n      <td>Positive</td>\n      <td>Positive</td>\n      <td>Negative</td>\n      <td>Other</td>\n      <td>27-Jun-19</td>\n      <td>Dead</td>\n    </tr>\n    <tr>\n      <th>...</th>\n      <td>...</td>\n      <td>...</td>\n      <td>...</td>\n      <td>...</td>\n      <td>...</td>\n      <td>...</td>\n      <td>...</td>\n      <td>...</td>\n      <td>...</td>\n      <td>...</td>\n      <td>...</td>\n      <td>...</td>\n      <td>...</td>\n      <td>...</td>\n    </tr>\n    <tr>\n      <th>329</th>\n      <td>36.0</td>\n      <td>FEMALE</td>\n      <td>0.231800</td>\n      <td>0.61804</td>\n      <td>-0.55779</td>\n      <td>-0.517350</td>\n      <td>3.0</td>\n      <td>Infiltrating Ductal Carcinoma</td>\n      <td>Positive</td>\n      <td>Positive</td>\n      <td>Positive</td>\n      <td>Simple Mastectomy</td>\n      <td>09-Feb-20</td>\n      <td>Dead</td>\n    </tr>\n    <tr>\n      <th>330</th>\n      <td>44.0</td>\n      <td>MALE</td>\n      <td>0.732720</td>\n      <td>1.11170</td>\n      <td>-0.26952</td>\n      <td>-0.354920</td>\n      <td>2.0</td>\n      <td>Infiltrating Lobular Carcinoma</td>\n      <td>Positive</td>\n      <td>Positive</td>\n      <td>Negative</td>\n      <td>Other</td>\n      <td>04-Mar-20</td>\n      <td>Dead</td>\n    </tr>\n    <tr>\n      <th>331</th>\n      <td>61.0</td>\n      <td>FEMALE</td>\n      <td>-0.719470</td>\n      <td>2.54850</td>\n      <td>-0.15024</td>\n      <td>0.339680</td>\n      <td>2.0</td>\n      <td>Infiltrating Ductal Carcinoma</td>\n      <td>Positive</td>\n      <td>Positive</td>\n      <td>Negative</td>\n      <td>Lumpectomy</td>\n      <td>18-Jan-21</td>\n      <td>Dead</td>\n    </tr>\n    <tr>\n      <th>332</th>\n      <td>79.0</td>\n      <td>FEMALE</td>\n      <td>0.479400</td>\n      <td>2.05590</td>\n      <td>-0.53136</td>\n      <td>-0.188480</td>\n      <td>1.0</td>\n      <td>Infiltrating Ductal Carcinoma</td>\n      <td>Positive</td>\n      <td>Positive</td>\n      <td>Positive</td>\n      <td>Lumpectomy</td>\n      <td>19-Feb-21</td>\n      <td>Dead</td>\n    </tr>\n    <tr>\n      <th>333</th>\n      <td>76.0</td>\n      <td>FEMALE</td>\n      <td>-0.244270</td>\n      <td>0.92556</td>\n      <td>-0.41823</td>\n      <td>-0.067848</td>\n      <td>1.0</td>\n      <td>Infiltrating Ductal Carcinoma</td>\n      <td>Positive</td>\n      <td>Positive</td>\n      <td>Negative</td>\n      <td>Lumpectomy</td>\n      <td>05-Jan-21</td>\n      <td>Dead</td>\n    </tr>\n  </tbody>\n</table>\n<p>317 rows × 14 columns</p>\n</div>"
     },
     "execution_count": 62,
     "metadata": {},
     "output_type": "execute_result"
    }
   ],
   "source": [
    "df"
   ],
   "metadata": {
    "collapsed": false
   }
  },
  {
   "cell_type": "code",
   "execution_count": 63,
   "outputs": [
    {
     "data": {
      "text/plain": "      Age  Gender  Protein1  Protein2  Protein3  Protein4  Tumour_Stage  \\\n0    36.0  FEMALE  0.080353   0.42638   0.54715  0.273680           3.0   \n1    43.0  FEMALE -0.420320   0.57807   0.61447 -0.031505           2.0   \n2    69.0  FEMALE  0.213980   1.31140  -0.32747 -0.234260           3.0   \n3    56.0  FEMALE  0.345090  -0.21147  -0.19304  0.124270           2.0   \n4    56.0  FEMALE  0.221550   1.90680   0.52045 -0.311990           2.0   \n..    ...     ...       ...       ...       ...       ...           ...   \n265   NaN     NaN       NaN       NaN       NaN       NaN           NaN   \n283   NaN     NaN       NaN       NaN       NaN       NaN           NaN   \n285   NaN     NaN       NaN       NaN       NaN       NaN           NaN   \n286   NaN     NaN       NaN       NaN       NaN       NaN           NaN   \n305   NaN     NaN       NaN       NaN       NaN       NaN           NaN   \n\n                         Histology ER status PR status HER2 status  \\\n0    Infiltrating Ductal Carcinoma  Positive  Positive    Negative   \n1               Mucinous Carcinoma  Positive  Positive    Negative   \n2    Infiltrating Ductal Carcinoma  Positive  Positive    Negative   \n3    Infiltrating Ductal Carcinoma  Positive  Positive    Negative   \n4    Infiltrating Ductal Carcinoma  Positive  Positive    Negative   \n..                             ...       ...       ...         ...   \n265                            NaN       NaN       NaN         NaN   \n283                            NaN       NaN       NaN         NaN   \n285                            NaN       NaN       NaN         NaN   \n286                            NaN       NaN       NaN         NaN   \n305                            NaN       NaN       NaN         NaN   \n\n                    Surgery_type Date_of_Last_Visit Patient_Status day month  \\\n0    Modified Radical Mastectomy          19-Jun-17          Alive  15   Jan   \n1                     Lumpectomy          09-Nov-18           Dead  26   Apr   \n2                          Other          09-Jun-18          Alive  08   Sep   \n3    Modified Radical Mastectomy          12-Jul-17          Alive  25   Jan   \n4                          Other          27-Jun-19           Dead  06   May   \n..                           ...                ...            ...  ..   ...   \n265                          NaN                NaN            NaN  15   May   \n283                          NaN                NaN            NaN  24   Jul   \n285                          NaN                NaN            NaN  24   Jul   \n286                          NaN                NaN            NaN  03   Aug   \n305                          NaN                NaN            NaN  12   Oct   \n\n    year  \n0     17  \n1     17  \n2     17  \n3     17  \n4     17  \n..   ...  \n265   19  \n283   19  \n285   19  \n286   19  \n305   19  \n\n[333 rows x 17 columns]",
      "text/html": "<div>\n<style scoped>\n    .dataframe tbody tr th:only-of-type {\n        vertical-align: middle;\n    }\n\n    .dataframe tbody tr th {\n        vertical-align: top;\n    }\n\n    .dataframe thead th {\n        text-align: right;\n    }\n</style>\n<table border=\"1\" class=\"dataframe\">\n  <thead>\n    <tr style=\"text-align: right;\">\n      <th></th>\n      <th>Age</th>\n      <th>Gender</th>\n      <th>Protein1</th>\n      <th>Protein2</th>\n      <th>Protein3</th>\n      <th>Protein4</th>\n      <th>Tumour_Stage</th>\n      <th>Histology</th>\n      <th>ER status</th>\n      <th>PR status</th>\n      <th>HER2 status</th>\n      <th>Surgery_type</th>\n      <th>Date_of_Last_Visit</th>\n      <th>Patient_Status</th>\n      <th>day</th>\n      <th>month</th>\n      <th>year</th>\n    </tr>\n  </thead>\n  <tbody>\n    <tr>\n      <th>0</th>\n      <td>36.0</td>\n      <td>FEMALE</td>\n      <td>0.080353</td>\n      <td>0.42638</td>\n      <td>0.54715</td>\n      <td>0.273680</td>\n      <td>3.0</td>\n      <td>Infiltrating Ductal Carcinoma</td>\n      <td>Positive</td>\n      <td>Positive</td>\n      <td>Negative</td>\n      <td>Modified Radical Mastectomy</td>\n      <td>19-Jun-17</td>\n      <td>Alive</td>\n      <td>15</td>\n      <td>Jan</td>\n      <td>17</td>\n    </tr>\n    <tr>\n      <th>1</th>\n      <td>43.0</td>\n      <td>FEMALE</td>\n      <td>-0.420320</td>\n      <td>0.57807</td>\n      <td>0.61447</td>\n      <td>-0.031505</td>\n      <td>2.0</td>\n      <td>Mucinous Carcinoma</td>\n      <td>Positive</td>\n      <td>Positive</td>\n      <td>Negative</td>\n      <td>Lumpectomy</td>\n      <td>09-Nov-18</td>\n      <td>Dead</td>\n      <td>26</td>\n      <td>Apr</td>\n      <td>17</td>\n    </tr>\n    <tr>\n      <th>2</th>\n      <td>69.0</td>\n      <td>FEMALE</td>\n      <td>0.213980</td>\n      <td>1.31140</td>\n      <td>-0.32747</td>\n      <td>-0.234260</td>\n      <td>3.0</td>\n      <td>Infiltrating Ductal Carcinoma</td>\n      <td>Positive</td>\n      <td>Positive</td>\n      <td>Negative</td>\n      <td>Other</td>\n      <td>09-Jun-18</td>\n      <td>Alive</td>\n      <td>08</td>\n      <td>Sep</td>\n      <td>17</td>\n    </tr>\n    <tr>\n      <th>3</th>\n      <td>56.0</td>\n      <td>FEMALE</td>\n      <td>0.345090</td>\n      <td>-0.21147</td>\n      <td>-0.19304</td>\n      <td>0.124270</td>\n      <td>2.0</td>\n      <td>Infiltrating Ductal Carcinoma</td>\n      <td>Positive</td>\n      <td>Positive</td>\n      <td>Negative</td>\n      <td>Modified Radical Mastectomy</td>\n      <td>12-Jul-17</td>\n      <td>Alive</td>\n      <td>25</td>\n      <td>Jan</td>\n      <td>17</td>\n    </tr>\n    <tr>\n      <th>4</th>\n      <td>56.0</td>\n      <td>FEMALE</td>\n      <td>0.221550</td>\n      <td>1.90680</td>\n      <td>0.52045</td>\n      <td>-0.311990</td>\n      <td>2.0</td>\n      <td>Infiltrating Ductal Carcinoma</td>\n      <td>Positive</td>\n      <td>Positive</td>\n      <td>Negative</td>\n      <td>Other</td>\n      <td>27-Jun-19</td>\n      <td>Dead</td>\n      <td>06</td>\n      <td>May</td>\n      <td>17</td>\n    </tr>\n    <tr>\n      <th>...</th>\n      <td>...</td>\n      <td>...</td>\n      <td>...</td>\n      <td>...</td>\n      <td>...</td>\n      <td>...</td>\n      <td>...</td>\n      <td>...</td>\n      <td>...</td>\n      <td>...</td>\n      <td>...</td>\n      <td>...</td>\n      <td>...</td>\n      <td>...</td>\n      <td>...</td>\n      <td>...</td>\n      <td>...</td>\n    </tr>\n    <tr>\n      <th>265</th>\n      <td>NaN</td>\n      <td>NaN</td>\n      <td>NaN</td>\n      <td>NaN</td>\n      <td>NaN</td>\n      <td>NaN</td>\n      <td>NaN</td>\n      <td>NaN</td>\n      <td>NaN</td>\n      <td>NaN</td>\n      <td>NaN</td>\n      <td>NaN</td>\n      <td>NaN</td>\n      <td>NaN</td>\n      <td>15</td>\n      <td>May</td>\n      <td>19</td>\n    </tr>\n    <tr>\n      <th>283</th>\n      <td>NaN</td>\n      <td>NaN</td>\n      <td>NaN</td>\n      <td>NaN</td>\n      <td>NaN</td>\n      <td>NaN</td>\n      <td>NaN</td>\n      <td>NaN</td>\n      <td>NaN</td>\n      <td>NaN</td>\n      <td>NaN</td>\n      <td>NaN</td>\n      <td>NaN</td>\n      <td>NaN</td>\n      <td>24</td>\n      <td>Jul</td>\n      <td>19</td>\n    </tr>\n    <tr>\n      <th>285</th>\n      <td>NaN</td>\n      <td>NaN</td>\n      <td>NaN</td>\n      <td>NaN</td>\n      <td>NaN</td>\n      <td>NaN</td>\n      <td>NaN</td>\n      <td>NaN</td>\n      <td>NaN</td>\n      <td>NaN</td>\n      <td>NaN</td>\n      <td>NaN</td>\n      <td>NaN</td>\n      <td>NaN</td>\n      <td>24</td>\n      <td>Jul</td>\n      <td>19</td>\n    </tr>\n    <tr>\n      <th>286</th>\n      <td>NaN</td>\n      <td>NaN</td>\n      <td>NaN</td>\n      <td>NaN</td>\n      <td>NaN</td>\n      <td>NaN</td>\n      <td>NaN</td>\n      <td>NaN</td>\n      <td>NaN</td>\n      <td>NaN</td>\n      <td>NaN</td>\n      <td>NaN</td>\n      <td>NaN</td>\n      <td>NaN</td>\n      <td>03</td>\n      <td>Aug</td>\n      <td>19</td>\n    </tr>\n    <tr>\n      <th>305</th>\n      <td>NaN</td>\n      <td>NaN</td>\n      <td>NaN</td>\n      <td>NaN</td>\n      <td>NaN</td>\n      <td>NaN</td>\n      <td>NaN</td>\n      <td>NaN</td>\n      <td>NaN</td>\n      <td>NaN</td>\n      <td>NaN</td>\n      <td>NaN</td>\n      <td>NaN</td>\n      <td>NaN</td>\n      <td>12</td>\n      <td>Oct</td>\n      <td>19</td>\n    </tr>\n  </tbody>\n</table>\n<p>333 rows × 17 columns</p>\n</div>"
     },
     "execution_count": 63,
     "metadata": {},
     "output_type": "execute_result"
    }
   ],
   "source": [
    "df = pd.concat([df,date_surge],axis=1)\n",
    "df"
   ],
   "metadata": {
    "collapsed": false
   }
  },
  {
   "cell_type": "code",
   "execution_count": 64,
   "outputs": [
    {
     "ename": "AttributeError",
     "evalue": "'float' object has no attribute 'split'",
     "output_type": "error",
     "traceback": [
      "\u001B[1;31m---------------------------------------------------------------------------\u001B[0m",
      "\u001B[1;31mAttributeError\u001B[0m                            Traceback (most recent call last)",
      "\u001B[1;32m~\\AppData\\Local\\Temp\\ipykernel_22800\\44454066.py\u001B[0m in \u001B[0;36m<module>\u001B[1;34m\u001B[0m\n\u001B[0;32m      1\u001B[0m \u001B[0mlast_visit\u001B[0m \u001B[1;33m=\u001B[0m \u001B[1;33m[\u001B[0m\u001B[1;33m]\u001B[0m\u001B[1;33m\u001B[0m\u001B[1;33m\u001B[0m\u001B[0m\n\u001B[0;32m      2\u001B[0m \u001B[1;32mfor\u001B[0m \u001B[0mi\u001B[0m \u001B[1;32min\u001B[0m \u001B[0mdf\u001B[0m\u001B[1;33m.\u001B[0m\u001B[0mDate_of_Last_Visit\u001B[0m\u001B[1;33m:\u001B[0m\u001B[1;33m\u001B[0m\u001B[1;33m\u001B[0m\u001B[0m\n\u001B[1;32m----> 3\u001B[1;33m     \u001B[0mh\u001B[0m \u001B[1;33m=\u001B[0m \u001B[0mi\u001B[0m\u001B[1;33m.\u001B[0m\u001B[0msplit\u001B[0m\u001B[1;33m(\u001B[0m\u001B[1;34m'-'\u001B[0m\u001B[1;33m)\u001B[0m\u001B[1;33m\u001B[0m\u001B[1;33m\u001B[0m\u001B[0m\n\u001B[0m\u001B[0;32m      4\u001B[0m     \u001B[0mlast_visit\u001B[0m\u001B[1;33m.\u001B[0m\u001B[0mappend\u001B[0m\u001B[1;33m(\u001B[0m\u001B[0mh\u001B[0m\u001B[1;33m)\u001B[0m\u001B[1;33m\u001B[0m\u001B[1;33m\u001B[0m\u001B[0m\n",
      "\u001B[1;31mAttributeError\u001B[0m: 'float' object has no attribute 'split'"
     ]
    }
   ],
   "source": [
    "last_visit = []\n",
    "for i in df.Date_of_Last_Visit:\n",
    "    h = i.split('-')\n",
    "    last_visit.append(h)"
   ],
   "metadata": {
    "collapsed": false
   }
  },
  {
   "cell_type": "code",
   "execution_count": null,
   "outputs": [],
   "source": [
    "for i in df['Date_of_last_visit']:\n",
    "    if type(i) == float:\n",
    "        print(i)"
   ],
   "metadata": {
    "collapsed": false
   }
  },
  {
   "cell_type": "code",
   "execution_count": null,
   "outputs": [],
   "source": [
    "df"
   ],
   "metadata": {
    "collapsed": false
   }
  },
  {
   "cell_type": "code",
   "execution_count": null,
   "outputs": [],
   "source": [],
   "metadata": {
    "collapsed": false
   }
  }
 ],
 "metadata": {
  "kernelspec": {
   "display_name": "Python 3",
   "language": "python",
   "name": "python3"
  },
  "language_info": {
   "codemirror_mode": {
    "name": "ipython",
    "version": 2
   },
   "file_extension": ".py",
   "mimetype": "text/x-python",
   "name": "python",
   "nbconvert_exporter": "python",
   "pygments_lexer": "ipython2",
   "version": "2.7.6"
  }
 },
 "nbformat": 4,
 "nbformat_minor": 0
}
