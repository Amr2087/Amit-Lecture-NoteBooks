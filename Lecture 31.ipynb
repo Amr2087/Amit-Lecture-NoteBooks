{
 "cells": [
  {
   "cell_type": "code",
   "execution_count": 1,
   "metadata": {
    "collapsed": true
   },
   "outputs": [],
   "source": [
    "import numpy as np\n",
    "import pandas as pd\n",
    "import metrics"
   ]
  },
  {
   "cell_type": "code",
   "execution_count": 2,
   "outputs": [],
   "source": [
    "dataset = pd.read_csv(\"data/creditcard.csv\")"
   ],
   "metadata": {
    "collapsed": false
   }
  },
  {
   "cell_type": "code",
   "execution_count": 3,
   "outputs": [
    {
     "data": {
      "text/plain": "   Time        V1        V2        V3        V4        V5        V6        V7  \\\n0   0.0 -1.359807 -0.072781  2.536347  1.378155 -0.338321  0.462388  0.239599   \n1   0.0  1.191857  0.266151  0.166480  0.448154  0.060018 -0.082361 -0.078803   \n2   1.0 -1.358354 -1.340163  1.773209  0.379780 -0.503198  1.800499  0.791461   \n3   1.0 -0.966272 -0.185226  1.792993 -0.863291 -0.010309  1.247203  0.237609   \n4   2.0 -1.158233  0.877737  1.548718  0.403034 -0.407193  0.095921  0.592941   \n\n         V8        V9  ...       V21       V22       V23       V24       V25  \\\n0  0.098698  0.363787  ... -0.018307  0.277838 -0.110474  0.066928  0.128539   \n1  0.085102 -0.255425  ... -0.225775 -0.638672  0.101288 -0.339846  0.167170   \n2  0.247676 -1.514654  ...  0.247998  0.771679  0.909412 -0.689281 -0.327642   \n3  0.377436 -1.387024  ... -0.108300  0.005274 -0.190321 -1.175575  0.647376   \n4 -0.270533  0.817739  ... -0.009431  0.798278 -0.137458  0.141267 -0.206010   \n\n        V26       V27       V28  Amount  Class  \n0 -0.189115  0.133558 -0.021053  149.62      0  \n1  0.125895 -0.008983  0.014724    2.69      0  \n2 -0.139097 -0.055353 -0.059752  378.66      0  \n3 -0.221929  0.062723  0.061458  123.50      0  \n4  0.502292  0.219422  0.215153   69.99      0  \n\n[5 rows x 31 columns]",
      "text/html": "<div>\n<style scoped>\n    .dataframe tbody tr th:only-of-type {\n        vertical-align: middle;\n    }\n\n    .dataframe tbody tr th {\n        vertical-align: top;\n    }\n\n    .dataframe thead th {\n        text-align: right;\n    }\n</style>\n<table border=\"1\" class=\"dataframe\">\n  <thead>\n    <tr style=\"text-align: right;\">\n      <th></th>\n      <th>Time</th>\n      <th>V1</th>\n      <th>V2</th>\n      <th>V3</th>\n      <th>V4</th>\n      <th>V5</th>\n      <th>V6</th>\n      <th>V7</th>\n      <th>V8</th>\n      <th>V9</th>\n      <th>...</th>\n      <th>V21</th>\n      <th>V22</th>\n      <th>V23</th>\n      <th>V24</th>\n      <th>V25</th>\n      <th>V26</th>\n      <th>V27</th>\n      <th>V28</th>\n      <th>Amount</th>\n      <th>Class</th>\n    </tr>\n  </thead>\n  <tbody>\n    <tr>\n      <th>0</th>\n      <td>0.0</td>\n      <td>-1.359807</td>\n      <td>-0.072781</td>\n      <td>2.536347</td>\n      <td>1.378155</td>\n      <td>-0.338321</td>\n      <td>0.462388</td>\n      <td>0.239599</td>\n      <td>0.098698</td>\n      <td>0.363787</td>\n      <td>...</td>\n      <td>-0.018307</td>\n      <td>0.277838</td>\n      <td>-0.110474</td>\n      <td>0.066928</td>\n      <td>0.128539</td>\n      <td>-0.189115</td>\n      <td>0.133558</td>\n      <td>-0.021053</td>\n      <td>149.62</td>\n      <td>0</td>\n    </tr>\n    <tr>\n      <th>1</th>\n      <td>0.0</td>\n      <td>1.191857</td>\n      <td>0.266151</td>\n      <td>0.166480</td>\n      <td>0.448154</td>\n      <td>0.060018</td>\n      <td>-0.082361</td>\n      <td>-0.078803</td>\n      <td>0.085102</td>\n      <td>-0.255425</td>\n      <td>...</td>\n      <td>-0.225775</td>\n      <td>-0.638672</td>\n      <td>0.101288</td>\n      <td>-0.339846</td>\n      <td>0.167170</td>\n      <td>0.125895</td>\n      <td>-0.008983</td>\n      <td>0.014724</td>\n      <td>2.69</td>\n      <td>0</td>\n    </tr>\n    <tr>\n      <th>2</th>\n      <td>1.0</td>\n      <td>-1.358354</td>\n      <td>-1.340163</td>\n      <td>1.773209</td>\n      <td>0.379780</td>\n      <td>-0.503198</td>\n      <td>1.800499</td>\n      <td>0.791461</td>\n      <td>0.247676</td>\n      <td>-1.514654</td>\n      <td>...</td>\n      <td>0.247998</td>\n      <td>0.771679</td>\n      <td>0.909412</td>\n      <td>-0.689281</td>\n      <td>-0.327642</td>\n      <td>-0.139097</td>\n      <td>-0.055353</td>\n      <td>-0.059752</td>\n      <td>378.66</td>\n      <td>0</td>\n    </tr>\n    <tr>\n      <th>3</th>\n      <td>1.0</td>\n      <td>-0.966272</td>\n      <td>-0.185226</td>\n      <td>1.792993</td>\n      <td>-0.863291</td>\n      <td>-0.010309</td>\n      <td>1.247203</td>\n      <td>0.237609</td>\n      <td>0.377436</td>\n      <td>-1.387024</td>\n      <td>...</td>\n      <td>-0.108300</td>\n      <td>0.005274</td>\n      <td>-0.190321</td>\n      <td>-1.175575</td>\n      <td>0.647376</td>\n      <td>-0.221929</td>\n      <td>0.062723</td>\n      <td>0.061458</td>\n      <td>123.50</td>\n      <td>0</td>\n    </tr>\n    <tr>\n      <th>4</th>\n      <td>2.0</td>\n      <td>-1.158233</td>\n      <td>0.877737</td>\n      <td>1.548718</td>\n      <td>0.403034</td>\n      <td>-0.407193</td>\n      <td>0.095921</td>\n      <td>0.592941</td>\n      <td>-0.270533</td>\n      <td>0.817739</td>\n      <td>...</td>\n      <td>-0.009431</td>\n      <td>0.798278</td>\n      <td>-0.137458</td>\n      <td>0.141267</td>\n      <td>-0.206010</td>\n      <td>0.502292</td>\n      <td>0.219422</td>\n      <td>0.215153</td>\n      <td>69.99</td>\n      <td>0</td>\n    </tr>\n  </tbody>\n</table>\n<p>5 rows × 31 columns</p>\n</div>"
     },
     "execution_count": 3,
     "metadata": {},
     "output_type": "execute_result"
    }
   ],
   "source": [
    "dataset.head()"
   ],
   "metadata": {
    "collapsed": false
   }
  },
  {
   "cell_type": "code",
   "execution_count": 4,
   "outputs": [
    {
     "data": {
      "text/plain": "   Columns  n_uniques                                             unique  \\\n0     Time     124592  [0.0, 1.0, 2.0, 4.0, 7.0, 9.0, 10.0, 11.0, 12....   \n1       V1     275663  [-1.3598071336738, 1.19185711131486, -1.358354...   \n2       V2     275663  [-0.0727811733098497, 0.26615071205963, -1.340...   \n3       V3     275663  [2.53634673796914, 0.16648011335321, 1.7732093...   \n4       V4     275663  [1.37815522427443, 0.448154078460911, 0.379779...   \n5       V5     275663  [-0.338320769942518, 0.0600176492822243, -0.50...   \n6       V6     275663  [0.462387777762292, -0.0823608088155687, 1.800...   \n7       V7     275663  [0.239598554061257, -0.0788029833323113, 0.791...   \n8       V8     275663  [0.0986979012610507, 0.0851016549148104, 0.247...   \n9       V9     275663  [0.363786969611213, -0.255425128109186, -1.514...   \n10     V10     275663  [0.0907941719789316, -0.166974414004614, 0.207...   \n11     V11     275663  [-0.551599533260813, 1.61272666105479, 0.62450...   \n12     V12     275663  [-0.617800855762348, 1.06523531137287, 0.06608...   \n13     V13     275663  [-0.991389847235408, 0.48909501589608, 0.71729...   \n14     V14     275663  [-0.311169353699879, -0.143772296441519, -0.16...   \n15     V15     275663  [1.46817697209427, 0.635558093258208, 2.345864...   \n16     V16     275663  [-0.470400525259478, 0.463917041022171, -2.890...   \n17     V17     275663  [0.207971241929242, -0.114804663102346, 1.1099...   \n18     V18     275663  [0.0257905801985591, -0.183361270123994, -0.12...   \n19     V19     275663  [0.403992960255733, -0.145783041325259, -2.261...   \n20     V20     275663  [0.251412098239705, -0.0690831352230203, 0.524...   \n21     V21     275663  [-0.018306777944153, -0.225775248033138, 0.247...   \n22     V22     275663  [0.277837575558899, -0.638671952771851, 0.7716...   \n23     V23     275663  [-0.110473910188767, 0.101288021253234, 0.9094...   \n24     V24     275663  [0.0669280749146731, -0.339846475529127, -0.68...   \n25     V25     275663  [0.128539358273528, 0.167170404418143, -0.3276...   \n26     V26     275663  [-0.189114843888824, 0.125894532368176, -0.139...   \n27     V27     275663  [0.133558376740387, -0.0089830991432281, -0.05...   \n28     V28     275663  [-0.0210530534538215, 0.0147241691924927, -0.0...   \n29  Amount      32767  [149.62, 2.69, 378.66, 123.5, 69.99, 3.67, 4.9...   \n30   Class          2                                             [0, 1]   \n\n     dtypes  NULLS  \n0   float64      0  \n1   float64      0  \n2   float64      0  \n3   float64      0  \n4   float64      0  \n5   float64      0  \n6   float64      0  \n7   float64      0  \n8   float64      0  \n9   float64      0  \n10  float64      0  \n11  float64      0  \n12  float64      0  \n13  float64      0  \n14  float64      0  \n15  float64      0  \n16  float64      0  \n17  float64      0  \n18  float64      0  \n19  float64      0  \n20  float64      0  \n21  float64      0  \n22  float64      0  \n23  float64      0  \n24  float64      0  \n25  float64      0  \n26  float64      0  \n27  float64      0  \n28  float64      0  \n29  float64      0  \n30    int64      0  ",
      "text/html": "<div>\n<style scoped>\n    .dataframe tbody tr th:only-of-type {\n        vertical-align: middle;\n    }\n\n    .dataframe tbody tr th {\n        vertical-align: top;\n    }\n\n    .dataframe thead th {\n        text-align: right;\n    }\n</style>\n<table border=\"1\" class=\"dataframe\">\n  <thead>\n    <tr style=\"text-align: right;\">\n      <th></th>\n      <th>Columns</th>\n      <th>n_uniques</th>\n      <th>unique</th>\n      <th>dtypes</th>\n      <th>NULLS</th>\n    </tr>\n  </thead>\n  <tbody>\n    <tr>\n      <th>0</th>\n      <td>Time</td>\n      <td>124592</td>\n      <td>[0.0, 1.0, 2.0, 4.0, 7.0, 9.0, 10.0, 11.0, 12....</td>\n      <td>float64</td>\n      <td>0</td>\n    </tr>\n    <tr>\n      <th>1</th>\n      <td>V1</td>\n      <td>275663</td>\n      <td>[-1.3598071336738, 1.19185711131486, -1.358354...</td>\n      <td>float64</td>\n      <td>0</td>\n    </tr>\n    <tr>\n      <th>2</th>\n      <td>V2</td>\n      <td>275663</td>\n      <td>[-0.0727811733098497, 0.26615071205963, -1.340...</td>\n      <td>float64</td>\n      <td>0</td>\n    </tr>\n    <tr>\n      <th>3</th>\n      <td>V3</td>\n      <td>275663</td>\n      <td>[2.53634673796914, 0.16648011335321, 1.7732093...</td>\n      <td>float64</td>\n      <td>0</td>\n    </tr>\n    <tr>\n      <th>4</th>\n      <td>V4</td>\n      <td>275663</td>\n      <td>[1.37815522427443, 0.448154078460911, 0.379779...</td>\n      <td>float64</td>\n      <td>0</td>\n    </tr>\n    <tr>\n      <th>5</th>\n      <td>V5</td>\n      <td>275663</td>\n      <td>[-0.338320769942518, 0.0600176492822243, -0.50...</td>\n      <td>float64</td>\n      <td>0</td>\n    </tr>\n    <tr>\n      <th>6</th>\n      <td>V6</td>\n      <td>275663</td>\n      <td>[0.462387777762292, -0.0823608088155687, 1.800...</td>\n      <td>float64</td>\n      <td>0</td>\n    </tr>\n    <tr>\n      <th>7</th>\n      <td>V7</td>\n      <td>275663</td>\n      <td>[0.239598554061257, -0.0788029833323113, 0.791...</td>\n      <td>float64</td>\n      <td>0</td>\n    </tr>\n    <tr>\n      <th>8</th>\n      <td>V8</td>\n      <td>275663</td>\n      <td>[0.0986979012610507, 0.0851016549148104, 0.247...</td>\n      <td>float64</td>\n      <td>0</td>\n    </tr>\n    <tr>\n      <th>9</th>\n      <td>V9</td>\n      <td>275663</td>\n      <td>[0.363786969611213, -0.255425128109186, -1.514...</td>\n      <td>float64</td>\n      <td>0</td>\n    </tr>\n    <tr>\n      <th>10</th>\n      <td>V10</td>\n      <td>275663</td>\n      <td>[0.0907941719789316, -0.166974414004614, 0.207...</td>\n      <td>float64</td>\n      <td>0</td>\n    </tr>\n    <tr>\n      <th>11</th>\n      <td>V11</td>\n      <td>275663</td>\n      <td>[-0.551599533260813, 1.61272666105479, 0.62450...</td>\n      <td>float64</td>\n      <td>0</td>\n    </tr>\n    <tr>\n      <th>12</th>\n      <td>V12</td>\n      <td>275663</td>\n      <td>[-0.617800855762348, 1.06523531137287, 0.06608...</td>\n      <td>float64</td>\n      <td>0</td>\n    </tr>\n    <tr>\n      <th>13</th>\n      <td>V13</td>\n      <td>275663</td>\n      <td>[-0.991389847235408, 0.48909501589608, 0.71729...</td>\n      <td>float64</td>\n      <td>0</td>\n    </tr>\n    <tr>\n      <th>14</th>\n      <td>V14</td>\n      <td>275663</td>\n      <td>[-0.311169353699879, -0.143772296441519, -0.16...</td>\n      <td>float64</td>\n      <td>0</td>\n    </tr>\n    <tr>\n      <th>15</th>\n      <td>V15</td>\n      <td>275663</td>\n      <td>[1.46817697209427, 0.635558093258208, 2.345864...</td>\n      <td>float64</td>\n      <td>0</td>\n    </tr>\n    <tr>\n      <th>16</th>\n      <td>V16</td>\n      <td>275663</td>\n      <td>[-0.470400525259478, 0.463917041022171, -2.890...</td>\n      <td>float64</td>\n      <td>0</td>\n    </tr>\n    <tr>\n      <th>17</th>\n      <td>V17</td>\n      <td>275663</td>\n      <td>[0.207971241929242, -0.114804663102346, 1.1099...</td>\n      <td>float64</td>\n      <td>0</td>\n    </tr>\n    <tr>\n      <th>18</th>\n      <td>V18</td>\n      <td>275663</td>\n      <td>[0.0257905801985591, -0.183361270123994, -0.12...</td>\n      <td>float64</td>\n      <td>0</td>\n    </tr>\n    <tr>\n      <th>19</th>\n      <td>V19</td>\n      <td>275663</td>\n      <td>[0.403992960255733, -0.145783041325259, -2.261...</td>\n      <td>float64</td>\n      <td>0</td>\n    </tr>\n    <tr>\n      <th>20</th>\n      <td>V20</td>\n      <td>275663</td>\n      <td>[0.251412098239705, -0.0690831352230203, 0.524...</td>\n      <td>float64</td>\n      <td>0</td>\n    </tr>\n    <tr>\n      <th>21</th>\n      <td>V21</td>\n      <td>275663</td>\n      <td>[-0.018306777944153, -0.225775248033138, 0.247...</td>\n      <td>float64</td>\n      <td>0</td>\n    </tr>\n    <tr>\n      <th>22</th>\n      <td>V22</td>\n      <td>275663</td>\n      <td>[0.277837575558899, -0.638671952771851, 0.7716...</td>\n      <td>float64</td>\n      <td>0</td>\n    </tr>\n    <tr>\n      <th>23</th>\n      <td>V23</td>\n      <td>275663</td>\n      <td>[-0.110473910188767, 0.101288021253234, 0.9094...</td>\n      <td>float64</td>\n      <td>0</td>\n    </tr>\n    <tr>\n      <th>24</th>\n      <td>V24</td>\n      <td>275663</td>\n      <td>[0.0669280749146731, -0.339846475529127, -0.68...</td>\n      <td>float64</td>\n      <td>0</td>\n    </tr>\n    <tr>\n      <th>25</th>\n      <td>V25</td>\n      <td>275663</td>\n      <td>[0.128539358273528, 0.167170404418143, -0.3276...</td>\n      <td>float64</td>\n      <td>0</td>\n    </tr>\n    <tr>\n      <th>26</th>\n      <td>V26</td>\n      <td>275663</td>\n      <td>[-0.189114843888824, 0.125894532368176, -0.139...</td>\n      <td>float64</td>\n      <td>0</td>\n    </tr>\n    <tr>\n      <th>27</th>\n      <td>V27</td>\n      <td>275663</td>\n      <td>[0.133558376740387, -0.0089830991432281, -0.05...</td>\n      <td>float64</td>\n      <td>0</td>\n    </tr>\n    <tr>\n      <th>28</th>\n      <td>V28</td>\n      <td>275663</td>\n      <td>[-0.0210530534538215, 0.0147241691924927, -0.0...</td>\n      <td>float64</td>\n      <td>0</td>\n    </tr>\n    <tr>\n      <th>29</th>\n      <td>Amount</td>\n      <td>32767</td>\n      <td>[149.62, 2.69, 378.66, 123.5, 69.99, 3.67, 4.9...</td>\n      <td>float64</td>\n      <td>0</td>\n    </tr>\n    <tr>\n      <th>30</th>\n      <td>Class</td>\n      <td>2</td>\n      <td>[0, 1]</td>\n      <td>int64</td>\n      <td>0</td>\n    </tr>\n  </tbody>\n</table>\n</div>"
     },
     "execution_count": 4,
     "metadata": {},
     "output_type": "execute_result"
    }
   ],
   "source": [
    "metrics.data_info(dataset)"
   ],
   "metadata": {
    "collapsed": false
   }
  },
  {
   "cell_type": "code",
   "execution_count": 5,
   "outputs": [],
   "source": [
    "dataset.drop(columns=['Time'], inplace=True)"
   ],
   "metadata": {
    "collapsed": false
   }
  },
  {
   "cell_type": "code",
   "execution_count": 6,
   "outputs": [],
   "source": [
    "normal_data = dataset[dataset['Class'] == 0]\n",
    "abnormal_data = dataset[dataset['Class'] == 1]"
   ],
   "metadata": {
    "collapsed": false
   }
  },
  {
   "cell_type": "code",
   "execution_count": 7,
   "outputs": [
    {
     "data": {
      "text/plain": "(284315, 30)"
     },
     "execution_count": 7,
     "metadata": {},
     "output_type": "execute_result"
    }
   ],
   "source": [
    "normal_data.shape"
   ],
   "metadata": {
    "collapsed": false
   }
  },
  {
   "cell_type": "code",
   "execution_count": 8,
   "outputs": [
    {
     "data": {
      "text/plain": "(492, 30)"
     },
     "execution_count": 8,
     "metadata": {},
     "output_type": "execute_result"
    }
   ],
   "source": [
    "abnormal_data.shape"
   ],
   "metadata": {
    "collapsed": false
   }
  },
  {
   "cell_type": "code",
   "execution_count": 9,
   "outputs": [],
   "source": [
    "X_normal = normal_data.drop(columns=['Class']).values\n",
    "y_normal = normal_data['Class'].values"
   ],
   "metadata": {
    "collapsed": false
   }
  },
  {
   "cell_type": "code",
   "execution_count": 10,
   "outputs": [],
   "source": [
    "X_abnormal = abnormal_data.drop(columns=['Class']).values\n",
    "y_abnormal = abnormal_data['Class'].values"
   ],
   "metadata": {
    "collapsed": false
   }
  },
  {
   "cell_type": "code",
   "execution_count": 11,
   "outputs": [],
   "source": [
    "from sklearn.preprocessing import MinMaxScaler\n",
    "# range 0 --> 1\n",
    "scalar = MinMaxScaler()\n",
    "X_normal = scalar.fit_transform(X_normal)\n",
    "X_abnormal =  scalar.transform(X_abnormal)"
   ],
   "metadata": {
    "collapsed": false
   }
  },
  {
   "cell_type": "code",
   "execution_count": 12,
   "outputs": [
    {
     "data": {
      "text/plain": "0.0"
     },
     "execution_count": 12,
     "metadata": {},
     "output_type": "execute_result"
    }
   ],
   "source": [
    "min(X_normal.min(axis=1))"
   ],
   "metadata": {
    "collapsed": false
   }
  },
  {
   "cell_type": "markdown",
   "source": [
    "## Model"
   ],
   "metadata": {
    "collapsed": false
   }
  },
  {
   "cell_type": "code",
   "execution_count": 13,
   "outputs": [],
   "source": [
    "from tensorflow.keras.models import Model\n",
    "from tensorflow.keras.layers import Input, Dense"
   ],
   "metadata": {
    "collapsed": false
   }
  },
  {
   "cell_type": "code",
   "execution_count": 14,
   "outputs": [
    {
     "name": "stdout",
     "output_type": "stream",
     "text": [
      "Model: \"model\"\n",
      "_________________________________________________________________\n",
      " Layer (type)                Output Shape              Param #   \n",
      "=================================================================\n",
      " input_1 (InputLayer)        [(None, 29)]              0         \n",
      "                                                                 \n",
      " dense (Dense)               (None, 200)               6000      \n",
      "                                                                 \n",
      " dense_1 (Dense)             (None, 100)               20100     \n",
      "                                                                 \n",
      " dense_2 (Dense)             (None, 200)               20200     \n",
      "                                                                 \n",
      " dense_3 (Dense)             (None, 29)                5829      \n",
      "                                                                 \n",
      "=================================================================\n",
      "Total params: 52,129\n",
      "Trainable params: 52,129\n",
      "Non-trainable params: 0\n",
      "_________________________________________________________________\n"
     ]
    }
   ],
   "source": [
    "inp = Input(shape=X_normal.shape[1])\n",
    "encoder1 = Dense(200, activation='relu')(inp)\n",
    "encoder2 = Dense(100,activation='sigmoid')(encoder1)\n",
    "decoder1 = Dense(200, activation='relu')(encoder2)\n",
    "decoder2 = Dense(X_normal.shape[1], activation='sigmoid')(decoder1)\n",
    "\n",
    "model = Model(inputs=inp, outputs=[decoder2])\n",
    "model.summary()"
   ],
   "metadata": {
    "collapsed": false
   }
  },
  {
   "cell_type": "code",
   "execution_count": 15,
   "outputs": [
    {
     "name": "stdout",
     "output_type": "stream",
     "text": [
      "Epoch 1/20\n",
      "1777/1777 [==============================] - 7s 3ms/step - loss: 0.5866 - mse: 0.0010 - val_loss: 0.5836 - val_mse: 2.7463e-04\n",
      "Epoch 2/20\n",
      "1777/1777 [==============================] - 6s 3ms/step - loss: 0.5844 - mse: 1.5385e-04 - val_loss: 0.5830 - val_mse: 1.0135e-04\n",
      "Epoch 3/20\n",
      "1777/1777 [==============================] - 6s 3ms/step - loss: 0.5841 - mse: 6.6074e-05 - val_loss: 0.5828 - val_mse: 5.3656e-05\n",
      "Epoch 4/20\n",
      "1777/1777 [==============================] - 7s 4ms/step - loss: 0.5840 - mse: 4.2468e-05 - val_loss: 0.5827 - val_mse: 3.7532e-05\n",
      "Epoch 5/20\n",
      "1777/1777 [==============================] - 7s 4ms/step - loss: 0.5839 - mse: 3.0072e-05 - val_loss: 0.5827 - val_mse: 2.8431e-05\n",
      "Epoch 6/20\n",
      "1777/1777 [==============================] - 6s 3ms/step - loss: 0.5839 - mse: 2.2573e-05 - val_loss: 0.5827 - val_mse: 2.1139e-05\n",
      "Epoch 7/20\n",
      "1777/1777 [==============================] - 6s 3ms/step - loss: 0.5839 - mse: 1.7410e-05 - val_loss: 0.5827 - val_mse: 1.7969e-05\n",
      "Epoch 8/20\n",
      "1777/1777 [==============================] - 6s 3ms/step - loss: 0.5839 - mse: 1.5003e-05 - val_loss: 0.5827 - val_mse: 1.6415e-05\n",
      "Epoch 9/20\n",
      "1777/1777 [==============================] - 6s 3ms/step - loss: 0.5839 - mse: 1.3427e-05 - val_loss: 0.5827 - val_mse: 1.4680e-05\n",
      "Epoch 10/20\n",
      "1777/1777 [==============================] - 6s 3ms/step - loss: 0.5839 - mse: 1.2106e-05 - val_loss: 0.5826 - val_mse: 1.4701e-05\n",
      "Epoch 11/20\n",
      "1777/1777 [==============================] - 6s 3ms/step - loss: 0.5839 - mse: 1.1093e-05 - val_loss: 0.5826 - val_mse: 1.1537e-05\n",
      "Epoch 12/20\n",
      "1777/1777 [==============================] - 6s 3ms/step - loss: 0.5839 - mse: 1.0308e-05 - val_loss: 0.5826 - val_mse: 1.1213e-05\n",
      "Epoch 13/20\n",
      "1777/1777 [==============================] - 6s 3ms/step - loss: 0.5839 - mse: 9.6956e-06 - val_loss: 0.5826 - val_mse: 9.4390e-06\n",
      "Epoch 14/20\n",
      "1777/1777 [==============================] - 6s 3ms/step - loss: 0.5839 - mse: 8.8267e-06 - val_loss: 0.5826 - val_mse: 1.1208e-05\n",
      "Epoch 15/20\n",
      "1777/1777 [==============================] - 6s 3ms/step - loss: 0.5839 - mse: 8.3245e-06 - val_loss: 0.5826 - val_mse: 1.1659e-05\n",
      "Epoch 16/20\n",
      "1777/1777 [==============================] - 6s 4ms/step - loss: 0.5839 - mse: 7.8116e-06 - val_loss: 0.5826 - val_mse: 1.0115e-05\n",
      "Epoch 17/20\n",
      "1777/1777 [==============================] - 6s 3ms/step - loss: 0.5838 - mse: 7.3550e-06 - val_loss: 0.5826 - val_mse: 8.5212e-06\n",
      "Epoch 18/20\n",
      "1777/1777 [==============================] - 6s 3ms/step - loss: 0.5838 - mse: 6.8060e-06 - val_loss: 0.5826 - val_mse: 7.4382e-06\n",
      "Epoch 19/20\n",
      "1777/1777 [==============================] - 6s 4ms/step - loss: 0.5838 - mse: 6.4063e-06 - val_loss: 0.5826 - val_mse: 8.1765e-06\n",
      "Epoch 20/20\n",
      "1777/1777 [==============================] - 6s 3ms/step - loss: 0.5838 - mse: 6.1337e-06 - val_loss: 0.5826 - val_mse: 6.6761e-06\n"
     ]
    }
   ],
   "source": [
    "model.compile(optimizer='adam', loss='binary_crossentropy', metrics=['mse'])\n",
    "history = model.fit(X_normal, X_normal, epochs=20,validation_split=0.2,batch_size=128)"
   ],
   "metadata": {
    "collapsed": false
   }
  },
  {
   "cell_type": "code",
   "execution_count": 16,
   "outputs": [
    {
     "data": {
      "text/plain": "<Figure size 640x480 with 1 Axes>",
      "image/png": "[encoded data removed]"
     },
     "metadata": {},
     "output_type": "display_data"
    }
   ],
   "source": [
    "import matplotlib.pyplot as plt\n",
    "\n",
    "plt.plot(history.history['mse'], label='train_loss')\n",
    "plt.plot(history.history['val_mse'], label='val_loss')\n",
    "plt.legend()\n",
    "plt.show()"
   ],
   "metadata": {
    "collapsed": false
   }
  },
  {
   "cell_type": "code",
   "execution_count": 17,
   "outputs": [],
   "source": [
    "import numpy as np"
   ],
   "metadata": {
    "collapsed": false
   }
  },
  {
   "cell_type": "code",
   "execution_count": 18,
   "outputs": [
    {
     "name": "stdout",
     "output_type": "stream",
     "text": [
      "8885/8885 [==============================] - 12s 1ms/step\n"
     ]
    }
   ],
   "source": [
    "reconstructed_X_normal = model.predict(X_normal)"
   ],
   "metadata": {
    "collapsed": false
   }
  },
  {
   "cell_type": "code",
   "execution_count": 23,
   "outputs": [
    {
     "data": {
      "text/plain": "                  0\ncount  2.843150e+05\nmean   5.618973e-06\nstd    1.433897e-04\nmin    5.649588e-07\n25%    2.094544e-06\n50%    2.728641e-06\n75%    4.052433e-06\nmax    7.469192e-02",
      "text/html": "<div>\n<style scoped>\n    .dataframe tbody tr th:only-of-type {\n        vertical-align: middle;\n    }\n\n    .dataframe tbody tr th {\n        vertical-align: top;\n    }\n\n    .dataframe thead th {\n        text-align: right;\n    }\n</style>\n<table border=\"1\" class=\"dataframe\">\n  <thead>\n    <tr style=\"text-align: right;\">\n      <th></th>\n      <th>0</th>\n    </tr>\n  </thead>\n  <tbody>\n    <tr>\n      <th>count</th>\n      <td>2.843150e+05</td>\n    </tr>\n    <tr>\n      <th>mean</th>\n      <td>5.618973e-06</td>\n    </tr>\n    <tr>\n      <th>std</th>\n      <td>1.433897e-04</td>\n    </tr>\n    <tr>\n      <th>min</th>\n      <td>5.649588e-07</td>\n    </tr>\n    <tr>\n      <th>25%</th>\n      <td>2.094544e-06</td>\n    </tr>\n    <tr>\n      <th>50%</th>\n      <td>2.728641e-06</td>\n    </tr>\n    <tr>\n      <th>75%</th>\n      <td>4.052433e-06</td>\n    </tr>\n    <tr>\n      <th>max</th>\n      <td>7.469192e-02</td>\n    </tr>\n  </tbody>\n</table>\n</div>"
     },
     "execution_count": 23,
     "metadata": {},
     "output_type": "execute_result"
    }
   ],
   "source": [
    "mse_normal = np.mean(np.power((reconstructed_X_normal - X_normal),2),axis=1)\n",
    "pd.DataFrame(mse_normal).describe()"
   ],
   "metadata": {
    "collapsed": false
   }
  },
  {
   "cell_type": "code",
   "execution_count": 20,
   "outputs": [
    {
     "name": "stdout",
     "output_type": "stream",
     "text": [
      "16/16 [==============================] - 0s 2ms/step\n"
     ]
    }
   ],
   "source": [
    "reconstructed_X_abnormal = model.predict(X_abnormal)"
   ],
   "metadata": {
    "collapsed": false
   }
  },
  {
   "cell_type": "code",
   "execution_count": 22,
   "outputs": [
    {
     "data": {
      "text/plain": "                0\ncount  492.000000\nmean     0.001749\nstd      0.003888\nmin      0.000001\n25%      0.000128\n50%      0.000486\n75%      0.001518\nmax      0.035206",
      "text/html": "<div>\n<style scoped>\n    .dataframe tbody tr th:only-of-type {\n        vertical-align: middle;\n    }\n\n    .dataframe tbody tr th {\n        vertical-align: top;\n    }\n\n    .dataframe thead th {\n        text-align: right;\n    }\n</style>\n<table border=\"1\" class=\"dataframe\">\n  <thead>\n    <tr style=\"text-align: right;\">\n      <th></th>\n      <th>0</th>\n    </tr>\n  </thead>\n  <tbody>\n    <tr>\n      <th>count</th>\n      <td>492.000000</td>\n    </tr>\n    <tr>\n      <th>mean</th>\n      <td>0.001749</td>\n    </tr>\n    <tr>\n      <th>std</th>\n      <td>0.003888</td>\n    </tr>\n    <tr>\n      <th>min</th>\n      <td>0.000001</td>\n    </tr>\n    <tr>\n      <th>25%</th>\n      <td>0.000128</td>\n    </tr>\n    <tr>\n      <th>50%</th>\n      <td>0.000486</td>\n    </tr>\n    <tr>\n      <th>75%</th>\n      <td>0.001518</td>\n    </tr>\n    <tr>\n      <th>max</th>\n      <td>0.035206</td>\n    </tr>\n  </tbody>\n</table>\n</div>"
     },
     "execution_count": 22,
     "metadata": {},
     "output_type": "execute_result"
    }
   ],
   "source": [
    "mse_abnormal = np.mean(np.power((reconstructed_X_abnormal - X_abnormal), 2), axis=1)\n",
    "pd.DataFrame(mse_abnormal).describe()"
   ],
   "metadata": {
    "collapsed": false
   }
  },
  {
   "cell_type": "code",
   "execution_count": 21,
   "outputs": [],
   "source": [],
   "metadata": {
    "collapsed": false
   }
  }
 ],
 "metadata": {
  "kernelspec": {
   "display_name": "Python 3",
   "language": "python",
   "name": "python3"
  },
  "language_info": {
   "codemirror_mode": {
    "name": "ipython",
    "version": 2
   },
   "file_extension": ".py",
   "mimetype": "text/x-python",
   "name": "python",
   "nbconvert_exporter": "python",
   "pygments_lexer": "ipython2",
   "version": "2.7.6"
  }
 },
 "nbformat": 4,
 "nbformat_minor": 0
}
