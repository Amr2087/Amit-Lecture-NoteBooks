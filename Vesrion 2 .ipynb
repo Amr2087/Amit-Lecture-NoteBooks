{
 "cells": [
  {
   "cell_type": "code",
   "execution_count": 1,
   "metadata": {
    "collapsed": true
   },
   "outputs": [],
   "source": [
    "import pandas as pd\n",
    "import numpy as np"
   ]
  },
  {
   "cell_type": "markdown",
   "source": [
    "# New Data"
   ],
   "metadata": {
    "collapsed": false
   }
  },
  {
   "cell_type": "code",
   "execution_count": 15,
   "outputs": [],
   "source": [
    "data = pd.read_csv('data/Final Transactions.csv')"
   ],
   "metadata": {
    "collapsed": false
   }
  },
  {
   "cell_type": "code",
   "execution_count": 16,
   "outputs": [
    {
     "data": {
      "text/plain": "   Unnamed: 0  TRANSACTION_ID          TX_DATETIME  CUSTOMER_ID  TERMINAL_ID  \\\n0           0               0  2023-01-01 00:00:31          596         3156   \n1           1               1  2023-01-01 00:02:10         4961         3412   \n2           2               2  2023-01-01 00:07:56            2         1365   \n3           3               3  2023-01-01 00:09:29         4128         8737   \n4           4               4  2023-01-01 00:10:34          927         9906   \n\n   TX_AMOUNT  TX_TIME_SECONDS  TX_TIME_DAYS  TX_FRAUD  TX_FRAUD_SCENARIO  \n0     533.07               31             0         0                  0  \n1     808.56              130             0         0                  0  \n2    1442.94              476             0         1                  1  \n3     620.65              569             0         0                  0  \n4     490.66              634             0         0                  0  ",
      "text/html": "<div>\n<style scoped>\n    .dataframe tbody tr th:only-of-type {\n        vertical-align: middle;\n    }\n\n    .dataframe tbody tr th {\n        vertical-align: top;\n    }\n\n    .dataframe thead th {\n        text-align: right;\n    }\n</style>\n<table border=\"1\" class=\"dataframe\">\n  <thead>\n    <tr style=\"text-align: right;\">\n      <th></th>\n      <th>Unnamed: 0</th>\n      <th>TRANSACTION_ID</th>\n      <th>TX_DATETIME</th>\n      <th>CUSTOMER_ID</th>\n      <th>TERMINAL_ID</th>\n      <th>TX_AMOUNT</th>\n      <th>TX_TIME_SECONDS</th>\n      <th>TX_TIME_DAYS</th>\n      <th>TX_FRAUD</th>\n      <th>TX_FRAUD_SCENARIO</th>\n    </tr>\n  </thead>\n  <tbody>\n    <tr>\n      <th>0</th>\n      <td>0</td>\n      <td>0</td>\n      <td>2023-01-01 00:00:31</td>\n      <td>596</td>\n      <td>3156</td>\n      <td>533.07</td>\n      <td>31</td>\n      <td>0</td>\n      <td>0</td>\n      <td>0</td>\n    </tr>\n    <tr>\n      <th>1</th>\n      <td>1</td>\n      <td>1</td>\n      <td>2023-01-01 00:02:10</td>\n      <td>4961</td>\n      <td>3412</td>\n      <td>808.56</td>\n      <td>130</td>\n      <td>0</td>\n      <td>0</td>\n      <td>0</td>\n    </tr>\n    <tr>\n      <th>2</th>\n      <td>2</td>\n      <td>2</td>\n      <td>2023-01-01 00:07:56</td>\n      <td>2</td>\n      <td>1365</td>\n      <td>1442.94</td>\n      <td>476</td>\n      <td>0</td>\n      <td>1</td>\n      <td>1</td>\n    </tr>\n    <tr>\n      <th>3</th>\n      <td>3</td>\n      <td>3</td>\n      <td>2023-01-01 00:09:29</td>\n      <td>4128</td>\n      <td>8737</td>\n      <td>620.65</td>\n      <td>569</td>\n      <td>0</td>\n      <td>0</td>\n      <td>0</td>\n    </tr>\n    <tr>\n      <th>4</th>\n      <td>4</td>\n      <td>4</td>\n      <td>2023-01-01 00:10:34</td>\n      <td>927</td>\n      <td>9906</td>\n      <td>490.66</td>\n      <td>634</td>\n      <td>0</td>\n      <td>0</td>\n      <td>0</td>\n    </tr>\n  </tbody>\n</table>\n</div>"
     },
     "execution_count": 16,
     "metadata": {},
     "output_type": "execute_result"
    }
   ],
   "source": [
    "data.head()"
   ],
   "metadata": {
    "collapsed": false
   }
  },
  {
   "cell_type": "code",
   "execution_count": 17,
   "outputs": [],
   "source": [
    "# drop columns named Unnamed: 0, TRANSACTION_ID and CUSTOMER_ID\n",
    "data.drop(['Unnamed: 0','TRANSACTION_ID','CUSTOMER_ID'],axis=1,inplace=True)"
   ],
   "metadata": {
    "collapsed": false
   }
  },
  {
   "cell_type": "code",
   "execution_count": 18,
   "outputs": [
    {
     "data": {
      "text/plain": "TX_DATETIME          0\nTERMINAL_ID          0\nTX_AMOUNT            0\nTX_TIME_SECONDS      0\nTX_TIME_DAYS         0\nTX_FRAUD             0\nTX_FRAUD_SCENARIO    0\ndtype: int64"
     },
     "execution_count": 18,
     "metadata": {},
     "output_type": "execute_result"
    }
   ],
   "source": [
    "data.isnull().sum()"
   ],
   "metadata": {
    "collapsed": false
   }
  },
  {
   "cell_type": "code",
   "execution_count": 19,
   "outputs": [
    {
     "data": {
      "text/plain": "0    1518186\n1     235969\nName: TX_FRAUD, dtype: int64"
     },
     "execution_count": 19,
     "metadata": {},
     "output_type": "execute_result"
    }
   ],
   "source": [
    "data.TX_FRAUD.value_counts()"
   ],
   "metadata": {
    "collapsed": false
   }
  },
  {
   "cell_type": "code",
   "execution_count": 20,
   "outputs": [],
   "source": [
    "def split_date(date_string):\n",
    "    # split the date string into year, month, and day components\n",
    "    year, month, day = date_string.split(\"-\")\n",
    "    return year, month, day\n",
    "\n",
    "def split_time(time_string):\n",
    "    # split the time string into hour, minute, and second components\n",
    "    hour, minute, second = time_string.split(\":\")\n",
    "    return hour, minute, second"
   ],
   "metadata": {
    "collapsed": false
   }
  },
  {
   "cell_type": "code",
   "execution_count": 21,
   "outputs": [],
   "source": [
    "import pandas as pd\n",
    "\n",
    "def split_datetime(df):\n",
    "    # create empty lists to hold new columns\n",
    "    years = []\n",
    "    months = []\n",
    "    days = []\n",
    "    hours = []\n",
    "    minutes = []\n",
    "    seconds = []\n",
    "\n",
    "    # iterate through each row of the DataFrame\n",
    "    for index, row in df.iterrows():\n",
    "        # split the \"datetime\" column into separate date and time components\n",
    "        date, time = str(row[\"TX_DATETIME\"]).split(\" \")\n",
    "\n",
    "        # split the date and time components into separate year, month, day, hour, minute, and second components\n",
    "        year, month, day = split_date(date)\n",
    "        hour, minute, second = split_time(time)\n",
    "\n",
    "        # append the new values to the corresponding lists\n",
    "        years.append(year)\n",
    "        months.append(month)\n",
    "        days.append(day)\n",
    "        hours.append(hour)\n",
    "        minutes.append(minute)\n",
    "        seconds.append(second)\n",
    "\n",
    "    # add the new columns to the DataFrame\n",
    "    df[\"year\"] = pd.Series(years)\n",
    "    df[\"month\"] = pd.Series(months)\n",
    "    df[\"day\"] = pd.Series(days)\n",
    "    df[\"hour\"] = pd.Series(hours)\n",
    "    df[\"minute\"] = pd.Series(minutes)\n",
    "    df[\"second\"] = pd.Series(seconds)\n",
    "\n",
    "    # drop the original \"datetime\" column\n",
    "    df = df.drop(columns=[\"TX_DATETIME\"],inplace=True)\n",
    "\n",
    "    return df"
   ],
   "metadata": {
    "collapsed": false
   }
  },
  {
   "cell_type": "code",
   "execution_count": 22,
   "outputs": [],
   "source": [
    "split_datetime(data)"
   ],
   "metadata": {
    "collapsed": false
   }
  },
  {
   "cell_type": "code",
   "execution_count": 27,
   "outputs": [],
   "source": [
    "data.drop_duplicates(inplace=True)"
   ],
   "metadata": {
    "collapsed": false
   }
  },
  {
   "cell_type": "code",
   "execution_count": 28,
   "outputs": [
    {
     "data": {
      "text/plain": "        TERMINAL_ID     TX_AMOUNT  TX_TIME_SECONDS  TX_TIME_DAYS  \\\ncount  1.754155e+06  1.754155e+06     1.754155e+06  1.754155e+06   \nmean   4.996733e+03  5.396820e+02     7.903234e+06  9.097260e+01   \nstd    2.886101e+03  1.179711e+03     4.565172e+06  5.283709e+01   \nmin    0.000000e+00  0.000000e+00     3.100000e+01  0.000000e+00   \n25%    2.502000e+03  1.799500e+02     3.940846e+06  4.500000e+01   \n50%    4.994000e+03  4.217500e+02     7.902670e+06  9.100000e+01   \n75%    7.495000e+03  7.505950e+02     1.186566e+07  1.370000e+02   \nmax    9.999000e+03  6.478375e+05     1.581120e+07  1.820000e+02   \n\n           TX_FRAUD  TX_FRAUD_SCENARIO  \ncount  1.754155e+06       1.754155e+06  \nmean   1.345200e-01       1.449746e-01  \nstd    3.412103e-01       3.874872e-01  \nmin    0.000000e+00       0.000000e+00  \n25%    0.000000e+00       0.000000e+00  \n50%    0.000000e+00       0.000000e+00  \n75%    0.000000e+00       0.000000e+00  \nmax    1.000000e+00       3.000000e+00  ",
      "text/html": "<div>\n<style scoped>\n    .dataframe tbody tr th:only-of-type {\n        vertical-align: middle;\n    }\n\n    .dataframe tbody tr th {\n        vertical-align: top;\n    }\n\n    .dataframe thead th {\n        text-align: right;\n    }\n</style>\n<table border=\"1\" class=\"dataframe\">\n  <thead>\n    <tr style=\"text-align: right;\">\n      <th></th>\n      <th>TERMINAL_ID</th>\n      <th>TX_AMOUNT</th>\n      <th>TX_TIME_SECONDS</th>\n      <th>TX_TIME_DAYS</th>\n      <th>TX_FRAUD</th>\n      <th>TX_FRAUD_SCENARIO</th>\n    </tr>\n  </thead>\n  <tbody>\n    <tr>\n      <th>count</th>\n      <td>1.754155e+06</td>\n      <td>1.754155e+06</td>\n      <td>1.754155e+06</td>\n      <td>1.754155e+06</td>\n      <td>1.754155e+06</td>\n      <td>1.754155e+06</td>\n    </tr>\n    <tr>\n      <th>mean</th>\n      <td>4.996733e+03</td>\n      <td>5.396820e+02</td>\n      <td>7.903234e+06</td>\n      <td>9.097260e+01</td>\n      <td>1.345200e-01</td>\n      <td>1.449746e-01</td>\n    </tr>\n    <tr>\n      <th>std</th>\n      <td>2.886101e+03</td>\n      <td>1.179711e+03</td>\n      <td>4.565172e+06</td>\n      <td>5.283709e+01</td>\n      <td>3.412103e-01</td>\n      <td>3.874872e-01</td>\n    </tr>\n    <tr>\n      <th>min</th>\n      <td>0.000000e+00</td>\n      <td>0.000000e+00</td>\n      <td>3.100000e+01</td>\n      <td>0.000000e+00</td>\n      <td>0.000000e+00</td>\n      <td>0.000000e+00</td>\n    </tr>\n    <tr>\n      <th>25%</th>\n      <td>2.502000e+03</td>\n      <td>1.799500e+02</td>\n      <td>3.940846e+06</td>\n      <td>4.500000e+01</td>\n      <td>0.000000e+00</td>\n      <td>0.000000e+00</td>\n    </tr>\n    <tr>\n      <th>50%</th>\n      <td>4.994000e+03</td>\n      <td>4.217500e+02</td>\n      <td>7.902670e+06</td>\n      <td>9.100000e+01</td>\n      <td>0.000000e+00</td>\n      <td>0.000000e+00</td>\n    </tr>\n    <tr>\n      <th>75%</th>\n      <td>7.495000e+03</td>\n      <td>7.505950e+02</td>\n      <td>1.186566e+07</td>\n      <td>1.370000e+02</td>\n      <td>0.000000e+00</td>\n      <td>0.000000e+00</td>\n    </tr>\n    <tr>\n      <th>max</th>\n      <td>9.999000e+03</td>\n      <td>6.478375e+05</td>\n      <td>1.581120e+07</td>\n      <td>1.820000e+02</td>\n      <td>1.000000e+00</td>\n      <td>3.000000e+00</td>\n    </tr>\n  </tbody>\n</table>\n</div>"
     },
     "execution_count": 28,
     "metadata": {},
     "output_type": "execute_result"
    }
   ],
   "source": [
    "data.describe()"
   ],
   "metadata": {
    "collapsed": false
   }
  },
  {
   "cell_type": "code",
   "execution_count": 29,
   "outputs": [],
   "source": [
    "y = data['TX_FRAUD']\n",
    "X = data.drop(['TX_FRAUD'],axis=1)"
   ],
   "metadata": {
    "collapsed": false
   }
  },
  {
   "cell_type": "code",
   "execution_count": 30,
   "outputs": [
    {
     "data": {
      "text/plain": "0          0\n1          0\n2          1\n3          0\n4          0\n          ..\n1754150    0\n1754151    0\n1754152    0\n1754153    0\n1754154    0\nName: TX_FRAUD, Length: 1754155, dtype: int64"
     },
     "execution_count": 30,
     "metadata": {},
     "output_type": "execute_result"
    }
   ],
   "source": [
    "y"
   ],
   "metadata": {
    "collapsed": false
   }
  },
  {
   "cell_type": "code",
   "execution_count": 31,
   "outputs": [
    {
     "data": {
      "text/plain": "         TERMINAL_ID  TX_AMOUNT  TX_TIME_SECONDS  TX_TIME_DAYS  \\\n0               3156     533.07               31             0   \n1               3412     808.56              130             0   \n2               1365    1442.94              476             0   \n3               8737     620.65              569             0   \n4               9906     490.66              634             0   \n...              ...        ...              ...           ...   \n1754150          655     531.43         15810996           182   \n1754151         6181      10.40         15811058           182   \n1754152         1502      26.62         15811101           182   \n1754153         3067     550.43         15811192           182   \n1754154         9849     216.57         15811197           182   \n\n         TX_FRAUD_SCENARIO  year month day hour minute second  \n0                        0  2023    01  01   00     00     31  \n1                        0  2023    01  01   00     02     10  \n2                        1  2023    01  01   00     07     56  \n3                        0  2023    01  01   00     09     29  \n4                        0  2023    01  01   00     10     34  \n...                    ...   ...   ...  ..  ...    ...    ...  \n1754150                  0  2023    07  02   23     56     36  \n1754151                  0  2023    07  02   23     57     38  \n1754152                  0  2023    07  02   23     58     21  \n1754153                  0  2023    07  02   23     59     52  \n1754154                  0  2023    07  02   23     59     57  \n\n[1754155 rows x 11 columns]",
      "text/html": "<div>\n<style scoped>\n    .dataframe tbody tr th:only-of-type {\n        vertical-align: middle;\n    }\n\n    .dataframe tbody tr th {\n        vertical-align: top;\n    }\n\n    .dataframe thead th {\n        text-align: right;\n    }\n</style>\n<table border=\"1\" class=\"dataframe\">\n  <thead>\n    <tr style=\"text-align: right;\">\n      <th></th>\n      <th>TERMINAL_ID</th>\n      <th>TX_AMOUNT</th>\n      <th>TX_TIME_SECONDS</th>\n      <th>TX_TIME_DAYS</th>\n      <th>TX_FRAUD_SCENARIO</th>\n      <th>year</th>\n      <th>month</th>\n      <th>day</th>\n      <th>hour</th>\n      <th>minute</th>\n      <th>second</th>\n    </tr>\n  </thead>\n  <tbody>\n    <tr>\n      <th>0</th>\n      <td>3156</td>\n      <td>533.07</td>\n      <td>31</td>\n      <td>0</td>\n      <td>0</td>\n      <td>2023</td>\n      <td>01</td>\n      <td>01</td>\n      <td>00</td>\n      <td>00</td>\n      <td>31</td>\n    </tr>\n    <tr>\n      <th>1</th>\n      <td>3412</td>\n      <td>808.56</td>\n      <td>130</td>\n      <td>0</td>\n      <td>0</td>\n      <td>2023</td>\n      <td>01</td>\n      <td>01</td>\n      <td>00</td>\n      <td>02</td>\n      <td>10</td>\n    </tr>\n    <tr>\n      <th>2</th>\n      <td>1365</td>\n      <td>1442.94</td>\n      <td>476</td>\n      <td>0</td>\n      <td>1</td>\n      <td>2023</td>\n      <td>01</td>\n      <td>01</td>\n      <td>00</td>\n      <td>07</td>\n      <td>56</td>\n    </tr>\n    <tr>\n      <th>3</th>\n      <td>8737</td>\n      <td>620.65</td>\n      <td>569</td>\n      <td>0</td>\n      <td>0</td>\n      <td>2023</td>\n      <td>01</td>\n      <td>01</td>\n      <td>00</td>\n      <td>09</td>\n      <td>29</td>\n    </tr>\n    <tr>\n      <th>4</th>\n      <td>9906</td>\n      <td>490.66</td>\n      <td>634</td>\n      <td>0</td>\n      <td>0</td>\n      <td>2023</td>\n      <td>01</td>\n      <td>01</td>\n      <td>00</td>\n      <td>10</td>\n      <td>34</td>\n    </tr>\n    <tr>\n      <th>...</th>\n      <td>...</td>\n      <td>...</td>\n      <td>...</td>\n      <td>...</td>\n      <td>...</td>\n      <td>...</td>\n      <td>...</td>\n      <td>...</td>\n      <td>...</td>\n      <td>...</td>\n      <td>...</td>\n    </tr>\n    <tr>\n      <th>1754150</th>\n      <td>655</td>\n      <td>531.43</td>\n      <td>15810996</td>\n      <td>182</td>\n      <td>0</td>\n      <td>2023</td>\n      <td>07</td>\n      <td>02</td>\n      <td>23</td>\n      <td>56</td>\n      <td>36</td>\n    </tr>\n    <tr>\n      <th>1754151</th>\n      <td>6181</td>\n      <td>10.40</td>\n      <td>15811058</td>\n      <td>182</td>\n      <td>0</td>\n      <td>2023</td>\n      <td>07</td>\n      <td>02</td>\n      <td>23</td>\n      <td>57</td>\n      <td>38</td>\n    </tr>\n    <tr>\n      <th>1754152</th>\n      <td>1502</td>\n      <td>26.62</td>\n      <td>15811101</td>\n      <td>182</td>\n      <td>0</td>\n      <td>2023</td>\n      <td>07</td>\n      <td>02</td>\n      <td>23</td>\n      <td>58</td>\n      <td>21</td>\n    </tr>\n    <tr>\n      <th>1754153</th>\n      <td>3067</td>\n      <td>550.43</td>\n      <td>15811192</td>\n      <td>182</td>\n      <td>0</td>\n      <td>2023</td>\n      <td>07</td>\n      <td>02</td>\n      <td>23</td>\n      <td>59</td>\n      <td>52</td>\n    </tr>\n    <tr>\n      <th>1754154</th>\n      <td>9849</td>\n      <td>216.57</td>\n      <td>15811197</td>\n      <td>182</td>\n      <td>0</td>\n      <td>2023</td>\n      <td>07</td>\n      <td>02</td>\n      <td>23</td>\n      <td>59</td>\n      <td>57</td>\n    </tr>\n  </tbody>\n</table>\n<p>1754155 rows × 11 columns</p>\n</div>"
     },
     "execution_count": 31,
     "metadata": {},
     "output_type": "execute_result"
    }
   ],
   "source": [
    "X"
   ],
   "metadata": {
    "collapsed": false
   }
  },
  {
   "cell_type": "code",
   "execution_count": 34,
   "outputs": [],
   "source": [
    "from sklearn.model_selection import KFold,StratifiedKFold,train_test_split\n",
    "# kfold = StratifiedKFold(n_splits=8, shuffle=True, random_state=0)\n",
    "# split data into train and test sets using train_test_split\n",
    "X_train, X_test, y_train, y_test = train_test_split(X,y,test_size=0.2,random_state=0)"
   ],
   "metadata": {
    "collapsed": false
   }
  },
  {
   "cell_type": "code",
   "execution_count": 33,
   "outputs": [],
   "source": [
    "# for train_index, test_index in kfold.split(X,y):\n",
    "#     # Split the data into train and test sets\n",
    "#     X_train, X_test = X.iloc[train_index], X.iloc[test_index]\n",
    "#     y_train, y_test = y.iloc[train_index], y.iloc[test_index]"
   ],
   "metadata": {
    "collapsed": false
   }
  },
  {
   "cell_type": "code",
   "execution_count": 48,
   "outputs": [
    {
     "name": "stderr",
     "output_type": "stream",
     "text": [
      "C:\\Users\\amr20\\anaconda3\\lib\\site-packages\\sklearn\\linear_model\\_logistic.py:814: ConvergenceWarning: lbfgs failed to converge (status=1):\n",
      "STOP: TOTAL NO. of ITERATIONS REACHED LIMIT.\n",
      "\n",
      "Increase the number of iterations (max_iter) or scale the data as shown in:\n",
      "    https://scikit-learn.org/stable/modules/preprocessing.html\n",
      "Please also refer to the documentation for alternative solver options:\n",
      "    https://scikit-learn.org/stable/modules/linear_model.html#logistic-regression\n",
      "  n_iter_i = _check_optimize_result(\n"
     ]
    },
    {
     "data": {
      "text/plain": "LogisticRegression(class_weight='balanced')"
     },
     "execution_count": 48,
     "metadata": {},
     "output_type": "execute_result"
    }
   ],
   "source": [
    "from sklearn.linear_model import LogisticRegression\n",
    "clf = LogisticRegression(class_weight='balanced')\n",
    "clf.fit(X_train,y_train)"
   ],
   "metadata": {
    "collapsed": false
   }
  },
  {
   "cell_type": "code",
   "execution_count": 49,
   "outputs": [],
   "source": [
    "y_pred = clf.predict(X_test)"
   ],
   "metadata": {
    "collapsed": false
   }
  },
  {
   "cell_type": "code",
   "execution_count": 50,
   "outputs": [],
   "source": [
    "y_pred_train = clf.predict(X_train)"
   ],
   "metadata": {
    "collapsed": false
   }
  },
  {
   "cell_type": "code",
   "execution_count": 51,
   "outputs": [],
   "source": [
    "from sklearn.metrics import confusion_matrix, accuracy_score, precision_score, recall_score, f1_score\n",
    "acc = accuracy_score(y_test,y_pred)\n",
    "confusion_mat = confusion_matrix(y_test,y_pred)\n",
    "pre_score = precision_score(y_test,y_pred)\n",
    "recall = recall_score(y_test,y_pred)\n",
    "f1 = f1_score(y_test,y_pred)\n",
    "specificity_test = confusion_mat[0,0] / (confusion_mat[0,0] + confusion_mat[0,1])"
   ],
   "metadata": {
    "collapsed": false
   }
  },
  {
   "cell_type": "code",
   "execution_count": 52,
   "outputs": [
    {
     "name": "stdout",
     "output_type": "stream",
     "text": [
      "Accuracy Score = 0.9420205170010632\n",
      " Confusion Matrix = [[285201  18747]\n",
      " [  1594  45289]]\n",
      " Precision Score = 0.70724280092448\n",
      " Recall Score = 0.9660004692532475\n",
      " F1 Score = 0.8166139254771498\n",
      " Specificity Test = 0.9383216866042876\n"
     ]
    }
   ],
   "source": [
    "print(f'Accuracy Score = {acc}\\n Confusion Matrix = {confusion_mat}\\n Precision Score = {pre_score}\\n Recall Score = {recall}\\n F1 Score = {f1}\\n Specificity Test = {specificity_test}')"
   ],
   "metadata": {
    "collapsed": false
   }
  },
  {
   "cell_type": "code",
   "execution_count": 53,
   "outputs": [],
   "source": [
    "acc_train = accuracy_score(y_train,y_pred_train)\n",
    "confusion_mat_train = confusion_matrix(y_train,y_pred_train)\n",
    "pre_score_train = precision_score(y_train,y_pred_train)\n",
    "recall_train = recall_score(y_train,y_pred_train)\n",
    "f1_train = f1_score(y_train,y_pred_train)\n",
    "specificity_train = confusion_mat_train[0,0] / (confusion_mat_train[0,0] + confusion_mat_train[0,1])"
   ],
   "metadata": {
    "collapsed": false
   }
  },
  {
   "cell_type": "code",
   "execution_count": 54,
   "outputs": [
    {
     "name": "stdout",
     "output_type": "stream",
     "text": [
      "Accuracy Score = 0.9421388075740171\n",
      " Confusion Matrix = [[1139160   75078]\n",
      " [   6120  182966]]\n",
      " Precision Score = 0.7090496194447459\n",
      " Recall Score = 0.9676337751076229\n",
      " F1 Score = 0.8184018070807149\n",
      " Specificity Test = 0.9381686292143715\n"
     ]
    }
   ],
   "source": [
    "print(f'Accuracy Score = {acc_train}\\n Confusion Matrix = {confusion_mat_train}\\n Precision Score = {pre_score_train}\\n Recall Score = {recall_train}\\n F1 Score = {f1_train}\\n Specificity Test = {specificity_train}')"
   ],
   "metadata": {
    "collapsed": false
   }
  },
  {
   "cell_type": "code",
   "execution_count": 55,
   "outputs": [
    {
     "data": {
      "text/plain": "0    1518186\n1     235969\nName: TX_FRAUD, dtype: int64"
     },
     "execution_count": 55,
     "metadata": {},
     "output_type": "execute_result"
    }
   ],
   "source": [
    "y.value_counts()"
   ],
   "metadata": {
    "collapsed": false
   }
  },
  {
   "cell_type": "code",
   "execution_count": 1,
   "outputs": [
    {
     "data": {
      "text/plain": "86.54799604367915"
     },
     "execution_count": 1,
     "metadata": {},
     "output_type": "execute_result"
    }
   ],
   "source": [
    "1518186/(1518186+235969)*100"
   ],
   "metadata": {
    "collapsed": false
   }
  },
  {
   "cell_type": "code",
   "execution_count": null,
   "outputs": [],
   "source": [],
   "metadata": {
    "collapsed": false
   }
  }
 ],
 "metadata": {
  "kernelspec": {
   "display_name": "Python 3",
   "language": "python",
   "name": "python3"
  },
  "language_info": {
   "codemirror_mode": {
    "name": "ipython",
    "version": 2
   },
   "file_extension": ".py",
   "mimetype": "text/x-python",
   "name": "python",
   "nbconvert_exporter": "python",
   "pygments_lexer": "ipython2",
   "version": "2.7.6"
  }
 },
 "nbformat": 4,
 "nbformat_minor": 0
}
