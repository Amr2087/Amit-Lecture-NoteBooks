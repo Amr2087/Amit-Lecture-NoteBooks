{
 "cells": [
  {
   "cell_type": "code",
   "execution_count": 1,
   "metadata": {
    "collapsed": true
   },
   "outputs": [],
   "source": [
    "import numpy as np\n",
    "import matplotlib.pyplot as plt\n",
    "import pandas as pd\n",
    "import seaborn as sns"
   ]
  },
  {
   "cell_type": "code",
   "execution_count": 2,
   "outputs": [
    {
     "data": {
      "text/plain": "(<module 'numpy' from 'C:\\\\Users\\\\amr20\\\\anaconda3\\\\lib\\\\site-packages\\\\numpy\\\\__init__.py'>,\n <module 'matplotlib.pyplot' from 'C:\\\\Users\\\\amr20\\\\anaconda3\\\\lib\\\\site-packages\\\\matplotlib\\\\pyplot.py'>,\n <module 'seaborn' from 'C:\\\\Users\\\\amr20\\\\anaconda3\\\\lib\\\\site-packages\\\\seaborn\\\\__init__.py'>)"
     },
     "execution_count": 2,
     "metadata": {},
     "output_type": "execute_result"
    }
   ],
   "source": [
    "np,plt,sns"
   ],
   "metadata": {
    "collapsed": false
   }
  },
  {
   "cell_type": "code",
   "execution_count": 3,
   "outputs": [],
   "source": [
    "datasetcars = pd.read_csv('data/cars.csv')"
   ],
   "metadata": {
    "collapsed": false
   }
  },
  {
   "cell_type": "code",
   "execution_count": 4,
   "outputs": [],
   "source": [
    "datasetcars.drop(['Car', 'Model'], axis=1, inplace=True)"
   ],
   "metadata": {
    "collapsed": false
   }
  },
  {
   "cell_type": "code",
   "execution_count": 5,
   "outputs": [],
   "source": [
    "X = datasetcars.iloc[:, :-1].values\n",
    "y = datasetcars.iloc[:, -1].values"
   ],
   "metadata": {
    "collapsed": false
   }
  },
  {
   "cell_type": "code",
   "execution_count": 6,
   "outputs": [
    {
     "data": {
      "text/plain": "    Volume  Weight  CO2\n0     1000     790   99\n1     1200    1160   95\n2     1000     929   95\n3      900     865   90\n4     1500    1140  105\n5     1000     929  105\n6     1400    1109   90\n7     1500    1365   92\n8     1500    1112   98\n9     1600    1150   99\n10    1100     980   99\n11    1300     990  101\n12    1000    1112   99\n13    1600    1252   94\n14    1600    1326   97\n15    1600    1330   97\n16    1600    1365   99\n17    2200    1280  104\n18    1600    1119  104\n19    2000    1328  105\n20    1600    1584   94\n21    2000    1428   99\n22    2100    1365   99\n23    1600    1415   99\n24    2000    1415   99\n25    1500    1465  102\n26    2000    1490  104\n27    2000    1725  114\n28    1600    1523  109\n29    2000    1705  114\n30    2100    1605  115\n31    2000    1746  117\n32    1600    1235  104\n33    1600    1390  108\n34    1600    1405  109\n35    2500    1395  120",
      "text/html": "<div>\n<style scoped>\n    .dataframe tbody tr th:only-of-type {\n        vertical-align: middle;\n    }\n\n    .dataframe tbody tr th {\n        vertical-align: top;\n    }\n\n    .dataframe thead th {\n        text-align: right;\n    }\n</style>\n<table border=\"1\" class=\"dataframe\">\n  <thead>\n    <tr style=\"text-align: right;\">\n      <th></th>\n      <th>Volume</th>\n      <th>Weight</th>\n      <th>CO2</th>\n    </tr>\n  </thead>\n  <tbody>\n    <tr>\n      <th>0</th>\n      <td>1000</td>\n      <td>790</td>\n      <td>99</td>\n    </tr>\n    <tr>\n      <th>1</th>\n      <td>1200</td>\n      <td>1160</td>\n      <td>95</td>\n    </tr>\n    <tr>\n      <th>2</th>\n      <td>1000</td>\n      <td>929</td>\n      <td>95</td>\n    </tr>\n    <tr>\n      <th>3</th>\n      <td>900</td>\n      <td>865</td>\n      <td>90</td>\n    </tr>\n    <tr>\n      <th>4</th>\n      <td>1500</td>\n      <td>1140</td>\n      <td>105</td>\n    </tr>\n    <tr>\n      <th>5</th>\n      <td>1000</td>\n      <td>929</td>\n      <td>105</td>\n    </tr>\n    <tr>\n      <th>6</th>\n      <td>1400</td>\n      <td>1109</td>\n      <td>90</td>\n    </tr>\n    <tr>\n      <th>7</th>\n      <td>1500</td>\n      <td>1365</td>\n      <td>92</td>\n    </tr>\n    <tr>\n      <th>8</th>\n      <td>1500</td>\n      <td>1112</td>\n      <td>98</td>\n    </tr>\n    <tr>\n      <th>9</th>\n      <td>1600</td>\n      <td>1150</td>\n      <td>99</td>\n    </tr>\n    <tr>\n      <th>10</th>\n      <td>1100</td>\n      <td>980</td>\n      <td>99</td>\n    </tr>\n    <tr>\n      <th>11</th>\n      <td>1300</td>\n      <td>990</td>\n      <td>101</td>\n    </tr>\n    <tr>\n      <th>12</th>\n      <td>1000</td>\n      <td>1112</td>\n      <td>99</td>\n    </tr>\n    <tr>\n      <th>13</th>\n      <td>1600</td>\n      <td>1252</td>\n      <td>94</td>\n    </tr>\n    <tr>\n      <th>14</th>\n      <td>1600</td>\n      <td>1326</td>\n      <td>97</td>\n    </tr>\n    <tr>\n      <th>15</th>\n      <td>1600</td>\n      <td>1330</td>\n      <td>97</td>\n    </tr>\n    <tr>\n      <th>16</th>\n      <td>1600</td>\n      <td>1365</td>\n      <td>99</td>\n    </tr>\n    <tr>\n      <th>17</th>\n      <td>2200</td>\n      <td>1280</td>\n      <td>104</td>\n    </tr>\n    <tr>\n      <th>18</th>\n      <td>1600</td>\n      <td>1119</td>\n      <td>104</td>\n    </tr>\n    <tr>\n      <th>19</th>\n      <td>2000</td>\n      <td>1328</td>\n      <td>105</td>\n    </tr>\n    <tr>\n      <th>20</th>\n      <td>1600</td>\n      <td>1584</td>\n      <td>94</td>\n    </tr>\n    <tr>\n      <th>21</th>\n      <td>2000</td>\n      <td>1428</td>\n      <td>99</td>\n    </tr>\n    <tr>\n      <th>22</th>\n      <td>2100</td>\n      <td>1365</td>\n      <td>99</td>\n    </tr>\n    <tr>\n      <th>23</th>\n      <td>1600</td>\n      <td>1415</td>\n      <td>99</td>\n    </tr>\n    <tr>\n      <th>24</th>\n      <td>2000</td>\n      <td>1415</td>\n      <td>99</td>\n    </tr>\n    <tr>\n      <th>25</th>\n      <td>1500</td>\n      <td>1465</td>\n      <td>102</td>\n    </tr>\n    <tr>\n      <th>26</th>\n      <td>2000</td>\n      <td>1490</td>\n      <td>104</td>\n    </tr>\n    <tr>\n      <th>27</th>\n      <td>2000</td>\n      <td>1725</td>\n      <td>114</td>\n    </tr>\n    <tr>\n      <th>28</th>\n      <td>1600</td>\n      <td>1523</td>\n      <td>109</td>\n    </tr>\n    <tr>\n      <th>29</th>\n      <td>2000</td>\n      <td>1705</td>\n      <td>114</td>\n    </tr>\n    <tr>\n      <th>30</th>\n      <td>2100</td>\n      <td>1605</td>\n      <td>115</td>\n    </tr>\n    <tr>\n      <th>31</th>\n      <td>2000</td>\n      <td>1746</td>\n      <td>117</td>\n    </tr>\n    <tr>\n      <th>32</th>\n      <td>1600</td>\n      <td>1235</td>\n      <td>104</td>\n    </tr>\n    <tr>\n      <th>33</th>\n      <td>1600</td>\n      <td>1390</td>\n      <td>108</td>\n    </tr>\n    <tr>\n      <th>34</th>\n      <td>1600</td>\n      <td>1405</td>\n      <td>109</td>\n    </tr>\n    <tr>\n      <th>35</th>\n      <td>2500</td>\n      <td>1395</td>\n      <td>120</td>\n    </tr>\n  </tbody>\n</table>\n</div>"
     },
     "execution_count": 6,
     "metadata": {},
     "output_type": "execute_result"
    }
   ],
   "source": [
    "datasetcars"
   ],
   "metadata": {
    "collapsed": false
   }
  },
  {
   "cell_type": "code",
   "execution_count": 7,
   "outputs": [],
   "source": [
    "class LinearRegression:\n",
    "    def __init__(self, lr = 0.00000001, n_iters=5000):\n",
    "        self.lr = lr\n",
    "        self.n_iters = n_iters\n",
    "        self.wights = None\n",
    "        self.bais= None\n",
    "\n",
    "    def fit(self,X,y):\n",
    "        n_samples, n_features = X.shape\n",
    "        self.wights = np.zeros(n_features)\n",
    "        self.bais = 0\n",
    "\n",
    "        for i in range(self.n_iters):\n",
    "            y_pred = np.dot(X, self.wights)+self.bais\n",
    "            # gradient\n",
    "            dw = (2/n_samples)*np.dot(X.T,(y_pred-y))\n",
    "            db = (2/n_samples)*np.sum((y_pred-y))\n",
    "            # update\n",
    "            self.wights = self.wights - self.lr * dw\n",
    "            self.bais = self.bais - self.lr * db\n",
    "    def predict(self,X):\n",
    "        y_preds = np.dot(X, self.wights) + self.bais\n",
    "        return y_preds"
   ],
   "metadata": {
    "collapsed": false
   }
  },
  {
   "cell_type": "code",
   "execution_count": 8,
   "outputs": [],
   "source": [
    "from sklearn.model_selection import train_test_split\n",
    "X_train, X_test, y_train, y_test = train_test_split(X,y,test_size=0.1)"
   ],
   "metadata": {
    "collapsed": false
   }
  },
  {
   "cell_type": "code",
   "execution_count": 9,
   "outputs": [],
   "source": [
    "def MSE(y_pred,y_true):\n",
    "    mse = np.mean((y_pred-y_true)**2)\n",
    "    return mse"
   ],
   "metadata": {
    "collapsed": false
   }
  },
  {
   "cell_type": "code",
   "execution_count": 10,
   "outputs": [],
   "source": [
    "regrssor = LinearRegression(lr=0.00000001, n_iters=5000)\n",
    "regrssor.fit(X_train,y_train)"
   ],
   "metadata": {
    "collapsed": false
   }
  },
  {
   "cell_type": "code",
   "execution_count": 11,
   "outputs": [],
   "source": [
    "y_pred = regrssor.predict(X_test)"
   ],
   "metadata": {
    "collapsed": false
   }
  },
  {
   "cell_type": "code",
   "execution_count": 12,
   "outputs": [
    {
     "data": {
      "text/plain": "33.379236905143394"
     },
     "execution_count": 12,
     "metadata": {},
     "output_type": "execute_result"
    }
   ],
   "source": [
    "MSE(y_pred,y_test)"
   ],
   "metadata": {
    "collapsed": false
   }
  },
  {
   "cell_type": "code",
   "execution_count": 13,
   "outputs": [
    {
     "name": "stdout",
     "output_type": "stream",
     "text": [
      "0.00033506326845452676\n"
     ]
    }
   ],
   "source": [
    "print(regrssor.bais)\n",
    "# 0.0003402677805040269"
   ],
   "metadata": {
    "collapsed": false
   }
  },
  {
   "cell_type": "code",
   "execution_count": 14,
   "outputs": [
    {
     "name": "stdout",
     "output_type": "stream",
     "text": [
      "[0.01215959 0.06197751]\n"
     ]
    }
   ],
   "source": [
    "print(regrssor.wights)\n",
    "# [0.01121652 0.06298495]"
   ],
   "metadata": {
    "collapsed": false
   }
  },
  {
   "cell_type": "code",
   "execution_count": 15,
   "outputs": [
    {
     "data": {
      "text/plain": "LinearRegression()"
     },
     "execution_count": 15,
     "metadata": {},
     "output_type": "execute_result"
    }
   ],
   "source": [
    "from sklearn.linear_model import LinearRegression\n",
    "skreg = LinearRegression()\n",
    "skreg.fit(X_train, y_train)"
   ],
   "metadata": {
    "collapsed": false
   }
  },
  {
   "cell_type": "code",
   "execution_count": 16,
   "outputs": [],
   "source": [
    "y_pred = skreg.predict(X_test)"
   ],
   "metadata": {
    "collapsed": false
   }
  },
  {
   "cell_type": "code",
   "execution_count": 17,
   "outputs": [
    {
     "data": {
      "text/plain": "41.32891343446535"
     },
     "execution_count": 17,
     "metadata": {},
     "output_type": "execute_result"
    }
   ],
   "source": [
    "MSE(y_pred,y_test)"
   ],
   "metadata": {
    "collapsed": false
   }
  },
  {
   "cell_type": "markdown",
   "source": [
    "### 2nd Data"
   ],
   "metadata": {
    "collapsed": false
   }
  },
  {
   "cell_type": "code",
   "execution_count": 18,
   "outputs": [],
   "source": [
    "data = pd.read_csv('data/data.csv')"
   ],
   "metadata": {
    "collapsed": false
   }
  },
  {
   "cell_type": "code",
   "execution_count": 19,
   "outputs": [
    {
     "data": {
      "text/plain": "   sno  Temperature  Pressure\n0    1            0    0.0002\n1    2           20    0.0012\n2    3           40    0.0060\n3    4           60    0.0300\n4    5           80    0.0900\n5    6          100    0.2700",
      "text/html": "<div>\n<style scoped>\n    .dataframe tbody tr th:only-of-type {\n        vertical-align: middle;\n    }\n\n    .dataframe tbody tr th {\n        vertical-align: top;\n    }\n\n    .dataframe thead th {\n        text-align: right;\n    }\n</style>\n<table border=\"1\" class=\"dataframe\">\n  <thead>\n    <tr style=\"text-align: right;\">\n      <th></th>\n      <th>sno</th>\n      <th>Temperature</th>\n      <th>Pressure</th>\n    </tr>\n  </thead>\n  <tbody>\n    <tr>\n      <th>0</th>\n      <td>1</td>\n      <td>0</td>\n      <td>0.0002</td>\n    </tr>\n    <tr>\n      <th>1</th>\n      <td>2</td>\n      <td>20</td>\n      <td>0.0012</td>\n    </tr>\n    <tr>\n      <th>2</th>\n      <td>3</td>\n      <td>40</td>\n      <td>0.0060</td>\n    </tr>\n    <tr>\n      <th>3</th>\n      <td>4</td>\n      <td>60</td>\n      <td>0.0300</td>\n    </tr>\n    <tr>\n      <th>4</th>\n      <td>5</td>\n      <td>80</td>\n      <td>0.0900</td>\n    </tr>\n    <tr>\n      <th>5</th>\n      <td>6</td>\n      <td>100</td>\n      <td>0.2700</td>\n    </tr>\n  </tbody>\n</table>\n</div>"
     },
     "execution_count": 19,
     "metadata": {},
     "output_type": "execute_result"
    }
   ],
   "source": [
    "data"
   ],
   "metadata": {
    "collapsed": false
   }
  },
  {
   "cell_type": "code",
   "execution_count": 20,
   "outputs": [],
   "source": [
    "X_n = data.iloc[:,1:2].values\n",
    "y_n = data.iloc[:,2].values"
   ],
   "metadata": {
    "collapsed": false
   }
  },
  {
   "cell_type": "code",
   "execution_count": 21,
   "outputs": [],
   "source": [
    "# from sklearn.model_selection import train_test_split\n",
    "# X_train, X_test, y_train, y_test = train_test_split(X_n,y_n,test_size=)"
   ],
   "metadata": {
    "collapsed": false
   }
  },
  {
   "cell_type": "code",
   "execution_count": 22,
   "outputs": [
    {
     "data": {
      "text/plain": "LinearRegression()"
     },
     "execution_count": 22,
     "metadata": {},
     "output_type": "execute_result"
    }
   ],
   "source": [
    "skreg.fit(X_n,y_n)"
   ],
   "metadata": {
    "collapsed": false
   }
  },
  {
   "cell_type": "code",
   "execution_count": 23,
   "outputs": [],
   "source": [
    "y_npred = skreg.predict(X_n)"
   ],
   "metadata": {
    "collapsed": false
   }
  },
  {
   "cell_type": "code",
   "execution_count": 24,
   "outputs": [
    {
     "data": {
      "text/plain": "<Figure size 720x720 with 1 Axes>",
      "image/png": "[encoded data removed]"
     },
     "metadata": {},
     "output_type": "display_data"
    }
   ],
   "source": [
    "# Visualize Data\n",
    "plt.figure(figsize=(10,10))\n",
    "plt.scatter(X_n,y_n)\n",
    "plt.plot(X_n,y_npred)\n",
    "plt.xlabel('Team')\n",
    "plt.ylabel('Pressure')\n",
    "plt.show()"
   ],
   "metadata": {
    "collapsed": false
   }
  },
  {
   "cell_type": "code",
   "execution_count": 25,
   "outputs": [
    {
     "data": {
      "text/plain": "(6, 5)"
     },
     "execution_count": 25,
     "metadata": {},
     "output_type": "execute_result"
    }
   ],
   "source": [
    "from sklearn.preprocessing import PolynomialFeatures\n",
    "pol = PolynomialFeatures(degree=4)\n",
    "X_pol=pol.fit_transform(X_n)\n",
    "X_pol.shape"
   ],
   "metadata": {
    "collapsed": false
   }
  },
  {
   "cell_type": "code",
   "execution_count": 26,
   "outputs": [
    {
     "data": {
      "text/plain": "LinearRegression()"
     },
     "execution_count": 26,
     "metadata": {},
     "output_type": "execute_result"
    }
   ],
   "source": [
    "skreg.fit(X_pol,y_n)"
   ],
   "metadata": {
    "collapsed": false
   }
  },
  {
   "cell_type": "code",
   "execution_count": 27,
   "outputs": [],
   "source": [
    "y_npredn = skreg.predict(X_pol)"
   ],
   "metadata": {
    "collapsed": false
   }
  },
  {
   "cell_type": "code",
   "execution_count": 28,
   "outputs": [
    {
     "data": {
      "text/plain": "array([ 4.61111118e-04, -1.05555554e-04,  8.61111111e-03,  2.73888889e-02,\n        9.13055556e-02,  2.69738889e-01])"
     },
     "execution_count": 28,
     "metadata": {},
     "output_type": "execute_result"
    }
   ],
   "source": [
    "y_npredn"
   ],
   "metadata": {
    "collapsed": false
   }
  },
  {
   "cell_type": "code",
   "execution_count": 38,
   "outputs": [
    {
     "data": {
      "text/plain": "<Figure size 720x720 with 1 Axes>",
      "image/png": "[encoded data removed]"
     },
     "metadata": {},
     "output_type": "display_data"
    }
   ],
   "source": [
    "plt.figure(figsize=(10,10))\n",
    "plt.scatter(X_n,y_n)\n",
    "plt.plot(X_n,y_npredn)\n",
    "plt.xlabel('Tem')\n",
    "plt.ylabel('Pressure')\n",
    "plt.show()"
   ],
   "metadata": {
    "collapsed": false
   }
  },
  {
   "cell_type": "code",
   "execution_count": null,
   "outputs": [],
   "source": [],
   "metadata": {
    "collapsed": false
   }
  }
 ],
 "metadata": {
  "kernelspec": {
   "display_name": "Python 3",
   "language": "python",
   "name": "python3"
  },
  "language_info": {
   "codemirror_mode": {
    "name": "ipython",
    "version": 2
   },
   "file_extension": ".py",
   "mimetype": "text/x-python",
   "name": "python",
   "nbconvert_exporter": "python",
   "pygments_lexer": "ipython2",
   "version": "2.7.6"
  }
 },
 "nbformat": 4,
 "nbformat_minor": 0
}
