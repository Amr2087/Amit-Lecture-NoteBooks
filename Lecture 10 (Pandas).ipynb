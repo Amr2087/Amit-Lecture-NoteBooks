{
 "cells": [
  {
   "cell_type": "code",
   "execution_count": 13,
   "metadata": {
    "collapsed": true
   },
   "outputs": [],
   "source": [
    "import pandas as pd\n",
    "import numpy as np"
   ]
  },
  {
   "cell_type": "code",
   "execution_count": 10,
   "outputs": [
    {
     "data": {
      "text/plain": "a    9\nb    8\nc    7\ndtype: int64"
     },
     "execution_count": 10,
     "metadata": {},
     "output_type": "execute_result"
    }
   ],
   "source": [
    "ser = pd.Series([9,8,7], index= ['a','b','c'])\n",
    "ser"
   ],
   "metadata": {
    "collapsed": false
   }
  },
  {
   "cell_type": "code",
   "execution_count": 11,
   "outputs": [
    {
     "data": {
      "text/plain": "9"
     },
     "execution_count": 11,
     "metadata": {},
     "output_type": "execute_result"
    }
   ],
   "source": [
    "ser['a']"
   ],
   "metadata": {
    "collapsed": false
   }
  },
  {
   "cell_type": "code",
   "execution_count": 15,
   "outputs": [
    {
     "data": {
      "text/plain": "0    0\n1    1\n2    2\n3    3\n4    4\ndtype: int32"
     },
     "execution_count": 15,
     "metadata": {},
     "output_type": "execute_result"
    }
   ],
   "source": [
    "s2data = np.arange(5)\n",
    "s2 = pd.Series(s2data)\n",
    "s2"
   ],
   "metadata": {
    "collapsed": false
   }
  },
  {
   "cell_type": "code",
   "execution_count": 22,
   "outputs": [
    {
     "data": {
      "text/plain": "a    1\nb    2\ndtype: int64"
     },
     "execution_count": 22,
     "metadata": {},
     "output_type": "execute_result"
    }
   ],
   "source": [
    "dic = {'a' : 1,\n",
    "       'b' : 2}\n",
    "s3 = pd.Series(dic)\n",
    "s3"
   ],
   "metadata": {
    "collapsed": false
   }
  },
  {
   "cell_type": "code",
   "execution_count": 49,
   "outputs": [
    {
     "data": {
      "text/plain": "     0   1   2   3   4   5   6   7   8   9\n1    0   1   2   3   4   5   6   7   8   9\n2   10  11  12  13  14  15  16  17  18  19\n3   20  21  22  23  24  25  26  27  28  29\n4   30  31  32  33  34  35  36  37  38  39\n5   40  41  42  43  44  45  46  47  48  49\n6   50  51  52  53  54  55  56  57  58  59\n7   60  61  62  63  64  65  66  67  68  69\n8   70  71  72  73  74  75  76  77  78  79\n9   80  81  82  83  84  85  86  87  88  89\n10  90  91  92  93  94  95  96  97  98  99",
      "text/html": "<div>\n<style scoped>\n    .dataframe tbody tr th:only-of-type {\n        vertical-align: middle;\n    }\n\n    .dataframe tbody tr th {\n        vertical-align: top;\n    }\n\n    .dataframe thead th {\n        text-align: right;\n    }\n</style>\n<table border=\"1\" class=\"dataframe\">\n  <thead>\n    <tr style=\"text-align: right;\">\n      <th></th>\n      <th>0</th>\n      <th>1</th>\n      <th>2</th>\n      <th>3</th>\n      <th>4</th>\n      <th>5</th>\n      <th>6</th>\n      <th>7</th>\n      <th>8</th>\n      <th>9</th>\n    </tr>\n  </thead>\n  <tbody>\n    <tr>\n      <th>1</th>\n      <td>0</td>\n      <td>1</td>\n      <td>2</td>\n      <td>3</td>\n      <td>4</td>\n      <td>5</td>\n      <td>6</td>\n      <td>7</td>\n      <td>8</td>\n      <td>9</td>\n    </tr>\n    <tr>\n      <th>2</th>\n      <td>10</td>\n      <td>11</td>\n      <td>12</td>\n      <td>13</td>\n      <td>14</td>\n      <td>15</td>\n      <td>16</td>\n      <td>17</td>\n      <td>18</td>\n      <td>19</td>\n    </tr>\n    <tr>\n      <th>3</th>\n      <td>20</td>\n      <td>21</td>\n      <td>22</td>\n      <td>23</td>\n      <td>24</td>\n      <td>25</td>\n      <td>26</td>\n      <td>27</td>\n      <td>28</td>\n      <td>29</td>\n    </tr>\n    <tr>\n      <th>4</th>\n      <td>30</td>\n      <td>31</td>\n      <td>32</td>\n      <td>33</td>\n      <td>34</td>\n      <td>35</td>\n      <td>36</td>\n      <td>37</td>\n      <td>38</td>\n      <td>39</td>\n    </tr>\n    <tr>\n      <th>5</th>\n      <td>40</td>\n      <td>41</td>\n      <td>42</td>\n      <td>43</td>\n      <td>44</td>\n      <td>45</td>\n      <td>46</td>\n      <td>47</td>\n      <td>48</td>\n      <td>49</td>\n    </tr>\n    <tr>\n      <th>6</th>\n      <td>50</td>\n      <td>51</td>\n      <td>52</td>\n      <td>53</td>\n      <td>54</td>\n      <td>55</td>\n      <td>56</td>\n      <td>57</td>\n      <td>58</td>\n      <td>59</td>\n    </tr>\n    <tr>\n      <th>7</th>\n      <td>60</td>\n      <td>61</td>\n      <td>62</td>\n      <td>63</td>\n      <td>64</td>\n      <td>65</td>\n      <td>66</td>\n      <td>67</td>\n      <td>68</td>\n      <td>69</td>\n    </tr>\n    <tr>\n      <th>8</th>\n      <td>70</td>\n      <td>71</td>\n      <td>72</td>\n      <td>73</td>\n      <td>74</td>\n      <td>75</td>\n      <td>76</td>\n      <td>77</td>\n      <td>78</td>\n      <td>79</td>\n    </tr>\n    <tr>\n      <th>9</th>\n      <td>80</td>\n      <td>81</td>\n      <td>82</td>\n      <td>83</td>\n      <td>84</td>\n      <td>85</td>\n      <td>86</td>\n      <td>87</td>\n      <td>88</td>\n      <td>89</td>\n    </tr>\n    <tr>\n      <th>10</th>\n      <td>90</td>\n      <td>91</td>\n      <td>92</td>\n      <td>93</td>\n      <td>94</td>\n      <td>95</td>\n      <td>96</td>\n      <td>97</td>\n      <td>98</td>\n      <td>99</td>\n    </tr>\n  </tbody>\n</table>\n</div>"
     },
     "execution_count": 49,
     "metadata": {},
     "output_type": "execute_result"
    }
   ],
   "source": [
    "df = pd.DataFrame(data= np.arange(100).reshape(10,10), index=range(1,11))\n",
    "df"
   ],
   "metadata": {
    "collapsed": false
   }
  },
  {
   "cell_type": "code",
   "execution_count": 54,
   "outputs": [
    {
     "data": {
      "text/plain": "     0   1   2   3   4   5   6   7   8   9\n1    0   1   2   3   4   5   6   7   8   9\n2   10  11  12  13  14  15  16  17  18  19\n3   20  21  22  23  24  25  26  27  28  29\n4   30  31  32  33  34  35  36  37  38  39\n5   40  41  42  43  44  45  46  47  48  49\n6   50  51  52  53  54  55  56  57  58  59\n7   60  61  62  63  64  65  66  67  68  69\n8   70  71  72  73  74  75  76  77  78  79\n9   80  81  82  83  84  85  86  87  88  89\n10  90  91  92  93  94  95  96  97  98  99",
      "text/html": "<div>\n<style scoped>\n    .dataframe tbody tr th:only-of-type {\n        vertical-align: middle;\n    }\n\n    .dataframe tbody tr th {\n        vertical-align: top;\n    }\n\n    .dataframe thead th {\n        text-align: right;\n    }\n</style>\n<table border=\"1\" class=\"dataframe\">\n  <thead>\n    <tr style=\"text-align: right;\">\n      <th></th>\n      <th>0</th>\n      <th>1</th>\n      <th>2</th>\n      <th>3</th>\n      <th>4</th>\n      <th>5</th>\n      <th>6</th>\n      <th>7</th>\n      <th>8</th>\n      <th>9</th>\n    </tr>\n  </thead>\n  <tbody>\n    <tr>\n      <th>1</th>\n      <td>0</td>\n      <td>1</td>\n      <td>2</td>\n      <td>3</td>\n      <td>4</td>\n      <td>5</td>\n      <td>6</td>\n      <td>7</td>\n      <td>8</td>\n      <td>9</td>\n    </tr>\n    <tr>\n      <th>2</th>\n      <td>10</td>\n      <td>11</td>\n      <td>12</td>\n      <td>13</td>\n      <td>14</td>\n      <td>15</td>\n      <td>16</td>\n      <td>17</td>\n      <td>18</td>\n      <td>19</td>\n    </tr>\n    <tr>\n      <th>3</th>\n      <td>20</td>\n      <td>21</td>\n      <td>22</td>\n      <td>23</td>\n      <td>24</td>\n      <td>25</td>\n      <td>26</td>\n      <td>27</td>\n      <td>28</td>\n      <td>29</td>\n    </tr>\n    <tr>\n      <th>4</th>\n      <td>30</td>\n      <td>31</td>\n      <td>32</td>\n      <td>33</td>\n      <td>34</td>\n      <td>35</td>\n      <td>36</td>\n      <td>37</td>\n      <td>38</td>\n      <td>39</td>\n    </tr>\n    <tr>\n      <th>5</th>\n      <td>40</td>\n      <td>41</td>\n      <td>42</td>\n      <td>43</td>\n      <td>44</td>\n      <td>45</td>\n      <td>46</td>\n      <td>47</td>\n      <td>48</td>\n      <td>49</td>\n    </tr>\n    <tr>\n      <th>6</th>\n      <td>50</td>\n      <td>51</td>\n      <td>52</td>\n      <td>53</td>\n      <td>54</td>\n      <td>55</td>\n      <td>56</td>\n      <td>57</td>\n      <td>58</td>\n      <td>59</td>\n    </tr>\n    <tr>\n      <th>7</th>\n      <td>60</td>\n      <td>61</td>\n      <td>62</td>\n      <td>63</td>\n      <td>64</td>\n      <td>65</td>\n      <td>66</td>\n      <td>67</td>\n      <td>68</td>\n      <td>69</td>\n    </tr>\n    <tr>\n      <th>8</th>\n      <td>70</td>\n      <td>71</td>\n      <td>72</td>\n      <td>73</td>\n      <td>74</td>\n      <td>75</td>\n      <td>76</td>\n      <td>77</td>\n      <td>78</td>\n      <td>79</td>\n    </tr>\n    <tr>\n      <th>9</th>\n      <td>80</td>\n      <td>81</td>\n      <td>82</td>\n      <td>83</td>\n      <td>84</td>\n      <td>85</td>\n      <td>86</td>\n      <td>87</td>\n      <td>88</td>\n      <td>89</td>\n    </tr>\n    <tr>\n      <th>10</th>\n      <td>90</td>\n      <td>91</td>\n      <td>92</td>\n      <td>93</td>\n      <td>94</td>\n      <td>95</td>\n      <td>96</td>\n      <td>97</td>\n      <td>98</td>\n      <td>99</td>\n    </tr>\n  </tbody>\n</table>\n</div>"
     },
     "execution_count": 54,
     "metadata": {},
     "output_type": "execute_result"
    }
   ],
   "source": [
    "df"
   ],
   "metadata": {
    "collapsed": false
   }
  },
  {
   "cell_type": "code",
   "execution_count": 63,
   "outputs": [],
   "source": [
    "df = pd.DataFrame({\n",
    "       'col 1' : 5.0,\n",
    "       'col 2' : [2,3,4,5],\n",
    "       'col 3' : 'ah',\n",
    "       'col 4' : np.array([4,6,7,8]),\n",
    "       'col 5' : pd.Series([1]*4, index=['a', 'b', 'c','d']),\n",
    "}, index=['a', 'b', 'c','d'])"
   ],
   "metadata": {
    "collapsed": false
   }
  },
  {
   "cell_type": "code",
   "execution_count": 65,
   "outputs": [
    {
     "data": {
      "text/plain": "   col 1  col 2 col 3  col 4  col 5\na    5.0      2    ah      4      1\nb    5.0      3    ah      6      1\nc    5.0      4    ah      7      1\nd    5.0      5    ah      8      1",
      "text/html": "<div>\n<style scoped>\n    .dataframe tbody tr th:only-of-type {\n        vertical-align: middle;\n    }\n\n    .dataframe tbody tr th {\n        vertical-align: top;\n    }\n\n    .dataframe thead th {\n        text-align: right;\n    }\n</style>\n<table border=\"1\" class=\"dataframe\">\n  <thead>\n    <tr style=\"text-align: right;\">\n      <th></th>\n      <th>col 1</th>\n      <th>col 2</th>\n      <th>col 3</th>\n      <th>col 4</th>\n      <th>col 5</th>\n    </tr>\n  </thead>\n  <tbody>\n    <tr>\n      <th>a</th>\n      <td>5.0</td>\n      <td>2</td>\n      <td>ah</td>\n      <td>4</td>\n      <td>1</td>\n    </tr>\n    <tr>\n      <th>b</th>\n      <td>5.0</td>\n      <td>3</td>\n      <td>ah</td>\n      <td>6</td>\n      <td>1</td>\n    </tr>\n    <tr>\n      <th>c</th>\n      <td>5.0</td>\n      <td>4</td>\n      <td>ah</td>\n      <td>7</td>\n      <td>1</td>\n    </tr>\n    <tr>\n      <th>d</th>\n      <td>5.0</td>\n      <td>5</td>\n      <td>ah</td>\n      <td>8</td>\n      <td>1</td>\n    </tr>\n  </tbody>\n</table>\n</div>"
     },
     "execution_count": 65,
     "metadata": {},
     "output_type": "execute_result"
    }
   ],
   "source": [
    "df\n"
   ],
   "metadata": {
    "collapsed": false
   }
  },
  {
   "cell_type": "code",
   "execution_count": 92,
   "outputs": [],
   "source": [
    "dataframe = pd.DataFrame(data= np.arange(10000).reshape(1000,10), columns=['col1','col2','col3','col4','col5','col6','col7','col8','col9','col10'])"
   ],
   "metadata": {
    "collapsed": false
   }
  },
  {
   "cell_type": "code",
   "execution_count": 93,
   "outputs": [
    {
     "data": {
      "text/plain": "     col1  col2  col3  col4  col5  col6  col7  col8  col9  col10\n0       0     1     2     3     4     5     6     7     8      9\n1      10    11    12    13    14    15    16    17    18     19\n2      20    21    22    23    24    25    26    27    28     29\n3      30    31    32    33    34    35    36    37    38     39\n4      40    41    42    43    44    45    46    47    48     49\n..    ...   ...   ...   ...   ...   ...   ...   ...   ...    ...\n995  9950  9951  9952  9953  9954  9955  9956  9957  9958   9959\n996  9960  9961  9962  9963  9964  9965  9966  9967  9968   9969\n997  9970  9971  9972  9973  9974  9975  9976  9977  9978   9979\n998  9980  9981  9982  9983  9984  9985  9986  9987  9988   9989\n999  9990  9991  9992  9993  9994  9995  9996  9997  9998   9999\n\n[1000 rows x 10 columns]",
      "text/html": "<div>\n<style scoped>\n    .dataframe tbody tr th:only-of-type {\n        vertical-align: middle;\n    }\n\n    .dataframe tbody tr th {\n        vertical-align: top;\n    }\n\n    .dataframe thead th {\n        text-align: right;\n    }\n</style>\n<table border=\"1\" class=\"dataframe\">\n  <thead>\n    <tr style=\"text-align: right;\">\n      <th></th>\n      <th>col1</th>\n      <th>col2</th>\n      <th>col3</th>\n      <th>col4</th>\n      <th>col5</th>\n      <th>col6</th>\n      <th>col7</th>\n      <th>col8</th>\n      <th>col9</th>\n      <th>col10</th>\n    </tr>\n  </thead>\n  <tbody>\n    <tr>\n      <th>0</th>\n      <td>0</td>\n      <td>1</td>\n      <td>2</td>\n      <td>3</td>\n      <td>4</td>\n      <td>5</td>\n      <td>6</td>\n      <td>7</td>\n      <td>8</td>\n      <td>9</td>\n    </tr>\n    <tr>\n      <th>1</th>\n      <td>10</td>\n      <td>11</td>\n      <td>12</td>\n      <td>13</td>\n      <td>14</td>\n      <td>15</td>\n      <td>16</td>\n      <td>17</td>\n      <td>18</td>\n      <td>19</td>\n    </tr>\n    <tr>\n      <th>2</th>\n      <td>20</td>\n      <td>21</td>\n      <td>22</td>\n      <td>23</td>\n      <td>24</td>\n      <td>25</td>\n      <td>26</td>\n      <td>27</td>\n      <td>28</td>\n      <td>29</td>\n    </tr>\n    <tr>\n      <th>3</th>\n      <td>30</td>\n      <td>31</td>\n      <td>32</td>\n      <td>33</td>\n      <td>34</td>\n      <td>35</td>\n      <td>36</td>\n      <td>37</td>\n      <td>38</td>\n      <td>39</td>\n    </tr>\n    <tr>\n      <th>4</th>\n      <td>40</td>\n      <td>41</td>\n      <td>42</td>\n      <td>43</td>\n      <td>44</td>\n      <td>45</td>\n      <td>46</td>\n      <td>47</td>\n      <td>48</td>\n      <td>49</td>\n    </tr>\n    <tr>\n      <th>...</th>\n      <td>...</td>\n      <td>...</td>\n      <td>...</td>\n      <td>...</td>\n      <td>...</td>\n      <td>...</td>\n      <td>...</td>\n      <td>...</td>\n      <td>...</td>\n      <td>...</td>\n    </tr>\n    <tr>\n      <th>995</th>\n      <td>9950</td>\n      <td>9951</td>\n      <td>9952</td>\n      <td>9953</td>\n      <td>9954</td>\n      <td>9955</td>\n      <td>9956</td>\n      <td>9957</td>\n      <td>9958</td>\n      <td>9959</td>\n    </tr>\n    <tr>\n      <th>996</th>\n      <td>9960</td>\n      <td>9961</td>\n      <td>9962</td>\n      <td>9963</td>\n      <td>9964</td>\n      <td>9965</td>\n      <td>9966</td>\n      <td>9967</td>\n      <td>9968</td>\n      <td>9969</td>\n    </tr>\n    <tr>\n      <th>997</th>\n      <td>9970</td>\n      <td>9971</td>\n      <td>9972</td>\n      <td>9973</td>\n      <td>9974</td>\n      <td>9975</td>\n      <td>9976</td>\n      <td>9977</td>\n      <td>9978</td>\n      <td>9979</td>\n    </tr>\n    <tr>\n      <th>998</th>\n      <td>9980</td>\n      <td>9981</td>\n      <td>9982</td>\n      <td>9983</td>\n      <td>9984</td>\n      <td>9985</td>\n      <td>9986</td>\n      <td>9987</td>\n      <td>9988</td>\n      <td>9989</td>\n    </tr>\n    <tr>\n      <th>999</th>\n      <td>9990</td>\n      <td>9991</td>\n      <td>9992</td>\n      <td>9993</td>\n      <td>9994</td>\n      <td>9995</td>\n      <td>9996</td>\n      <td>9997</td>\n      <td>9998</td>\n      <td>9999</td>\n    </tr>\n  </tbody>\n</table>\n<p>1000 rows × 10 columns</p>\n</div>"
     },
     "execution_count": 93,
     "metadata": {},
     "output_type": "execute_result"
    }
   ],
   "source": [
    "dataframe"
   ],
   "metadata": {
    "collapsed": false
   }
  },
  {
   "cell_type": "code",
   "execution_count": 95,
   "outputs": [
    {
     "data": {
      "text/plain": "col2    501\ncol3    502\ncol4    503\ncol5    504\ncol6    505\ncol7    506\ncol8    507\nName: 50, dtype: int32"
     },
     "execution_count": 95,
     "metadata": {},
     "output_type": "execute_result"
    }
   ],
   "source": [
    "dataframe.iloc[50,1:8]"
   ],
   "metadata": {
    "collapsed": false
   }
  },
  {
   "cell_type": "code",
   "execution_count": 102,
   "outputs": [],
   "source": [
    "dataset = pd.read_csv('data/AB_NYC_2019.csv')"
   ],
   "metadata": {
    "collapsed": false
   }
  },
  {
   "cell_type": "code",
   "execution_count": 103,
   "outputs": [
    {
     "data": {
      "text/plain": "             id                                               name   host_id  \\\n0          2539                 Clean & quiet apt home by the park      2787   \n1          2595                              Skylit Midtown Castle      2845   \n2          3647                THE VILLAGE OF HARLEM....NEW YORK !      4632   \n3          3831                    Cozy Entire Floor of Brownstone      4869   \n4          5022   Entire Apt: Spacious Studio/Loft by central park      7192   \n...         ...                                                ...       ...   \n48890  36484665    Charming one bedroom - newly renovated rowhouse   8232441   \n48891  36485057      Affordable room in Bushwick/East Williamsburg   6570630   \n48892  36485431            Sunny Studio at Historical Neighborhood  23492952   \n48893  36485609               43rd St. Time Square-cozy single bed  30985759   \n48894  36487245  Trendy duplex in the very heart of Hell's Kitchen  68119814   \n\n           host_name neighbourhood_group       neighbourhood  latitude  \\\n0               John            Brooklyn          Kensington  40.64749   \n1           Jennifer           Manhattan             Midtown  40.75362   \n2          Elisabeth           Manhattan              Harlem  40.80902   \n3        LisaRoxanne            Brooklyn        Clinton Hill  40.68514   \n4              Laura           Manhattan         East Harlem  40.79851   \n...              ...                 ...                 ...       ...   \n48890        Sabrina            Brooklyn  Bedford-Stuyvesant  40.67853   \n48891        Marisol            Brooklyn            Bushwick  40.70184   \n48892  Ilgar & Aysel           Manhattan              Harlem  40.81475   \n48893            Taz           Manhattan      Hell's Kitchen  40.75751   \n48894     Christophe           Manhattan      Hell's Kitchen  40.76404   \n\n       longitude        room_type  price  minimum_nights  number_of_reviews  \\\n0      -73.97237     Private room    149               1                  9   \n1      -73.98377  Entire home/apt    225               1                 45   \n2      -73.94190     Private room    150               3                  0   \n3      -73.95976  Entire home/apt     89               1                270   \n4      -73.94399  Entire home/apt     80              10                  9   \n...          ...              ...    ...             ...                ...   \n48890  -73.94995     Private room     70               2                  0   \n48891  -73.93317     Private room     40               4                  0   \n48892  -73.94867  Entire home/apt    115              10                  0   \n48893  -73.99112      Shared room     55               1                  0   \n48894  -73.98933     Private room     90               7                  0   \n\n      last_review  reviews_per_month  calculated_host_listings_count  \\\n0      2018-10-19               0.21                               6   \n1      2019-05-21               0.38                               2   \n2             NaN                NaN                               1   \n3      2019-07-05               4.64                               1   \n4      2018-11-19               0.10                               1   \n...           ...                ...                             ...   \n48890         NaN                NaN                               2   \n48891         NaN                NaN                               2   \n48892         NaN                NaN                               1   \n48893         NaN                NaN                               6   \n48894         NaN                NaN                               1   \n\n       availability_365  \n0                   365  \n1                   355  \n2                   365  \n3                   194  \n4                     0  \n...                 ...  \n48890                 9  \n48891                36  \n48892                27  \n48893                 2  \n48894                23  \n\n[48895 rows x 16 columns]",
      "text/html": "<div>\n<style scoped>\n    .dataframe tbody tr th:only-of-type {\n        vertical-align: middle;\n    }\n\n    .dataframe tbody tr th {\n        vertical-align: top;\n    }\n\n    .dataframe thead th {\n        text-align: right;\n    }\n</style>\n<table border=\"1\" class=\"dataframe\">\n  <thead>\n    <tr style=\"text-align: right;\">\n      <th></th>\n      <th>id</th>\n      <th>name</th>\n      <th>host_id</th>\n      <th>host_name</th>\n      <th>neighbourhood_group</th>\n      <th>neighbourhood</th>\n      <th>latitude</th>\n      <th>longitude</th>\n      <th>room_type</th>\n      <th>price</th>\n      <th>minimum_nights</th>\n      <th>number_of_reviews</th>\n      <th>last_review</th>\n      <th>reviews_per_month</th>\n      <th>calculated_host_listings_count</th>\n      <th>availability_365</th>\n    </tr>\n  </thead>\n  <tbody>\n    <tr>\n      <th>0</th>\n      <td>2539</td>\n      <td>Clean &amp; quiet apt home by the park</td>\n      <td>2787</td>\n      <td>John</td>\n      <td>Brooklyn</td>\n      <td>Kensington</td>\n      <td>40.64749</td>\n      <td>-73.97237</td>\n      <td>Private room</td>\n      <td>149</td>\n      <td>1</td>\n      <td>9</td>\n      <td>2018-10-19</td>\n      <td>0.21</td>\n      <td>6</td>\n      <td>365</td>\n    </tr>\n    <tr>\n      <th>1</th>\n      <td>2595</td>\n      <td>Skylit Midtown Castle</td>\n      <td>2845</td>\n      <td>Jennifer</td>\n      <td>Manhattan</td>\n      <td>Midtown</td>\n      <td>40.75362</td>\n      <td>-73.98377</td>\n      <td>Entire home/apt</td>\n      <td>225</td>\n      <td>1</td>\n      <td>45</td>\n      <td>2019-05-21</td>\n      <td>0.38</td>\n      <td>2</td>\n      <td>355</td>\n    </tr>\n    <tr>\n      <th>2</th>\n      <td>3647</td>\n      <td>THE VILLAGE OF HARLEM....NEW YORK !</td>\n      <td>4632</td>\n      <td>Elisabeth</td>\n      <td>Manhattan</td>\n      <td>Harlem</td>\n      <td>40.80902</td>\n      <td>-73.94190</td>\n      <td>Private room</td>\n      <td>150</td>\n      <td>3</td>\n      <td>0</td>\n      <td>NaN</td>\n      <td>NaN</td>\n      <td>1</td>\n      <td>365</td>\n    </tr>\n    <tr>\n      <th>3</th>\n      <td>3831</td>\n      <td>Cozy Entire Floor of Brownstone</td>\n      <td>4869</td>\n      <td>LisaRoxanne</td>\n      <td>Brooklyn</td>\n      <td>Clinton Hill</td>\n      <td>40.68514</td>\n      <td>-73.95976</td>\n      <td>Entire home/apt</td>\n      <td>89</td>\n      <td>1</td>\n      <td>270</td>\n      <td>2019-07-05</td>\n      <td>4.64</td>\n      <td>1</td>\n      <td>194</td>\n    </tr>\n    <tr>\n      <th>4</th>\n      <td>5022</td>\n      <td>Entire Apt: Spacious Studio/Loft by central park</td>\n      <td>7192</td>\n      <td>Laura</td>\n      <td>Manhattan</td>\n      <td>East Harlem</td>\n      <td>40.79851</td>\n      <td>-73.94399</td>\n      <td>Entire home/apt</td>\n      <td>80</td>\n      <td>10</td>\n      <td>9</td>\n      <td>2018-11-19</td>\n      <td>0.10</td>\n      <td>1</td>\n      <td>0</td>\n    </tr>\n    <tr>\n      <th>...</th>\n      <td>...</td>\n      <td>...</td>\n      <td>...</td>\n      <td>...</td>\n      <td>...</td>\n      <td>...</td>\n      <td>...</td>\n      <td>...</td>\n      <td>...</td>\n      <td>...</td>\n      <td>...</td>\n      <td>...</td>\n      <td>...</td>\n      <td>...</td>\n      <td>...</td>\n      <td>...</td>\n    </tr>\n    <tr>\n      <th>48890</th>\n      <td>36484665</td>\n      <td>Charming one bedroom - newly renovated rowhouse</td>\n      <td>8232441</td>\n      <td>Sabrina</td>\n      <td>Brooklyn</td>\n      <td>Bedford-Stuyvesant</td>\n      <td>40.67853</td>\n      <td>-73.94995</td>\n      <td>Private room</td>\n      <td>70</td>\n      <td>2</td>\n      <td>0</td>\n      <td>NaN</td>\n      <td>NaN</td>\n      <td>2</td>\n      <td>9</td>\n    </tr>\n    <tr>\n      <th>48891</th>\n      <td>36485057</td>\n      <td>Affordable room in Bushwick/East Williamsburg</td>\n      <td>6570630</td>\n      <td>Marisol</td>\n      <td>Brooklyn</td>\n      <td>Bushwick</td>\n      <td>40.70184</td>\n      <td>-73.93317</td>\n      <td>Private room</td>\n      <td>40</td>\n      <td>4</td>\n      <td>0</td>\n      <td>NaN</td>\n      <td>NaN</td>\n      <td>2</td>\n      <td>36</td>\n    </tr>\n    <tr>\n      <th>48892</th>\n      <td>36485431</td>\n      <td>Sunny Studio at Historical Neighborhood</td>\n      <td>23492952</td>\n      <td>Ilgar &amp; Aysel</td>\n      <td>Manhattan</td>\n      <td>Harlem</td>\n      <td>40.81475</td>\n      <td>-73.94867</td>\n      <td>Entire home/apt</td>\n      <td>115</td>\n      <td>10</td>\n      <td>0</td>\n      <td>NaN</td>\n      <td>NaN</td>\n      <td>1</td>\n      <td>27</td>\n    </tr>\n    <tr>\n      <th>48893</th>\n      <td>36485609</td>\n      <td>43rd St. Time Square-cozy single bed</td>\n      <td>30985759</td>\n      <td>Taz</td>\n      <td>Manhattan</td>\n      <td>Hell's Kitchen</td>\n      <td>40.75751</td>\n      <td>-73.99112</td>\n      <td>Shared room</td>\n      <td>55</td>\n      <td>1</td>\n      <td>0</td>\n      <td>NaN</td>\n      <td>NaN</td>\n      <td>6</td>\n      <td>2</td>\n    </tr>\n    <tr>\n      <th>48894</th>\n      <td>36487245</td>\n      <td>Trendy duplex in the very heart of Hell's Kitchen</td>\n      <td>68119814</td>\n      <td>Christophe</td>\n      <td>Manhattan</td>\n      <td>Hell's Kitchen</td>\n      <td>40.76404</td>\n      <td>-73.98933</td>\n      <td>Private room</td>\n      <td>90</td>\n      <td>7</td>\n      <td>0</td>\n      <td>NaN</td>\n      <td>NaN</td>\n      <td>1</td>\n      <td>23</td>\n    </tr>\n  </tbody>\n</table>\n<p>48895 rows × 16 columns</p>\n</div>"
     },
     "execution_count": 103,
     "metadata": {},
     "output_type": "execute_result"
    }
   ],
   "source": [
    "dataset"
   ],
   "metadata": {
    "collapsed": false
   }
  },
  {
   "cell_type": "code",
   "execution_count": 98,
   "outputs": [
    {
     "data": {
      "text/plain": "                 id       host_id      latitude     longitude         price  \\\ncount  4.889500e+04  4.889500e+04  48895.000000  48895.000000  48895.000000   \nmean   1.901714e+07  6.762001e+07     40.728949    -73.952170    152.720687   \nstd    1.098311e+07  7.861097e+07      0.054530      0.046157    240.154170   \nmin    2.539000e+03  2.438000e+03     40.499790    -74.244420      0.000000   \n25%    9.471945e+06  7.822033e+06     40.690100    -73.983070     69.000000   \n50%    1.967728e+07  3.079382e+07     40.723070    -73.955680    106.000000   \n75%    2.915218e+07  1.074344e+08     40.763115    -73.936275    175.000000   \nmax    3.648724e+07  2.743213e+08     40.913060    -73.712990  10000.000000   \n\n       minimum_nights  number_of_reviews  reviews_per_month  \\\ncount    48895.000000       48895.000000       38843.000000   \nmean         7.029962          23.274466           1.373221   \nstd         20.510550          44.550582           1.680442   \nmin          1.000000           0.000000           0.010000   \n25%          1.000000           1.000000           0.190000   \n50%          3.000000           5.000000           0.720000   \n75%          5.000000          24.000000           2.020000   \nmax       1250.000000         629.000000          58.500000   \n\n       calculated_host_listings_count  availability_365  \ncount                    48895.000000      48895.000000  \nmean                         7.143982        112.781327  \nstd                         32.952519        131.622289  \nmin                          1.000000          0.000000  \n25%                          1.000000          0.000000  \n50%                          1.000000         45.000000  \n75%                          2.000000        227.000000  \nmax                        327.000000        365.000000  ",
      "text/html": "<div>\n<style scoped>\n    .dataframe tbody tr th:only-of-type {\n        vertical-align: middle;\n    }\n\n    .dataframe tbody tr th {\n        vertical-align: top;\n    }\n\n    .dataframe thead th {\n        text-align: right;\n    }\n</style>\n<table border=\"1\" class=\"dataframe\">\n  <thead>\n    <tr style=\"text-align: right;\">\n      <th></th>\n      <th>id</th>\n      <th>host_id</th>\n      <th>latitude</th>\n      <th>longitude</th>\n      <th>price</th>\n      <th>minimum_nights</th>\n      <th>number_of_reviews</th>\n      <th>reviews_per_month</th>\n      <th>calculated_host_listings_count</th>\n      <th>availability_365</th>\n    </tr>\n  </thead>\n  <tbody>\n    <tr>\n      <th>count</th>\n      <td>4.889500e+04</td>\n      <td>4.889500e+04</td>\n      <td>48895.000000</td>\n      <td>48895.000000</td>\n      <td>48895.000000</td>\n      <td>48895.000000</td>\n      <td>48895.000000</td>\n      <td>38843.000000</td>\n      <td>48895.000000</td>\n      <td>48895.000000</td>\n    </tr>\n    <tr>\n      <th>mean</th>\n      <td>1.901714e+07</td>\n      <td>6.762001e+07</td>\n      <td>40.728949</td>\n      <td>-73.952170</td>\n      <td>152.720687</td>\n      <td>7.029962</td>\n      <td>23.274466</td>\n      <td>1.373221</td>\n      <td>7.143982</td>\n      <td>112.781327</td>\n    </tr>\n    <tr>\n      <th>std</th>\n      <td>1.098311e+07</td>\n      <td>7.861097e+07</td>\n      <td>0.054530</td>\n      <td>0.046157</td>\n      <td>240.154170</td>\n      <td>20.510550</td>\n      <td>44.550582</td>\n      <td>1.680442</td>\n      <td>32.952519</td>\n      <td>131.622289</td>\n    </tr>\n    <tr>\n      <th>min</th>\n      <td>2.539000e+03</td>\n      <td>2.438000e+03</td>\n      <td>40.499790</td>\n      <td>-74.244420</td>\n      <td>0.000000</td>\n      <td>1.000000</td>\n      <td>0.000000</td>\n      <td>0.010000</td>\n      <td>1.000000</td>\n      <td>0.000000</td>\n    </tr>\n    <tr>\n      <th>25%</th>\n      <td>9.471945e+06</td>\n      <td>7.822033e+06</td>\n      <td>40.690100</td>\n      <td>-73.983070</td>\n      <td>69.000000</td>\n      <td>1.000000</td>\n      <td>1.000000</td>\n      <td>0.190000</td>\n      <td>1.000000</td>\n      <td>0.000000</td>\n    </tr>\n    <tr>\n      <th>50%</th>\n      <td>1.967728e+07</td>\n      <td>3.079382e+07</td>\n      <td>40.723070</td>\n      <td>-73.955680</td>\n      <td>106.000000</td>\n      <td>3.000000</td>\n      <td>5.000000</td>\n      <td>0.720000</td>\n      <td>1.000000</td>\n      <td>45.000000</td>\n    </tr>\n    <tr>\n      <th>75%</th>\n      <td>2.915218e+07</td>\n      <td>1.074344e+08</td>\n      <td>40.763115</td>\n      <td>-73.936275</td>\n      <td>175.000000</td>\n      <td>5.000000</td>\n      <td>24.000000</td>\n      <td>2.020000</td>\n      <td>2.000000</td>\n      <td>227.000000</td>\n    </tr>\n    <tr>\n      <th>max</th>\n      <td>3.648724e+07</td>\n      <td>2.743213e+08</td>\n      <td>40.913060</td>\n      <td>-73.712990</td>\n      <td>10000.000000</td>\n      <td>1250.000000</td>\n      <td>629.000000</td>\n      <td>58.500000</td>\n      <td>327.000000</td>\n      <td>365.000000</td>\n    </tr>\n  </tbody>\n</table>\n</div>"
     },
     "execution_count": 98,
     "metadata": {},
     "output_type": "execute_result"
    }
   ],
   "source": [
    "dataset.describe()"
   ],
   "metadata": {
    "collapsed": false
   }
  },
  {
   "cell_type": "code",
   "execution_count": 100,
   "outputs": [
    {
     "name": "stdout",
     "output_type": "stream",
     "text": [
      "<class 'pandas.core.frame.DataFrame'>\n",
      "RangeIndex: 48895 entries, 0 to 48894\n",
      "Data columns (total 16 columns):\n",
      " #   Column                          Non-Null Count  Dtype  \n",
      "---  ------                          --------------  -----  \n",
      " 0   id                              48895 non-null  int64  \n",
      " 1   name                            48879 non-null  object \n",
      " 2   host_id                         48895 non-null  int64  \n",
      " 3   host_name                       48874 non-null  object \n",
      " 4   neighbourhood_group             48895 non-null  object \n",
      " 5   neighbourhood                   48895 non-null  object \n",
      " 6   latitude                        48895 non-null  float64\n",
      " 7   longitude                       48895 non-null  float64\n",
      " 8   room_type                       48895 non-null  object \n",
      " 9   price                           48895 non-null  int64  \n",
      " 10  minimum_nights                  48895 non-null  int64  \n",
      " 11  number_of_reviews               48895 non-null  int64  \n",
      " 12  last_review                     38843 non-null  object \n",
      " 13  reviews_per_month               38843 non-null  float64\n",
      " 14  calculated_host_listings_count  48895 non-null  int64  \n",
      " 15  availability_365                48895 non-null  int64  \n",
      "dtypes: float64(3), int64(7), object(6)\n",
      "memory usage: 6.0+ MB\n"
     ]
    }
   ],
   "source": [
    "dataset.info()"
   ],
   "metadata": {
    "collapsed": false
   }
  },
  {
   "cell_type": "code",
   "execution_count": 101,
   "outputs": [
    {
     "data": {
      "text/plain": "id                                    0\nname                                 16\nhost_id                               0\nhost_name                            21\nneighbourhood_group                   0\nneighbourhood                         0\nlatitude                              0\nlongitude                             0\nroom_type                             0\nprice                                 0\nminimum_nights                        0\nnumber_of_reviews                     0\nlast_review                       10052\nreviews_per_month                 10052\ncalculated_host_listings_count        0\navailability_365                      0\ndtype: int64"
     },
     "execution_count": 101,
     "metadata": {},
     "output_type": "execute_result"
    }
   ],
   "source": [
    "dataset.isna().sum()"
   ],
   "metadata": {
    "collapsed": false
   }
  },
  {
   "cell_type": "code",
   "execution_count": null,
   "outputs": [],
   "source": [],
   "metadata": {
    "collapsed": false
   }
  }
 ],
 "metadata": {
  "kernelspec": {
   "display_name": "Python 3",
   "language": "python",
   "name": "python3"
  },
  "language_info": {
   "codemirror_mode": {
    "name": "ipython",
    "version": 2
   },
   "file_extension": ".py",
   "mimetype": "text/x-python",
   "name": "python",
   "nbconvert_exporter": "python",
   "pygments_lexer": "ipython2",
   "version": "2.7.6"
  }
 },
 "nbformat": 4,
 "nbformat_minor": 0
}
