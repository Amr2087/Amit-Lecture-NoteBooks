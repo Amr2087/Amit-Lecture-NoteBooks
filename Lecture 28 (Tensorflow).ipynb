{
 "cells": [
  {
   "cell_type": "markdown",
   "source": [
    "# Version 1"
   ],
   "metadata": {
    "collapsed": false
   }
  },
  {
   "cell_type": "code",
   "execution_count": 1,
   "metadata": {
    "collapsed": true
   },
   "outputs": [],
   "source": [
    "import tensorflow as tf"
   ]
  },
  {
   "cell_type": "code",
   "execution_count": 12,
   "outputs": [
    {
     "data": {
      "text/plain": "<module 'tensorflow' from 'C:\\\\Users\\\\amr20\\\\anaconda3\\\\lib\\\\site-packages\\\\tensorflow\\\\__init__.py'>"
     },
     "execution_count": 12,
     "metadata": {},
     "output_type": "execute_result"
    }
   ],
   "source": [
    "tf.compat.v1.disable_eager_execution()\n",
    "tf"
   ],
   "metadata": {
    "collapsed": false
   }
  },
  {
   "cell_type": "code",
   "execution_count": 15,
   "outputs": [
    {
     "name": "stdout",
     "output_type": "stream",
     "text": [
      "Num GPUs Available:  0\n"
     ]
    }
   ],
   "source": [
    "print(\"Num GPUs Available: \", len(tf.config.list_physical_devices('GPU')))"
   ],
   "metadata": {
    "collapsed": false
   }
  },
  {
   "cell_type": "code",
   "execution_count": 13,
   "outputs": [
    {
     "data": {
      "text/plain": "<tf.Tensor 'Const_1:0' shape=() dtype=string>"
     },
     "execution_count": 13,
     "metadata": {},
     "output_type": "execute_result"
    }
   ],
   "source": [
    "X = tf.constant(\"tensorflow\")\n",
    "X"
   ],
   "metadata": {
    "collapsed": false
   }
  },
  {
   "cell_type": "code",
   "execution_count": 14,
   "outputs": [
    {
     "name": "stdout",
     "output_type": "stream",
     "text": [
      "b'tensorflow'\n"
     ]
    }
   ],
   "source": [
    "sess = tf.compat.v1.Session()\n",
    "s = sess.run(X)\n",
    "print(s)\n",
    "sess.close()"
   ],
   "metadata": {
    "collapsed": false
   }
  },
  {
   "cell_type": "code",
   "execution_count": 19,
   "outputs": [
    {
     "data": {
      "text/plain": "<tf.Tensor 'Add_3:0' shape=() dtype=int32>"
     },
     "execution_count": 19,
     "metadata": {},
     "output_type": "execute_result"
    }
   ],
   "source": [
    "x = tf.constant(4)\n",
    "y = tf.constant(5)\n",
    "\n",
    "z= tf.add(x,y)\n",
    "z"
   ],
   "metadata": {
    "collapsed": false
   }
  },
  {
   "cell_type": "code",
   "execution_count": 20,
   "outputs": [
    {
     "name": "stdout",
     "output_type": "stream",
     "text": [
      "9\n"
     ]
    }
   ],
   "source": [
    "with tf.compat.v1.Session() as sess:\n",
    "    result = sess.run(z)\n",
    "    print(result)"
   ],
   "metadata": {
    "collapsed": false
   }
  },
  {
   "cell_type": "code",
   "execution_count": 30,
   "outputs": [],
   "source": [
    "import numpy as np\n",
    "var = np.arange(1,13,dtype=np.int32)\n",
    "var2 = np.arange(15,27,dtype=np.int32)"
   ],
   "metadata": {
    "collapsed": false
   }
  },
  {
   "cell_type": "code",
   "execution_count": 31,
   "outputs": [
    {
     "data": {
      "text/plain": "<tf.Tensor 'MatMul_5:0' shape=(3, 3) dtype=int32>"
     },
     "execution_count": 31,
     "metadata": {},
     "output_type": "execute_result"
    }
   ],
   "source": [
    "mat1 = tf.constant(var,shape=[3,4])\n",
    "mat2 = tf.constant(var2,shape=[4,3])\n",
    "\n",
    "prod_mat = tf.matmul(mat1,mat2)\n",
    "prod_mat"
   ],
   "metadata": {
    "collapsed": false
   }
  },
  {
   "cell_type": "code",
   "execution_count": 32,
   "outputs": [
    {
     "name": "stdout",
     "output_type": "stream",
     "text": [
      "[[210 220 230]\n",
      " [522 548 574]\n",
      " [834 876 918]]\n"
     ]
    }
   ],
   "source": [
    "with tf.compat.v1.Session() as sess:\n",
    "    print(sess.run(prod_mat))"
   ],
   "metadata": {
    "collapsed": false
   }
  },
  {
   "cell_type": "code",
   "execution_count": 49,
   "outputs": [
    {
     "name": "stdout",
     "output_type": "stream",
     "text": [
      "[ 7  9 11 13]\n",
      "[-5 -5 -5 -5]\n",
      "[ 6 14 24 36]\n",
      "[0.16666667 0.28571429 0.375      0.44444444]\n"
     ]
    }
   ],
   "source": [
    "v1 = tf.constant([1,2,3,4])\n",
    "v2 = tf.constant([6,7,8,9])\n",
    "\n",
    "add = tf.add(v1,v2)\n",
    "sub = tf.subtract(v1,v2)\n",
    "mult = tf.multiply(v1,v2)\n",
    "div = tf.divide(v1,v2)\n",
    "\n",
    "with tf.compat.v1.Session() as sess:\n",
    "    print(sess.run(add))\n",
    "    print(sess.run(sub))\n",
    "    print(sess.run(mult))\n",
    "    print(sess.run(div))"
   ],
   "metadata": {
    "collapsed": false
   }
  },
  {
   "cell_type": "code",
   "execution_count": 53,
   "outputs": [
    {
     "data": {
      "text/plain": "<tf.Tensor 'Add_13:0' shape=(1, 1) dtype=int32>"
     },
     "execution_count": 53,
     "metadata": {},
     "output_type": "execute_result"
    }
   ],
   "source": [
    "w = tf.Variable([[1,2,3]],shape=(1,3))\n",
    "X = tf.constant([[3],[4],[4]],shape=(3,1))\n",
    "b = tf.Variable(1)\n",
    "h=tf.add(tf.matmul(w,X),b)\n",
    "h"
   ],
   "metadata": {
    "collapsed": false
   }
  },
  {
   "cell_type": "code",
   "execution_count": 56,
   "outputs": [],
   "source": [
    "init = tf.compat.v1.global_variables_initializer()"
   ],
   "metadata": {
    "collapsed": false
   }
  },
  {
   "cell_type": "code",
   "execution_count": 57,
   "outputs": [
    {
     "name": "stdout",
     "output_type": "stream",
     "text": [
      "[[24]]\n"
     ]
    }
   ],
   "source": [
    "with tf.compat.v1.Session() as sess:\n",
    "    sess.run(init)\n",
    "    print(sess.run(h))"
   ],
   "metadata": {
    "collapsed": false
   }
  },
  {
   "cell_type": "markdown",
   "source": [
    "# Version 2"
   ],
   "metadata": {
    "collapsed": false
   }
  },
  {
   "cell_type": "code",
   "execution_count": 15,
   "outputs": [],
   "source": [
    "import tensorflow as tf"
   ],
   "metadata": {
    "collapsed": false
   }
  },
  {
   "cell_type": "code",
   "execution_count": 16,
   "outputs": [
    {
     "data": {
      "text/plain": "3"
     },
     "execution_count": 16,
     "metadata": {},
     "output_type": "execute_result"
    }
   ],
   "source": [
    "x1 = tf.constant(1,name = 'constant 1')\n",
    "x2 = tf.constant(2,name = 'constant 2')\n",
    "x3 = tf.add(x1,x2)\n",
    "x3.numpy()"
   ],
   "metadata": {
    "collapsed": false
   }
  },
  {
   "cell_type": "code",
   "execution_count": 17,
   "outputs": [
    {
     "data": {
      "text/plain": "array([ 7,  9, 11, 13])"
     },
     "execution_count": 17,
     "metadata": {},
     "output_type": "execute_result"
    }
   ],
   "source": [
    "v1 = tf.constant([1,2,3,4])\n",
    "v2 = tf.constant([6,7,8,9])\n",
    "v = tf.add(v1,v2)\n",
    "v.numpy()"
   ],
   "metadata": {
    "collapsed": false
   }
  },
  {
   "cell_type": "markdown",
   "source": [
    "# Linear regression"
   ],
   "metadata": {
    "collapsed": false
   }
  },
  {
   "cell_type": "code",
   "execution_count": 15,
   "outputs": [],
   "source": [
    "import pandas as pd\n",
    "import matplotlib.pyplot as plt\n",
    "import seaborn as sns\n",
    "import numpy as np\n",
    "import tensorflow as tf"
   ],
   "metadata": {
    "collapsed": false
   }
  },
  {
   "cell_type": "code",
   "execution_count": 2,
   "outputs": [],
   "source": [
    "dataset = pd.read_csv('data/FuelConsumptionCo2.csv.xls')"
   ],
   "metadata": {
    "collapsed": false
   }
  },
  {
   "cell_type": "code",
   "execution_count": 3,
   "outputs": [
    {
     "data": {
      "text/plain": "      MODELYEAR Brands  VEHICLECLASS  ENGINESIZE  CYLINDERS TRANSMISSION  \\\n0          2014  ACURA       COMPACT         2.0          4          AS5   \n1          2014  ACURA       COMPACT         2.4          4           M6   \n2          2014  ACURA       COMPACT         1.5          4          AV7   \n3          2014  ACURA     SUV_SMALL         3.5          6          AS6   \n4          2014  ACURA     SUV_SMALL         3.5          6          AS6   \n...         ...    ...           ...         ...        ...          ...   \n1062       2014  VOLVO     SUV_SMALL         3.0          6          AS6   \n1063       2014  VOLVO     SUV_SMALL         3.2          6          AS6   \n1064       2014  VOLVO     SUV_SMALL         3.0          6          AS6   \n1065       2014  VOLVO     SUV_SMALL         3.2          6          AS6   \n1066       2014  VOLVO  SUV_STANDARD         3.2          6          AS6   \n\n     FUELTYPE  FUELCONSUMPTION_CITY  FUELCONSUMPTION_HWY  \\\n0           Z                   9.9                  6.7   \n1           Z                  11.2                  7.7   \n2           Z                   6.0                  5.8   \n3           Z                  12.7                  9.1   \n4           Z                  12.1                  8.7   \n...       ...                   ...                  ...   \n1062        X                  13.4                  9.8   \n1063        X                  13.2                  9.5   \n1064        X                  13.4                  9.8   \n1065        X                  12.9                  9.3   \n1066        X                  14.9                 10.2   \n\n      FUELCONSUMPTION_COMB  FUELCONSUMPTION_COMB_MPG  CO2EMISSIONS  \n0                      8.5                        33           196  \n1                      9.6                        29           221  \n2                      5.9                        48           136  \n3                     11.1                        25           255  \n4                     10.6                        27           244  \n...                    ...                       ...           ...  \n1062                  11.8                        24           271  \n1063                  11.5                        25           264  \n1064                  11.8                        24           271  \n1065                  11.3                        25           260  \n1066                  12.8                        22           294  \n\n[1067 rows x 12 columns]",
      "text/html": "<div>\n<style scoped>\n    .dataframe tbody tr th:only-of-type {\n        vertical-align: middle;\n    }\n\n    .dataframe tbody tr th {\n        vertical-align: top;\n    }\n\n    .dataframe thead th {\n        text-align: right;\n    }\n</style>\n<table border=\"1\" class=\"dataframe\">\n  <thead>\n    <tr style=\"text-align: right;\">\n      <th></th>\n      <th>MODELYEAR</th>\n      <th>Brands</th>\n      <th>VEHICLECLASS</th>\n      <th>ENGINESIZE</th>\n      <th>CYLINDERS</th>\n      <th>TRANSMISSION</th>\n      <th>FUELTYPE</th>\n      <th>FUELCONSUMPTION_CITY</th>\n      <th>FUELCONSUMPTION_HWY</th>\n      <th>FUELCONSUMPTION_COMB</th>\n      <th>FUELCONSUMPTION_COMB_MPG</th>\n      <th>CO2EMISSIONS</th>\n    </tr>\n  </thead>\n  <tbody>\n    <tr>\n      <th>0</th>\n      <td>2014</td>\n      <td>ACURA</td>\n      <td>COMPACT</td>\n      <td>2.0</td>\n      <td>4</td>\n      <td>AS5</td>\n      <td>Z</td>\n      <td>9.9</td>\n      <td>6.7</td>\n      <td>8.5</td>\n      <td>33</td>\n      <td>196</td>\n    </tr>\n    <tr>\n      <th>1</th>\n      <td>2014</td>\n      <td>ACURA</td>\n      <td>COMPACT</td>\n      <td>2.4</td>\n      <td>4</td>\n      <td>M6</td>\n      <td>Z</td>\n      <td>11.2</td>\n      <td>7.7</td>\n      <td>9.6</td>\n      <td>29</td>\n      <td>221</td>\n    </tr>\n    <tr>\n      <th>2</th>\n      <td>2014</td>\n      <td>ACURA</td>\n      <td>COMPACT</td>\n      <td>1.5</td>\n      <td>4</td>\n      <td>AV7</td>\n      <td>Z</td>\n      <td>6.0</td>\n      <td>5.8</td>\n      <td>5.9</td>\n      <td>48</td>\n      <td>136</td>\n    </tr>\n    <tr>\n      <th>3</th>\n      <td>2014</td>\n      <td>ACURA</td>\n      <td>SUV_SMALL</td>\n      <td>3.5</td>\n      <td>6</td>\n      <td>AS6</td>\n      <td>Z</td>\n      <td>12.7</td>\n      <td>9.1</td>\n      <td>11.1</td>\n      <td>25</td>\n      <td>255</td>\n    </tr>\n    <tr>\n      <th>4</th>\n      <td>2014</td>\n      <td>ACURA</td>\n      <td>SUV_SMALL</td>\n      <td>3.5</td>\n      <td>6</td>\n      <td>AS6</td>\n      <td>Z</td>\n      <td>12.1</td>\n      <td>8.7</td>\n      <td>10.6</td>\n      <td>27</td>\n      <td>244</td>\n    </tr>\n    <tr>\n      <th>...</th>\n      <td>...</td>\n      <td>...</td>\n      <td>...</td>\n      <td>...</td>\n      <td>...</td>\n      <td>...</td>\n      <td>...</td>\n      <td>...</td>\n      <td>...</td>\n      <td>...</td>\n      <td>...</td>\n      <td>...</td>\n    </tr>\n    <tr>\n      <th>1062</th>\n      <td>2014</td>\n      <td>VOLVO</td>\n      <td>SUV_SMALL</td>\n      <td>3.0</td>\n      <td>6</td>\n      <td>AS6</td>\n      <td>X</td>\n      <td>13.4</td>\n      <td>9.8</td>\n      <td>11.8</td>\n      <td>24</td>\n      <td>271</td>\n    </tr>\n    <tr>\n      <th>1063</th>\n      <td>2014</td>\n      <td>VOLVO</td>\n      <td>SUV_SMALL</td>\n      <td>3.2</td>\n      <td>6</td>\n      <td>AS6</td>\n      <td>X</td>\n      <td>13.2</td>\n      <td>9.5</td>\n      <td>11.5</td>\n      <td>25</td>\n      <td>264</td>\n    </tr>\n    <tr>\n      <th>1064</th>\n      <td>2014</td>\n      <td>VOLVO</td>\n      <td>SUV_SMALL</td>\n      <td>3.0</td>\n      <td>6</td>\n      <td>AS6</td>\n      <td>X</td>\n      <td>13.4</td>\n      <td>9.8</td>\n      <td>11.8</td>\n      <td>24</td>\n      <td>271</td>\n    </tr>\n    <tr>\n      <th>1065</th>\n      <td>2014</td>\n      <td>VOLVO</td>\n      <td>SUV_SMALL</td>\n      <td>3.2</td>\n      <td>6</td>\n      <td>AS6</td>\n      <td>X</td>\n      <td>12.9</td>\n      <td>9.3</td>\n      <td>11.3</td>\n      <td>25</td>\n      <td>260</td>\n    </tr>\n    <tr>\n      <th>1066</th>\n      <td>2014</td>\n      <td>VOLVO</td>\n      <td>SUV_STANDARD</td>\n      <td>3.2</td>\n      <td>6</td>\n      <td>AS6</td>\n      <td>X</td>\n      <td>14.9</td>\n      <td>10.2</td>\n      <td>12.8</td>\n      <td>22</td>\n      <td>294</td>\n    </tr>\n  </tbody>\n</table>\n<p>1067 rows × 12 columns</p>\n</div>"
     },
     "execution_count": 3,
     "metadata": {},
     "output_type": "execute_result"
    }
   ],
   "source": [
    "dataset"
   ],
   "metadata": {
    "collapsed": false
   }
  },
  {
   "cell_type": "code",
   "execution_count": 4,
   "outputs": [
    {
     "name": "stdout",
     "output_type": "stream",
     "text": [
      "<class 'pandas.core.frame.DataFrame'>\n",
      "RangeIndex: 1067 entries, 0 to 1066\n",
      "Data columns (total 12 columns):\n",
      " #   Column                    Non-Null Count  Dtype  \n",
      "---  ------                    --------------  -----  \n",
      " 0   MODELYEAR                 1067 non-null   int64  \n",
      " 1   Brands                    1067 non-null   object \n",
      " 2   VEHICLECLASS              1067 non-null   object \n",
      " 3   ENGINESIZE                1067 non-null   float64\n",
      " 4   CYLINDERS                 1067 non-null   int64  \n",
      " 5   TRANSMISSION              1067 non-null   object \n",
      " 6   FUELTYPE                  1067 non-null   object \n",
      " 7   FUELCONSUMPTION_CITY      1067 non-null   float64\n",
      " 8   FUELCONSUMPTION_HWY       1067 non-null   float64\n",
      " 9   FUELCONSUMPTION_COMB      1067 non-null   float64\n",
      " 10  FUELCONSUMPTION_COMB_MPG  1067 non-null   int64  \n",
      " 11  CO2EMISSIONS              1067 non-null   int64  \n",
      "dtypes: float64(4), int64(4), object(4)\n",
      "memory usage: 100.2+ KB\n"
     ]
    }
   ],
   "source": [
    "dataset.info()"
   ],
   "metadata": {
    "collapsed": false
   }
  },
  {
   "cell_type": "code",
   "execution_count": 5,
   "outputs": [],
   "source": [
    "dataset.drop(['MODELYEAR','TRANSMISSION'], axis=1, inplace=True)"
   ],
   "metadata": {
    "collapsed": false
   }
  },
  {
   "cell_type": "code",
   "execution_count": 6,
   "outputs": [],
   "source": [
    "from sklearn.preprocessing import LabelEncoder\n",
    "le = LabelEncoder()\n",
    "dataset.FUELTYPE = le.fit_transform(dataset.FUELTYPE)\n",
    "dataset.Brands = le.fit_transform(dataset.Brands)\n",
    "dataset.VEHICLECLASS = le.fit_transform(dataset.VEHICLECLASS)"
   ],
   "metadata": {
    "collapsed": false
   }
  },
  {
   "cell_type": "code",
   "execution_count": 7,
   "outputs": [
    {
     "data": {
      "text/plain": "      Brands  VEHICLECLASS  ENGINESIZE  CYLINDERS  FUELTYPE  \\\n0          0             0         2.0          4         3   \n1          0             0         2.4          4         3   \n2          0             0         1.5          4         3   \n3          0            11         3.5          6         3   \n4          0            11         3.5          6         3   \n...      ...           ...         ...        ...       ...   \n1062      38            11         3.0          6         2   \n1063      38            11         3.2          6         2   \n1064      38            11         3.0          6         2   \n1065      38            11         3.2          6         2   \n1066      38            12         3.2          6         2   \n\n      FUELCONSUMPTION_CITY  FUELCONSUMPTION_HWY  FUELCONSUMPTION_COMB  \\\n0                      9.9                  6.7                   8.5   \n1                     11.2                  7.7                   9.6   \n2                      6.0                  5.8                   5.9   \n3                     12.7                  9.1                  11.1   \n4                     12.1                  8.7                  10.6   \n...                    ...                  ...                   ...   \n1062                  13.4                  9.8                  11.8   \n1063                  13.2                  9.5                  11.5   \n1064                  13.4                  9.8                  11.8   \n1065                  12.9                  9.3                  11.3   \n1066                  14.9                 10.2                  12.8   \n\n      FUELCONSUMPTION_COMB_MPG  CO2EMISSIONS  \n0                           33           196  \n1                           29           221  \n2                           48           136  \n3                           25           255  \n4                           27           244  \n...                        ...           ...  \n1062                        24           271  \n1063                        25           264  \n1064                        24           271  \n1065                        25           260  \n1066                        22           294  \n\n[1067 rows x 10 columns]",
      "text/html": "<div>\n<style scoped>\n    .dataframe tbody tr th:only-of-type {\n        vertical-align: middle;\n    }\n\n    .dataframe tbody tr th {\n        vertical-align: top;\n    }\n\n    .dataframe thead th {\n        text-align: right;\n    }\n</style>\n<table border=\"1\" class=\"dataframe\">\n  <thead>\n    <tr style=\"text-align: right;\">\n      <th></th>\n      <th>Brands</th>\n      <th>VEHICLECLASS</th>\n      <th>ENGINESIZE</th>\n      <th>CYLINDERS</th>\n      <th>FUELTYPE</th>\n      <th>FUELCONSUMPTION_CITY</th>\n      <th>FUELCONSUMPTION_HWY</th>\n      <th>FUELCONSUMPTION_COMB</th>\n      <th>FUELCONSUMPTION_COMB_MPG</th>\n      <th>CO2EMISSIONS</th>\n    </tr>\n  </thead>\n  <tbody>\n    <tr>\n      <th>0</th>\n      <td>0</td>\n      <td>0</td>\n      <td>2.0</td>\n      <td>4</td>\n      <td>3</td>\n      <td>9.9</td>\n      <td>6.7</td>\n      <td>8.5</td>\n      <td>33</td>\n      <td>196</td>\n    </tr>\n    <tr>\n      <th>1</th>\n      <td>0</td>\n      <td>0</td>\n      <td>2.4</td>\n      <td>4</td>\n      <td>3</td>\n      <td>11.2</td>\n      <td>7.7</td>\n      <td>9.6</td>\n      <td>29</td>\n      <td>221</td>\n    </tr>\n    <tr>\n      <th>2</th>\n      <td>0</td>\n      <td>0</td>\n      <td>1.5</td>\n      <td>4</td>\n      <td>3</td>\n      <td>6.0</td>\n      <td>5.8</td>\n      <td>5.9</td>\n      <td>48</td>\n      <td>136</td>\n    </tr>\n    <tr>\n      <th>3</th>\n      <td>0</td>\n      <td>11</td>\n      <td>3.5</td>\n      <td>6</td>\n      <td>3</td>\n      <td>12.7</td>\n      <td>9.1</td>\n      <td>11.1</td>\n      <td>25</td>\n      <td>255</td>\n    </tr>\n    <tr>\n      <th>4</th>\n      <td>0</td>\n      <td>11</td>\n      <td>3.5</td>\n      <td>6</td>\n      <td>3</td>\n      <td>12.1</td>\n      <td>8.7</td>\n      <td>10.6</td>\n      <td>27</td>\n      <td>244</td>\n    </tr>\n    <tr>\n      <th>...</th>\n      <td>...</td>\n      <td>...</td>\n      <td>...</td>\n      <td>...</td>\n      <td>...</td>\n      <td>...</td>\n      <td>...</td>\n      <td>...</td>\n      <td>...</td>\n      <td>...</td>\n    </tr>\n    <tr>\n      <th>1062</th>\n      <td>38</td>\n      <td>11</td>\n      <td>3.0</td>\n      <td>6</td>\n      <td>2</td>\n      <td>13.4</td>\n      <td>9.8</td>\n      <td>11.8</td>\n      <td>24</td>\n      <td>271</td>\n    </tr>\n    <tr>\n      <th>1063</th>\n      <td>38</td>\n      <td>11</td>\n      <td>3.2</td>\n      <td>6</td>\n      <td>2</td>\n      <td>13.2</td>\n      <td>9.5</td>\n      <td>11.5</td>\n      <td>25</td>\n      <td>264</td>\n    </tr>\n    <tr>\n      <th>1064</th>\n      <td>38</td>\n      <td>11</td>\n      <td>3.0</td>\n      <td>6</td>\n      <td>2</td>\n      <td>13.4</td>\n      <td>9.8</td>\n      <td>11.8</td>\n      <td>24</td>\n      <td>271</td>\n    </tr>\n    <tr>\n      <th>1065</th>\n      <td>38</td>\n      <td>11</td>\n      <td>3.2</td>\n      <td>6</td>\n      <td>2</td>\n      <td>12.9</td>\n      <td>9.3</td>\n      <td>11.3</td>\n      <td>25</td>\n      <td>260</td>\n    </tr>\n    <tr>\n      <th>1066</th>\n      <td>38</td>\n      <td>12</td>\n      <td>3.2</td>\n      <td>6</td>\n      <td>2</td>\n      <td>14.9</td>\n      <td>10.2</td>\n      <td>12.8</td>\n      <td>22</td>\n      <td>294</td>\n    </tr>\n  </tbody>\n</table>\n<p>1067 rows × 10 columns</p>\n</div>"
     },
     "execution_count": 7,
     "metadata": {},
     "output_type": "execute_result"
    }
   ],
   "source": [
    "dataset"
   ],
   "metadata": {
    "collapsed": false
   }
  },
  {
   "cell_type": "code",
   "execution_count": 8,
   "outputs": [],
   "source": [
    "X = dataset.ENGINESIZE.values\n",
    "y = dataset.CO2EMISSIONS.values"
   ],
   "metadata": {
    "collapsed": false
   }
  },
  {
   "cell_type": "code",
   "execution_count": 9,
   "outputs": [
    {
     "data": {
      "text/plain": "array([2. , 2.4, 1.5, ..., 3. , 3.2, 3.2])"
     },
     "execution_count": 9,
     "metadata": {},
     "output_type": "execute_result"
    }
   ],
   "source": [
    "X"
   ],
   "metadata": {
    "collapsed": false
   }
  },
  {
   "cell_type": "code",
   "execution_count": 10,
   "outputs": [
    {
     "data": {
      "text/plain": "array([196, 221, 136, ..., 271, 260, 294], dtype=int64)"
     },
     "execution_count": 10,
     "metadata": {},
     "output_type": "execute_result"
    }
   ],
   "source": [
    "y"
   ],
   "metadata": {
    "collapsed": false
   }
  },
  {
   "cell_type": "markdown",
   "source": [
    "# Y = wx + b"
   ],
   "metadata": {
    "collapsed": false
   }
  },
  {
   "cell_type": "code",
   "execution_count": 96,
   "outputs": [],
   "source": [
    "X = tf.constant(X,dtype=tf.float32)\n",
    "y = tf.constant(y,dtype=tf.float32)\n",
    "\n",
    "w = tf.Variable(tf.random.normal([1]),dtype=tf.float32)\n",
    "b = tf.Variable(tf.random.normal([1]),dtype=tf.float32)"
   ],
   "metadata": {
    "collapsed": false
   }
  },
  {
   "cell_type": "code",
   "execution_count": 97,
   "outputs": [
    {
     "data": {
      "text/plain": "<tf.Variable 'Variable:0' shape=(1,) dtype=float32, numpy=array([-1.6374209], dtype=float32)>"
     },
     "execution_count": 97,
     "metadata": {},
     "output_type": "execute_result"
    }
   ],
   "source": [
    "w"
   ],
   "metadata": {
    "collapsed": false
   }
  },
  {
   "cell_type": "code",
   "execution_count": 98,
   "outputs": [
    {
     "data": {
      "text/plain": "<tf.Variable 'Variable:0' shape=(1,) dtype=float32, numpy=array([3.5042439], dtype=float32)>"
     },
     "execution_count": 98,
     "metadata": {},
     "output_type": "execute_result"
    }
   ],
   "source": [
    "b"
   ],
   "metadata": {
    "collapsed": false
   }
  },
  {
   "cell_type": "code",
   "execution_count": 99,
   "outputs": [],
   "source": [
    "# define the model\n",
    "def h(X):\n",
    " y_p = w*X+b\n",
    " return y_p"
   ],
   "metadata": {
    "collapsed": false
   }
  },
  {
   "cell_type": "code",
   "execution_count": 100,
   "outputs": [],
   "source": [
    "# cost function (y_p - y)\n",
    "\n",
    "def cost_function(y_p,y):\n",
    "    mse = tf.reduce_mean(tf.square(y-y_p))\n",
    "    return mse"
   ],
   "metadata": {
    "collapsed": false
   }
  },
  {
   "cell_type": "code",
   "execution_count": 101,
   "outputs": [],
   "source": [
    "# train the model\n",
    "lr =0.001\n",
    "epochs = 100\n",
    "losses_values = []\n",
    "for epoch in range(epochs):\n",
    "    with tf.GradientTape() as tape:\n",
    "\n",
    "        # feed forward\n",
    "        y_p = h(X)\n",
    "        # back propagation\n",
    "        loss = cost_function(y,y_p)\n",
    "        losses_values.append(loss)\n",
    "        # update weights\n",
    "        gradients = tape.gradient(loss, [w,b])\n",
    "\n",
    "        w.assign_sub(lr*gradients[0])\n",
    "        b.assign_sub(lr*gradients[1])"
   ],
   "metadata": {
    "collapsed": false
   }
  },
  {
   "cell_type": "code",
   "execution_count": 102,
   "outputs": [
    {
     "data": {
      "text/plain": "<tf.Tensor: shape=(), dtype=float32, numpy=2754.2637>"
     },
     "execution_count": 102,
     "metadata": {},
     "output_type": "execute_result"
    }
   ],
   "source": [
    "loss"
   ],
   "metadata": {
    "collapsed": false
   }
  },
  {
   "cell_type": "code",
   "execution_count": 103,
   "outputs": [
    {
     "data": {
      "text/plain": "Text(0, 0.5, 'Loss')"
     },
     "execution_count": 103,
     "metadata": {},
     "output_type": "execute_result"
    },
    {
     "data": {
      "text/plain": "<Figure size 640x480 with 1 Axes>",
      "image/png": "[encoded data removed]"
     },
     "metadata": {},
     "output_type": "display_data"
    }
   ],
   "source": [
    "plt.plot(losses_values)\n",
    "plt.xlabel('Epochs')\n",
    "plt.ylabel('Loss')"
   ],
   "metadata": {
    "collapsed": false
   }
  },
  {
   "cell_type": "code",
   "execution_count": 107,
   "outputs": [
    {
     "data": {
      "text/plain": "[<matplotlib.lines.Line2D at 0x26c5fcc4130>]"
     },
     "execution_count": 107,
     "metadata": {},
     "output_type": "execute_result"
    },
    {
     "data": {
      "text/plain": "<Figure size 2000x800 with 1 Axes>",
      "image/png": "[encoded data removed]"
     },
     "metadata": {},
     "output_type": "display_data"
    }
   ],
   "source": [
    "plt.figure(figsize=(20,8))\n",
    "plt.scatter(X.numpy(),y.numpy(),color='red')\n",
    "plt.plot(X.numpy(),w*X.numpy()+b)"
   ],
   "metadata": {
    "collapsed": false
   }
  },
  {
   "cell_type": "code",
   "execution_count": 108,
   "outputs": [
    {
     "name": "stdout",
     "output_type": "stream",
     "text": [
      "<class 'pandas.core.frame.DataFrame'>\n",
      "RangeIndex: 1067 entries, 0 to 1066\n",
      "Data columns (total 10 columns):\n",
      " #   Column                    Non-Null Count  Dtype  \n",
      "---  ------                    --------------  -----  \n",
      " 0   Brands                    1067 non-null   int32  \n",
      " 1   VEHICLECLASS              1067 non-null   int32  \n",
      " 2   ENGINESIZE                1067 non-null   float64\n",
      " 3   CYLINDERS                 1067 non-null   int64  \n",
      " 4   FUELTYPE                  1067 non-null   int32  \n",
      " 5   FUELCONSUMPTION_CITY      1067 non-null   float64\n",
      " 6   FUELCONSUMPTION_HWY       1067 non-null   float64\n",
      " 7   FUELCONSUMPTION_COMB      1067 non-null   float64\n",
      " 8   FUELCONSUMPTION_COMB_MPG  1067 non-null   int64  \n",
      " 9   CO2EMISSIONS              1067 non-null   int64  \n",
      "dtypes: float64(4), int32(3), int64(3)\n",
      "memory usage: 71.0 KB\n"
     ]
    }
   ],
   "source": [
    "dataset.info()"
   ],
   "metadata": {
    "collapsed": false
   }
  },
  {
   "cell_type": "markdown",
   "source": [
    "# Keras Sequential Model"
   ],
   "metadata": {
    "collapsed": false
   }
  },
  {
   "cell_type": "code",
   "execution_count": 109,
   "outputs": [],
   "source": [
    "from tensorflow.keras.models import Sequential\n",
    "from tensorflow.keras.layers import Dense"
   ],
   "metadata": {
    "collapsed": false
   }
  },
  {
   "cell_type": "code",
   "execution_count": 110,
   "outputs": [],
   "source": [
    "X = dataset.drop('CO2EMISSIONS',axis=1)\n",
    "y = dataset['CO2EMISSIONS']"
   ],
   "metadata": {
    "collapsed": false
   }
  },
  {
   "cell_type": "code",
   "execution_count": 123,
   "outputs": [],
   "source": [
    "model = Sequential()\n",
    "model.add(Dense(units=3,activation='relu',input_dim=(9)))\n",
    "model.add(Dense(units=3,activation='relu'))\n",
    "model.add(Dense(units=1))"
   ],
   "metadata": {
    "collapsed": false
   }
  },
  {
   "cell_type": "code",
   "execution_count": 124,
   "outputs": [
    {
     "name": "stdout",
     "output_type": "stream",
     "text": [
      "Model: \"sequential_4\"\n",
      "_________________________________________________________________\n",
      " Layer (type)                Output Shape              Param #   \n",
      "=================================================================\n",
      " dense_10 (Dense)            (None, 3)                 30        \n",
      "                                                                 \n",
      " dense_11 (Dense)            (None, 3)                 12        \n",
      "                                                                 \n",
      " dense_12 (Dense)            (None, 1)                 4         \n",
      "                                                                 \n",
      "=================================================================\n",
      "Total params: 46\n",
      "Trainable params: 46\n",
      "Non-trainable params: 0\n",
      "_________________________________________________________________\n"
     ]
    }
   ],
   "source": [
    "model.summary()"
   ],
   "metadata": {
    "collapsed": false
   }
  },
  {
   "cell_type": "code",
   "execution_count": 125,
   "outputs": [],
   "source": [
    "model.compile(optimizer='sgd',loss='mse')"
   ],
   "metadata": {
    "collapsed": false
   }
  },
  {
   "cell_type": "code",
   "execution_count": 126,
   "outputs": [
    {
     "name": "stdout",
     "output_type": "stream",
     "text": [
      "Epoch 1/2\n",
      "1/1 [==============================] - 1s 551ms/step - loss: 72808.6328\n",
      "Epoch 2/2\n",
      "1/1 [==============================] - 0s 10ms/step - loss: 67002.4766\n"
     ]
    },
    {
     "data": {
      "text/plain": "<keras.callbacks.History at 0x26c5fadf940>"
     },
     "execution_count": 126,
     "metadata": {},
     "output_type": "execute_result"
    }
   ],
   "source": [
    "model.fit(X,y,epochs=2,batch_size=len(X))"
   ],
   "metadata": {
    "collapsed": false
   }
  },
  {
   "cell_type": "markdown",
   "source": [
    "# Keras Functional Model"
   ],
   "metadata": {
    "collapsed": false
   }
  },
  {
   "cell_type": "code",
   "execution_count": 127,
   "outputs": [],
   "source": [
    "from tensorflow.keras.models import Model\n",
    "from tensorflow.keras.layers import Dense,Input"
   ],
   "metadata": {
    "collapsed": false
   }
  },
  {
   "cell_type": "code",
   "execution_count": 130,
   "outputs": [
    {
     "name": "stdout",
     "output_type": "stream",
     "text": [
      "Model: \"model_1\"\n",
      "_________________________________________________________________\n",
      " Layer (type)                Output Shape              Param #   \n",
      "=================================================================\n",
      " input_2 (InputLayer)        [(None, 9)]               0         \n",
      "                                                                 \n",
      " dense_17 (Dense)            (None, 3)                 30        \n",
      "                                                                 \n",
      " dense_18 (Dense)            (None, 3)                 12        \n",
      "                                                                 \n",
      " dense_19 (Dense)            (None, 1)                 4         \n",
      "                                                                 \n",
      "=================================================================\n",
      "Total params: 46\n",
      "Trainable params: 46\n",
      "Non-trainable params: 0\n",
      "_________________________________________________________________\n"
     ]
    }
   ],
   "source": [
    "inp = Input((9,))\n",
    "h1 = Dense(units=3,activation='relu')(inp)\n",
    "h2 = Dense(units=3,activation='relu')(h1)\n",
    "output = Dense(units=1)(h2)\n",
    "model = Model(inputs=inp,outputs=output)\n",
    "model.summary()"
   ],
   "metadata": {
    "collapsed": false
   }
  },
  {
   "cell_type": "code",
   "execution_count": null,
   "outputs": [],
   "source": [],
   "metadata": {
    "collapsed": false
   }
  }
 ],
 "metadata": {
  "kernelspec": {
   "display_name": "Python 3",
   "language": "python",
   "name": "python3"
  },
  "language_info": {
   "codemirror_mode": {
    "name": "ipython",
    "version": 2
   },
   "file_extension": ".py",
   "mimetype": "text/x-python",
   "name": "python",
   "nbconvert_exporter": "python",
   "pygments_lexer": "ipython2",
   "version": "2.7.6"
  }
 },
 "nbformat": 4,
 "nbformat_minor": 0
}
