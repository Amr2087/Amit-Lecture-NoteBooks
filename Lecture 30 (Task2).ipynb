{
 "cells": [
  {
   "cell_type": "code",
   "execution_count": 1,
   "metadata": {
    "collapsed": true
   },
   "outputs": [],
   "source": [
    "import pandas as pd\n",
    "import metrics\n",
    "import numpy as np"
   ]
  },
  {
   "cell_type": "code",
   "execution_count": 2,
   "outputs": [],
   "source": [
    "dataset = pd.read_csv(\"data/loan_sanction_train.csv\")"
   ],
   "metadata": {
    "collapsed": false
   }
  },
  {
   "cell_type": "code",
   "execution_count": 3,
   "outputs": [
    {
     "data": {
      "text/plain": "      Loan_ID  Gender Married Dependents     Education Self_Employed  \\\n0    LP001002    Male      No          0      Graduate            No   \n1    LP001003    Male     Yes          1      Graduate            No   \n2    LP001005    Male     Yes          0      Graduate           Yes   \n3    LP001006    Male     Yes          0  Not Graduate            No   \n4    LP001008    Male      No          0      Graduate            No   \n..        ...     ...     ...        ...           ...           ...   \n609  LP002978  Female      No          0      Graduate            No   \n610  LP002979    Male     Yes         3+      Graduate            No   \n611  LP002983    Male     Yes          1      Graduate            No   \n612  LP002984    Male     Yes          2      Graduate            No   \n613  LP002990  Female      No          0      Graduate           Yes   \n\n     ApplicantIncome  CoapplicantIncome  LoanAmount  Loan_Amount_Term  \\\n0               5849                0.0         NaN             360.0   \n1               4583             1508.0       128.0             360.0   \n2               3000                0.0        66.0             360.0   \n3               2583             2358.0       120.0             360.0   \n4               6000                0.0       141.0             360.0   \n..               ...                ...         ...               ...   \n609             2900                0.0        71.0             360.0   \n610             4106                0.0        40.0             180.0   \n611             8072              240.0       253.0             360.0   \n612             7583                0.0       187.0             360.0   \n613             4583                0.0       133.0             360.0   \n\n     Credit_History Property_Area Loan_Status  \n0               1.0         Urban           Y  \n1               1.0         Rural           N  \n2               1.0         Urban           Y  \n3               1.0         Urban           Y  \n4               1.0         Urban           Y  \n..              ...           ...         ...  \n609             1.0         Rural           Y  \n610             1.0         Rural           Y  \n611             1.0         Urban           Y  \n612             1.0         Urban           Y  \n613             0.0     Semiurban           N  \n\n[614 rows x 13 columns]",
      "text/html": "<div>\n<style scoped>\n    .dataframe tbody tr th:only-of-type {\n        vertical-align: middle;\n    }\n\n    .dataframe tbody tr th {\n        vertical-align: top;\n    }\n\n    .dataframe thead th {\n        text-align: right;\n    }\n</style>\n<table border=\"1\" class=\"dataframe\">\n  <thead>\n    <tr style=\"text-align: right;\">\n      <th></th>\n      <th>Loan_ID</th>\n      <th>Gender</th>\n      <th>Married</th>\n      <th>Dependents</th>\n      <th>Education</th>\n      <th>Self_Employed</th>\n      <th>ApplicantIncome</th>\n      <th>CoapplicantIncome</th>\n      <th>LoanAmount</th>\n      <th>Loan_Amount_Term</th>\n      <th>Credit_History</th>\n      <th>Property_Area</th>\n      <th>Loan_Status</th>\n    </tr>\n  </thead>\n  <tbody>\n    <tr>\n      <th>0</th>\n      <td>LP001002</td>\n      <td>Male</td>\n      <td>No</td>\n      <td>0</td>\n      <td>Graduate</td>\n      <td>No</td>\n      <td>5849</td>\n      <td>0.0</td>\n      <td>NaN</td>\n      <td>360.0</td>\n      <td>1.0</td>\n      <td>Urban</td>\n      <td>Y</td>\n    </tr>\n    <tr>\n      <th>1</th>\n      <td>LP001003</td>\n      <td>Male</td>\n      <td>Yes</td>\n      <td>1</td>\n      <td>Graduate</td>\n      <td>No</td>\n      <td>4583</td>\n      <td>1508.0</td>\n      <td>128.0</td>\n      <td>360.0</td>\n      <td>1.0</td>\n      <td>Rural</td>\n      <td>N</td>\n    </tr>\n    <tr>\n      <th>2</th>\n      <td>LP001005</td>\n      <td>Male</td>\n      <td>Yes</td>\n      <td>0</td>\n      <td>Graduate</td>\n      <td>Yes</td>\n      <td>3000</td>\n      <td>0.0</td>\n      <td>66.0</td>\n      <td>360.0</td>\n      <td>1.0</td>\n      <td>Urban</td>\n      <td>Y</td>\n    </tr>\n    <tr>\n      <th>3</th>\n      <td>LP001006</td>\n      <td>Male</td>\n      <td>Yes</td>\n      <td>0</td>\n      <td>Not Graduate</td>\n      <td>No</td>\n      <td>2583</td>\n      <td>2358.0</td>\n      <td>120.0</td>\n      <td>360.0</td>\n      <td>1.0</td>\n      <td>Urban</td>\n      <td>Y</td>\n    </tr>\n    <tr>\n      <th>4</th>\n      <td>LP001008</td>\n      <td>Male</td>\n      <td>No</td>\n      <td>0</td>\n      <td>Graduate</td>\n      <td>No</td>\n      <td>6000</td>\n      <td>0.0</td>\n      <td>141.0</td>\n      <td>360.0</td>\n      <td>1.0</td>\n      <td>Urban</td>\n      <td>Y</td>\n    </tr>\n    <tr>\n      <th>...</th>\n      <td>...</td>\n      <td>...</td>\n      <td>...</td>\n      <td>...</td>\n      <td>...</td>\n      <td>...</td>\n      <td>...</td>\n      <td>...</td>\n      <td>...</td>\n      <td>...</td>\n      <td>...</td>\n      <td>...</td>\n      <td>...</td>\n    </tr>\n    <tr>\n      <th>609</th>\n      <td>LP002978</td>\n      <td>Female</td>\n      <td>No</td>\n      <td>0</td>\n      <td>Graduate</td>\n      <td>No</td>\n      <td>2900</td>\n      <td>0.0</td>\n      <td>71.0</td>\n      <td>360.0</td>\n      <td>1.0</td>\n      <td>Rural</td>\n      <td>Y</td>\n    </tr>\n    <tr>\n      <th>610</th>\n      <td>LP002979</td>\n      <td>Male</td>\n      <td>Yes</td>\n      <td>3+</td>\n      <td>Graduate</td>\n      <td>No</td>\n      <td>4106</td>\n      <td>0.0</td>\n      <td>40.0</td>\n      <td>180.0</td>\n      <td>1.0</td>\n      <td>Rural</td>\n      <td>Y</td>\n    </tr>\n    <tr>\n      <th>611</th>\n      <td>LP002983</td>\n      <td>Male</td>\n      <td>Yes</td>\n      <td>1</td>\n      <td>Graduate</td>\n      <td>No</td>\n      <td>8072</td>\n      <td>240.0</td>\n      <td>253.0</td>\n      <td>360.0</td>\n      <td>1.0</td>\n      <td>Urban</td>\n      <td>Y</td>\n    </tr>\n    <tr>\n      <th>612</th>\n      <td>LP002984</td>\n      <td>Male</td>\n      <td>Yes</td>\n      <td>2</td>\n      <td>Graduate</td>\n      <td>No</td>\n      <td>7583</td>\n      <td>0.0</td>\n      <td>187.0</td>\n      <td>360.0</td>\n      <td>1.0</td>\n      <td>Urban</td>\n      <td>Y</td>\n    </tr>\n    <tr>\n      <th>613</th>\n      <td>LP002990</td>\n      <td>Female</td>\n      <td>No</td>\n      <td>0</td>\n      <td>Graduate</td>\n      <td>Yes</td>\n      <td>4583</td>\n      <td>0.0</td>\n      <td>133.0</td>\n      <td>360.0</td>\n      <td>0.0</td>\n      <td>Semiurban</td>\n      <td>N</td>\n    </tr>\n  </tbody>\n</table>\n<p>614 rows × 13 columns</p>\n</div>"
     },
     "execution_count": 3,
     "metadata": {},
     "output_type": "execute_result"
    }
   ],
   "source": [
    "dataset"
   ],
   "metadata": {
    "collapsed": false
   }
  },
  {
   "cell_type": "code",
   "execution_count": 4,
   "outputs": [
    {
     "data": {
      "text/plain": "              Columns  n_uniques  \\\n0             Loan_ID        614   \n1              Gender          2   \n2             Married          2   \n3          Dependents          4   \n4           Education          2   \n5       Self_Employed          2   \n6     ApplicantIncome        505   \n7   CoapplicantIncome        287   \n8          LoanAmount        203   \n9    Loan_Amount_Term         10   \n10     Credit_History          2   \n11      Property_Area          3   \n12        Loan_Status          2   \n\n                                               unique   dtypes  NULLS  \n0   [LP001002, LP001003, LP001005, LP001006, LP001...   object      0  \n1                                 [Male, Female, nan]   object     13  \n2                                      [No, Yes, nan]   object      3  \n3                                  [0, 1, 2, 3+, nan]   object     15  \n4                            [Graduate, Not Graduate]   object      0  \n5                                      [No, Yes, nan]   object     32  \n6   [5849, 4583, 3000, 2583, 6000, 5417, 2333, 303...    int64      0  \n7   [0.0, 1508.0, 2358.0, 4196.0, 1516.0, 2504.0, ...  float64      0  \n8   [nan, 128.0, 66.0, 120.0, 141.0, 267.0, 95.0, ...  float64     22  \n9   [360.0, 120.0, 240.0, nan, 180.0, 60.0, 300.0,...  float64     14  \n10                                    [1.0, 0.0, nan]  float64     50  \n11                          [Urban, Rural, Semiurban]   object      0  \n12                                             [Y, N]   object      0  ",
      "text/html": "<div>\n<style scoped>\n    .dataframe tbody tr th:only-of-type {\n        vertical-align: middle;\n    }\n\n    .dataframe tbody tr th {\n        vertical-align: top;\n    }\n\n    .dataframe thead th {\n        text-align: right;\n    }\n</style>\n<table border=\"1\" class=\"dataframe\">\n  <thead>\n    <tr style=\"text-align: right;\">\n      <th></th>\n      <th>Columns</th>\n      <th>n_uniques</th>\n      <th>unique</th>\n      <th>dtypes</th>\n      <th>NULLS</th>\n    </tr>\n  </thead>\n  <tbody>\n    <tr>\n      <th>0</th>\n      <td>Loan_ID</td>\n      <td>614</td>\n      <td>[LP001002, LP001003, LP001005, LP001006, LP001...</td>\n      <td>object</td>\n      <td>0</td>\n    </tr>\n    <tr>\n      <th>1</th>\n      <td>Gender</td>\n      <td>2</td>\n      <td>[Male, Female, nan]</td>\n      <td>object</td>\n      <td>13</td>\n    </tr>\n    <tr>\n      <th>2</th>\n      <td>Married</td>\n      <td>2</td>\n      <td>[No, Yes, nan]</td>\n      <td>object</td>\n      <td>3</td>\n    </tr>\n    <tr>\n      <th>3</th>\n      <td>Dependents</td>\n      <td>4</td>\n      <td>[0, 1, 2, 3+, nan]</td>\n      <td>object</td>\n      <td>15</td>\n    </tr>\n    <tr>\n      <th>4</th>\n      <td>Education</td>\n      <td>2</td>\n      <td>[Graduate, Not Graduate]</td>\n      <td>object</td>\n      <td>0</td>\n    </tr>\n    <tr>\n      <th>5</th>\n      <td>Self_Employed</td>\n      <td>2</td>\n      <td>[No, Yes, nan]</td>\n      <td>object</td>\n      <td>32</td>\n    </tr>\n    <tr>\n      <th>6</th>\n      <td>ApplicantIncome</td>\n      <td>505</td>\n      <td>[5849, 4583, 3000, 2583, 6000, 5417, 2333, 303...</td>\n      <td>int64</td>\n      <td>0</td>\n    </tr>\n    <tr>\n      <th>7</th>\n      <td>CoapplicantIncome</td>\n      <td>287</td>\n      <td>[0.0, 1508.0, 2358.0, 4196.0, 1516.0, 2504.0, ...</td>\n      <td>float64</td>\n      <td>0</td>\n    </tr>\n    <tr>\n      <th>8</th>\n      <td>LoanAmount</td>\n      <td>203</td>\n      <td>[nan, 128.0, 66.0, 120.0, 141.0, 267.0, 95.0, ...</td>\n      <td>float64</td>\n      <td>22</td>\n    </tr>\n    <tr>\n      <th>9</th>\n      <td>Loan_Amount_Term</td>\n      <td>10</td>\n      <td>[360.0, 120.0, 240.0, nan, 180.0, 60.0, 300.0,...</td>\n      <td>float64</td>\n      <td>14</td>\n    </tr>\n    <tr>\n      <th>10</th>\n      <td>Credit_History</td>\n      <td>2</td>\n      <td>[1.0, 0.0, nan]</td>\n      <td>float64</td>\n      <td>50</td>\n    </tr>\n    <tr>\n      <th>11</th>\n      <td>Property_Area</td>\n      <td>3</td>\n      <td>[Urban, Rural, Semiurban]</td>\n      <td>object</td>\n      <td>0</td>\n    </tr>\n    <tr>\n      <th>12</th>\n      <td>Loan_Status</td>\n      <td>2</td>\n      <td>[Y, N]</td>\n      <td>object</td>\n      <td>0</td>\n    </tr>\n  </tbody>\n</table>\n</div>"
     },
     "execution_count": 4,
     "metadata": {},
     "output_type": "execute_result"
    }
   ],
   "source": [
    "metrics.data_info(dataset)"
   ],
   "metadata": {
    "collapsed": false
   }
  },
  {
   "cell_type": "code",
   "execution_count": 5,
   "outputs": [],
   "source": [
    "dataset.drop(['Loan_ID'],inplace=True,axis=1)"
   ],
   "metadata": {
    "collapsed": false
   }
  },
  {
   "cell_type": "code",
   "execution_count": 6,
   "outputs": [],
   "source": [
    "dataset.Gender.fillna(dataset.Gender.mode()[0], inplace=True)"
   ],
   "metadata": {
    "collapsed": false
   }
  },
  {
   "cell_type": "code",
   "execution_count": 7,
   "outputs": [],
   "source": [
    "dataset.Married.fillna(dataset.Married.mode()[0], inplace=True)"
   ],
   "metadata": {
    "collapsed": false
   }
  },
  {
   "cell_type": "code",
   "execution_count": 8,
   "outputs": [],
   "source": [
    "dataset.Dependents.fillna(dataset.Dependents.mode()[0], inplace=True)"
   ],
   "metadata": {
    "collapsed": false
   }
  },
  {
   "cell_type": "code",
   "execution_count": 9,
   "outputs": [],
   "source": [
    "dataset.Self_Employed.fillna(dataset.Self_Employed.mode()[0], inplace=True)"
   ],
   "metadata": {
    "collapsed": false
   }
  },
  {
   "cell_type": "code",
   "execution_count": 10,
   "outputs": [],
   "source": [
    "dataset.Credit_History.fillna(dataset.Credit_History.mode()[0], inplace=True)"
   ],
   "metadata": {
    "collapsed": false
   }
  },
  {
   "cell_type": "code",
   "execution_count": 11,
   "outputs": [
    {
     "data": {
      "text/plain": "              Columns  n_uniques  \\\n0              Gender          2   \n1             Married          2   \n2          Dependents          4   \n3           Education          2   \n4       Self_Employed          2   \n5     ApplicantIncome        505   \n6   CoapplicantIncome        287   \n7          LoanAmount        203   \n8    Loan_Amount_Term         10   \n9      Credit_History          2   \n10      Property_Area          3   \n11        Loan_Status          2   \n\n                                               unique   dtypes  NULLS  \n0                                      [Male, Female]   object      0  \n1                                           [No, Yes]   object      0  \n2                                       [0, 1, 2, 3+]   object      0  \n3                            [Graduate, Not Graduate]   object      0  \n4                                           [No, Yes]   object      0  \n5   [5849, 4583, 3000, 2583, 6000, 5417, 2333, 303...    int64      0  \n6   [0.0, 1508.0, 2358.0, 4196.0, 1516.0, 2504.0, ...  float64      0  \n7   [nan, 128.0, 66.0, 120.0, 141.0, 267.0, 95.0, ...  float64     22  \n8   [360.0, 120.0, 240.0, nan, 180.0, 60.0, 300.0,...  float64     14  \n9                                          [1.0, 0.0]  float64      0  \n10                          [Urban, Rural, Semiurban]   object      0  \n11                                             [Y, N]   object      0  ",
      "text/html": "<div>\n<style scoped>\n    .dataframe tbody tr th:only-of-type {\n        vertical-align: middle;\n    }\n\n    .dataframe tbody tr th {\n        vertical-align: top;\n    }\n\n    .dataframe thead th {\n        text-align: right;\n    }\n</style>\n<table border=\"1\" class=\"dataframe\">\n  <thead>\n    <tr style=\"text-align: right;\">\n      <th></th>\n      <th>Columns</th>\n      <th>n_uniques</th>\n      <th>unique</th>\n      <th>dtypes</th>\n      <th>NULLS</th>\n    </tr>\n  </thead>\n  <tbody>\n    <tr>\n      <th>0</th>\n      <td>Gender</td>\n      <td>2</td>\n      <td>[Male, Female]</td>\n      <td>object</td>\n      <td>0</td>\n    </tr>\n    <tr>\n      <th>1</th>\n      <td>Married</td>\n      <td>2</td>\n      <td>[No, Yes]</td>\n      <td>object</td>\n      <td>0</td>\n    </tr>\n    <tr>\n      <th>2</th>\n      <td>Dependents</td>\n      <td>4</td>\n      <td>[0, 1, 2, 3+]</td>\n      <td>object</td>\n      <td>0</td>\n    </tr>\n    <tr>\n      <th>3</th>\n      <td>Education</td>\n      <td>2</td>\n      <td>[Graduate, Not Graduate]</td>\n      <td>object</td>\n      <td>0</td>\n    </tr>\n    <tr>\n      <th>4</th>\n      <td>Self_Employed</td>\n      <td>2</td>\n      <td>[No, Yes]</td>\n      <td>object</td>\n      <td>0</td>\n    </tr>\n    <tr>\n      <th>5</th>\n      <td>ApplicantIncome</td>\n      <td>505</td>\n      <td>[5849, 4583, 3000, 2583, 6000, 5417, 2333, 303...</td>\n      <td>int64</td>\n      <td>0</td>\n    </tr>\n    <tr>\n      <th>6</th>\n      <td>CoapplicantIncome</td>\n      <td>287</td>\n      <td>[0.0, 1508.0, 2358.0, 4196.0, 1516.0, 2504.0, ...</td>\n      <td>float64</td>\n      <td>0</td>\n    </tr>\n    <tr>\n      <th>7</th>\n      <td>LoanAmount</td>\n      <td>203</td>\n      <td>[nan, 128.0, 66.0, 120.0, 141.0, 267.0, 95.0, ...</td>\n      <td>float64</td>\n      <td>22</td>\n    </tr>\n    <tr>\n      <th>8</th>\n      <td>Loan_Amount_Term</td>\n      <td>10</td>\n      <td>[360.0, 120.0, 240.0, nan, 180.0, 60.0, 300.0,...</td>\n      <td>float64</td>\n      <td>14</td>\n    </tr>\n    <tr>\n      <th>9</th>\n      <td>Credit_History</td>\n      <td>2</td>\n      <td>[1.0, 0.0]</td>\n      <td>float64</td>\n      <td>0</td>\n    </tr>\n    <tr>\n      <th>10</th>\n      <td>Property_Area</td>\n      <td>3</td>\n      <td>[Urban, Rural, Semiurban]</td>\n      <td>object</td>\n      <td>0</td>\n    </tr>\n    <tr>\n      <th>11</th>\n      <td>Loan_Status</td>\n      <td>2</td>\n      <td>[Y, N]</td>\n      <td>object</td>\n      <td>0</td>\n    </tr>\n  </tbody>\n</table>\n</div>"
     },
     "execution_count": 11,
     "metadata": {},
     "output_type": "execute_result"
    }
   ],
   "source": [
    "metrics.data_info(dataset)"
   ],
   "metadata": {
    "collapsed": false
   }
  },
  {
   "cell_type": "code",
   "execution_count": 12,
   "outputs": [],
   "source": [
    "dataset.LoanAmount.fillna(dataset.LoanAmount.mean(), inplace=True)"
   ],
   "metadata": {
    "collapsed": false
   }
  },
  {
   "cell_type": "code",
   "execution_count": 13,
   "outputs": [],
   "source": [
    "dataset.Loan_Amount_Term.fillna(dataset.Loan_Amount_Term.mean(), inplace=True)"
   ],
   "metadata": {
    "collapsed": false
   }
  },
  {
   "cell_type": "code",
   "execution_count": 14,
   "outputs": [
    {
     "data": {
      "text/plain": "              Columns  n_uniques  \\\n0              Gender          2   \n1             Married          2   \n2          Dependents          4   \n3           Education          2   \n4       Self_Employed          2   \n5     ApplicantIncome        505   \n6   CoapplicantIncome        287   \n7          LoanAmount        204   \n8    Loan_Amount_Term         11   \n9      Credit_History          2   \n10      Property_Area          3   \n11        Loan_Status          2   \n\n                                               unique   dtypes  NULLS  \n0                                      [Male, Female]   object      0  \n1                                           [No, Yes]   object      0  \n2                                       [0, 1, 2, 3+]   object      0  \n3                            [Graduate, Not Graduate]   object      0  \n4                                           [No, Yes]   object      0  \n5   [5849, 4583, 3000, 2583, 6000, 5417, 2333, 303...    int64      0  \n6   [0.0, 1508.0, 2358.0, 4196.0, 1516.0, 2504.0, ...  float64      0  \n7   [146.41216216216216, 128.0, 66.0, 120.0, 141.0...  float64      0  \n8   [360.0, 120.0, 240.0, 342.0, 180.0, 60.0, 300....  float64      0  \n9                                          [1.0, 0.0]  float64      0  \n10                          [Urban, Rural, Semiurban]   object      0  \n11                                             [Y, N]   object      0  ",
      "text/html": "<div>\n<style scoped>\n    .dataframe tbody tr th:only-of-type {\n        vertical-align: middle;\n    }\n\n    .dataframe tbody tr th {\n        vertical-align: top;\n    }\n\n    .dataframe thead th {\n        text-align: right;\n    }\n</style>\n<table border=\"1\" class=\"dataframe\">\n  <thead>\n    <tr style=\"text-align: right;\">\n      <th></th>\n      <th>Columns</th>\n      <th>n_uniques</th>\n      <th>unique</th>\n      <th>dtypes</th>\n      <th>NULLS</th>\n    </tr>\n  </thead>\n  <tbody>\n    <tr>\n      <th>0</th>\n      <td>Gender</td>\n      <td>2</td>\n      <td>[Male, Female]</td>\n      <td>object</td>\n      <td>0</td>\n    </tr>\n    <tr>\n      <th>1</th>\n      <td>Married</td>\n      <td>2</td>\n      <td>[No, Yes]</td>\n      <td>object</td>\n      <td>0</td>\n    </tr>\n    <tr>\n      <th>2</th>\n      <td>Dependents</td>\n      <td>4</td>\n      <td>[0, 1, 2, 3+]</td>\n      <td>object</td>\n      <td>0</td>\n    </tr>\n    <tr>\n      <th>3</th>\n      <td>Education</td>\n      <td>2</td>\n      <td>[Graduate, Not Graduate]</td>\n      <td>object</td>\n      <td>0</td>\n    </tr>\n    <tr>\n      <th>4</th>\n      <td>Self_Employed</td>\n      <td>2</td>\n      <td>[No, Yes]</td>\n      <td>object</td>\n      <td>0</td>\n    </tr>\n    <tr>\n      <th>5</th>\n      <td>ApplicantIncome</td>\n      <td>505</td>\n      <td>[5849, 4583, 3000, 2583, 6000, 5417, 2333, 303...</td>\n      <td>int64</td>\n      <td>0</td>\n    </tr>\n    <tr>\n      <th>6</th>\n      <td>CoapplicantIncome</td>\n      <td>287</td>\n      <td>[0.0, 1508.0, 2358.0, 4196.0, 1516.0, 2504.0, ...</td>\n      <td>float64</td>\n      <td>0</td>\n    </tr>\n    <tr>\n      <th>7</th>\n      <td>LoanAmount</td>\n      <td>204</td>\n      <td>[146.41216216216216, 128.0, 66.0, 120.0, 141.0...</td>\n      <td>float64</td>\n      <td>0</td>\n    </tr>\n    <tr>\n      <th>8</th>\n      <td>Loan_Amount_Term</td>\n      <td>11</td>\n      <td>[360.0, 120.0, 240.0, 342.0, 180.0, 60.0, 300....</td>\n      <td>float64</td>\n      <td>0</td>\n    </tr>\n    <tr>\n      <th>9</th>\n      <td>Credit_History</td>\n      <td>2</td>\n      <td>[1.0, 0.0]</td>\n      <td>float64</td>\n      <td>0</td>\n    </tr>\n    <tr>\n      <th>10</th>\n      <td>Property_Area</td>\n      <td>3</td>\n      <td>[Urban, Rural, Semiurban]</td>\n      <td>object</td>\n      <td>0</td>\n    </tr>\n    <tr>\n      <th>11</th>\n      <td>Loan_Status</td>\n      <td>2</td>\n      <td>[Y, N]</td>\n      <td>object</td>\n      <td>0</td>\n    </tr>\n  </tbody>\n</table>\n</div>"
     },
     "execution_count": 14,
     "metadata": {},
     "output_type": "execute_result"
    }
   ],
   "source": [
    "metrics.data_info(dataset)"
   ],
   "metadata": {
    "collapsed": false
   }
  },
  {
   "cell_type": "code",
   "execution_count": 15,
   "outputs": [],
   "source": [
    "dataset = pd.get_dummies(dataset, drop_first=True)"
   ],
   "metadata": {
    "collapsed": false
   }
  },
  {
   "cell_type": "code",
   "execution_count": 16,
   "outputs": [],
   "source": [
    "# X = dataset.iloc[:, :-1]\n",
    "# y = dataset.iloc[:, -1]"
   ],
   "metadata": {
    "collapsed": false
   }
  },
  {
   "cell_type": "code",
   "execution_count": 17,
   "outputs": [],
   "source": [
    "X = dataset.iloc[:, :-1].values\n",
    "y = dataset.iloc[:, -1].values"
   ],
   "metadata": {
    "collapsed": false
   }
  },
  {
   "cell_type": "code",
   "execution_count": 26,
   "outputs": [],
   "source": [
    "from sklearn.model_selection import train_test_split\n",
    "X_train,X_test,y_train,y_test = train_test_split(X,y,test_size=0.25,random_state=0)"
   ],
   "metadata": {
    "collapsed": false
   }
  },
  {
   "cell_type": "code",
   "execution_count": 27,
   "outputs": [],
   "source": [
    "# from sklearn.model_selection import KFold,StratifiedKFold\n",
    "# kfold = StratifiedKFold(n_splits=6, shuffle=True,random_state=0)"
   ],
   "metadata": {
    "collapsed": false
   }
  },
  {
   "cell_type": "code",
   "execution_count": 28,
   "outputs": [],
   "source": [
    "# for train_index, test_index in kfold.split(X,y):\n",
    "#     # Split the data into train and test sets\n",
    "#     X_train, X_test = X.iloc[train_index], X.iloc[test_index]\n",
    "#     y_train, y_test = y.iloc[train_index], y.iloc[test_index]"
   ],
   "metadata": {
    "collapsed": false
   }
  },
  {
   "cell_type": "code",
   "execution_count": 29,
   "outputs": [
    {
     "data": {
      "text/plain": "DecisionTreeClassifier(class_weight='balanced', max_depth=4,\n                       min_samples_split=10)"
     },
     "execution_count": 29,
     "metadata": {},
     "output_type": "execute_result"
    }
   ],
   "source": [
    "from sklearn.tree import DecisionTreeClassifier\n",
    "classifier = DecisionTreeClassifier(class_weight='balanced',max_depth=4,min_samples_split=10)\n",
    "classifier.fit(X_train, y_train)"
   ],
   "metadata": {
    "collapsed": false
   }
  },
  {
   "cell_type": "code",
   "execution_count": 30,
   "outputs": [],
   "source": [
    "y_pred = classifier.predict(X_test)"
   ],
   "metadata": {
    "collapsed": false
   }
  },
  {
   "cell_type": "code",
   "execution_count": 31,
   "outputs": [],
   "source": [
    "y_pred_train = classifier.predict(X_train)"
   ],
   "metadata": {
    "collapsed": false
   }
  },
  {
   "cell_type": "code",
   "execution_count": 32,
   "outputs": [
    {
     "name": "stdout",
     "output_type": "stream",
     "text": [
      "Accuracy: 0.7987012987012987\n",
      "F1 Score: 0.8669527896995709\n",
      "Recall: 0.9099099099099099\n",
      "Precision: 0.8278688524590164\n",
      "Confusion Matrix:\n",
      " [[ 22  21]\n",
      " [ 10 101]]\n",
      "Specificity: 0.5116279069767442\n"
     ]
    }
   ],
   "source": [
    "metrics.Classification.test(y_pred_test=y_pred,y_test=y_test)"
   ],
   "metadata": {
    "collapsed": false
   }
  },
  {
   "cell_type": "code",
   "execution_count": 33,
   "outputs": [
    {
     "name": "stdout",
     "output_type": "stream",
     "text": [
      "Train Accuracy: 0.808695652173913\n",
      "Train F1 Score: 0.8678678678678678\n",
      "Train Recall: 0.9292604501607717\n",
      "Train Precision: 0.8140845070422535\n",
      "Train Confusion Matrix:\n",
      " [[ 83  66]\n",
      " [ 22 289]]\n",
      "Train Specificity: 0.5570469798657718\n"
     ]
    }
   ],
   "source": [
    "metrics.Classification.train(y_pred_train=y_pred_train,y_train=y_train)"
   ],
   "metadata": {
    "collapsed": false
   }
  },
  {
   "cell_type": "code",
   "execution_count": 25,
   "outputs": [],
   "source": [],
   "metadata": {
    "collapsed": false
   }
  }
 ],
 "metadata": {
  "kernelspec": {
   "display_name": "Python 3",
   "language": "python",
   "name": "python3"
  },
  "language_info": {
   "codemirror_mode": {
    "name": "ipython",
    "version": 2
   },
   "file_extension": ".py",
   "mimetype": "text/x-python",
   "name": "python",
   "nbconvert_exporter": "python",
   "pygments_lexer": "ipython2",
   "version": "2.7.6"
  }
 },
 "nbformat": 4,
 "nbformat_minor": 0
}
